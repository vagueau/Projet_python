{
  "cells": [
    {
      "cell_type": "markdown",
      "source": [
        "# importation des données"
      ],
      "metadata": {
        "id": "o2fPtfqFp-65"
      }
    },
    {
      "cell_type": "code",
      "execution_count": null,
      "metadata": {
        "colab": {
          "base_uri": "https://localhost:8080/"
        },
        "id": "Tf4vsJfHTk_I",
        "outputId": "d1374cfb-4013-4bc7-b56c-a4d1ca2e233c"
      },
      "outputs": [
        {
          "output_type": "stream",
          "name": "stdout",
          "text": [
            "Looking in indexes: https://pypi.org/simple, https://us-python.pkg.dev/colab-wheels/public/simple/\n",
            "Requirement already satisfied: pyarrow in /usr/local/lib/python3.10/dist-packages (9.0.0)\n",
            "Requirement already satisfied: numpy>=1.16.6 in /usr/local/lib/python3.10/dist-packages (from pyarrow) (1.22.4)\n",
            "Looking in indexes: https://pypi.org/simple, https://us-python.pkg.dev/colab-wheels/public/simple/\n",
            "Requirement already satisfied: xgboost in /usr/local/lib/python3.10/dist-packages (1.7.5)\n",
            "Requirement already satisfied: numpy in /usr/local/lib/python3.10/dist-packages (from xgboost) (1.22.4)\n",
            "Requirement already satisfied: scipy in /usr/local/lib/python3.10/dist-packages (from xgboost) (1.10.1)\n",
            "Looking in indexes: https://pypi.org/simple, https://us-python.pkg.dev/colab-wheels/public/simple/\n",
            "Requirement already satisfied: pandas in /usr/local/lib/python3.10/dist-packages (1.5.3)\n",
            "Requirement already satisfied: python-dateutil>=2.8.1 in /usr/local/lib/python3.10/dist-packages (from pandas) (2.8.2)\n",
            "Requirement already satisfied: pytz>=2020.1 in /usr/local/lib/python3.10/dist-packages (from pandas) (2022.7.1)\n",
            "Requirement already satisfied: numpy>=1.21.0 in /usr/local/lib/python3.10/dist-packages (from pandas) (1.22.4)\n",
            "Requirement already satisfied: six>=1.5 in /usr/local/lib/python3.10/dist-packages (from python-dateutil>=2.8.1->pandas) (1.16.0)\n"
          ]
        }
      ],
      "source": [
        "!pip install pyarrow\n",
        "!pip install xgboost\n",
        "!pip install pandas"
      ]
    },
    {
      "cell_type": "code",
      "source": [
        "import pyarrow.parquet as pq\n",
        "import pandas as pd # bibliothèque de manipulation de données tabulaires\n",
        "import numpy as np #  bibliothèque de manipulation des tableaux de données multidimensionnels\n",
        "import matplotlib.pyplot as plt # bibliothèque de visualisation de données\n",
        "import seaborn as sns #  bibliothèque de visualisation de données : graphiques statistiques\n",
        "from datetime import timedelta\n",
        "from sklearn.model_selection import train_test_split\n",
        "from sklearn import metrics\n",
        "from sklearn.linear_model import Lasso\n",
        "from sklearn.linear_model import LinearRegression\n",
        "from matplotlib.pyplot import *\n",
        "%matplotlib inline\n",
        "from sklearn.svm import SVR\n",
        "from sklearn.preprocessing import StandardScaler\n",
        "from sklearn.metrics import mean_squared_error, r2_score\n",
        "from tensorflow.keras.models import Sequential\n",
        "from tensorflow.keras.layers import Dense\n",
        "from sklearn.neighbors import KNeighborsRegressor"
      ],
      "metadata": {
        "id": "DNKxUPnUwy7k"
      },
      "execution_count": null,
      "outputs": []
    },
    {
      "cell_type": "markdown",
      "metadata": {
        "id": "TgzEgIhDdeuP"
      },
      "source": [
        "IMPORTATION DES DONNEES"
      ]
    },
    {
      "cell_type": "code",
      "execution_count": null,
      "metadata": {
        "id": "5nQ1E49GR8nD"
      },
      "outputs": [],
      "source": [
        "# Chemin du fichier Parquet\n",
        "#chemin_fichier = \"/content/yellow_tripdata_2023-03.parquet\"\n",
        "chemin_fichier = \"yellow_tripdata_2023-03.parquet\"\n",
        "\n",
        "# Lecture du fichier Parquet\n",
        "table = pq.read_table(chemin_fichier)\n",
        "\n",
        "# Conversion de la table en DataFrame pandas\n",
        "dataframe = table.to_pandas()\n",
        "\n",
        "chemin_fichier = \"/content/export.csv\"\n",
        "\n",
        "# Importer le fichier CSV dans un DataFrame\n",
        "df_weather = pd.read_csv(chemin_fichier, delimiter=';')\n"
      ]
    },
    {
      "cell_type": "code",
      "execution_count": null,
      "metadata": {
        "colab": {
          "base_uri": "https://localhost:8080/",
          "height": 270
        },
        "id": "gOoKjRI_V-br",
        "outputId": "5a59c28e-6556-41ef-99f3-5c9bc5a2d488"
      },
      "outputs": [
        {
          "output_type": "execute_result",
          "data": {
            "text/plain": [
              "   VendorID tpep_pickup_datetime tpep_dropoff_datetime  passenger_count  \\\n",
              "0         2  2023-03-01 00:06:43   2023-03-01 00:16:43              1.0   \n",
              "1         2  2023-03-01 00:08:25   2023-03-01 00:39:30              2.0   \n",
              "2         1  2023-03-01 00:15:04   2023-03-01 00:29:26              0.0   \n",
              "3         1  2023-03-01 00:49:37   2023-03-01 01:01:05              1.0   \n",
              "4         2  2023-03-01 00:08:04   2023-03-01 00:11:06              1.0   \n",
              "\n",
              "   trip_distance  RatecodeID store_and_fwd_flag  PULocationID  DOLocationID  \\\n",
              "0           0.00         1.0                  N           238            42   \n",
              "1          12.40         1.0                  N           138           231   \n",
              "2           3.30         1.0                  N           140           186   \n",
              "3           2.90         1.0                  N           140            43   \n",
              "4           1.23         1.0                  N            79           137   \n",
              "\n",
              "   payment_type  fare_amount  extra  mta_tax  tip_amount  tolls_amount  \\\n",
              "0             2          8.6    1.0      0.5        0.00           0.0   \n",
              "1             1         52.7    6.0      0.5       12.54           0.0   \n",
              "2             1         18.4    3.5      0.5        4.65           0.0   \n",
              "3             1         15.6    3.5      0.5        4.10           0.0   \n",
              "4             1          7.2    1.0      0.5        2.44           0.0   \n",
              "\n",
              "   improvement_surcharge  total_amount  congestion_surcharge  Airport_fee  \n",
              "0                    1.0         11.10                   0.0         0.00  \n",
              "1                    1.0         76.49                   2.5         1.25  \n",
              "2                    1.0         28.05                   2.5         0.00  \n",
              "3                    1.0         24.70                   2.5         0.00  \n",
              "4                    1.0         14.64                   2.5         0.00  "
            ],
            "text/html": [
              "\n",
              "  <div id=\"df-018153ad-6706-4fc1-9cf7-c7f33bebd43f\">\n",
              "    <div class=\"colab-df-container\">\n",
              "      <div>\n",
              "<style scoped>\n",
              "    .dataframe tbody tr th:only-of-type {\n",
              "        vertical-align: middle;\n",
              "    }\n",
              "\n",
              "    .dataframe tbody tr th {\n",
              "        vertical-align: top;\n",
              "    }\n",
              "\n",
              "    .dataframe thead th {\n",
              "        text-align: right;\n",
              "    }\n",
              "</style>\n",
              "<table border=\"1\" class=\"dataframe\">\n",
              "  <thead>\n",
              "    <tr style=\"text-align: right;\">\n",
              "      <th></th>\n",
              "      <th>VendorID</th>\n",
              "      <th>tpep_pickup_datetime</th>\n",
              "      <th>tpep_dropoff_datetime</th>\n",
              "      <th>passenger_count</th>\n",
              "      <th>trip_distance</th>\n",
              "      <th>RatecodeID</th>\n",
              "      <th>store_and_fwd_flag</th>\n",
              "      <th>PULocationID</th>\n",
              "      <th>DOLocationID</th>\n",
              "      <th>payment_type</th>\n",
              "      <th>fare_amount</th>\n",
              "      <th>extra</th>\n",
              "      <th>mta_tax</th>\n",
              "      <th>tip_amount</th>\n",
              "      <th>tolls_amount</th>\n",
              "      <th>improvement_surcharge</th>\n",
              "      <th>total_amount</th>\n",
              "      <th>congestion_surcharge</th>\n",
              "      <th>Airport_fee</th>\n",
              "    </tr>\n",
              "  </thead>\n",
              "  <tbody>\n",
              "    <tr>\n",
              "      <th>0</th>\n",
              "      <td>2</td>\n",
              "      <td>2023-03-01 00:06:43</td>\n",
              "      <td>2023-03-01 00:16:43</td>\n",
              "      <td>1.0</td>\n",
              "      <td>0.00</td>\n",
              "      <td>1.0</td>\n",
              "      <td>N</td>\n",
              "      <td>238</td>\n",
              "      <td>42</td>\n",
              "      <td>2</td>\n",
              "      <td>8.6</td>\n",
              "      <td>1.0</td>\n",
              "      <td>0.5</td>\n",
              "      <td>0.00</td>\n",
              "      <td>0.0</td>\n",
              "      <td>1.0</td>\n",
              "      <td>11.10</td>\n",
              "      <td>0.0</td>\n",
              "      <td>0.00</td>\n",
              "    </tr>\n",
              "    <tr>\n",
              "      <th>1</th>\n",
              "      <td>2</td>\n",
              "      <td>2023-03-01 00:08:25</td>\n",
              "      <td>2023-03-01 00:39:30</td>\n",
              "      <td>2.0</td>\n",
              "      <td>12.40</td>\n",
              "      <td>1.0</td>\n",
              "      <td>N</td>\n",
              "      <td>138</td>\n",
              "      <td>231</td>\n",
              "      <td>1</td>\n",
              "      <td>52.7</td>\n",
              "      <td>6.0</td>\n",
              "      <td>0.5</td>\n",
              "      <td>12.54</td>\n",
              "      <td>0.0</td>\n",
              "      <td>1.0</td>\n",
              "      <td>76.49</td>\n",
              "      <td>2.5</td>\n",
              "      <td>1.25</td>\n",
              "    </tr>\n",
              "    <tr>\n",
              "      <th>2</th>\n",
              "      <td>1</td>\n",
              "      <td>2023-03-01 00:15:04</td>\n",
              "      <td>2023-03-01 00:29:26</td>\n",
              "      <td>0.0</td>\n",
              "      <td>3.30</td>\n",
              "      <td>1.0</td>\n",
              "      <td>N</td>\n",
              "      <td>140</td>\n",
              "      <td>186</td>\n",
              "      <td>1</td>\n",
              "      <td>18.4</td>\n",
              "      <td>3.5</td>\n",
              "      <td>0.5</td>\n",
              "      <td>4.65</td>\n",
              "      <td>0.0</td>\n",
              "      <td>1.0</td>\n",
              "      <td>28.05</td>\n",
              "      <td>2.5</td>\n",
              "      <td>0.00</td>\n",
              "    </tr>\n",
              "    <tr>\n",
              "      <th>3</th>\n",
              "      <td>1</td>\n",
              "      <td>2023-03-01 00:49:37</td>\n",
              "      <td>2023-03-01 01:01:05</td>\n",
              "      <td>1.0</td>\n",
              "      <td>2.90</td>\n",
              "      <td>1.0</td>\n",
              "      <td>N</td>\n",
              "      <td>140</td>\n",
              "      <td>43</td>\n",
              "      <td>1</td>\n",
              "      <td>15.6</td>\n",
              "      <td>3.5</td>\n",
              "      <td>0.5</td>\n",
              "      <td>4.10</td>\n",
              "      <td>0.0</td>\n",
              "      <td>1.0</td>\n",
              "      <td>24.70</td>\n",
              "      <td>2.5</td>\n",
              "      <td>0.00</td>\n",
              "    </tr>\n",
              "    <tr>\n",
              "      <th>4</th>\n",
              "      <td>2</td>\n",
              "      <td>2023-03-01 00:08:04</td>\n",
              "      <td>2023-03-01 00:11:06</td>\n",
              "      <td>1.0</td>\n",
              "      <td>1.23</td>\n",
              "      <td>1.0</td>\n",
              "      <td>N</td>\n",
              "      <td>79</td>\n",
              "      <td>137</td>\n",
              "      <td>1</td>\n",
              "      <td>7.2</td>\n",
              "      <td>1.0</td>\n",
              "      <td>0.5</td>\n",
              "      <td>2.44</td>\n",
              "      <td>0.0</td>\n",
              "      <td>1.0</td>\n",
              "      <td>14.64</td>\n",
              "      <td>2.5</td>\n",
              "      <td>0.00</td>\n",
              "    </tr>\n",
              "  </tbody>\n",
              "</table>\n",
              "</div>\n",
              "      <button class=\"colab-df-convert\" onclick=\"convertToInteractive('df-018153ad-6706-4fc1-9cf7-c7f33bebd43f')\"\n",
              "              title=\"Convert this dataframe to an interactive table.\"\n",
              "              style=\"display:none;\">\n",
              "        \n",
              "  <svg xmlns=\"http://www.w3.org/2000/svg\" height=\"24px\"viewBox=\"0 0 24 24\"\n",
              "       width=\"24px\">\n",
              "    <path d=\"M0 0h24v24H0V0z\" fill=\"none\"/>\n",
              "    <path d=\"M18.56 5.44l.94 2.06.94-2.06 2.06-.94-2.06-.94-.94-2.06-.94 2.06-2.06.94zm-11 1L8.5 8.5l.94-2.06 2.06-.94-2.06-.94L8.5 2.5l-.94 2.06-2.06.94zm10 10l.94 2.06.94-2.06 2.06-.94-2.06-.94-.94-2.06-.94 2.06-2.06.94z\"/><path d=\"M17.41 7.96l-1.37-1.37c-.4-.4-.92-.59-1.43-.59-.52 0-1.04.2-1.43.59L10.3 9.45l-7.72 7.72c-.78.78-.78 2.05 0 2.83L4 21.41c.39.39.9.59 1.41.59.51 0 1.02-.2 1.41-.59l7.78-7.78 2.81-2.81c.8-.78.8-2.07 0-2.86zM5.41 20L4 18.59l7.72-7.72 1.47 1.35L5.41 20z\"/>\n",
              "  </svg>\n",
              "      </button>\n",
              "      \n",
              "  <style>\n",
              "    .colab-df-container {\n",
              "      display:flex;\n",
              "      flex-wrap:wrap;\n",
              "      gap: 12px;\n",
              "    }\n",
              "\n",
              "    .colab-df-convert {\n",
              "      background-color: #E8F0FE;\n",
              "      border: none;\n",
              "      border-radius: 50%;\n",
              "      cursor: pointer;\n",
              "      display: none;\n",
              "      fill: #1967D2;\n",
              "      height: 32px;\n",
              "      padding: 0 0 0 0;\n",
              "      width: 32px;\n",
              "    }\n",
              "\n",
              "    .colab-df-convert:hover {\n",
              "      background-color: #E2EBFA;\n",
              "      box-shadow: 0px 1px 2px rgba(60, 64, 67, 0.3), 0px 1px 3px 1px rgba(60, 64, 67, 0.15);\n",
              "      fill: #174EA6;\n",
              "    }\n",
              "\n",
              "    [theme=dark] .colab-df-convert {\n",
              "      background-color: #3B4455;\n",
              "      fill: #D2E3FC;\n",
              "    }\n",
              "\n",
              "    [theme=dark] .colab-df-convert:hover {\n",
              "      background-color: #434B5C;\n",
              "      box-shadow: 0px 1px 3px 1px rgba(0, 0, 0, 0.15);\n",
              "      filter: drop-shadow(0px 1px 2px rgba(0, 0, 0, 0.3));\n",
              "      fill: #FFFFFF;\n",
              "    }\n",
              "  </style>\n",
              "\n",
              "      <script>\n",
              "        const buttonEl =\n",
              "          document.querySelector('#df-018153ad-6706-4fc1-9cf7-c7f33bebd43f button.colab-df-convert');\n",
              "        buttonEl.style.display =\n",
              "          google.colab.kernel.accessAllowed ? 'block' : 'none';\n",
              "\n",
              "        async function convertToInteractive(key) {\n",
              "          const element = document.querySelector('#df-018153ad-6706-4fc1-9cf7-c7f33bebd43f');\n",
              "          const dataTable =\n",
              "            await google.colab.kernel.invokeFunction('convertToInteractive',\n",
              "                                                     [key], {});\n",
              "          if (!dataTable) return;\n",
              "\n",
              "          const docLinkHtml = 'Like what you see? Visit the ' +\n",
              "            '<a target=\"_blank\" href=https://colab.research.google.com/notebooks/data_table.ipynb>data table notebook</a>'\n",
              "            + ' to learn more about interactive tables.';\n",
              "          element.innerHTML = '';\n",
              "          dataTable['output_type'] = 'display_data';\n",
              "          await google.colab.output.renderOutput(dataTable, element);\n",
              "          const docLink = document.createElement('div');\n",
              "          docLink.innerHTML = docLinkHtml;\n",
              "          element.appendChild(docLink);\n",
              "        }\n",
              "      </script>\n",
              "    </div>\n",
              "  </div>\n",
              "  "
            ]
          },
          "metadata": {},
          "execution_count": 5
        }
      ],
      "source": [
        "dataframe.head()"
      ]
    },
    {
      "cell_type": "code",
      "execution_count": null,
      "metadata": {
        "colab": {
          "base_uri": "https://localhost:8080/"
        },
        "id": "epkLEuCvH3QA",
        "outputId": "227711b7-c75a-402c-de43-9308c180890b"
      },
      "outputs": [
        {
          "output_type": "execute_result",
          "data": {
            "text/plain": [
              "(3403766, 19)"
            ]
          },
          "metadata": {},
          "execution_count": 6
        }
      ],
      "source": [
        "dataframe.shape"
      ]
    },
    {
      "cell_type": "markdown",
      "metadata": {
        "id": "y5qm355M_6aL"
      },
      "source": [
        "graphique avant nettoyage"
      ]
    },
    {
      "cell_type": "markdown",
      "source": [
        "# nettoyage des données"
      ],
      "metadata": {
        "id": "DExpmcx6qGux"
      }
    },
    {
      "cell_type": "markdown",
      "metadata": {
        "id": "iJczcqoBd98L"
      },
      "source": [
        "NETTOYAGE DES DONNEES\n",
        "- suppression variables calculées dans le tarif"
      ]
    },
    {
      "cell_type": "code",
      "execution_count": null,
      "metadata": {
        "colab": {
          "base_uri": "https://localhost:8080/"
        },
        "id": "mxNW9FiBeSJd",
        "outputId": "474dfb9e-b4a4-4965-fe47-a5d148a6bca2"
      },
      "outputs": [
        {
          "output_type": "execute_result",
          "data": {
            "text/plain": [
              "VendorID                     0\n",
              "tpep_pickup_datetime         0\n",
              "tpep_dropoff_datetime        0\n",
              "passenger_count          87619\n",
              "trip_distance                0\n",
              "RatecodeID               87619\n",
              "store_and_fwd_flag       87619\n",
              "PULocationID                 0\n",
              "DOLocationID                 0\n",
              "payment_type                 0\n",
              "fare_amount                  0\n",
              "extra                        0\n",
              "mta_tax                      0\n",
              "tip_amount                   0\n",
              "tolls_amount                 0\n",
              "improvement_surcharge        0\n",
              "total_amount                 0\n",
              "congestion_surcharge     87619\n",
              "Airport_fee              87619\n",
              "dtype: int64"
            ]
          },
          "metadata": {},
          "execution_count": 7
        }
      ],
      "source": [
        "dataframe.isnull().sum()"
      ]
    },
    {
      "cell_type": "markdown",
      "metadata": {
        "id": "1GY034sDjJID"
      },
      "source": [
        "variable à prédire : total_amount\n",
        "pour la prédire : ne pas prendre en compte les autres variables monétaires\n",
        "suppression de :\n",
        "- fare_amount\n",
        "- extra\n",
        "- mta_tax\n",
        "- tip_amount\n",
        "- tolls_amount\n",
        "- improvement_surcharge\n",
        "- congestion_surcharge\n",
        "- airport_fee"
      ]
    },
    {
      "cell_type": "code",
      "execution_count": null,
      "metadata": {
        "id": "z1PEiAyYjon2"
      },
      "outputs": [],
      "source": [
        "df=dataframe.drop(['fare_amount', 'extra','mta_tax','tip_amount','tolls_amount','improvement_surcharge','congestion_surcharge','Airport_fee','RatecodeID'], axis=1)"
      ]
    },
    {
      "cell_type": "code",
      "execution_count": null,
      "metadata": {
        "id": "-EhHkEGGk5m_"
      },
      "outputs": [],
      "source": [
        "df=df.drop(['VendorID', 'store_and_fwd_flag'], axis=1)"
      ]
    },
    {
      "cell_type": "code",
      "execution_count": null,
      "metadata": {
        "colab": {
          "base_uri": "https://localhost:8080/"
        },
        "id": "3zpRtEhcefne",
        "outputId": "ce5f7e9b-0a5c-46fd-d1fc-d91be1ba0ff2"
      },
      "outputs": [
        {
          "output_type": "execute_result",
          "data": {
            "text/plain": [
              "tpep_pickup_datetime         0\n",
              "tpep_dropoff_datetime        0\n",
              "passenger_count          87619\n",
              "trip_distance                0\n",
              "PULocationID                 0\n",
              "DOLocationID                 0\n",
              "payment_type                 0\n",
              "total_amount                 0\n",
              "dtype: int64"
            ]
          },
          "metadata": {},
          "execution_count": 10
        }
      ],
      "source": [
        "df.isnull().sum()"
      ]
    },
    {
      "cell_type": "markdown",
      "metadata": {
        "id": "_MYkwY5keotW"
      },
      "source": [
        "suppression des lignes vides pour maximiser la modélisation"
      ]
    },
    {
      "cell_type": "code",
      "execution_count": null,
      "metadata": {
        "id": "94IHNal_UfuO"
      },
      "outputs": [],
      "source": [
        "moy=int(df['passenger_count'].mean())"
      ]
    },
    {
      "cell_type": "code",
      "execution_count": null,
      "metadata": {
        "id": "-qBRZIrmUyyC"
      },
      "outputs": [],
      "source": [
        "df['passenger_count'] = df['passenger_count'].replace(np.nan, moy) #remplacement par la moyenne du nbre de passager"
      ]
    },
    {
      "cell_type": "code",
      "execution_count": null,
      "metadata": {
        "id": "0qOXHcFnkmQT"
      },
      "outputs": [],
      "source": [
        "#df=df.dropna(subset=['passenger_count'],axis=0) #suppression des lignes"
      ]
    },
    {
      "cell_type": "code",
      "execution_count": null,
      "metadata": {
        "colab": {
          "base_uri": "https://localhost:8080/"
        },
        "id": "oLKs75CgkTYp",
        "outputId": "791f5d72-f609-41df-cf0d-aca5a4a03b7f"
      },
      "outputs": [
        {
          "output_type": "execute_result",
          "data": {
            "text/plain": [
              "tpep_pickup_datetime     0\n",
              "tpep_dropoff_datetime    0\n",
              "passenger_count          0\n",
              "trip_distance            0\n",
              "PULocationID             0\n",
              "DOLocationID             0\n",
              "payment_type             0\n",
              "total_amount             0\n",
              "dtype: int64"
            ]
          },
          "metadata": {},
          "execution_count": 14
        }
      ],
      "source": [
        "df.isnull().sum()"
      ]
    },
    {
      "cell_type": "markdown",
      "metadata": {
        "id": "a3AGgmJcdkIv"
      },
      "source": [
        "CREATION DE VARIABLES\n",
        "Détails des dates  :\n",
        "- mois\n",
        "- jour\n",
        "- année\n",
        "- heures\n",
        "- minutes\n",
        "- jour de la semaine\n",
        "- durée du trajet"
      ]
    },
    {
      "cell_type": "code",
      "execution_count": null,
      "metadata": {
        "id": "9pkgBeX0Lirp"
      },
      "outputs": [],
      "source": [
        "df['mois'] = df.tpep_pickup_datetime.dt.month\n",
        "df['jour'] = df.tpep_pickup_datetime.dt.day\n",
        "df['annee'] = df.tpep_pickup_datetime.dt.year\n",
        "df['heure'] = df.tpep_pickup_datetime.dt.hour\n",
        "df['minute'] = df.tpep_pickup_datetime.dt.minute\n",
        "df['joursemaine'] = df.tpep_pickup_datetime.dt.weekday\n",
        "\n",
        "df['durée'] = df['tpep_dropoff_datetime'] - df['tpep_pickup_datetime']\n",
        "df['duree_minute'] = df.durée.dt.total_seconds()/60\n",
        "#def format_duree_trajet(row):\n",
        "#    heures = row['durée'].seconds // 3600\n",
        "#    minutes = (row['durée'].seconds % 3600) // 60\n",
        "#    secondes = row['durée'].seconds % 60\n",
        "#    return f\"{heures:02d}:{minutes:02d}:{secondes:02d}\"\n",
        "\n",
        "#df['durée2'] = df.apply(format_duree_trajet, axis=1)\n"
      ]
    },
    {
      "cell_type": "code",
      "execution_count": null,
      "metadata": {
        "id": "kXiYf12LYu_F"
      },
      "outputs": [],
      "source": [
        "df=df.drop(['tpep_dropoff_datetime'], axis=1) #décomposation ok donc plus besoin des variables complètes"
      ]
    },
    {
      "cell_type": "code",
      "execution_count": null,
      "metadata": {
        "colab": {
          "base_uri": "https://localhost:8080/",
          "height": 601
        },
        "id": "5Ki9l1MKLy6q",
        "outputId": "56245d65-03f5-4417-935b-dc10aa8bd35f"
      },
      "outputs": [
        {
          "output_type": "execute_result",
          "data": {
            "text/plain": [
              "        tpep_pickup_datetime  passenger_count  trip_distance  PULocationID  \\\n",
              "3403756  2023-03-31 23:43:56              1.0           5.17           113   \n",
              "3403757  2023-03-31 23:21:09              1.0           1.57            45   \n",
              "3403758  2023-03-31 23:44:00              1.0           5.52           230   \n",
              "3403759  2023-03-31 23:13:00              1.0           2.48            74   \n",
              "3403760  2023-03-31 23:11:21              1.0           4.56           231   \n",
              "3403761  2023-03-31 23:24:25              1.0           3.16           163   \n",
              "3403762  2023-03-31 23:24:50              1.0           6.89           125   \n",
              "3403763  2023-03-31 23:26:31              1.0           4.01            50   \n",
              "3403764  2023-03-31 23:07:51              1.0           1.31           113   \n",
              "3403765  2023-03-31 23:26:12              1.0           0.88            41   \n",
              "\n",
              "         DOLocationID  payment_type  total_amount  mois  jour  annee  heure  \\\n",
              "3403756           151             0         41.25     3    31   2023     23   \n",
              "3403757            79             0         15.41     3    31   2023     23   \n",
              "3403758           223             0         36.94     3    31   2023     23   \n",
              "3403759           141             0         15.27     3    31   2023     23   \n",
              "3403760            80             0         27.58     3    31   2023     23   \n",
              "3403761            75             0         20.36     3    31   2023     23   \n",
              "3403762           198             0         53.90     3    31   2023     23   \n",
              "3403763           224             0         28.02     3    31   2023     23   \n",
              "3403764           158             0         16.01     3    31   2023     23   \n",
              "3403765           166             0         17.26     3    31   2023     23   \n",
              "\n",
              "         minute  joursemaine           durée  duree_minute  \n",
              "3403756      43            4 0 days 00:25:49     25.816667  \n",
              "3403757      21            4 0 days 00:10:16     10.266667  \n",
              "3403758      44            4 0 days 00:33:00     33.000000  \n",
              "3403759      13            4 0 days 00:12:00     12.000000  \n",
              "3403760      11            4 0 days 00:20:17     20.283333  \n",
              "3403761      24            4 0 days 00:16:29     16.483333  \n",
              "3403762      24            4 0 days 00:39:22     39.366667  \n",
              "3403763      26            4 0 days 00:23:08     23.133333  \n",
              "3403764       7            4 0 days 00:08:05      8.083333  \n",
              "3403765      26            4 0 days 00:05:35      5.583333  "
            ],
            "text/html": [
              "\n",
              "  <div id=\"df-5c2966d7-6e5d-4eb6-8c63-86e6422019a2\">\n",
              "    <div class=\"colab-df-container\">\n",
              "      <div>\n",
              "<style scoped>\n",
              "    .dataframe tbody tr th:only-of-type {\n",
              "        vertical-align: middle;\n",
              "    }\n",
              "\n",
              "    .dataframe tbody tr th {\n",
              "        vertical-align: top;\n",
              "    }\n",
              "\n",
              "    .dataframe thead th {\n",
              "        text-align: right;\n",
              "    }\n",
              "</style>\n",
              "<table border=\"1\" class=\"dataframe\">\n",
              "  <thead>\n",
              "    <tr style=\"text-align: right;\">\n",
              "      <th></th>\n",
              "      <th>tpep_pickup_datetime</th>\n",
              "      <th>passenger_count</th>\n",
              "      <th>trip_distance</th>\n",
              "      <th>PULocationID</th>\n",
              "      <th>DOLocationID</th>\n",
              "      <th>payment_type</th>\n",
              "      <th>total_amount</th>\n",
              "      <th>mois</th>\n",
              "      <th>jour</th>\n",
              "      <th>annee</th>\n",
              "      <th>heure</th>\n",
              "      <th>minute</th>\n",
              "      <th>joursemaine</th>\n",
              "      <th>durée</th>\n",
              "      <th>duree_minute</th>\n",
              "    </tr>\n",
              "  </thead>\n",
              "  <tbody>\n",
              "    <tr>\n",
              "      <th>3403756</th>\n",
              "      <td>2023-03-31 23:43:56</td>\n",
              "      <td>1.0</td>\n",
              "      <td>5.17</td>\n",
              "      <td>113</td>\n",
              "      <td>151</td>\n",
              "      <td>0</td>\n",
              "      <td>41.25</td>\n",
              "      <td>3</td>\n",
              "      <td>31</td>\n",
              "      <td>2023</td>\n",
              "      <td>23</td>\n",
              "      <td>43</td>\n",
              "      <td>4</td>\n",
              "      <td>0 days 00:25:49</td>\n",
              "      <td>25.816667</td>\n",
              "    </tr>\n",
              "    <tr>\n",
              "      <th>3403757</th>\n",
              "      <td>2023-03-31 23:21:09</td>\n",
              "      <td>1.0</td>\n",
              "      <td>1.57</td>\n",
              "      <td>45</td>\n",
              "      <td>79</td>\n",
              "      <td>0</td>\n",
              "      <td>15.41</td>\n",
              "      <td>3</td>\n",
              "      <td>31</td>\n",
              "      <td>2023</td>\n",
              "      <td>23</td>\n",
              "      <td>21</td>\n",
              "      <td>4</td>\n",
              "      <td>0 days 00:10:16</td>\n",
              "      <td>10.266667</td>\n",
              "    </tr>\n",
              "    <tr>\n",
              "      <th>3403758</th>\n",
              "      <td>2023-03-31 23:44:00</td>\n",
              "      <td>1.0</td>\n",
              "      <td>5.52</td>\n",
              "      <td>230</td>\n",
              "      <td>223</td>\n",
              "      <td>0</td>\n",
              "      <td>36.94</td>\n",
              "      <td>3</td>\n",
              "      <td>31</td>\n",
              "      <td>2023</td>\n",
              "      <td>23</td>\n",
              "      <td>44</td>\n",
              "      <td>4</td>\n",
              "      <td>0 days 00:33:00</td>\n",
              "      <td>33.000000</td>\n",
              "    </tr>\n",
              "    <tr>\n",
              "      <th>3403759</th>\n",
              "      <td>2023-03-31 23:13:00</td>\n",
              "      <td>1.0</td>\n",
              "      <td>2.48</td>\n",
              "      <td>74</td>\n",
              "      <td>141</td>\n",
              "      <td>0</td>\n",
              "      <td>15.27</td>\n",
              "      <td>3</td>\n",
              "      <td>31</td>\n",
              "      <td>2023</td>\n",
              "      <td>23</td>\n",
              "      <td>13</td>\n",
              "      <td>4</td>\n",
              "      <td>0 days 00:12:00</td>\n",
              "      <td>12.000000</td>\n",
              "    </tr>\n",
              "    <tr>\n",
              "      <th>3403760</th>\n",
              "      <td>2023-03-31 23:11:21</td>\n",
              "      <td>1.0</td>\n",
              "      <td>4.56</td>\n",
              "      <td>231</td>\n",
              "      <td>80</td>\n",
              "      <td>0</td>\n",
              "      <td>27.58</td>\n",
              "      <td>3</td>\n",
              "      <td>31</td>\n",
              "      <td>2023</td>\n",
              "      <td>23</td>\n",
              "      <td>11</td>\n",
              "      <td>4</td>\n",
              "      <td>0 days 00:20:17</td>\n",
              "      <td>20.283333</td>\n",
              "    </tr>\n",
              "    <tr>\n",
              "      <th>3403761</th>\n",
              "      <td>2023-03-31 23:24:25</td>\n",
              "      <td>1.0</td>\n",
              "      <td>3.16</td>\n",
              "      <td>163</td>\n",
              "      <td>75</td>\n",
              "      <td>0</td>\n",
              "      <td>20.36</td>\n",
              "      <td>3</td>\n",
              "      <td>31</td>\n",
              "      <td>2023</td>\n",
              "      <td>23</td>\n",
              "      <td>24</td>\n",
              "      <td>4</td>\n",
              "      <td>0 days 00:16:29</td>\n",
              "      <td>16.483333</td>\n",
              "    </tr>\n",
              "    <tr>\n",
              "      <th>3403762</th>\n",
              "      <td>2023-03-31 23:24:50</td>\n",
              "      <td>1.0</td>\n",
              "      <td>6.89</td>\n",
              "      <td>125</td>\n",
              "      <td>198</td>\n",
              "      <td>0</td>\n",
              "      <td>53.90</td>\n",
              "      <td>3</td>\n",
              "      <td>31</td>\n",
              "      <td>2023</td>\n",
              "      <td>23</td>\n",
              "      <td>24</td>\n",
              "      <td>4</td>\n",
              "      <td>0 days 00:39:22</td>\n",
              "      <td>39.366667</td>\n",
              "    </tr>\n",
              "    <tr>\n",
              "      <th>3403763</th>\n",
              "      <td>2023-03-31 23:26:31</td>\n",
              "      <td>1.0</td>\n",
              "      <td>4.01</td>\n",
              "      <td>50</td>\n",
              "      <td>224</td>\n",
              "      <td>0</td>\n",
              "      <td>28.02</td>\n",
              "      <td>3</td>\n",
              "      <td>31</td>\n",
              "      <td>2023</td>\n",
              "      <td>23</td>\n",
              "      <td>26</td>\n",
              "      <td>4</td>\n",
              "      <td>0 days 00:23:08</td>\n",
              "      <td>23.133333</td>\n",
              "    </tr>\n",
              "    <tr>\n",
              "      <th>3403764</th>\n",
              "      <td>2023-03-31 23:07:51</td>\n",
              "      <td>1.0</td>\n",
              "      <td>1.31</td>\n",
              "      <td>113</td>\n",
              "      <td>158</td>\n",
              "      <td>0</td>\n",
              "      <td>16.01</td>\n",
              "      <td>3</td>\n",
              "      <td>31</td>\n",
              "      <td>2023</td>\n",
              "      <td>23</td>\n",
              "      <td>7</td>\n",
              "      <td>4</td>\n",
              "      <td>0 days 00:08:05</td>\n",
              "      <td>8.083333</td>\n",
              "    </tr>\n",
              "    <tr>\n",
              "      <th>3403765</th>\n",
              "      <td>2023-03-31 23:26:12</td>\n",
              "      <td>1.0</td>\n",
              "      <td>0.88</td>\n",
              "      <td>41</td>\n",
              "      <td>166</td>\n",
              "      <td>0</td>\n",
              "      <td>17.26</td>\n",
              "      <td>3</td>\n",
              "      <td>31</td>\n",
              "      <td>2023</td>\n",
              "      <td>23</td>\n",
              "      <td>26</td>\n",
              "      <td>4</td>\n",
              "      <td>0 days 00:05:35</td>\n",
              "      <td>5.583333</td>\n",
              "    </tr>\n",
              "  </tbody>\n",
              "</table>\n",
              "</div>\n",
              "      <button class=\"colab-df-convert\" onclick=\"convertToInteractive('df-5c2966d7-6e5d-4eb6-8c63-86e6422019a2')\"\n",
              "              title=\"Convert this dataframe to an interactive table.\"\n",
              "              style=\"display:none;\">\n",
              "        \n",
              "  <svg xmlns=\"http://www.w3.org/2000/svg\" height=\"24px\"viewBox=\"0 0 24 24\"\n",
              "       width=\"24px\">\n",
              "    <path d=\"M0 0h24v24H0V0z\" fill=\"none\"/>\n",
              "    <path d=\"M18.56 5.44l.94 2.06.94-2.06 2.06-.94-2.06-.94-.94-2.06-.94 2.06-2.06.94zm-11 1L8.5 8.5l.94-2.06 2.06-.94-2.06-.94L8.5 2.5l-.94 2.06-2.06.94zm10 10l.94 2.06.94-2.06 2.06-.94-2.06-.94-.94-2.06-.94 2.06-2.06.94z\"/><path d=\"M17.41 7.96l-1.37-1.37c-.4-.4-.92-.59-1.43-.59-.52 0-1.04.2-1.43.59L10.3 9.45l-7.72 7.72c-.78.78-.78 2.05 0 2.83L4 21.41c.39.39.9.59 1.41.59.51 0 1.02-.2 1.41-.59l7.78-7.78 2.81-2.81c.8-.78.8-2.07 0-2.86zM5.41 20L4 18.59l7.72-7.72 1.47 1.35L5.41 20z\"/>\n",
              "  </svg>\n",
              "      </button>\n",
              "      \n",
              "  <style>\n",
              "    .colab-df-container {\n",
              "      display:flex;\n",
              "      flex-wrap:wrap;\n",
              "      gap: 12px;\n",
              "    }\n",
              "\n",
              "    .colab-df-convert {\n",
              "      background-color: #E8F0FE;\n",
              "      border: none;\n",
              "      border-radius: 50%;\n",
              "      cursor: pointer;\n",
              "      display: none;\n",
              "      fill: #1967D2;\n",
              "      height: 32px;\n",
              "      padding: 0 0 0 0;\n",
              "      width: 32px;\n",
              "    }\n",
              "\n",
              "    .colab-df-convert:hover {\n",
              "      background-color: #E2EBFA;\n",
              "      box-shadow: 0px 1px 2px rgba(60, 64, 67, 0.3), 0px 1px 3px 1px rgba(60, 64, 67, 0.15);\n",
              "      fill: #174EA6;\n",
              "    }\n",
              "\n",
              "    [theme=dark] .colab-df-convert {\n",
              "      background-color: #3B4455;\n",
              "      fill: #D2E3FC;\n",
              "    }\n",
              "\n",
              "    [theme=dark] .colab-df-convert:hover {\n",
              "      background-color: #434B5C;\n",
              "      box-shadow: 0px 1px 3px 1px rgba(0, 0, 0, 0.15);\n",
              "      filter: drop-shadow(0px 1px 2px rgba(0, 0, 0, 0.3));\n",
              "      fill: #FFFFFF;\n",
              "    }\n",
              "  </style>\n",
              "\n",
              "      <script>\n",
              "        const buttonEl =\n",
              "          document.querySelector('#df-5c2966d7-6e5d-4eb6-8c63-86e6422019a2 button.colab-df-convert');\n",
              "        buttonEl.style.display =\n",
              "          google.colab.kernel.accessAllowed ? 'block' : 'none';\n",
              "\n",
              "        async function convertToInteractive(key) {\n",
              "          const element = document.querySelector('#df-5c2966d7-6e5d-4eb6-8c63-86e6422019a2');\n",
              "          const dataTable =\n",
              "            await google.colab.kernel.invokeFunction('convertToInteractive',\n",
              "                                                     [key], {});\n",
              "          if (!dataTable) return;\n",
              "\n",
              "          const docLinkHtml = 'Like what you see? Visit the ' +\n",
              "            '<a target=\"_blank\" href=https://colab.research.google.com/notebooks/data_table.ipynb>data table notebook</a>'\n",
              "            + ' to learn more about interactive tables.';\n",
              "          element.innerHTML = '';\n",
              "          dataTable['output_type'] = 'display_data';\n",
              "          await google.colab.output.renderOutput(dataTable, element);\n",
              "          const docLink = document.createElement('div');\n",
              "          docLink.innerHTML = docLinkHtml;\n",
              "          element.appendChild(docLink);\n",
              "        }\n",
              "      </script>\n",
              "    </div>\n",
              "  </div>\n",
              "  "
            ]
          },
          "metadata": {},
          "execution_count": 17
        }
      ],
      "source": [
        "df.tail(10)"
      ]
    },
    {
      "cell_type": "code",
      "execution_count": null,
      "metadata": {
        "colab": {
          "base_uri": "https://localhost:8080/",
          "height": 399
        },
        "id": "7kOuoKxkesuN",
        "outputId": "b0b364f9-6454-4d8c-bfdc-16cefb196748"
      },
      "outputs": [
        {
          "output_type": "execute_result",
          "data": {
            "text/plain": [
              "       passenger_count  trip_distance  PULocationID  DOLocationID  \\\n",
              "count     3.403766e+06   3.403766e+06  3.403766e+06  3.403766e+06   \n",
              "mean      1.342371e+00   3.903871e+00  1.654540e+02  1.641003e+02   \n",
              "std       8.764800e-01   1.916866e+02  6.373958e+01  6.967282e+01   \n",
              "min       0.000000e+00   0.000000e+00  1.000000e+00  1.000000e+00   \n",
              "25%       1.000000e+00   1.050000e+00  1.320000e+02  1.140000e+02   \n",
              "50%       1.000000e+00   1.790000e+00  1.620000e+02  1.620000e+02   \n",
              "75%       1.000000e+00   3.380000e+00  2.330000e+02  2.340000e+02   \n",
              "max       9.000000e+00   2.169870e+05  2.650000e+02  2.650000e+02   \n",
              "\n",
              "       payment_type  total_amount          mois          jour         annee  \\\n",
              "count  3.403766e+06  3.403766e+06  3.403766e+06  3.403766e+06  3.403766e+06   \n",
              "mean   1.187310e+00  2.780343e+01  3.000007e+00  1.588435e+01  2.023000e+03   \n",
              "std    5.334025e-01  2.286614e+01  1.316577e-02  8.984603e+00  3.455810e-02   \n",
              "min    0.000000e+00 -9.829500e+02  1.000000e+00  1.000000e+00  2.001000e+03   \n",
              "25%    1.000000e+00  1.570000e+01  3.000000e+00  8.000000e+00  2.023000e+03   \n",
              "50%    1.000000e+00  2.060000e+01  3.000000e+00  1.600000e+01  2.023000e+03   \n",
              "75%    1.000000e+00  2.976000e+01  3.000000e+00  2.400000e+01  2.023000e+03   \n",
              "max    5.000000e+00  2.100000e+03  1.200000e+01  3.100000e+01  2.023000e+03   \n",
              "\n",
              "              heure        minute   joursemaine                      durée  \\\n",
              "count  3.403766e+06  3.403766e+06  3.403766e+06                    3403766   \n",
              "mean   1.434281e+01  2.954385e+01  3.026332e+00  0 days 00:16:52.909035462   \n",
              "std    5.760345e+00  1.734014e+01  1.847898e+00  0 days 00:43:47.674722006   \n",
              "min    0.000000e+00  0.000000e+00  0.000000e+00          -1 days +16:03:45   \n",
              "25%    1.100000e+01  1.400000e+01  2.000000e+00            0 days 00:07:24   \n",
              "50%    1.500000e+01  3.000000e+01  3.000000e+00            0 days 00:12:09   \n",
              "75%    1.900000e+01  4.500000e+01  4.000000e+00            0 days 00:19:39   \n",
              "max    2.300000e+01  5.900000e+01  6.000000e+00            3 days 21:57:43   \n",
              "\n",
              "       duree_minute  \n",
              "count  3.403766e+06  \n",
              "mean   1.688182e+01  \n",
              "std    4.379458e+01  \n",
              "min   -4.762500e+02  \n",
              "25%    7.400000e+00  \n",
              "50%    1.215000e+01  \n",
              "75%    1.965000e+01  \n",
              "max    5.637717e+03  "
            ],
            "text/html": [
              "\n",
              "  <div id=\"df-9dc4a1e1-6a26-43fa-9f89-0e7e156192aa\">\n",
              "    <div class=\"colab-df-container\">\n",
              "      <div>\n",
              "<style scoped>\n",
              "    .dataframe tbody tr th:only-of-type {\n",
              "        vertical-align: middle;\n",
              "    }\n",
              "\n",
              "    .dataframe tbody tr th {\n",
              "        vertical-align: top;\n",
              "    }\n",
              "\n",
              "    .dataframe thead th {\n",
              "        text-align: right;\n",
              "    }\n",
              "</style>\n",
              "<table border=\"1\" class=\"dataframe\">\n",
              "  <thead>\n",
              "    <tr style=\"text-align: right;\">\n",
              "      <th></th>\n",
              "      <th>passenger_count</th>\n",
              "      <th>trip_distance</th>\n",
              "      <th>PULocationID</th>\n",
              "      <th>DOLocationID</th>\n",
              "      <th>payment_type</th>\n",
              "      <th>total_amount</th>\n",
              "      <th>mois</th>\n",
              "      <th>jour</th>\n",
              "      <th>annee</th>\n",
              "      <th>heure</th>\n",
              "      <th>minute</th>\n",
              "      <th>joursemaine</th>\n",
              "      <th>durée</th>\n",
              "      <th>duree_minute</th>\n",
              "    </tr>\n",
              "  </thead>\n",
              "  <tbody>\n",
              "    <tr>\n",
              "      <th>count</th>\n",
              "      <td>3.403766e+06</td>\n",
              "      <td>3.403766e+06</td>\n",
              "      <td>3.403766e+06</td>\n",
              "      <td>3.403766e+06</td>\n",
              "      <td>3.403766e+06</td>\n",
              "      <td>3.403766e+06</td>\n",
              "      <td>3.403766e+06</td>\n",
              "      <td>3.403766e+06</td>\n",
              "      <td>3.403766e+06</td>\n",
              "      <td>3.403766e+06</td>\n",
              "      <td>3.403766e+06</td>\n",
              "      <td>3.403766e+06</td>\n",
              "      <td>3403766</td>\n",
              "      <td>3.403766e+06</td>\n",
              "    </tr>\n",
              "    <tr>\n",
              "      <th>mean</th>\n",
              "      <td>1.342371e+00</td>\n",
              "      <td>3.903871e+00</td>\n",
              "      <td>1.654540e+02</td>\n",
              "      <td>1.641003e+02</td>\n",
              "      <td>1.187310e+00</td>\n",
              "      <td>2.780343e+01</td>\n",
              "      <td>3.000007e+00</td>\n",
              "      <td>1.588435e+01</td>\n",
              "      <td>2.023000e+03</td>\n",
              "      <td>1.434281e+01</td>\n",
              "      <td>2.954385e+01</td>\n",
              "      <td>3.026332e+00</td>\n",
              "      <td>0 days 00:16:52.909035462</td>\n",
              "      <td>1.688182e+01</td>\n",
              "    </tr>\n",
              "    <tr>\n",
              "      <th>std</th>\n",
              "      <td>8.764800e-01</td>\n",
              "      <td>1.916866e+02</td>\n",
              "      <td>6.373958e+01</td>\n",
              "      <td>6.967282e+01</td>\n",
              "      <td>5.334025e-01</td>\n",
              "      <td>2.286614e+01</td>\n",
              "      <td>1.316577e-02</td>\n",
              "      <td>8.984603e+00</td>\n",
              "      <td>3.455810e-02</td>\n",
              "      <td>5.760345e+00</td>\n",
              "      <td>1.734014e+01</td>\n",
              "      <td>1.847898e+00</td>\n",
              "      <td>0 days 00:43:47.674722006</td>\n",
              "      <td>4.379458e+01</td>\n",
              "    </tr>\n",
              "    <tr>\n",
              "      <th>min</th>\n",
              "      <td>0.000000e+00</td>\n",
              "      <td>0.000000e+00</td>\n",
              "      <td>1.000000e+00</td>\n",
              "      <td>1.000000e+00</td>\n",
              "      <td>0.000000e+00</td>\n",
              "      <td>-9.829500e+02</td>\n",
              "      <td>1.000000e+00</td>\n",
              "      <td>1.000000e+00</td>\n",
              "      <td>2.001000e+03</td>\n",
              "      <td>0.000000e+00</td>\n",
              "      <td>0.000000e+00</td>\n",
              "      <td>0.000000e+00</td>\n",
              "      <td>-1 days +16:03:45</td>\n",
              "      <td>-4.762500e+02</td>\n",
              "    </tr>\n",
              "    <tr>\n",
              "      <th>25%</th>\n",
              "      <td>1.000000e+00</td>\n",
              "      <td>1.050000e+00</td>\n",
              "      <td>1.320000e+02</td>\n",
              "      <td>1.140000e+02</td>\n",
              "      <td>1.000000e+00</td>\n",
              "      <td>1.570000e+01</td>\n",
              "      <td>3.000000e+00</td>\n",
              "      <td>8.000000e+00</td>\n",
              "      <td>2.023000e+03</td>\n",
              "      <td>1.100000e+01</td>\n",
              "      <td>1.400000e+01</td>\n",
              "      <td>2.000000e+00</td>\n",
              "      <td>0 days 00:07:24</td>\n",
              "      <td>7.400000e+00</td>\n",
              "    </tr>\n",
              "    <tr>\n",
              "      <th>50%</th>\n",
              "      <td>1.000000e+00</td>\n",
              "      <td>1.790000e+00</td>\n",
              "      <td>1.620000e+02</td>\n",
              "      <td>1.620000e+02</td>\n",
              "      <td>1.000000e+00</td>\n",
              "      <td>2.060000e+01</td>\n",
              "      <td>3.000000e+00</td>\n",
              "      <td>1.600000e+01</td>\n",
              "      <td>2.023000e+03</td>\n",
              "      <td>1.500000e+01</td>\n",
              "      <td>3.000000e+01</td>\n",
              "      <td>3.000000e+00</td>\n",
              "      <td>0 days 00:12:09</td>\n",
              "      <td>1.215000e+01</td>\n",
              "    </tr>\n",
              "    <tr>\n",
              "      <th>75%</th>\n",
              "      <td>1.000000e+00</td>\n",
              "      <td>3.380000e+00</td>\n",
              "      <td>2.330000e+02</td>\n",
              "      <td>2.340000e+02</td>\n",
              "      <td>1.000000e+00</td>\n",
              "      <td>2.976000e+01</td>\n",
              "      <td>3.000000e+00</td>\n",
              "      <td>2.400000e+01</td>\n",
              "      <td>2.023000e+03</td>\n",
              "      <td>1.900000e+01</td>\n",
              "      <td>4.500000e+01</td>\n",
              "      <td>4.000000e+00</td>\n",
              "      <td>0 days 00:19:39</td>\n",
              "      <td>1.965000e+01</td>\n",
              "    </tr>\n",
              "    <tr>\n",
              "      <th>max</th>\n",
              "      <td>9.000000e+00</td>\n",
              "      <td>2.169870e+05</td>\n",
              "      <td>2.650000e+02</td>\n",
              "      <td>2.650000e+02</td>\n",
              "      <td>5.000000e+00</td>\n",
              "      <td>2.100000e+03</td>\n",
              "      <td>1.200000e+01</td>\n",
              "      <td>3.100000e+01</td>\n",
              "      <td>2.023000e+03</td>\n",
              "      <td>2.300000e+01</td>\n",
              "      <td>5.900000e+01</td>\n",
              "      <td>6.000000e+00</td>\n",
              "      <td>3 days 21:57:43</td>\n",
              "      <td>5.637717e+03</td>\n",
              "    </tr>\n",
              "  </tbody>\n",
              "</table>\n",
              "</div>\n",
              "      <button class=\"colab-df-convert\" onclick=\"convertToInteractive('df-9dc4a1e1-6a26-43fa-9f89-0e7e156192aa')\"\n",
              "              title=\"Convert this dataframe to an interactive table.\"\n",
              "              style=\"display:none;\">\n",
              "        \n",
              "  <svg xmlns=\"http://www.w3.org/2000/svg\" height=\"24px\"viewBox=\"0 0 24 24\"\n",
              "       width=\"24px\">\n",
              "    <path d=\"M0 0h24v24H0V0z\" fill=\"none\"/>\n",
              "    <path d=\"M18.56 5.44l.94 2.06.94-2.06 2.06-.94-2.06-.94-.94-2.06-.94 2.06-2.06.94zm-11 1L8.5 8.5l.94-2.06 2.06-.94-2.06-.94L8.5 2.5l-.94 2.06-2.06.94zm10 10l.94 2.06.94-2.06 2.06-.94-2.06-.94-.94-2.06-.94 2.06-2.06.94z\"/><path d=\"M17.41 7.96l-1.37-1.37c-.4-.4-.92-.59-1.43-.59-.52 0-1.04.2-1.43.59L10.3 9.45l-7.72 7.72c-.78.78-.78 2.05 0 2.83L4 21.41c.39.39.9.59 1.41.59.51 0 1.02-.2 1.41-.59l7.78-7.78 2.81-2.81c.8-.78.8-2.07 0-2.86zM5.41 20L4 18.59l7.72-7.72 1.47 1.35L5.41 20z\"/>\n",
              "  </svg>\n",
              "      </button>\n",
              "      \n",
              "  <style>\n",
              "    .colab-df-container {\n",
              "      display:flex;\n",
              "      flex-wrap:wrap;\n",
              "      gap: 12px;\n",
              "    }\n",
              "\n",
              "    .colab-df-convert {\n",
              "      background-color: #E8F0FE;\n",
              "      border: none;\n",
              "      border-radius: 50%;\n",
              "      cursor: pointer;\n",
              "      display: none;\n",
              "      fill: #1967D2;\n",
              "      height: 32px;\n",
              "      padding: 0 0 0 0;\n",
              "      width: 32px;\n",
              "    }\n",
              "\n",
              "    .colab-df-convert:hover {\n",
              "      background-color: #E2EBFA;\n",
              "      box-shadow: 0px 1px 2px rgba(60, 64, 67, 0.3), 0px 1px 3px 1px rgba(60, 64, 67, 0.15);\n",
              "      fill: #174EA6;\n",
              "    }\n",
              "\n",
              "    [theme=dark] .colab-df-convert {\n",
              "      background-color: #3B4455;\n",
              "      fill: #D2E3FC;\n",
              "    }\n",
              "\n",
              "    [theme=dark] .colab-df-convert:hover {\n",
              "      background-color: #434B5C;\n",
              "      box-shadow: 0px 1px 3px 1px rgba(0, 0, 0, 0.15);\n",
              "      filter: drop-shadow(0px 1px 2px rgba(0, 0, 0, 0.3));\n",
              "      fill: #FFFFFF;\n",
              "    }\n",
              "  </style>\n",
              "\n",
              "      <script>\n",
              "        const buttonEl =\n",
              "          document.querySelector('#df-9dc4a1e1-6a26-43fa-9f89-0e7e156192aa button.colab-df-convert');\n",
              "        buttonEl.style.display =\n",
              "          google.colab.kernel.accessAllowed ? 'block' : 'none';\n",
              "\n",
              "        async function convertToInteractive(key) {\n",
              "          const element = document.querySelector('#df-9dc4a1e1-6a26-43fa-9f89-0e7e156192aa');\n",
              "          const dataTable =\n",
              "            await google.colab.kernel.invokeFunction('convertToInteractive',\n",
              "                                                     [key], {});\n",
              "          if (!dataTable) return;\n",
              "\n",
              "          const docLinkHtml = 'Like what you see? Visit the ' +\n",
              "            '<a target=\"_blank\" href=https://colab.research.google.com/notebooks/data_table.ipynb>data table notebook</a>'\n",
              "            + ' to learn more about interactive tables.';\n",
              "          element.innerHTML = '';\n",
              "          dataTable['output_type'] = 'display_data';\n",
              "          await google.colab.output.renderOutput(dataTable, element);\n",
              "          const docLink = document.createElement('div');\n",
              "          docLink.innerHTML = docLinkHtml;\n",
              "          element.appendChild(docLink);\n",
              "        }\n",
              "      </script>\n",
              "    </div>\n",
              "  </div>\n",
              "  "
            ]
          },
          "metadata": {},
          "execution_count": 18
        }
      ],
      "source": [
        "df.describe()"
      ]
    },
    {
      "cell_type": "markdown",
      "metadata": {
        "id": "ToJ81LfBiYLo"
      },
      "source": [
        "## valeurs aberrantes"
      ]
    },
    {
      "cell_type": "markdown",
      "metadata": {
        "id": "HdRUEVyzQ93N"
      },
      "source": [
        "### variable 'durée'"
      ]
    },
    {
      "cell_type": "code",
      "execution_count": null,
      "metadata": {
        "colab": {
          "base_uri": "https://localhost:8080/"
        },
        "id": "Ra9u1t4AiwFS",
        "outputId": "823ef6ca-3e05-46aa-d00d-7e0cb5d37b0b"
      },
      "outputs": [
        {
          "output_type": "execute_result",
          "data": {
            "text/plain": [
              "Timedelta('3 days 21:57:43')"
            ]
          },
          "metadata": {},
          "execution_count": 19
        }
      ],
      "source": [
        "df['durée'].max()"
      ]
    },
    {
      "cell_type": "code",
      "execution_count": null,
      "metadata": {
        "id": "sFJ8DGkiTh8p"
      },
      "outputs": [],
      "source": [
        "oneday=timedelta(days=1)"
      ]
    },
    {
      "cell_type": "code",
      "execution_count": null,
      "metadata": {
        "colab": {
          "base_uri": "https://localhost:8080/"
        },
        "id": "3Mx6m4SjTOiD",
        "outputId": "43cff1cb-aaa6-4b63-c669-e3de056c1845"
      },
      "outputs": [
        {
          "output_type": "execute_result",
          "data": {
            "text/plain": [
              "False    3403745\n",
              "True          21\n",
              "Name: durée, dtype: int64"
            ]
          },
          "metadata": {},
          "execution_count": 21
        }
      ],
      "source": [
        "(df['durée']>oneday).value_counts()"
      ]
    },
    {
      "cell_type": "code",
      "execution_count": null,
      "metadata": {
        "colab": {
          "base_uri": "https://localhost:8080/",
          "height": 1000
        },
        "id": "vc2roEwAkAMA",
        "outputId": "61e9fcb5-3263-4757-f031-358508f84243"
      },
      "outputs": [
        {
          "output_type": "execute_result",
          "data": {
            "text/plain": [
              "        tpep_pickup_datetime  passenger_count  trip_distance  PULocationID  \\\n",
              "259246   2023-03-03 12:53:19              1.0          40.02           138   \n",
              "305550   2023-03-03 18:01:42              2.0           0.00           226   \n",
              "305551   2023-03-03 18:01:42              1.0          16.20           132   \n",
              "687479   2023-03-07 15:35:53              1.0           4.28           132   \n",
              "687480   2023-03-07 15:35:53              1.0           8.11           262   \n",
              "909315   2023-03-09 13:31:29              1.0           0.00            76   \n",
              "1388676  2023-03-13 21:23:58              1.0           0.00           232   \n",
              "1464737  2023-03-14 17:10:16              1.0           2.09            48   \n",
              "1655642  2023-03-16 12:09:30              1.0           0.01             7   \n",
              "1717647  2023-03-16 20:20:52              1.0           0.68           161   \n",
              "1717648  2023-03-16 20:20:52              1.0           0.47            43   \n",
              "2038217  2023-03-19 17:59:13              1.0           3.13           161   \n",
              "2132919  2023-03-20 18:07:45              1.0           2.64           151   \n",
              "2184905  2023-03-21 11:00:36              1.0           0.00           207   \n",
              "2487085  2023-03-24 08:22:33              1.0           0.00           207   \n",
              "2502305  2023-03-24 12:43:51              1.0           0.00           207   \n",
              "2549689  2023-03-24 19:30:30              1.0           0.00           162   \n",
              "2577693  2023-03-24 23:09:55              2.0           1.31            68   \n",
              "2579336  2023-03-24 23:09:55              2.0           2.50           114   \n",
              "2743688  2023-03-26 15:18:05              1.0           0.00           141   \n",
              "2743689  2023-03-26 15:18:05              1.0           0.00           193   \n",
              "\n",
              "         DOLocationID  payment_type  total_amount  mois  jour  annee  heure  \\\n",
              "259246            193             2        277.45     3     3   2023     12   \n",
              "305550            226             2         21.00     3     3   2023     18   \n",
              "305551            125             1         94.80     3     3   2023     18   \n",
              "687479            132             2         26.05     3     7   2023     15   \n",
              "687480             65             1         48.00     3     7   2023     15   \n",
              "909315             76             1         15.60     3     9   2023     13   \n",
              "1388676           226             2          8.00     3    13   2023     21   \n",
              "1464737            42             2         26.30     3    14   2023     17   \n",
              "1655642           193             2          4.50     3    16   2023     12   \n",
              "1717647           161             2         13.60     3    16   2023     20   \n",
              "1717648            43             1         10.92     3    16   2023     20   \n",
              "2038217            79             2         22.40     3    19   2023     17   \n",
              "2132919           193             2         16.80     3    20   2023     18   \n",
              "2184905           260             2          4.50     3    21   2023     11   \n",
              "2487085           132             2          4.50     3    24   2023      8   \n",
              "2502305             7             2          4.50     3    24   2023     12   \n",
              "2549689           265             2         18.70     3    24   2023     19   \n",
              "2577693           170             2         20.30     3    24   2023     23   \n",
              "2579336           114             2         21.30     3    24   2023     23   \n",
              "2743688           141             2          7.00     3    26   2023     15   \n",
              "2743689           193             2          7.00     3    26   2023     15   \n",
              "\n",
              "         minute  joursemaine           durée  duree_minute  \n",
              "259246       53            4 2 days 22:48:02   4248.033333  \n",
              "305550        1            4 2 days 17:33:33   3933.550000  \n",
              "305551        1            4 2 days 18:32:43   3992.716667  \n",
              "687479       35            1 1 days 14:51:18   2331.300000  \n",
              "687480       35            1 1 days 15:04:52   2344.866667  \n",
              "909315       31            3 3 days 21:57:43   5637.716667  \n",
              "1388676      23            0 3 days 13:25:13   5125.216667  \n",
              "1464737      10            1 1 days 15:48:59   2388.983333  \n",
              "1655642       9            3 1 days 03:21:44   1641.733333  \n",
              "1717647      20            3 1 days 12:23:52   2183.866667  \n",
              "1717648      20            3 1 days 12:26:49   2186.816667  \n",
              "2038217      59            6 1 days 18:37:50   2557.833333  \n",
              "2132919       7            0 1 days 02:49:06   1609.100000  \n",
              "2184905       0            1 1 days 05:36:02   1776.033333  \n",
              "2487085      22            4 3 days 04:45:39   4605.650000  \n",
              "2502305      43            4 2 days 19:53:55   4073.916667  \n",
              "2549689      30            4 3 days 16:03:33   5283.550000  \n",
              "2577693       9            4 2 days 11:50:50   3590.833333  \n",
              "2579336       9            4 2 days 11:31:24   3571.400000  \n",
              "2743688      18            6 1 days 17:50:19   2510.316667  \n",
              "2743689      18            6 1 days 17:52:01   2512.016667  "
            ],
            "text/html": [
              "\n",
              "  <div id=\"df-9b656615-b500-4712-b199-ccd818806cdd\">\n",
              "    <div class=\"colab-df-container\">\n",
              "      <div>\n",
              "<style scoped>\n",
              "    .dataframe tbody tr th:only-of-type {\n",
              "        vertical-align: middle;\n",
              "    }\n",
              "\n",
              "    .dataframe tbody tr th {\n",
              "        vertical-align: top;\n",
              "    }\n",
              "\n",
              "    .dataframe thead th {\n",
              "        text-align: right;\n",
              "    }\n",
              "</style>\n",
              "<table border=\"1\" class=\"dataframe\">\n",
              "  <thead>\n",
              "    <tr style=\"text-align: right;\">\n",
              "      <th></th>\n",
              "      <th>tpep_pickup_datetime</th>\n",
              "      <th>passenger_count</th>\n",
              "      <th>trip_distance</th>\n",
              "      <th>PULocationID</th>\n",
              "      <th>DOLocationID</th>\n",
              "      <th>payment_type</th>\n",
              "      <th>total_amount</th>\n",
              "      <th>mois</th>\n",
              "      <th>jour</th>\n",
              "      <th>annee</th>\n",
              "      <th>heure</th>\n",
              "      <th>minute</th>\n",
              "      <th>joursemaine</th>\n",
              "      <th>durée</th>\n",
              "      <th>duree_minute</th>\n",
              "    </tr>\n",
              "  </thead>\n",
              "  <tbody>\n",
              "    <tr>\n",
              "      <th>259246</th>\n",
              "      <td>2023-03-03 12:53:19</td>\n",
              "      <td>1.0</td>\n",
              "      <td>40.02</td>\n",
              "      <td>138</td>\n",
              "      <td>193</td>\n",
              "      <td>2</td>\n",
              "      <td>277.45</td>\n",
              "      <td>3</td>\n",
              "      <td>3</td>\n",
              "      <td>2023</td>\n",
              "      <td>12</td>\n",
              "      <td>53</td>\n",
              "      <td>4</td>\n",
              "      <td>2 days 22:48:02</td>\n",
              "      <td>4248.033333</td>\n",
              "    </tr>\n",
              "    <tr>\n",
              "      <th>305550</th>\n",
              "      <td>2023-03-03 18:01:42</td>\n",
              "      <td>2.0</td>\n",
              "      <td>0.00</td>\n",
              "      <td>226</td>\n",
              "      <td>226</td>\n",
              "      <td>2</td>\n",
              "      <td>21.00</td>\n",
              "      <td>3</td>\n",
              "      <td>3</td>\n",
              "      <td>2023</td>\n",
              "      <td>18</td>\n",
              "      <td>1</td>\n",
              "      <td>4</td>\n",
              "      <td>2 days 17:33:33</td>\n",
              "      <td>3933.550000</td>\n",
              "    </tr>\n",
              "    <tr>\n",
              "      <th>305551</th>\n",
              "      <td>2023-03-03 18:01:42</td>\n",
              "      <td>1.0</td>\n",
              "      <td>16.20</td>\n",
              "      <td>132</td>\n",
              "      <td>125</td>\n",
              "      <td>1</td>\n",
              "      <td>94.80</td>\n",
              "      <td>3</td>\n",
              "      <td>3</td>\n",
              "      <td>2023</td>\n",
              "      <td>18</td>\n",
              "      <td>1</td>\n",
              "      <td>4</td>\n",
              "      <td>2 days 18:32:43</td>\n",
              "      <td>3992.716667</td>\n",
              "    </tr>\n",
              "    <tr>\n",
              "      <th>687479</th>\n",
              "      <td>2023-03-07 15:35:53</td>\n",
              "      <td>1.0</td>\n",
              "      <td>4.28</td>\n",
              "      <td>132</td>\n",
              "      <td>132</td>\n",
              "      <td>2</td>\n",
              "      <td>26.05</td>\n",
              "      <td>3</td>\n",
              "      <td>7</td>\n",
              "      <td>2023</td>\n",
              "      <td>15</td>\n",
              "      <td>35</td>\n",
              "      <td>1</td>\n",
              "      <td>1 days 14:51:18</td>\n",
              "      <td>2331.300000</td>\n",
              "    </tr>\n",
              "    <tr>\n",
              "      <th>687480</th>\n",
              "      <td>2023-03-07 15:35:53</td>\n",
              "      <td>1.0</td>\n",
              "      <td>8.11</td>\n",
              "      <td>262</td>\n",
              "      <td>65</td>\n",
              "      <td>1</td>\n",
              "      <td>48.00</td>\n",
              "      <td>3</td>\n",
              "      <td>7</td>\n",
              "      <td>2023</td>\n",
              "      <td>15</td>\n",
              "      <td>35</td>\n",
              "      <td>1</td>\n",
              "      <td>1 days 15:04:52</td>\n",
              "      <td>2344.866667</td>\n",
              "    </tr>\n",
              "    <tr>\n",
              "      <th>909315</th>\n",
              "      <td>2023-03-09 13:31:29</td>\n",
              "      <td>1.0</td>\n",
              "      <td>0.00</td>\n",
              "      <td>76</td>\n",
              "      <td>76</td>\n",
              "      <td>1</td>\n",
              "      <td>15.60</td>\n",
              "      <td>3</td>\n",
              "      <td>9</td>\n",
              "      <td>2023</td>\n",
              "      <td>13</td>\n",
              "      <td>31</td>\n",
              "      <td>3</td>\n",
              "      <td>3 days 21:57:43</td>\n",
              "      <td>5637.716667</td>\n",
              "    </tr>\n",
              "    <tr>\n",
              "      <th>1388676</th>\n",
              "      <td>2023-03-13 21:23:58</td>\n",
              "      <td>1.0</td>\n",
              "      <td>0.00</td>\n",
              "      <td>232</td>\n",
              "      <td>226</td>\n",
              "      <td>2</td>\n",
              "      <td>8.00</td>\n",
              "      <td>3</td>\n",
              "      <td>13</td>\n",
              "      <td>2023</td>\n",
              "      <td>21</td>\n",
              "      <td>23</td>\n",
              "      <td>0</td>\n",
              "      <td>3 days 13:25:13</td>\n",
              "      <td>5125.216667</td>\n",
              "    </tr>\n",
              "    <tr>\n",
              "      <th>1464737</th>\n",
              "      <td>2023-03-14 17:10:16</td>\n",
              "      <td>1.0</td>\n",
              "      <td>2.09</td>\n",
              "      <td>48</td>\n",
              "      <td>42</td>\n",
              "      <td>2</td>\n",
              "      <td>26.30</td>\n",
              "      <td>3</td>\n",
              "      <td>14</td>\n",
              "      <td>2023</td>\n",
              "      <td>17</td>\n",
              "      <td>10</td>\n",
              "      <td>1</td>\n",
              "      <td>1 days 15:48:59</td>\n",
              "      <td>2388.983333</td>\n",
              "    </tr>\n",
              "    <tr>\n",
              "      <th>1655642</th>\n",
              "      <td>2023-03-16 12:09:30</td>\n",
              "      <td>1.0</td>\n",
              "      <td>0.01</td>\n",
              "      <td>7</td>\n",
              "      <td>193</td>\n",
              "      <td>2</td>\n",
              "      <td>4.50</td>\n",
              "      <td>3</td>\n",
              "      <td>16</td>\n",
              "      <td>2023</td>\n",
              "      <td>12</td>\n",
              "      <td>9</td>\n",
              "      <td>3</td>\n",
              "      <td>1 days 03:21:44</td>\n",
              "      <td>1641.733333</td>\n",
              "    </tr>\n",
              "    <tr>\n",
              "      <th>1717647</th>\n",
              "      <td>2023-03-16 20:20:52</td>\n",
              "      <td>1.0</td>\n",
              "      <td>0.68</td>\n",
              "      <td>161</td>\n",
              "      <td>161</td>\n",
              "      <td>2</td>\n",
              "      <td>13.60</td>\n",
              "      <td>3</td>\n",
              "      <td>16</td>\n",
              "      <td>2023</td>\n",
              "      <td>20</td>\n",
              "      <td>20</td>\n",
              "      <td>3</td>\n",
              "      <td>1 days 12:23:52</td>\n",
              "      <td>2183.866667</td>\n",
              "    </tr>\n",
              "    <tr>\n",
              "      <th>1717648</th>\n",
              "      <td>2023-03-16 20:20:52</td>\n",
              "      <td>1.0</td>\n",
              "      <td>0.47</td>\n",
              "      <td>43</td>\n",
              "      <td>43</td>\n",
              "      <td>1</td>\n",
              "      <td>10.92</td>\n",
              "      <td>3</td>\n",
              "      <td>16</td>\n",
              "      <td>2023</td>\n",
              "      <td>20</td>\n",
              "      <td>20</td>\n",
              "      <td>3</td>\n",
              "      <td>1 days 12:26:49</td>\n",
              "      <td>2186.816667</td>\n",
              "    </tr>\n",
              "    <tr>\n",
              "      <th>2038217</th>\n",
              "      <td>2023-03-19 17:59:13</td>\n",
              "      <td>1.0</td>\n",
              "      <td>3.13</td>\n",
              "      <td>161</td>\n",
              "      <td>79</td>\n",
              "      <td>2</td>\n",
              "      <td>22.40</td>\n",
              "      <td>3</td>\n",
              "      <td>19</td>\n",
              "      <td>2023</td>\n",
              "      <td>17</td>\n",
              "      <td>59</td>\n",
              "      <td>6</td>\n",
              "      <td>1 days 18:37:50</td>\n",
              "      <td>2557.833333</td>\n",
              "    </tr>\n",
              "    <tr>\n",
              "      <th>2132919</th>\n",
              "      <td>2023-03-20 18:07:45</td>\n",
              "      <td>1.0</td>\n",
              "      <td>2.64</td>\n",
              "      <td>151</td>\n",
              "      <td>193</td>\n",
              "      <td>2</td>\n",
              "      <td>16.80</td>\n",
              "      <td>3</td>\n",
              "      <td>20</td>\n",
              "      <td>2023</td>\n",
              "      <td>18</td>\n",
              "      <td>7</td>\n",
              "      <td>0</td>\n",
              "      <td>1 days 02:49:06</td>\n",
              "      <td>1609.100000</td>\n",
              "    </tr>\n",
              "    <tr>\n",
              "      <th>2184905</th>\n",
              "      <td>2023-03-21 11:00:36</td>\n",
              "      <td>1.0</td>\n",
              "      <td>0.00</td>\n",
              "      <td>207</td>\n",
              "      <td>260</td>\n",
              "      <td>2</td>\n",
              "      <td>4.50</td>\n",
              "      <td>3</td>\n",
              "      <td>21</td>\n",
              "      <td>2023</td>\n",
              "      <td>11</td>\n",
              "      <td>0</td>\n",
              "      <td>1</td>\n",
              "      <td>1 days 05:36:02</td>\n",
              "      <td>1776.033333</td>\n",
              "    </tr>\n",
              "    <tr>\n",
              "      <th>2487085</th>\n",
              "      <td>2023-03-24 08:22:33</td>\n",
              "      <td>1.0</td>\n",
              "      <td>0.00</td>\n",
              "      <td>207</td>\n",
              "      <td>132</td>\n",
              "      <td>2</td>\n",
              "      <td>4.50</td>\n",
              "      <td>3</td>\n",
              "      <td>24</td>\n",
              "      <td>2023</td>\n",
              "      <td>8</td>\n",
              "      <td>22</td>\n",
              "      <td>4</td>\n",
              "      <td>3 days 04:45:39</td>\n",
              "      <td>4605.650000</td>\n",
              "    </tr>\n",
              "    <tr>\n",
              "      <th>2502305</th>\n",
              "      <td>2023-03-24 12:43:51</td>\n",
              "      <td>1.0</td>\n",
              "      <td>0.00</td>\n",
              "      <td>207</td>\n",
              "      <td>7</td>\n",
              "      <td>2</td>\n",
              "      <td>4.50</td>\n",
              "      <td>3</td>\n",
              "      <td>24</td>\n",
              "      <td>2023</td>\n",
              "      <td>12</td>\n",
              "      <td>43</td>\n",
              "      <td>4</td>\n",
              "      <td>2 days 19:53:55</td>\n",
              "      <td>4073.916667</td>\n",
              "    </tr>\n",
              "    <tr>\n",
              "      <th>2549689</th>\n",
              "      <td>2023-03-24 19:30:30</td>\n",
              "      <td>1.0</td>\n",
              "      <td>0.00</td>\n",
              "      <td>162</td>\n",
              "      <td>265</td>\n",
              "      <td>2</td>\n",
              "      <td>18.70</td>\n",
              "      <td>3</td>\n",
              "      <td>24</td>\n",
              "      <td>2023</td>\n",
              "      <td>19</td>\n",
              "      <td>30</td>\n",
              "      <td>4</td>\n",
              "      <td>3 days 16:03:33</td>\n",
              "      <td>5283.550000</td>\n",
              "    </tr>\n",
              "    <tr>\n",
              "      <th>2577693</th>\n",
              "      <td>2023-03-24 23:09:55</td>\n",
              "      <td>2.0</td>\n",
              "      <td>1.31</td>\n",
              "      <td>68</td>\n",
              "      <td>170</td>\n",
              "      <td>2</td>\n",
              "      <td>20.30</td>\n",
              "      <td>3</td>\n",
              "      <td>24</td>\n",
              "      <td>2023</td>\n",
              "      <td>23</td>\n",
              "      <td>9</td>\n",
              "      <td>4</td>\n",
              "      <td>2 days 11:50:50</td>\n",
              "      <td>3590.833333</td>\n",
              "    </tr>\n",
              "    <tr>\n",
              "      <th>2579336</th>\n",
              "      <td>2023-03-24 23:09:55</td>\n",
              "      <td>2.0</td>\n",
              "      <td>2.50</td>\n",
              "      <td>114</td>\n",
              "      <td>114</td>\n",
              "      <td>2</td>\n",
              "      <td>21.30</td>\n",
              "      <td>3</td>\n",
              "      <td>24</td>\n",
              "      <td>2023</td>\n",
              "      <td>23</td>\n",
              "      <td>9</td>\n",
              "      <td>4</td>\n",
              "      <td>2 days 11:31:24</td>\n",
              "      <td>3571.400000</td>\n",
              "    </tr>\n",
              "    <tr>\n",
              "      <th>2743688</th>\n",
              "      <td>2023-03-26 15:18:05</td>\n",
              "      <td>1.0</td>\n",
              "      <td>0.00</td>\n",
              "      <td>141</td>\n",
              "      <td>141</td>\n",
              "      <td>2</td>\n",
              "      <td>7.00</td>\n",
              "      <td>3</td>\n",
              "      <td>26</td>\n",
              "      <td>2023</td>\n",
              "      <td>15</td>\n",
              "      <td>18</td>\n",
              "      <td>6</td>\n",
              "      <td>1 days 17:50:19</td>\n",
              "      <td>2510.316667</td>\n",
              "    </tr>\n",
              "    <tr>\n",
              "      <th>2743689</th>\n",
              "      <td>2023-03-26 15:18:05</td>\n",
              "      <td>1.0</td>\n",
              "      <td>0.00</td>\n",
              "      <td>193</td>\n",
              "      <td>193</td>\n",
              "      <td>2</td>\n",
              "      <td>7.00</td>\n",
              "      <td>3</td>\n",
              "      <td>26</td>\n",
              "      <td>2023</td>\n",
              "      <td>15</td>\n",
              "      <td>18</td>\n",
              "      <td>6</td>\n",
              "      <td>1 days 17:52:01</td>\n",
              "      <td>2512.016667</td>\n",
              "    </tr>\n",
              "  </tbody>\n",
              "</table>\n",
              "</div>\n",
              "      <button class=\"colab-df-convert\" onclick=\"convertToInteractive('df-9b656615-b500-4712-b199-ccd818806cdd')\"\n",
              "              title=\"Convert this dataframe to an interactive table.\"\n",
              "              style=\"display:none;\">\n",
              "        \n",
              "  <svg xmlns=\"http://www.w3.org/2000/svg\" height=\"24px\"viewBox=\"0 0 24 24\"\n",
              "       width=\"24px\">\n",
              "    <path d=\"M0 0h24v24H0V0z\" fill=\"none\"/>\n",
              "    <path d=\"M18.56 5.44l.94 2.06.94-2.06 2.06-.94-2.06-.94-.94-2.06-.94 2.06-2.06.94zm-11 1L8.5 8.5l.94-2.06 2.06-.94-2.06-.94L8.5 2.5l-.94 2.06-2.06.94zm10 10l.94 2.06.94-2.06 2.06-.94-2.06-.94-.94-2.06-.94 2.06-2.06.94z\"/><path d=\"M17.41 7.96l-1.37-1.37c-.4-.4-.92-.59-1.43-.59-.52 0-1.04.2-1.43.59L10.3 9.45l-7.72 7.72c-.78.78-.78 2.05 0 2.83L4 21.41c.39.39.9.59 1.41.59.51 0 1.02-.2 1.41-.59l7.78-7.78 2.81-2.81c.8-.78.8-2.07 0-2.86zM5.41 20L4 18.59l7.72-7.72 1.47 1.35L5.41 20z\"/>\n",
              "  </svg>\n",
              "      </button>\n",
              "      \n",
              "  <style>\n",
              "    .colab-df-container {\n",
              "      display:flex;\n",
              "      flex-wrap:wrap;\n",
              "      gap: 12px;\n",
              "    }\n",
              "\n",
              "    .colab-df-convert {\n",
              "      background-color: #E8F0FE;\n",
              "      border: none;\n",
              "      border-radius: 50%;\n",
              "      cursor: pointer;\n",
              "      display: none;\n",
              "      fill: #1967D2;\n",
              "      height: 32px;\n",
              "      padding: 0 0 0 0;\n",
              "      width: 32px;\n",
              "    }\n",
              "\n",
              "    .colab-df-convert:hover {\n",
              "      background-color: #E2EBFA;\n",
              "      box-shadow: 0px 1px 2px rgba(60, 64, 67, 0.3), 0px 1px 3px 1px rgba(60, 64, 67, 0.15);\n",
              "      fill: #174EA6;\n",
              "    }\n",
              "\n",
              "    [theme=dark] .colab-df-convert {\n",
              "      background-color: #3B4455;\n",
              "      fill: #D2E3FC;\n",
              "    }\n",
              "\n",
              "    [theme=dark] .colab-df-convert:hover {\n",
              "      background-color: #434B5C;\n",
              "      box-shadow: 0px 1px 3px 1px rgba(0, 0, 0, 0.15);\n",
              "      filter: drop-shadow(0px 1px 2px rgba(0, 0, 0, 0.3));\n",
              "      fill: #FFFFFF;\n",
              "    }\n",
              "  </style>\n",
              "\n",
              "      <script>\n",
              "        const buttonEl =\n",
              "          document.querySelector('#df-9b656615-b500-4712-b199-ccd818806cdd button.colab-df-convert');\n",
              "        buttonEl.style.display =\n",
              "          google.colab.kernel.accessAllowed ? 'block' : 'none';\n",
              "\n",
              "        async function convertToInteractive(key) {\n",
              "          const element = document.querySelector('#df-9b656615-b500-4712-b199-ccd818806cdd');\n",
              "          const dataTable =\n",
              "            await google.colab.kernel.invokeFunction('convertToInteractive',\n",
              "                                                     [key], {});\n",
              "          if (!dataTable) return;\n",
              "\n",
              "          const docLinkHtml = 'Like what you see? Visit the ' +\n",
              "            '<a target=\"_blank\" href=https://colab.research.google.com/notebooks/data_table.ipynb>data table notebook</a>'\n",
              "            + ' to learn more about interactive tables.';\n",
              "          element.innerHTML = '';\n",
              "          dataTable['output_type'] = 'display_data';\n",
              "          await google.colab.output.renderOutput(dataTable, element);\n",
              "          const docLink = document.createElement('div');\n",
              "          docLink.innerHTML = docLinkHtml;\n",
              "          element.appendChild(docLink);\n",
              "        }\n",
              "      </script>\n",
              "    </div>\n",
              "  </div>\n",
              "  "
            ]
          },
          "metadata": {},
          "execution_count": 22
        }
      ],
      "source": [
        "df[df['durée']>oneday]"
      ]
    },
    {
      "cell_type": "code",
      "execution_count": null,
      "metadata": {
        "id": "aW5o6Ra-iao7"
      },
      "outputs": [],
      "source": [
        "#df=df.drop(df[df['durée']>oneday], axis=0)\n",
        "df.drop(df[(df['durée']>oneday)].index, inplace=True)"
      ]
    },
    {
      "cell_type": "code",
      "execution_count": null,
      "metadata": {
        "colab": {
          "base_uri": "https://localhost:8080/"
        },
        "id": "zLcWzZWYl4l6",
        "outputId": "4f71e6b8-318d-4d35-a2b5-e3867697b00a"
      },
      "outputs": [
        {
          "output_type": "execute_result",
          "data": {
            "text/plain": [
              "Timedelta('0 days 23:59:48')"
            ]
          },
          "metadata": {},
          "execution_count": 24
        }
      ],
      "source": [
        "df['durée'].max()"
      ]
    },
    {
      "cell_type": "code",
      "execution_count": null,
      "metadata": {
        "id": "7lMBPv9hZMrf"
      },
      "outputs": [],
      "source": [
        "df=df.drop(['durée'], axis=1)"
      ]
    },
    {
      "cell_type": "code",
      "execution_count": null,
      "metadata": {
        "colab": {
          "base_uri": "https://localhost:8080/",
          "height": 270
        },
        "id": "_FWVKoaRHrCe",
        "outputId": "7dcba1e2-1174-4e88-b359-8d7f6a7b26bf"
      },
      "outputs": [
        {
          "output_type": "execute_result",
          "data": {
            "text/plain": [
              "  tpep_pickup_datetime  passenger_count  trip_distance  PULocationID  \\\n",
              "0  2023-03-01 00:06:43              1.0           0.00           238   \n",
              "1  2023-03-01 00:08:25              2.0          12.40           138   \n",
              "2  2023-03-01 00:15:04              0.0           3.30           140   \n",
              "3  2023-03-01 00:49:37              1.0           2.90           140   \n",
              "4  2023-03-01 00:08:04              1.0           1.23            79   \n",
              "\n",
              "   DOLocationID  payment_type  total_amount  mois  jour  annee  heure  minute  \\\n",
              "0            42             2         11.10     3     1   2023      0       6   \n",
              "1           231             1         76.49     3     1   2023      0       8   \n",
              "2           186             1         28.05     3     1   2023      0      15   \n",
              "3            43             1         24.70     3     1   2023      0      49   \n",
              "4           137             1         14.64     3     1   2023      0       8   \n",
              "\n",
              "   joursemaine  duree_minute  \n",
              "0            2     10.000000  \n",
              "1            2     31.083333  \n",
              "2            2     14.366667  \n",
              "3            2     11.466667  \n",
              "4            2      3.033333  "
            ],
            "text/html": [
              "\n",
              "  <div id=\"df-84476b00-b503-4df2-94bb-259ea339095e\">\n",
              "    <div class=\"colab-df-container\">\n",
              "      <div>\n",
              "<style scoped>\n",
              "    .dataframe tbody tr th:only-of-type {\n",
              "        vertical-align: middle;\n",
              "    }\n",
              "\n",
              "    .dataframe tbody tr th {\n",
              "        vertical-align: top;\n",
              "    }\n",
              "\n",
              "    .dataframe thead th {\n",
              "        text-align: right;\n",
              "    }\n",
              "</style>\n",
              "<table border=\"1\" class=\"dataframe\">\n",
              "  <thead>\n",
              "    <tr style=\"text-align: right;\">\n",
              "      <th></th>\n",
              "      <th>tpep_pickup_datetime</th>\n",
              "      <th>passenger_count</th>\n",
              "      <th>trip_distance</th>\n",
              "      <th>PULocationID</th>\n",
              "      <th>DOLocationID</th>\n",
              "      <th>payment_type</th>\n",
              "      <th>total_amount</th>\n",
              "      <th>mois</th>\n",
              "      <th>jour</th>\n",
              "      <th>annee</th>\n",
              "      <th>heure</th>\n",
              "      <th>minute</th>\n",
              "      <th>joursemaine</th>\n",
              "      <th>duree_minute</th>\n",
              "    </tr>\n",
              "  </thead>\n",
              "  <tbody>\n",
              "    <tr>\n",
              "      <th>0</th>\n",
              "      <td>2023-03-01 00:06:43</td>\n",
              "      <td>1.0</td>\n",
              "      <td>0.00</td>\n",
              "      <td>238</td>\n",
              "      <td>42</td>\n",
              "      <td>2</td>\n",
              "      <td>11.10</td>\n",
              "      <td>3</td>\n",
              "      <td>1</td>\n",
              "      <td>2023</td>\n",
              "      <td>0</td>\n",
              "      <td>6</td>\n",
              "      <td>2</td>\n",
              "      <td>10.000000</td>\n",
              "    </tr>\n",
              "    <tr>\n",
              "      <th>1</th>\n",
              "      <td>2023-03-01 00:08:25</td>\n",
              "      <td>2.0</td>\n",
              "      <td>12.40</td>\n",
              "      <td>138</td>\n",
              "      <td>231</td>\n",
              "      <td>1</td>\n",
              "      <td>76.49</td>\n",
              "      <td>3</td>\n",
              "      <td>1</td>\n",
              "      <td>2023</td>\n",
              "      <td>0</td>\n",
              "      <td>8</td>\n",
              "      <td>2</td>\n",
              "      <td>31.083333</td>\n",
              "    </tr>\n",
              "    <tr>\n",
              "      <th>2</th>\n",
              "      <td>2023-03-01 00:15:04</td>\n",
              "      <td>0.0</td>\n",
              "      <td>3.30</td>\n",
              "      <td>140</td>\n",
              "      <td>186</td>\n",
              "      <td>1</td>\n",
              "      <td>28.05</td>\n",
              "      <td>3</td>\n",
              "      <td>1</td>\n",
              "      <td>2023</td>\n",
              "      <td>0</td>\n",
              "      <td>15</td>\n",
              "      <td>2</td>\n",
              "      <td>14.366667</td>\n",
              "    </tr>\n",
              "    <tr>\n",
              "      <th>3</th>\n",
              "      <td>2023-03-01 00:49:37</td>\n",
              "      <td>1.0</td>\n",
              "      <td>2.90</td>\n",
              "      <td>140</td>\n",
              "      <td>43</td>\n",
              "      <td>1</td>\n",
              "      <td>24.70</td>\n",
              "      <td>3</td>\n",
              "      <td>1</td>\n",
              "      <td>2023</td>\n",
              "      <td>0</td>\n",
              "      <td>49</td>\n",
              "      <td>2</td>\n",
              "      <td>11.466667</td>\n",
              "    </tr>\n",
              "    <tr>\n",
              "      <th>4</th>\n",
              "      <td>2023-03-01 00:08:04</td>\n",
              "      <td>1.0</td>\n",
              "      <td>1.23</td>\n",
              "      <td>79</td>\n",
              "      <td>137</td>\n",
              "      <td>1</td>\n",
              "      <td>14.64</td>\n",
              "      <td>3</td>\n",
              "      <td>1</td>\n",
              "      <td>2023</td>\n",
              "      <td>0</td>\n",
              "      <td>8</td>\n",
              "      <td>2</td>\n",
              "      <td>3.033333</td>\n",
              "    </tr>\n",
              "  </tbody>\n",
              "</table>\n",
              "</div>\n",
              "      <button class=\"colab-df-convert\" onclick=\"convertToInteractive('df-84476b00-b503-4df2-94bb-259ea339095e')\"\n",
              "              title=\"Convert this dataframe to an interactive table.\"\n",
              "              style=\"display:none;\">\n",
              "        \n",
              "  <svg xmlns=\"http://www.w3.org/2000/svg\" height=\"24px\"viewBox=\"0 0 24 24\"\n",
              "       width=\"24px\">\n",
              "    <path d=\"M0 0h24v24H0V0z\" fill=\"none\"/>\n",
              "    <path d=\"M18.56 5.44l.94 2.06.94-2.06 2.06-.94-2.06-.94-.94-2.06-.94 2.06-2.06.94zm-11 1L8.5 8.5l.94-2.06 2.06-.94-2.06-.94L8.5 2.5l-.94 2.06-2.06.94zm10 10l.94 2.06.94-2.06 2.06-.94-2.06-.94-.94-2.06-.94 2.06-2.06.94z\"/><path d=\"M17.41 7.96l-1.37-1.37c-.4-.4-.92-.59-1.43-.59-.52 0-1.04.2-1.43.59L10.3 9.45l-7.72 7.72c-.78.78-.78 2.05 0 2.83L4 21.41c.39.39.9.59 1.41.59.51 0 1.02-.2 1.41-.59l7.78-7.78 2.81-2.81c.8-.78.8-2.07 0-2.86zM5.41 20L4 18.59l7.72-7.72 1.47 1.35L5.41 20z\"/>\n",
              "  </svg>\n",
              "      </button>\n",
              "      \n",
              "  <style>\n",
              "    .colab-df-container {\n",
              "      display:flex;\n",
              "      flex-wrap:wrap;\n",
              "      gap: 12px;\n",
              "    }\n",
              "\n",
              "    .colab-df-convert {\n",
              "      background-color: #E8F0FE;\n",
              "      border: none;\n",
              "      border-radius: 50%;\n",
              "      cursor: pointer;\n",
              "      display: none;\n",
              "      fill: #1967D2;\n",
              "      height: 32px;\n",
              "      padding: 0 0 0 0;\n",
              "      width: 32px;\n",
              "    }\n",
              "\n",
              "    .colab-df-convert:hover {\n",
              "      background-color: #E2EBFA;\n",
              "      box-shadow: 0px 1px 2px rgba(60, 64, 67, 0.3), 0px 1px 3px 1px rgba(60, 64, 67, 0.15);\n",
              "      fill: #174EA6;\n",
              "    }\n",
              "\n",
              "    [theme=dark] .colab-df-convert {\n",
              "      background-color: #3B4455;\n",
              "      fill: #D2E3FC;\n",
              "    }\n",
              "\n",
              "    [theme=dark] .colab-df-convert:hover {\n",
              "      background-color: #434B5C;\n",
              "      box-shadow: 0px 1px 3px 1px rgba(0, 0, 0, 0.15);\n",
              "      filter: drop-shadow(0px 1px 2px rgba(0, 0, 0, 0.3));\n",
              "      fill: #FFFFFF;\n",
              "    }\n",
              "  </style>\n",
              "\n",
              "      <script>\n",
              "        const buttonEl =\n",
              "          document.querySelector('#df-84476b00-b503-4df2-94bb-259ea339095e button.colab-df-convert');\n",
              "        buttonEl.style.display =\n",
              "          google.colab.kernel.accessAllowed ? 'block' : 'none';\n",
              "\n",
              "        async function convertToInteractive(key) {\n",
              "          const element = document.querySelector('#df-84476b00-b503-4df2-94bb-259ea339095e');\n",
              "          const dataTable =\n",
              "            await google.colab.kernel.invokeFunction('convertToInteractive',\n",
              "                                                     [key], {});\n",
              "          if (!dataTable) return;\n",
              "\n",
              "          const docLinkHtml = 'Like what you see? Visit the ' +\n",
              "            '<a target=\"_blank\" href=https://colab.research.google.com/notebooks/data_table.ipynb>data table notebook</a>'\n",
              "            + ' to learn more about interactive tables.';\n",
              "          element.innerHTML = '';\n",
              "          dataTable['output_type'] = 'display_data';\n",
              "          await google.colab.output.renderOutput(dataTable, element);\n",
              "          const docLink = document.createElement('div');\n",
              "          docLink.innerHTML = docLinkHtml;\n",
              "          element.appendChild(docLink);\n",
              "        }\n",
              "      </script>\n",
              "    </div>\n",
              "  </div>\n",
              "  "
            ]
          },
          "metadata": {},
          "execution_count": 26
        }
      ],
      "source": [
        "df.shape\n",
        "df.head()"
      ]
    },
    {
      "cell_type": "markdown",
      "source": [
        "### variable 'total_amount'"
      ],
      "metadata": {
        "id": "EMv88bQDpnhs"
      }
    },
    {
      "cell_type": "code",
      "source": [
        "df.shape"
      ],
      "metadata": {
        "colab": {
          "base_uri": "https://localhost:8080/"
        },
        "id": "X-3ir3xLqLuu",
        "outputId": "21a87fe4-46f0-427a-abab-223b9a03b5c9"
      },
      "execution_count": null,
      "outputs": [
        {
          "output_type": "execute_result",
          "data": {
            "text/plain": [
              "(3403745, 14)"
            ]
          },
          "metadata": {},
          "execution_count": 27
        }
      ]
    },
    {
      "cell_type": "code",
      "execution_count": null,
      "metadata": {
        "id": "X-L2oz3_uXrV"
      },
      "outputs": [],
      "source": [
        "df=df[df['total_amount']<500]"
      ]
    },
    {
      "cell_type": "code",
      "execution_count": null,
      "metadata": {
        "id": "EPEqI259DNwN"
      },
      "outputs": [],
      "source": [
        "df=df[df['total_amount']>1]"
      ]
    },
    {
      "cell_type": "code",
      "source": [
        "df.shape"
      ],
      "metadata": {
        "colab": {
          "base_uri": "https://localhost:8080/"
        },
        "id": "xBfjBI-eqPFW",
        "outputId": "f8108c01-418b-4b98-e560-af63fc77b8d8"
      },
      "execution_count": null,
      "outputs": [
        {
          "output_type": "execute_result",
          "data": {
            "text/plain": [
              "(3373148, 14)"
            ]
          },
          "metadata": {},
          "execution_count": 30
        }
      ]
    },
    {
      "cell_type": "code",
      "execution_count": null,
      "metadata": {
        "colab": {
          "base_uri": "https://localhost:8080/",
          "height": 472
        },
        "id": "MVhfaFRtALpO",
        "outputId": "eee088db-3017-425f-aaeb-130cf3f35ed4"
      },
      "outputs": [
        {
          "output_type": "display_data",
          "data": {
            "text/plain": [
              "<Figure size 640x480 with 1 Axes>"
            ],
            "image/png": "[encoded data removed]"
          },
          "metadata": {}
        }
      ],
      "source": [
        "plt.scatter(df['trip_distance'],df['total_amount'])\n",
        "plt.xlabel('Distance du trajet')\n",
        "plt.ylabel('Montant total payé')\n",
        "plt.title('Relation entre la distance du trajet et le montant total payé')\n",
        "plt.show()"
      ]
    },
    {
      "cell_type": "markdown",
      "metadata": {
        "id": "QA-yd57eRBXV"
      },
      "source": [
        "### variable 'trip_distance'"
      ]
    },
    {
      "cell_type": "code",
      "execution_count": null,
      "metadata": {
        "colab": {
          "base_uri": "https://localhost:8080/"
        },
        "id": "WH5fq86WRExM",
        "outputId": "f83635b6-8db0-4ae3-efd3-512993a263d3"
      },
      "outputs": [
        {
          "output_type": "execute_result",
          "data": {
            "text/plain": [
              "3.907970029776337"
            ]
          },
          "metadata": {},
          "execution_count": 32
        }
      ],
      "source": [
        "df['trip_distance'].mean()"
      ]
    },
    {
      "cell_type": "code",
      "execution_count": null,
      "metadata": {
        "colab": {
          "base_uri": "https://localhost:8080/"
        },
        "id": "aRA4mU6jRLOM",
        "outputId": "d0a99336-52da-4a4a-daed-538baf934ea2"
      },
      "outputs": [
        {
          "output_type": "execute_result",
          "data": {
            "text/plain": [
              "216986.96"
            ]
          },
          "metadata": {},
          "execution_count": 33
        }
      ],
      "source": [
        "df['trip_distance'].max()"
      ]
    },
    {
      "cell_type": "code",
      "execution_count": null,
      "metadata": {
        "colab": {
          "base_uri": "https://localhost:8080/"
        },
        "id": "csN8kRvBRPiS",
        "outputId": "a69b9c8a-41b7-4bdd-a768-a753a6c48122"
      },
      "outputs": [
        {
          "output_type": "execute_result",
          "data": {
            "text/plain": [
              "tpep_pickup_datetime  passenger_count  trip_distance  PULocationID  DOLocationID  payment_type  total_amount  mois  jour  annee  heure  minute  joursemaine  duree_minute\n",
              "2023-03-01 04:42:00   1.0              9385.19        151           234           0             25.61         3     1     2023   4      42      2            17.000000       1\n",
              "2023-03-18 17:32:00   1.0              8731.16        142           140           0             21.38         3     18    2023   17     32      5            17.000000       1\n",
              "2023-03-23 07:32:00   1.0              12858.71       24            137           0             34.80         3     23    2023   7      32      3            26.000000       1\n",
              "2023-03-22 05:05:00   1.0              6378.99        236           138           0             53.09         3     22    2023   5      5       2            14.000000       1\n",
              "2023-03-21 19:38:54   1.0              9683.28        132           217           1             73.55         3     21    2023   19     38      1            32.333333       1\n",
              "                                                                                                                                                                            ..\n",
              "2023-03-08 17:33:44   1.0              2335.96        161           255           1             46.63         3     8     2023   17     33      2            27.933333       1\n",
              "2023-03-08 16:08:00   1.0              1287.95        238           166           0             18.80         3     8     2023   16     8       2            10.000000       1\n",
              "2023-03-08 15:49:52   1.0              9675.23        138           260           1             24.65         3     8     2023   15     49      2            10.466667       1\n",
              "2023-03-08 10:57:00   1.0              9431.06        162           88            0             39.07         3     8     2023   10     57      2            16.000000       1\n",
              "2023-03-31 16:50:59   2.0              9673.06        236           236           3             10.90         3     31    2023   16     50      4            2.200000        1\n",
              "Length: 93, dtype: int64"
            ]
          },
          "metadata": {},
          "execution_count": 34
        }
      ],
      "source": [
        "df[df['trip_distance']>1000].value_counts()"
      ]
    },
    {
      "cell_type": "code",
      "execution_count": null,
      "metadata": {
        "colab": {
          "base_uri": "https://localhost:8080/"
        },
        "id": "-Zcp8PegRtBN",
        "outputId": "2308667c-8a7d-451c-94c9-06845adbc49c"
      },
      "outputs": [
        {
          "output_type": "execute_result",
          "data": {
            "text/plain": [
              "False    3373053\n",
              "True          95\n",
              "Name: trip_distance, dtype: int64"
            ]
          },
          "metadata": {},
          "execution_count": 35
        }
      ],
      "source": [
        "(df['trip_distance']>250).value_counts()"
      ]
    },
    {
      "cell_type": "code",
      "execution_count": null,
      "metadata": {
        "id": "s78hXtLER97W"
      },
      "outputs": [],
      "source": [
        "df.drop(df[(df['trip_distance']>250)].index, inplace=True)"
      ]
    },
    {
      "cell_type": "code",
      "execution_count": null,
      "metadata": {
        "colab": {
          "base_uri": "https://localhost:8080/"
        },
        "id": "OWbGVH9zWWAw",
        "outputId": "ad6fb10a-623d-4ace-ebf0-95c4275da03e"
      },
      "outputs": [
        {
          "output_type": "execute_result",
          "data": {
            "text/plain": [
              "(3373053, 14)"
            ]
          },
          "metadata": {},
          "execution_count": 37
        }
      ],
      "source": [
        "df.shape"
      ]
    },
    {
      "cell_type": "code",
      "source": [
        "plt.scatter(df['trip_distance'],df['total_amount'])\n",
        "plt.xlabel('Distance du trajet')\n",
        "plt.ylabel('Montant total payé')\n",
        "plt.title('Relation entre la distance du trajet et le montant total payé')\n",
        "plt.show()"
      ],
      "metadata": {
        "colab": {
          "base_uri": "https://localhost:8080/",
          "height": 472
        },
        "id": "HIeqVTAKqZEJ",
        "outputId": "3e5bef49-c1de-4aad-c5e4-844772b93017"
      },
      "execution_count": null,
      "outputs": [
        {
          "output_type": "display_data",
          "data": {
            "text/plain": [
              "<Figure size 640x480 with 1 Axes>"
            ],
            "image/png": "[encoded data removed]"
          },
          "metadata": {}
        }
      ]
    },
    {
      "cell_type": "markdown",
      "source": [
        "# statistiques descriptives"
      ],
      "metadata": {
        "id": "igmYnSf_qQB1"
      }
    },
    {
      "cell_type": "code",
      "execution_count": null,
      "metadata": {
        "colab": {
          "base_uri": "https://localhost:8080/"
        },
        "id": "82ljS9WNeaya",
        "outputId": "c9697c56-c4dc-4d17-8342-efb952aa37ec"
      },
      "outputs": [
        {
          "output_type": "execute_result",
          "data": {
            "text/plain": [
              "tpep_pickup_datetime    datetime64[ns]\n",
              "passenger_count                float64\n",
              "trip_distance                  float64\n",
              "PULocationID                     int32\n",
              "DOLocationID                     int32\n",
              "payment_type                     int64\n",
              "total_amount                   float64\n",
              "mois                             int64\n",
              "jour                             int64\n",
              "annee                            int64\n",
              "heure                            int64\n",
              "minute                           int64\n",
              "joursemaine                      int64\n",
              "duree_minute                   float64\n",
              "dtype: object"
            ]
          },
          "metadata": {},
          "execution_count": 39
        }
      ],
      "source": [
        "df.dtypes"
      ]
    },
    {
      "cell_type": "code",
      "execution_count": null,
      "metadata": {
        "colab": {
          "base_uri": "https://localhost:8080/"
        },
        "id": "2EiKyqG4fOgF",
        "outputId": "8111a5e2-5f80-4d64-e0b5-8ae985eb4645"
      },
      "outputs": [
        {
          "output_type": "execute_result",
          "data": {
            "text/plain": [
              "1.0    2589762\n",
              "2.0     474552\n",
              "3.0     116709\n",
              "0.0      58291\n",
              "4.0      58284\n",
              "5.0      46340\n",
              "6.0      29094\n",
              "8.0         11\n",
              "7.0          7\n",
              "9.0          3\n",
              "Name: passenger_count, dtype: int64"
            ]
          },
          "metadata": {},
          "execution_count": 40
        }
      ],
      "source": [
        "df['passenger_count'].value_counts()"
      ]
    },
    {
      "cell_type": "code",
      "execution_count": null,
      "metadata": {
        "colab": {
          "base_uri": "https://localhost:8080/",
          "height": 470
        },
        "id": "LUBw168ZcXTK",
        "outputId": "be58d58c-caa7-4ab8-fd91-67e4611d6459"
      },
      "outputs": [
        {
          "output_type": "execute_result",
          "data": {
            "text/plain": [
              "<Axes: >"
            ]
          },
          "metadata": {},
          "execution_count": 41
        },
        {
          "output_type": "display_data",
          "data": {
            "text/plain": [
              "<Figure size 640x480 with 1 Axes>"
            ],
            "image/png": "[encoded data removed]"
          },
          "metadata": {}
        }
      ],
      "source": [
        "df['passenger_count'].value_counts().plot.bar()"
      ]
    },
    {
      "cell_type": "code",
      "execution_count": null,
      "metadata": {
        "colab": {
          "base_uri": "https://localhost:8080/",
          "height": 472
        },
        "id": "9FkfGCWz3DRk",
        "outputId": "a6f54b87-1cba-49aa-c944-79d7bb7f581a"
      },
      "outputs": [
        {
          "output_type": "display_data",
          "data": {
            "text/plain": [
              "<Figure size 640x480 with 1 Axes>"
            ],
            "image/png": "[encoded data removed]"
          },
          "metadata": {}
        }
      ],
      "source": [
        "sns.countplot(x='joursemaine', data=df)\n",
        "plt.xlabel('Jour de la semaine')\n",
        "plt.ylabel('Nombre de trajets')\n",
        "plt.title('Nombre de trajets par jour de la semaine')\n",
        "plt.xticks(rotation=0)\n",
        "plt.show()"
      ]
    },
    {
      "cell_type": "code",
      "execution_count": null,
      "metadata": {
        "colab": {
          "base_uri": "https://localhost:8080/",
          "height": 449
        },
        "id": "NUu5aScM2WHc",
        "outputId": "2a38dcb5-ed7b-458c-cf39-4041e506c990"
      },
      "outputs": [
        {
          "output_type": "display_data",
          "data": {
            "text/plain": [
              "<Figure size 640x480 with 1 Axes>"
            ],
            "image/png": "[encoded data removed]"
          },
          "metadata": {}
        }
      ],
      "source": [
        "sns.countplot(x='heure', data=df)\n",
        "plt.show()"
      ]
    },
    {
      "cell_type": "code",
      "execution_count": null,
      "metadata": {
        "colab": {
          "base_uri": "https://localhost:8080/",
          "height": 571
        },
        "id": "kMVLwcYf6BHX",
        "outputId": "1c3cec3a-d9e1-42b8-f3f2-bc6a87852af1"
      },
      "outputs": [
        {
          "output_type": "display_data",
          "data": {
            "text/plain": [
              "<Figure size 640x480 with 1 Axes>"
            ],
            "image/png": "[encoded data removed]"
          },
          "metadata": {}
        }
      ],
      "source": [
        "sns.countplot(x='joursemaine',hue='heure', data=df)\n",
        "#plt.legend().remove()\n",
        "plt.legend(bbox_to_anchor=(1.05,1),loc='upper left',title='Heures')\n",
        "plt.show()"
      ]
    },
    {
      "cell_type": "code",
      "execution_count": null,
      "metadata": {
        "colab": {
          "base_uri": "https://localhost:8080/"
        },
        "id": "bqLxaXd2hAog",
        "outputId": "b90ca3c8-f41d-4377-d279-7704ce0e0e2d"
      },
      "outputs": [
        {
          "output_type": "execute_result",
          "data": {
            "text/plain": [
              "28.26321466635715"
            ]
          },
          "metadata": {},
          "execution_count": 45
        }
      ],
      "source": [
        "df['total_amount'].mean()"
      ]
    },
    {
      "cell_type": "code",
      "execution_count": null,
      "metadata": {
        "colab": {
          "base_uri": "https://localhost:8080/",
          "height": 472
        },
        "id": "9XZOVPrQ9vid",
        "outputId": "780b8af2-74ae-48a1-ad28-500d5bdea44a"
      },
      "outputs": [
        {
          "output_type": "display_data",
          "data": {
            "text/plain": [
              "<Figure size 640x480 with 1 Axes>"
            ],
            "image/png": "[encoded data removed]"
          },
          "metadata": {}
        }
      ],
      "source": [
        "sns.kdeplot(df['trip_distance'])\n",
        "plt.xlabel('Distance du trajet')\n",
        "plt.ylabel('Densité')\n",
        "plt.title('Densité des distances de trajet')\n",
        "plt.show()"
      ]
    },
    {
      "cell_type": "code",
      "execution_count": null,
      "metadata": {
        "colab": {
          "base_uri": "https://localhost:8080/"
        },
        "id": "b1U-OkSglaYi",
        "outputId": "b72a8bab-64a3-4385-9d82-28a2ac2e13fb"
      },
      "outputs": [
        {
          "output_type": "stream",
          "name": "stdout",
          "text": [
            "<class 'pandas.core.frame.DataFrame'>\n",
            "Int64Index: 3373053 entries, 0 to 3403765\n",
            "Data columns (total 14 columns):\n",
            " #   Column                Dtype         \n",
            "---  ------                -----         \n",
            " 0   tpep_pickup_datetime  datetime64[ns]\n",
            " 1   passenger_count       float64       \n",
            " 2   trip_distance         float64       \n",
            " 3   PULocationID          int32         \n",
            " 4   DOLocationID          int32         \n",
            " 5   payment_type          int64         \n",
            " 6   total_amount          float64       \n",
            " 7   mois                  int64         \n",
            " 8   jour                  int64         \n",
            " 9   annee                 int64         \n",
            " 10  heure                 int64         \n",
            " 11  minute                int64         \n",
            " 12  joursemaine           int64         \n",
            " 13  duree_minute          float64       \n",
            "dtypes: datetime64[ns](1), float64(4), int32(2), int64(7)\n",
            "memory usage: 360.3 MB\n"
          ]
        }
      ],
      "source": [
        "df.head()\n",
        "df.info()"
      ]
    },
    {
      "cell_type": "markdown",
      "source": [
        "# création des 2 jeux de données : entraînement et test"
      ],
      "metadata": {
        "id": "kpzXRDnQqZlq"
      }
    },
    {
      "cell_type": "code",
      "execution_count": null,
      "metadata": {
        "id": "Llw6f571XB1R"
      },
      "outputs": [],
      "source": [
        "x=df.drop('total_amount', axis=1)"
      ]
    },
    {
      "cell_type": "code",
      "execution_count": null,
      "metadata": {
        "id": "ipJGRJ-HXURP"
      },
      "outputs": [],
      "source": [
        "y=df['total_amount']"
      ]
    },
    {
      "cell_type": "code",
      "execution_count": null,
      "metadata": {
        "id": "EzCypv73X50p"
      },
      "outputs": [],
      "source": [
        "#x_train, x_test, y_train, y_test = train_test_split(x,y,test_size=0.2)"
      ]
    },
    {
      "cell_type": "markdown",
      "source": [
        "# modélisation"
      ],
      "metadata": {
        "id": "RcklxvSSqg8s"
      }
    },
    {
      "cell_type": "markdown",
      "metadata": {
        "id": "WYIxeEaBXh3F"
      },
      "source": [
        "## Régression linéaire"
      ]
    },
    {
      "cell_type": "code",
      "execution_count": null,
      "metadata": {
        "id": "dgAldL92YV0K"
      },
      "outputs": [],
      "source": [
        "#lr = LinearRegression()\n",
        "#lr.fit(x_train,y_train)"
      ]
    },
    {
      "cell_type": "code",
      "execution_count": null,
      "metadata": {
        "id": "eTCDAV1Gab_h"
      },
      "outputs": [],
      "source": [
        "#print(lr.coef_)\n",
        "#print(lr.intercept_)\n",
        "\n",
        "#predictions = lr.predict(x_test)\n",
        "#print('MSE: ', metrics.mean_squared_error(y_test,predictions))"
      ]
    },
    {
      "cell_type": "code",
      "execution_count": null,
      "metadata": {
        "id": "3dw8op__a0OJ"
      },
      "outputs": [],
      "source": [
        "#lasso = Lasso()\n",
        "#lasso.fit(x_train,y_train)\n",
        "\n",
        "#print(lasso.coef_)\n",
        "#print(lasso.intercept_)\n",
        "\n",
        "#predictions = lasso.predict(x_test)\n",
        "\n",
        "#print('MSE: ',metrics.mean_squared_error(y_test,predictions))\n"
      ]
    },
    {
      "cell_type": "code",
      "source": [
        "df['DATE'] = pd.to_datetime(df['tpep_pickup_datetime'], format=\"%d/%m/%Y\")\n",
        "df_weather['DATE'] = pd.to_datetime(df_weather['DATE'], format=\"%d/%m/%Y\")\n",
        "df_merged = pd.merge(df, df_weather, on='DATE', how='left')"
      ],
      "metadata": {
        "id": "VuBzTAgX755G"
      },
      "execution_count": null,
      "outputs": []
    },
    {
      "cell_type": "code",
      "source": [
        "df.shape"
      ],
      "metadata": {
        "colab": {
          "base_uri": "https://localhost:8080/"
        },
        "id": "8vlFD3Ga-Qo_",
        "outputId": "4fade425-46ea-4415-888f-af8df3e49e56"
      },
      "execution_count": null,
      "outputs": [
        {
          "output_type": "execute_result",
          "data": {
            "text/plain": [
              "(3373053, 15)"
            ]
          },
          "metadata": {},
          "execution_count": 55
        }
      ]
    },
    {
      "cell_type": "code",
      "source": [
        "df_merged"
      ],
      "metadata": {
        "colab": {
          "base_uri": "https://localhost:8080/",
          "height": 488
        },
        "id": "knC2pY3KDkLh",
        "outputId": "e37412c9-bcc4-459b-841f-ef9d8458c5a4"
      },
      "execution_count": null,
      "outputs": [
        {
          "output_type": "execute_result",
          "data": {
            "text/plain": [
              "        tpep_pickup_datetime  passenger_count  trip_distance  PULocationID  \\\n",
              "0        2023-03-01 00:06:43              1.0           0.00           238   \n",
              "1        2023-03-01 00:08:25              2.0          12.40           138   \n",
              "2        2023-03-01 00:15:04              0.0           3.30           140   \n",
              "3        2023-03-01 00:49:37              1.0           2.90           140   \n",
              "4        2023-03-01 00:08:04              1.0           1.23            79   \n",
              "...                      ...              ...            ...           ...   \n",
              "3373048  2023-03-31 23:24:25              1.0           3.16           163   \n",
              "3373049  2023-03-31 23:24:50              1.0           6.89           125   \n",
              "3373050  2023-03-31 23:26:31              1.0           4.01            50   \n",
              "3373051  2023-03-31 23:07:51              1.0           1.31           113   \n",
              "3373052  2023-03-31 23:26:12              1.0           0.88            41   \n",
              "\n",
              "         DOLocationID  payment_type  total_amount  mois  jour  annee  ...  \\\n",
              "0                  42             2         11.10     3     1   2023  ...   \n",
              "1                 231             1         76.49     3     1   2023  ...   \n",
              "2                 186             1         28.05     3     1   2023  ...   \n",
              "3                  43             1         24.70     3     1   2023  ...   \n",
              "4                 137             1         14.64     3     1   2023  ...   \n",
              "...               ...           ...           ...   ...   ...    ...  ...   \n",
              "3373048            75             0         20.36     3    31   2023  ...   \n",
              "3373049           198             0         53.90     3    31   2023  ...   \n",
              "3373050           224             0         28.02     3    31   2023  ...   \n",
              "3373051           158             0         16.01     3    31   2023  ...   \n",
              "3373052           166             0         17.26     3    31   2023  ...   \n",
              "\n",
              "         WINDTEMP_MAX_C  WEATHER_CODE_MORNING  WEATHER_CODE_NOON  \\\n",
              "0                   NaN                   NaN                NaN   \n",
              "1                   NaN                   NaN                NaN   \n",
              "2                   NaN                   NaN                NaN   \n",
              "3                   NaN                   NaN                NaN   \n",
              "4                   NaN                   NaN                NaN   \n",
              "...                 ...                   ...                ...   \n",
              "3373048             NaN                   NaN                NaN   \n",
              "3373049             NaN                   NaN                NaN   \n",
              "3373050             NaN                   NaN                NaN   \n",
              "3373051             NaN                   NaN                NaN   \n",
              "3373052             NaN                   NaN                NaN   \n",
              "\n",
              "         WEATHER_CODE_EVENING TOTAL_SNOW_MM  UV_INDEX  SUNHOUR  SUNSET  \\\n",
              "0                         NaN           NaN       NaN      NaN     NaN   \n",
              "1                         NaN           NaN       NaN      NaN     NaN   \n",
              "2                         NaN           NaN       NaN      NaN     NaN   \n",
              "3                         NaN           NaN       NaN      NaN     NaN   \n",
              "4                         NaN           NaN       NaN      NaN     NaN   \n",
              "...                       ...           ...       ...      ...     ...   \n",
              "3373048                   NaN           NaN       NaN      NaN     NaN   \n",
              "3373049                   NaN           NaN       NaN      NaN     NaN   \n",
              "3373050                   NaN           NaN       NaN      NaN     NaN   \n",
              "3373051                   NaN           NaN       NaN      NaN     NaN   \n",
              "3373052                   NaN           NaN       NaN      NaN     NaN   \n",
              "\n",
              "         SUNRISE  TEMPERATURE_NIGHT_C  \n",
              "0            NaN                  NaN  \n",
              "1            NaN                  NaN  \n",
              "2            NaN                  NaN  \n",
              "3            NaN                  NaN  \n",
              "4            NaN                  NaN  \n",
              "...          ...                  ...  \n",
              "3373048      NaN                  NaN  \n",
              "3373049      NaN                  NaN  \n",
              "3373050      NaN                  NaN  \n",
              "3373051      NaN                  NaN  \n",
              "3373052      NaN                  NaN  \n",
              "\n",
              "[3373053 rows x 37 columns]"
            ],
            "text/html": [
              "\n",
              "  <div id=\"df-48d3dc9a-cee0-4e2f-a646-f0b8f8b7c688\">\n",
              "    <div class=\"colab-df-container\">\n",
              "      <div>\n",
              "<style scoped>\n",
              "    .dataframe tbody tr th:only-of-type {\n",
              "        vertical-align: middle;\n",
              "    }\n",
              "\n",
              "    .dataframe tbody tr th {\n",
              "        vertical-align: top;\n",
              "    }\n",
              "\n",
              "    .dataframe thead th {\n",
              "        text-align: right;\n",
              "    }\n",
              "</style>\n",
              "<table border=\"1\" class=\"dataframe\">\n",
              "  <thead>\n",
              "    <tr style=\"text-align: right;\">\n",
              "      <th></th>\n",
              "      <th>tpep_pickup_datetime</th>\n",
              "      <th>passenger_count</th>\n",
              "      <th>trip_distance</th>\n",
              "      <th>PULocationID</th>\n",
              "      <th>DOLocationID</th>\n",
              "      <th>payment_type</th>\n",
              "      <th>total_amount</th>\n",
              "      <th>mois</th>\n",
              "      <th>jour</th>\n",
              "      <th>annee</th>\n",
              "      <th>...</th>\n",
              "      <th>WINDTEMP_MAX_C</th>\n",
              "      <th>WEATHER_CODE_MORNING</th>\n",
              "      <th>WEATHER_CODE_NOON</th>\n",
              "      <th>WEATHER_CODE_EVENING</th>\n",
              "      <th>TOTAL_SNOW_MM</th>\n",
              "      <th>UV_INDEX</th>\n",
              "      <th>SUNHOUR</th>\n",
              "      <th>SUNSET</th>\n",
              "      <th>SUNRISE</th>\n",
              "      <th>TEMPERATURE_NIGHT_C</th>\n",
              "    </tr>\n",
              "  </thead>\n",
              "  <tbody>\n",
              "    <tr>\n",
              "      <th>0</th>\n",
              "      <td>2023-03-01 00:06:43</td>\n",
              "      <td>1.0</td>\n",
              "      <td>0.00</td>\n",
              "      <td>238</td>\n",
              "      <td>42</td>\n",
              "      <td>2</td>\n",
              "      <td>11.10</td>\n",
              "      <td>3</td>\n",
              "      <td>1</td>\n",
              "      <td>2023</td>\n",
              "      <td>...</td>\n",
              "      <td>NaN</td>\n",
              "      <td>NaN</td>\n",
              "      <td>NaN</td>\n",
              "      <td>NaN</td>\n",
              "      <td>NaN</td>\n",
              "      <td>NaN</td>\n",
              "      <td>NaN</td>\n",
              "      <td>NaN</td>\n",
              "      <td>NaN</td>\n",
              "      <td>NaN</td>\n",
              "    </tr>\n",
              "    <tr>\n",
              "      <th>1</th>\n",
              "      <td>2023-03-01 00:08:25</td>\n",
              "      <td>2.0</td>\n",
              "      <td>12.40</td>\n",
              "      <td>138</td>\n",
              "      <td>231</td>\n",
              "      <td>1</td>\n",
              "      <td>76.49</td>\n",
              "      <td>3</td>\n",
              "      <td>1</td>\n",
              "      <td>2023</td>\n",
              "      <td>...</td>\n",
              "      <td>NaN</td>\n",
              "      <td>NaN</td>\n",
              "      <td>NaN</td>\n",
              "      <td>NaN</td>\n",
              "      <td>NaN</td>\n",
              "      <td>NaN</td>\n",
              "      <td>NaN</td>\n",
              "      <td>NaN</td>\n",
              "      <td>NaN</td>\n",
              "      <td>NaN</td>\n",
              "    </tr>\n",
              "    <tr>\n",
              "      <th>2</th>\n",
              "      <td>2023-03-01 00:15:04</td>\n",
              "      <td>0.0</td>\n",
              "      <td>3.30</td>\n",
              "      <td>140</td>\n",
              "      <td>186</td>\n",
              "      <td>1</td>\n",
              "      <td>28.05</td>\n",
              "      <td>3</td>\n",
              "      <td>1</td>\n",
              "      <td>2023</td>\n",
              "      <td>...</td>\n",
              "      <td>NaN</td>\n",
              "      <td>NaN</td>\n",
              "      <td>NaN</td>\n",
              "      <td>NaN</td>\n",
              "      <td>NaN</td>\n",
              "      <td>NaN</td>\n",
              "      <td>NaN</td>\n",
              "      <td>NaN</td>\n",
              "      <td>NaN</td>\n",
              "      <td>NaN</td>\n",
              "    </tr>\n",
              "    <tr>\n",
              "      <th>3</th>\n",
              "      <td>2023-03-01 00:49:37</td>\n",
              "      <td>1.0</td>\n",
              "      <td>2.90</td>\n",
              "      <td>140</td>\n",
              "      <td>43</td>\n",
              "      <td>1</td>\n",
              "      <td>24.70</td>\n",
              "      <td>3</td>\n",
              "      <td>1</td>\n",
              "      <td>2023</td>\n",
              "      <td>...</td>\n",
              "      <td>NaN</td>\n",
              "      <td>NaN</td>\n",
              "      <td>NaN</td>\n",
              "      <td>NaN</td>\n",
              "      <td>NaN</td>\n",
              "      <td>NaN</td>\n",
              "      <td>NaN</td>\n",
              "      <td>NaN</td>\n",
              "      <td>NaN</td>\n",
              "      <td>NaN</td>\n",
              "    </tr>\n",
              "    <tr>\n",
              "      <th>4</th>\n",
              "      <td>2023-03-01 00:08:04</td>\n",
              "      <td>1.0</td>\n",
              "      <td>1.23</td>\n",
              "      <td>79</td>\n",
              "      <td>137</td>\n",
              "      <td>1</td>\n",
              "      <td>14.64</td>\n",
              "      <td>3</td>\n",
              "      <td>1</td>\n",
              "      <td>2023</td>\n",
              "      <td>...</td>\n",
              "      <td>NaN</td>\n",
              "      <td>NaN</td>\n",
              "      <td>NaN</td>\n",
              "      <td>NaN</td>\n",
              "      <td>NaN</td>\n",
              "      <td>NaN</td>\n",
              "      <td>NaN</td>\n",
              "      <td>NaN</td>\n",
              "      <td>NaN</td>\n",
              "      <td>NaN</td>\n",
              "    </tr>\n",
              "    <tr>\n",
              "      <th>...</th>\n",
              "      <td>...</td>\n",
              "      <td>...</td>\n",
              "      <td>...</td>\n",
              "      <td>...</td>\n",
              "      <td>...</td>\n",
              "      <td>...</td>\n",
              "      <td>...</td>\n",
              "      <td>...</td>\n",
              "      <td>...</td>\n",
              "      <td>...</td>\n",
              "      <td>...</td>\n",
              "      <td>...</td>\n",
              "      <td>...</td>\n",
              "      <td>...</td>\n",
              "      <td>...</td>\n",
              "      <td>...</td>\n",
              "      <td>...</td>\n",
              "      <td>...</td>\n",
              "      <td>...</td>\n",
              "      <td>...</td>\n",
              "      <td>...</td>\n",
              "    </tr>\n",
              "    <tr>\n",
              "      <th>3373048</th>\n",
              "      <td>2023-03-31 23:24:25</td>\n",
              "      <td>1.0</td>\n",
              "      <td>3.16</td>\n",
              "      <td>163</td>\n",
              "      <td>75</td>\n",
              "      <td>0</td>\n",
              "      <td>20.36</td>\n",
              "      <td>3</td>\n",
              "      <td>31</td>\n",
              "      <td>2023</td>\n",
              "      <td>...</td>\n",
              "      <td>NaN</td>\n",
              "      <td>NaN</td>\n",
              "      <td>NaN</td>\n",
              "      <td>NaN</td>\n",
              "      <td>NaN</td>\n",
              "      <td>NaN</td>\n",
              "      <td>NaN</td>\n",
              "      <td>NaN</td>\n",
              "      <td>NaN</td>\n",
              "      <td>NaN</td>\n",
              "    </tr>\n",
              "    <tr>\n",
              "      <th>3373049</th>\n",
              "      <td>2023-03-31 23:24:50</td>\n",
              "      <td>1.0</td>\n",
              "      <td>6.89</td>\n",
              "      <td>125</td>\n",
              "      <td>198</td>\n",
              "      <td>0</td>\n",
              "      <td>53.90</td>\n",
              "      <td>3</td>\n",
              "      <td>31</td>\n",
              "      <td>2023</td>\n",
              "      <td>...</td>\n",
              "      <td>NaN</td>\n",
              "      <td>NaN</td>\n",
              "      <td>NaN</td>\n",
              "      <td>NaN</td>\n",
              "      <td>NaN</td>\n",
              "      <td>NaN</td>\n",
              "      <td>NaN</td>\n",
              "      <td>NaN</td>\n",
              "      <td>NaN</td>\n",
              "      <td>NaN</td>\n",
              "    </tr>\n",
              "    <tr>\n",
              "      <th>3373050</th>\n",
              "      <td>2023-03-31 23:26:31</td>\n",
              "      <td>1.0</td>\n",
              "      <td>4.01</td>\n",
              "      <td>50</td>\n",
              "      <td>224</td>\n",
              "      <td>0</td>\n",
              "      <td>28.02</td>\n",
              "      <td>3</td>\n",
              "      <td>31</td>\n",
              "      <td>2023</td>\n",
              "      <td>...</td>\n",
              "      <td>NaN</td>\n",
              "      <td>NaN</td>\n",
              "      <td>NaN</td>\n",
              "      <td>NaN</td>\n",
              "      <td>NaN</td>\n",
              "      <td>NaN</td>\n",
              "      <td>NaN</td>\n",
              "      <td>NaN</td>\n",
              "      <td>NaN</td>\n",
              "      <td>NaN</td>\n",
              "    </tr>\n",
              "    <tr>\n",
              "      <th>3373051</th>\n",
              "      <td>2023-03-31 23:07:51</td>\n",
              "      <td>1.0</td>\n",
              "      <td>1.31</td>\n",
              "      <td>113</td>\n",
              "      <td>158</td>\n",
              "      <td>0</td>\n",
              "      <td>16.01</td>\n",
              "      <td>3</td>\n",
              "      <td>31</td>\n",
              "      <td>2023</td>\n",
              "      <td>...</td>\n",
              "      <td>NaN</td>\n",
              "      <td>NaN</td>\n",
              "      <td>NaN</td>\n",
              "      <td>NaN</td>\n",
              "      <td>NaN</td>\n",
              "      <td>NaN</td>\n",
              "      <td>NaN</td>\n",
              "      <td>NaN</td>\n",
              "      <td>NaN</td>\n",
              "      <td>NaN</td>\n",
              "    </tr>\n",
              "    <tr>\n",
              "      <th>3373052</th>\n",
              "      <td>2023-03-31 23:26:12</td>\n",
              "      <td>1.0</td>\n",
              "      <td>0.88</td>\n",
              "      <td>41</td>\n",
              "      <td>166</td>\n",
              "      <td>0</td>\n",
              "      <td>17.26</td>\n",
              "      <td>3</td>\n",
              "      <td>31</td>\n",
              "      <td>2023</td>\n",
              "      <td>...</td>\n",
              "      <td>NaN</td>\n",
              "      <td>NaN</td>\n",
              "      <td>NaN</td>\n",
              "      <td>NaN</td>\n",
              "      <td>NaN</td>\n",
              "      <td>NaN</td>\n",
              "      <td>NaN</td>\n",
              "      <td>NaN</td>\n",
              "      <td>NaN</td>\n",
              "      <td>NaN</td>\n",
              "    </tr>\n",
              "  </tbody>\n",
              "</table>\n",
              "<p>3373053 rows × 37 columns</p>\n",
              "</div>\n",
              "      <button class=\"colab-df-convert\" onclick=\"convertToInteractive('df-48d3dc9a-cee0-4e2f-a646-f0b8f8b7c688')\"\n",
              "              title=\"Convert this dataframe to an interactive table.\"\n",
              "              style=\"display:none;\">\n",
              "        \n",
              "  <svg xmlns=\"http://www.w3.org/2000/svg\" height=\"24px\"viewBox=\"0 0 24 24\"\n",
              "       width=\"24px\">\n",
              "    <path d=\"M0 0h24v24H0V0z\" fill=\"none\"/>\n",
              "    <path d=\"M18.56 5.44l.94 2.06.94-2.06 2.06-.94-2.06-.94-.94-2.06-.94 2.06-2.06.94zm-11 1L8.5 8.5l.94-2.06 2.06-.94-2.06-.94L8.5 2.5l-.94 2.06-2.06.94zm10 10l.94 2.06.94-2.06 2.06-.94-2.06-.94-.94-2.06-.94 2.06-2.06.94z\"/><path d=\"M17.41 7.96l-1.37-1.37c-.4-.4-.92-.59-1.43-.59-.52 0-1.04.2-1.43.59L10.3 9.45l-7.72 7.72c-.78.78-.78 2.05 0 2.83L4 21.41c.39.39.9.59 1.41.59.51 0 1.02-.2 1.41-.59l7.78-7.78 2.81-2.81c.8-.78.8-2.07 0-2.86zM5.41 20L4 18.59l7.72-7.72 1.47 1.35L5.41 20z\"/>\n",
              "  </svg>\n",
              "      </button>\n",
              "      \n",
              "  <style>\n",
              "    .colab-df-container {\n",
              "      display:flex;\n",
              "      flex-wrap:wrap;\n",
              "      gap: 12px;\n",
              "    }\n",
              "\n",
              "    .colab-df-convert {\n",
              "      background-color: #E8F0FE;\n",
              "      border: none;\n",
              "      border-radius: 50%;\n",
              "      cursor: pointer;\n",
              "      display: none;\n",
              "      fill: #1967D2;\n",
              "      height: 32px;\n",
              "      padding: 0 0 0 0;\n",
              "      width: 32px;\n",
              "    }\n",
              "\n",
              "    .colab-df-convert:hover {\n",
              "      background-color: #E2EBFA;\n",
              "      box-shadow: 0px 1px 2px rgba(60, 64, 67, 0.3), 0px 1px 3px 1px rgba(60, 64, 67, 0.15);\n",
              "      fill: #174EA6;\n",
              "    }\n",
              "\n",
              "    [theme=dark] .colab-df-convert {\n",
              "      background-color: #3B4455;\n",
              "      fill: #D2E3FC;\n",
              "    }\n",
              "\n",
              "    [theme=dark] .colab-df-convert:hover {\n",
              "      background-color: #434B5C;\n",
              "      box-shadow: 0px 1px 3px 1px rgba(0, 0, 0, 0.15);\n",
              "      filter: drop-shadow(0px 1px 2px rgba(0, 0, 0, 0.3));\n",
              "      fill: #FFFFFF;\n",
              "    }\n",
              "  </style>\n",
              "\n",
              "      <script>\n",
              "        const buttonEl =\n",
              "          document.querySelector('#df-48d3dc9a-cee0-4e2f-a646-f0b8f8b7c688 button.colab-df-convert');\n",
              "        buttonEl.style.display =\n",
              "          google.colab.kernel.accessAllowed ? 'block' : 'none';\n",
              "\n",
              "        async function convertToInteractive(key) {\n",
              "          const element = document.querySelector('#df-48d3dc9a-cee0-4e2f-a646-f0b8f8b7c688');\n",
              "          const dataTable =\n",
              "            await google.colab.kernel.invokeFunction('convertToInteractive',\n",
              "                                                     [key], {});\n",
              "          if (!dataTable) return;\n",
              "\n",
              "          const docLinkHtml = 'Like what you see? Visit the ' +\n",
              "            '<a target=\"_blank\" href=https://colab.research.google.com/notebooks/data_table.ipynb>data table notebook</a>'\n",
              "            + ' to learn more about interactive tables.';\n",
              "          element.innerHTML = '';\n",
              "          dataTable['output_type'] = 'display_data';\n",
              "          await google.colab.output.renderOutput(dataTable, element);\n",
              "          const docLink = document.createElement('div');\n",
              "          docLink.innerHTML = docLinkHtml;\n",
              "          element.appendChild(docLink);\n",
              "        }\n",
              "      </script>\n",
              "    </div>\n",
              "  </div>\n",
              "  "
            ]
          },
          "metadata": {},
          "execution_count": 56
        }
      ]
    },
    {
      "cell_type": "markdown",
      "metadata": {
        "id": "iWVQ3vDHbYK8"
      },
      "source": [
        "## KNN"
      ]
    },
    {
      "cell_type": "code",
      "execution_count": null,
      "metadata": {
        "colab": {
          "base_uri": "https://localhost:8080/",
          "height": 380
        },
        "id": "NrL7XgrVTHO0",
        "outputId": "3ab3273b-b06d-4666-a5c9-d59d0e0f8b30"
      },
      "outputs": [
        {
          "output_type": "error",
          "ename": "KeyboardInterrupt",
          "evalue": "ignored",
          "traceback": [
            "\u001b[0;31m---------------------------------------------------------------------------\u001b[0m",
            "\u001b[0;31mKeyboardInterrupt\u001b[0m                         Traceback (most recent call last)",
            "\u001b[0;32m<ipython-input-57-9764cf2344fb>\u001b[0m in \u001b[0;36m<cell line: 12>\u001b[0;34m()\u001b[0m\n\u001b[1;32m     10\u001b[0m \u001b[0;34m\u001b[0m\u001b[0m\n\u001b[1;32m     11\u001b[0m \u001b[0;31m# Entraînement du modèle\u001b[0m\u001b[0;34m\u001b[0m\u001b[0;34m\u001b[0m\u001b[0m\n\u001b[0;32m---> 12\u001b[0;31m \u001b[0mknn\u001b[0m\u001b[0;34m.\u001b[0m\u001b[0mfit\u001b[0m\u001b[0;34m(\u001b[0m\u001b[0mX_train\u001b[0m\u001b[0;34m,\u001b[0m \u001b[0my_train\u001b[0m\u001b[0;34m)\u001b[0m\u001b[0;34m\u001b[0m\u001b[0;34m\u001b[0m\u001b[0m\n\u001b[0m\u001b[1;32m     13\u001b[0m \u001b[0;34m\u001b[0m\u001b[0m\n\u001b[1;32m     14\u001b[0m \u001b[0;31m# Prédiction sur les données de test\u001b[0m\u001b[0;34m\u001b[0m\u001b[0;34m\u001b[0m\u001b[0m\n",
            "\u001b[0;32m/usr/local/lib/python3.10/dist-packages/sklearn/neighbors/_regression.py\u001b[0m in \u001b[0;36mfit\u001b[0;34m(self, X, y)\u001b[0m\n\u001b[1;32m    215\u001b[0m         \u001b[0mself\u001b[0m\u001b[0;34m.\u001b[0m\u001b[0m_validate_params\u001b[0m\u001b[0;34m(\u001b[0m\u001b[0;34m)\u001b[0m\u001b[0;34m\u001b[0m\u001b[0;34m\u001b[0m\u001b[0m\n\u001b[1;32m    216\u001b[0m \u001b[0;34m\u001b[0m\u001b[0m\n\u001b[0;32m--> 217\u001b[0;31m         \u001b[0;32mreturn\u001b[0m \u001b[0mself\u001b[0m\u001b[0;34m.\u001b[0m\u001b[0m_fit\u001b[0m\u001b[0;34m(\u001b[0m\u001b[0mX\u001b[0m\u001b[0;34m,\u001b[0m \u001b[0my\u001b[0m\u001b[0;34m)\u001b[0m\u001b[0;34m\u001b[0m\u001b[0;34m\u001b[0m\u001b[0m\n\u001b[0m\u001b[1;32m    218\u001b[0m \u001b[0;34m\u001b[0m\u001b[0m\n\u001b[1;32m    219\u001b[0m     \u001b[0;32mdef\u001b[0m \u001b[0mpredict\u001b[0m\u001b[0;34m(\u001b[0m\u001b[0mself\u001b[0m\u001b[0;34m,\u001b[0m \u001b[0mX\u001b[0m\u001b[0;34m)\u001b[0m\u001b[0;34m:\u001b[0m\u001b[0;34m\u001b[0m\u001b[0;34m\u001b[0m\u001b[0m\n",
            "\u001b[0;32m/usr/local/lib/python3.10/dist-packages/sklearn/neighbors/_base.py\u001b[0m in \u001b[0;36m_fit\u001b[0;34m(self, X, y)\u001b[0m\n\u001b[1;32m    661\u001b[0m                     \u001b[0;34m\"or algorithm='brute' instead.\"\u001b[0m\u001b[0;34m\u001b[0m\u001b[0;34m\u001b[0m\u001b[0m\n\u001b[1;32m    662\u001b[0m                 )\n\u001b[0;32m--> 663\u001b[0;31m             self._tree = KDTree(\n\u001b[0m\u001b[1;32m    664\u001b[0m                 \u001b[0mX\u001b[0m\u001b[0;34m,\u001b[0m\u001b[0;34m\u001b[0m\u001b[0;34m\u001b[0m\u001b[0m\n\u001b[1;32m    665\u001b[0m                 \u001b[0mself\u001b[0m\u001b[0;34m.\u001b[0m\u001b[0mleaf_size\u001b[0m\u001b[0;34m,\u001b[0m\u001b[0;34m\u001b[0m\u001b[0;34m\u001b[0m\u001b[0m\n",
            "\u001b[0;31mKeyboardInterrupt\u001b[0m: "
          ]
        }
      ],
      "source": [
        "# Séparation des caractéristiques (X) et de la variable cible (y)\n",
        "X = df[['passenger_count','trip_distance','PULocationID','DOLocationID','mois','jour','annee','heure','minute','joursemaine','duree_minute']]  # Caractéristiques\n",
        "y = df['total_amount']  # Variable cible\n",
        "\n",
        "# Séparation des données d'entraînement et de test\n",
        "X_train, X_test, y_train, y_test = train_test_split(X, y, test_size=0.2, random_state=42)\n",
        "\n",
        "# Création du modèle KNN\n",
        "knn = KNeighborsRegressor(n_neighbors=11)  # Spécifiez le nombre de voisins (K) à utiliser\n",
        "\n",
        "# Entraînement du modèle\n",
        "knn.fit(X_train, y_train)\n",
        "\n",
        "# Prédiction sur les données de test\n",
        "y_pred = knn.predict(X_test)\n",
        "\n",
        "# Évaluation du modèle\n",
        "mse = mean_squared_error(y_test, y_pred)\n",
        "r2 = r2_score(y_test, y_pred)\n",
        "\n",
        "print(\"Erreur quadratique moyenne (MSE) :\", mse)\n",
        "print(\"Coefficient de détermination (R2) :\", r2)\n"
      ]
    },
    {
      "cell_type": "code",
      "execution_count": null,
      "metadata": {
        "colab": {
          "base_uri": "https://localhost:8080/",
          "height": 487
        },
        "id": "--c7ILzLYTci",
        "outputId": "8ee1ea63-e0af-4af2-fbf6-c206a524b5ad"
      },
      "outputs": [
        {
          "output_type": "execute_result",
          "data": {
            "text/plain": [
              "         passenger_count  trip_distance  PULocationID  DOLocationID  \\\n",
              "0                    1.0           0.00           238            42   \n",
              "1                    2.0          12.40           138           231   \n",
              "2                    0.0           3.30           140           186   \n",
              "3                    1.0           2.90           140            43   \n",
              "4                    1.0           1.23            79           137   \n",
              "...                  ...            ...           ...           ...   \n",
              "3403761              1.0           3.16           163            75   \n",
              "3403762              1.0           6.89           125           198   \n",
              "3403763              1.0           4.01            50           224   \n",
              "3403764              1.0           1.31           113           158   \n",
              "3403765              1.0           0.88            41           166   \n",
              "\n",
              "         payment_type  total_amount  mois  jour  annee  heure  minute  \\\n",
              "0                   2         11.10     3     1   2023      0       6   \n",
              "1                   1         76.49     3     1   2023      0       8   \n",
              "2                   1         28.05     3     1   2023      0      15   \n",
              "3                   1         24.70     3     1   2023      0      49   \n",
              "4                   1         14.64     3     1   2023      0       8   \n",
              "...               ...           ...   ...   ...    ...    ...     ...   \n",
              "3403761             0         20.36     3    31   2023     23      24   \n",
              "3403762             0         53.90     3    31   2023     23      24   \n",
              "3403763             0         28.02     3    31   2023     23      26   \n",
              "3403764             0         16.01     3    31   2023     23       7   \n",
              "3403765             0         17.26     3    31   2023     23      26   \n",
              "\n",
              "         joursemaine  duree_minute  \n",
              "0                  2     10.000000  \n",
              "1                  2     31.083333  \n",
              "2                  2     14.366667  \n",
              "3                  2     11.466667  \n",
              "4                  2      3.033333  \n",
              "...              ...           ...  \n",
              "3403761            4     16.483333  \n",
              "3403762            4     39.366667  \n",
              "3403763            4     23.133333  \n",
              "3403764            4      8.083333  \n",
              "3403765            4      5.583333  \n",
              "\n",
              "[3373053 rows x 13 columns]"
            ],
            "text/html": [
              "\n",
              "  <div id=\"df-f6ae5a14-73d0-4c79-aa8c-6ae6bac45cb6\">\n",
              "    <div class=\"colab-df-container\">\n",
              "      <div>\n",
              "<style scoped>\n",
              "    .dataframe tbody tr th:only-of-type {\n",
              "        vertical-align: middle;\n",
              "    }\n",
              "\n",
              "    .dataframe tbody tr th {\n",
              "        vertical-align: top;\n",
              "    }\n",
              "\n",
              "    .dataframe thead th {\n",
              "        text-align: right;\n",
              "    }\n",
              "</style>\n",
              "<table border=\"1\" class=\"dataframe\">\n",
              "  <thead>\n",
              "    <tr style=\"text-align: right;\">\n",
              "      <th></th>\n",
              "      <th>passenger_count</th>\n",
              "      <th>trip_distance</th>\n",
              "      <th>PULocationID</th>\n",
              "      <th>DOLocationID</th>\n",
              "      <th>payment_type</th>\n",
              "      <th>total_amount</th>\n",
              "      <th>mois</th>\n",
              "      <th>jour</th>\n",
              "      <th>annee</th>\n",
              "      <th>heure</th>\n",
              "      <th>minute</th>\n",
              "      <th>joursemaine</th>\n",
              "      <th>duree_minute</th>\n",
              "    </tr>\n",
              "  </thead>\n",
              "  <tbody>\n",
              "    <tr>\n",
              "      <th>0</th>\n",
              "      <td>1.0</td>\n",
              "      <td>0.00</td>\n",
              "      <td>238</td>\n",
              "      <td>42</td>\n",
              "      <td>2</td>\n",
              "      <td>11.10</td>\n",
              "      <td>3</td>\n",
              "      <td>1</td>\n",
              "      <td>2023</td>\n",
              "      <td>0</td>\n",
              "      <td>6</td>\n",
              "      <td>2</td>\n",
              "      <td>10.000000</td>\n",
              "    </tr>\n",
              "    <tr>\n",
              "      <th>1</th>\n",
              "      <td>2.0</td>\n",
              "      <td>12.40</td>\n",
              "      <td>138</td>\n",
              "      <td>231</td>\n",
              "      <td>1</td>\n",
              "      <td>76.49</td>\n",
              "      <td>3</td>\n",
              "      <td>1</td>\n",
              "      <td>2023</td>\n",
              "      <td>0</td>\n",
              "      <td>8</td>\n",
              "      <td>2</td>\n",
              "      <td>31.083333</td>\n",
              "    </tr>\n",
              "    <tr>\n",
              "      <th>2</th>\n",
              "      <td>0.0</td>\n",
              "      <td>3.30</td>\n",
              "      <td>140</td>\n",
              "      <td>186</td>\n",
              "      <td>1</td>\n",
              "      <td>28.05</td>\n",
              "      <td>3</td>\n",
              "      <td>1</td>\n",
              "      <td>2023</td>\n",
              "      <td>0</td>\n",
              "      <td>15</td>\n",
              "      <td>2</td>\n",
              "      <td>14.366667</td>\n",
              "    </tr>\n",
              "    <tr>\n",
              "      <th>3</th>\n",
              "      <td>1.0</td>\n",
              "      <td>2.90</td>\n",
              "      <td>140</td>\n",
              "      <td>43</td>\n",
              "      <td>1</td>\n",
              "      <td>24.70</td>\n",
              "      <td>3</td>\n",
              "      <td>1</td>\n",
              "      <td>2023</td>\n",
              "      <td>0</td>\n",
              "      <td>49</td>\n",
              "      <td>2</td>\n",
              "      <td>11.466667</td>\n",
              "    </tr>\n",
              "    <tr>\n",
              "      <th>4</th>\n",
              "      <td>1.0</td>\n",
              "      <td>1.23</td>\n",
              "      <td>79</td>\n",
              "      <td>137</td>\n",
              "      <td>1</td>\n",
              "      <td>14.64</td>\n",
              "      <td>3</td>\n",
              "      <td>1</td>\n",
              "      <td>2023</td>\n",
              "      <td>0</td>\n",
              "      <td>8</td>\n",
              "      <td>2</td>\n",
              "      <td>3.033333</td>\n",
              "    </tr>\n",
              "    <tr>\n",
              "      <th>...</th>\n",
              "      <td>...</td>\n",
              "      <td>...</td>\n",
              "      <td>...</td>\n",
              "      <td>...</td>\n",
              "      <td>...</td>\n",
              "      <td>...</td>\n",
              "      <td>...</td>\n",
              "      <td>...</td>\n",
              "      <td>...</td>\n",
              "      <td>...</td>\n",
              "      <td>...</td>\n",
              "      <td>...</td>\n",
              "      <td>...</td>\n",
              "    </tr>\n",
              "    <tr>\n",
              "      <th>3403761</th>\n",
              "      <td>1.0</td>\n",
              "      <td>3.16</td>\n",
              "      <td>163</td>\n",
              "      <td>75</td>\n",
              "      <td>0</td>\n",
              "      <td>20.36</td>\n",
              "      <td>3</td>\n",
              "      <td>31</td>\n",
              "      <td>2023</td>\n",
              "      <td>23</td>\n",
              "      <td>24</td>\n",
              "      <td>4</td>\n",
              "      <td>16.483333</td>\n",
              "    </tr>\n",
              "    <tr>\n",
              "      <th>3403762</th>\n",
              "      <td>1.0</td>\n",
              "      <td>6.89</td>\n",
              "      <td>125</td>\n",
              "      <td>198</td>\n",
              "      <td>0</td>\n",
              "      <td>53.90</td>\n",
              "      <td>3</td>\n",
              "      <td>31</td>\n",
              "      <td>2023</td>\n",
              "      <td>23</td>\n",
              "      <td>24</td>\n",
              "      <td>4</td>\n",
              "      <td>39.366667</td>\n",
              "    </tr>\n",
              "    <tr>\n",
              "      <th>3403763</th>\n",
              "      <td>1.0</td>\n",
              "      <td>4.01</td>\n",
              "      <td>50</td>\n",
              "      <td>224</td>\n",
              "      <td>0</td>\n",
              "      <td>28.02</td>\n",
              "      <td>3</td>\n",
              "      <td>31</td>\n",
              "      <td>2023</td>\n",
              "      <td>23</td>\n",
              "      <td>26</td>\n",
              "      <td>4</td>\n",
              "      <td>23.133333</td>\n",
              "    </tr>\n",
              "    <tr>\n",
              "      <th>3403764</th>\n",
              "      <td>1.0</td>\n",
              "      <td>1.31</td>\n",
              "      <td>113</td>\n",
              "      <td>158</td>\n",
              "      <td>0</td>\n",
              "      <td>16.01</td>\n",
              "      <td>3</td>\n",
              "      <td>31</td>\n",
              "      <td>2023</td>\n",
              "      <td>23</td>\n",
              "      <td>7</td>\n",
              "      <td>4</td>\n",
              "      <td>8.083333</td>\n",
              "    </tr>\n",
              "    <tr>\n",
              "      <th>3403765</th>\n",
              "      <td>1.0</td>\n",
              "      <td>0.88</td>\n",
              "      <td>41</td>\n",
              "      <td>166</td>\n",
              "      <td>0</td>\n",
              "      <td>17.26</td>\n",
              "      <td>3</td>\n",
              "      <td>31</td>\n",
              "      <td>2023</td>\n",
              "      <td>23</td>\n",
              "      <td>26</td>\n",
              "      <td>4</td>\n",
              "      <td>5.583333</td>\n",
              "    </tr>\n",
              "  </tbody>\n",
              "</table>\n",
              "<p>3373053 rows × 13 columns</p>\n",
              "</div>\n",
              "      <button class=\"colab-df-convert\" onclick=\"convertToInteractive('df-f6ae5a14-73d0-4c79-aa8c-6ae6bac45cb6')\"\n",
              "              title=\"Convert this dataframe to an interactive table.\"\n",
              "              style=\"display:none;\">\n",
              "        \n",
              "  <svg xmlns=\"http://www.w3.org/2000/svg\" height=\"24px\"viewBox=\"0 0 24 24\"\n",
              "       width=\"24px\">\n",
              "    <path d=\"M0 0h24v24H0V0z\" fill=\"none\"/>\n",
              "    <path d=\"M18.56 5.44l.94 2.06.94-2.06 2.06-.94-2.06-.94-.94-2.06-.94 2.06-2.06.94zm-11 1L8.5 8.5l.94-2.06 2.06-.94-2.06-.94L8.5 2.5l-.94 2.06-2.06.94zm10 10l.94 2.06.94-2.06 2.06-.94-2.06-.94-.94-2.06-.94 2.06-2.06.94z\"/><path d=\"M17.41 7.96l-1.37-1.37c-.4-.4-.92-.59-1.43-.59-.52 0-1.04.2-1.43.59L10.3 9.45l-7.72 7.72c-.78.78-.78 2.05 0 2.83L4 21.41c.39.39.9.59 1.41.59.51 0 1.02-.2 1.41-.59l7.78-7.78 2.81-2.81c.8-.78.8-2.07 0-2.86zM5.41 20L4 18.59l7.72-7.72 1.47 1.35L5.41 20z\"/>\n",
              "  </svg>\n",
              "      </button>\n",
              "      \n",
              "  <style>\n",
              "    .colab-df-container {\n",
              "      display:flex;\n",
              "      flex-wrap:wrap;\n",
              "      gap: 12px;\n",
              "    }\n",
              "\n",
              "    .colab-df-convert {\n",
              "      background-color: #E8F0FE;\n",
              "      border: none;\n",
              "      border-radius: 50%;\n",
              "      cursor: pointer;\n",
              "      display: none;\n",
              "      fill: #1967D2;\n",
              "      height: 32px;\n",
              "      padding: 0 0 0 0;\n",
              "      width: 32px;\n",
              "    }\n",
              "\n",
              "    .colab-df-convert:hover {\n",
              "      background-color: #E2EBFA;\n",
              "      box-shadow: 0px 1px 2px rgba(60, 64, 67, 0.3), 0px 1px 3px 1px rgba(60, 64, 67, 0.15);\n",
              "      fill: #174EA6;\n",
              "    }\n",
              "\n",
              "    [theme=dark] .colab-df-convert {\n",
              "      background-color: #3B4455;\n",
              "      fill: #D2E3FC;\n",
              "    }\n",
              "\n",
              "    [theme=dark] .colab-df-convert:hover {\n",
              "      background-color: #434B5C;\n",
              "      box-shadow: 0px 1px 3px 1px rgba(0, 0, 0, 0.15);\n",
              "      filter: drop-shadow(0px 1px 2px rgba(0, 0, 0, 0.3));\n",
              "      fill: #FFFFFF;\n",
              "    }\n",
              "  </style>\n",
              "\n",
              "      <script>\n",
              "        const buttonEl =\n",
              "          document.querySelector('#df-f6ae5a14-73d0-4c79-aa8c-6ae6bac45cb6 button.colab-df-convert');\n",
              "        buttonEl.style.display =\n",
              "          google.colab.kernel.accessAllowed ? 'block' : 'none';\n",
              "\n",
              "        async function convertToInteractive(key) {\n",
              "          const element = document.querySelector('#df-f6ae5a14-73d0-4c79-aa8c-6ae6bac45cb6');\n",
              "          const dataTable =\n",
              "            await google.colab.kernel.invokeFunction('convertToInteractive',\n",
              "                                                     [key], {});\n",
              "          if (!dataTable) return;\n",
              "\n",
              "          const docLinkHtml = 'Like what you see? Visit the ' +\n",
              "            '<a target=\"_blank\" href=https://colab.research.google.com/notebooks/data_table.ipynb>data table notebook</a>'\n",
              "            + ' to learn more about interactive tables.';\n",
              "          element.innerHTML = '';\n",
              "          dataTable['output_type'] = 'display_data';\n",
              "          await google.colab.output.renderOutput(dataTable, element);\n",
              "          const docLink = document.createElement('div');\n",
              "          docLink.innerHTML = docLinkHtml;\n",
              "          element.appendChild(docLink);\n",
              "        }\n",
              "      </script>\n",
              "    </div>\n",
              "  </div>\n",
              "  "
            ]
          },
          "metadata": {},
          "execution_count": 58
        }
      ],
      "source": [
        "df"
      ]
    },
    {
      "cell_type": "markdown",
      "metadata": {
        "id": "KQ2CN-iZXkcJ"
      },
      "source": [
        "## Réseaux de neurones"
      ]
    },
    {
      "cell_type": "code",
      "execution_count": null,
      "metadata": {
        "colab": {
          "base_uri": "https://localhost:8080/"
        },
        "id": "aIn_gZupT4Uv",
        "outputId": "48c1da5a-4589-42ca-98dc-5927ed9a3a7b"
      },
      "outputs": [
        {
          "output_type": "stream",
          "name": "stdout",
          "text": [
            "Epoch 1/70\n",
            "84327/84327 [==============================] - 119s 1ms/step - loss: 66.1624\n",
            "Epoch 2/70\n",
            "84327/84327 [==============================] - 117s 1ms/step - loss: 63.1081\n",
            "Epoch 3/70\n",
            "84327/84327 [==============================] - 114s 1ms/step - loss: 58.9253\n",
            "Epoch 4/70\n",
            "84327/84327 [==============================] - 113s 1ms/step - loss: 55.1168\n",
            "Epoch 5/70\n",
            "84327/84327 [==============================] - 115s 1ms/step - loss: 53.3445\n",
            "Epoch 6/70\n",
            "84327/84327 [==============================] - 112s 1ms/step - loss: 52.9603\n",
            "Epoch 7/70\n",
            "84327/84327 [==============================] - 113s 1ms/step - loss: 56.1232\n",
            "Epoch 8/70\n",
            "84327/84327 [==============================] - 119s 1ms/step - loss: 50.0744\n",
            "Epoch 9/70\n",
            "84327/84327 [==============================] - 120s 1ms/step - loss: 48.7209\n",
            "Epoch 10/70\n",
            "84327/84327 [==============================] - 113s 1ms/step - loss: 47.6373\n",
            "Epoch 11/70\n",
            "84327/84327 [==============================] - 115s 1ms/step - loss: 47.0553\n",
            "Epoch 12/70\n",
            "84327/84327 [==============================] - 119s 1ms/step - loss: 46.9312\n",
            "Epoch 13/70\n",
            "84327/84327 [==============================] - 114s 1ms/step - loss: 46.9427\n",
            "Epoch 14/70\n",
            "84327/84327 [==============================] - 113s 1ms/step - loss: 46.4272\n",
            "Epoch 15/70\n",
            "84327/84327 [==============================] - 118s 1ms/step - loss: 46.1641\n",
            "Epoch 16/70\n",
            "84327/84327 [==============================] - 118s 1ms/step - loss: 45.7769\n",
            "Epoch 17/70\n",
            "84327/84327 [==============================] - 123s 1ms/step - loss: 45.7996\n",
            "Epoch 18/70\n",
            "84327/84327 [==============================] - 117s 1ms/step - loss: 45.5554\n",
            "Epoch 19/70\n",
            "84327/84327 [==============================] - 114s 1ms/step - loss: 45.3453\n",
            "Epoch 20/70\n",
            "84327/84327 [==============================] - 117s 1ms/step - loss: 45.2666\n",
            "Epoch 21/70\n",
            "84327/84327 [==============================] - 109s 1ms/step - loss: 45.1162\n",
            "Epoch 22/70\n",
            "84327/84327 [==============================] - 109s 1ms/step - loss: 44.9146\n",
            "Epoch 23/70\n",
            "84327/84327 [==============================] - 114s 1ms/step - loss: 44.8287\n",
            "Epoch 24/70\n",
            "84327/84327 [==============================] - 109s 1ms/step - loss: 45.0238\n",
            "Epoch 25/70\n",
            "84327/84327 [==============================] - 115s 1ms/step - loss: 44.6052\n",
            "Epoch 26/70\n",
            "84327/84327 [==============================] - 112s 1ms/step - loss: 44.5007\n",
            "Epoch 27/70\n",
            "84327/84327 [==============================] - 111s 1ms/step - loss: 44.4791\n",
            "Epoch 28/70\n",
            "84327/84327 [==============================] - 118s 1ms/step - loss: 44.3028\n",
            "Epoch 29/70\n",
            "84327/84327 [==============================] - 116s 1ms/step - loss: 44.1853\n",
            "Epoch 30/70\n",
            "84327/84327 [==============================] - 113s 1ms/step - loss: 44.5203\n",
            "Epoch 31/70\n",
            "84327/84327 [==============================] - 112s 1ms/step - loss: 43.9747\n",
            "Epoch 32/70\n",
            "84327/84327 [==============================] - 108s 1ms/step - loss: 44.0597\n",
            "Epoch 33/70\n",
            "84327/84327 [==============================] - 107s 1ms/step - loss: 44.0568\n",
            "Epoch 34/70\n",
            "84327/84327 [==============================] - 110s 1ms/step - loss: 43.9996\n",
            "Epoch 35/70\n",
            "84327/84327 [==============================] - 112s 1ms/step - loss: 44.0090\n",
            "Epoch 36/70\n",
            "84327/84327 [==============================] - 115s 1ms/step - loss: 43.8065\n",
            "Epoch 37/70\n",
            "84327/84327 [==============================] - 110s 1ms/step - loss: 43.9067\n",
            "Epoch 38/70\n",
            "84327/84327 [==============================] - 112s 1ms/step - loss: 43.5285\n",
            "Epoch 39/70\n",
            "84327/84327 [==============================] - 113s 1ms/step - loss: 43.6099\n",
            "Epoch 40/70\n",
            "84327/84327 [==============================] - 110s 1ms/step - loss: 43.7418\n",
            "Epoch 41/70\n",
            "84327/84327 [==============================] - 110s 1ms/step - loss: 43.4003\n",
            "Epoch 42/70\n",
            "84327/84327 [==============================] - 109s 1ms/step - loss: 43.7501\n",
            "Epoch 43/70\n",
            "84327/84327 [==============================] - 109s 1ms/step - loss: 43.3231\n",
            "Epoch 44/70\n",
            "84327/84327 [==============================] - 109s 1ms/step - loss: 43.7962\n",
            "Epoch 45/70\n",
            "84327/84327 [==============================] - 108s 1ms/step - loss: 43.9133\n",
            "Epoch 46/70\n",
            "84327/84327 [==============================] - 110s 1ms/step - loss: 43.2264\n",
            "Epoch 47/70\n",
            "84327/84327 [==============================] - 111s 1ms/step - loss: 43.1632\n",
            "Epoch 48/70\n",
            "84327/84327 [==============================] - 110s 1ms/step - loss: 43.9656\n",
            "Epoch 49/70\n",
            "84327/84327 [==============================] - 117s 1ms/step - loss: 43.0810\n",
            "Epoch 50/70\n",
            "84327/84327 [==============================] - 118s 1ms/step - loss: 43.2614\n",
            "Epoch 51/70\n",
            "84327/84327 [==============================] - 110s 1ms/step - loss: 42.9784\n",
            "Epoch 52/70\n",
            "84327/84327 [==============================] - 109s 1ms/step - loss: 43.0417\n",
            "Epoch 53/70\n",
            "84327/84327 [==============================] - 107s 1ms/step - loss: 43.1407\n",
            "Epoch 54/70\n",
            "84327/84327 [==============================] - 106s 1ms/step - loss: 42.9442\n",
            "Epoch 55/70\n",
            "84327/84327 [==============================] - 108s 1ms/step - loss: 42.7998\n",
            "Epoch 56/70\n",
            "84327/84327 [==============================] - 106s 1ms/step - loss: 42.9020\n",
            "Epoch 57/70\n",
            "84327/84327 [==============================] - 105s 1ms/step - loss: 43.2583\n",
            "Epoch 58/70\n",
            "84327/84327 [==============================] - 109s 1ms/step - loss: 42.6525\n",
            "Epoch 59/70\n",
            "84327/84327 [==============================] - 106s 1ms/step - loss: 42.7211\n",
            "Epoch 60/70\n",
            "84327/84327 [==============================] - 106s 1ms/step - loss: 42.7032\n",
            "Epoch 61/70\n",
            "84327/84327 [==============================] - 107s 1ms/step - loss: 42.5883\n",
            "Epoch 62/70\n",
            "84327/84327 [==============================] - 106s 1ms/step - loss: 43.3855\n",
            "Epoch 63/70\n",
            "84327/84327 [==============================] - 107s 1ms/step - loss: 42.6940\n",
            "Epoch 64/70\n",
            "84327/84327 [==============================] - 112s 1ms/step - loss: 42.5864\n",
            "Epoch 65/70\n",
            "84327/84327 [==============================] - 108s 1ms/step - loss: 42.6284\n",
            "Epoch 66/70\n",
            "84327/84327 [==============================] - 108s 1ms/step - loss: 42.5773\n",
            "Epoch 67/70\n",
            "84327/84327 [==============================] - 108s 1ms/step - loss: 42.5078\n",
            "Epoch 68/70\n",
            "84327/84327 [==============================] - 109s 1ms/step - loss: 42.7349\n",
            "Epoch 69/70\n",
            "84327/84327 [==============================] - 108s 1ms/step - loss: 42.5807\n",
            "Epoch 70/70\n",
            "84327/84327 [==============================] - 107s 1ms/step - loss: 42.9522\n",
            "21082/21082 [==============================] - 19s 911us/step\n",
            "Erreur quadratique moyenne (MSE) : 40.17074406898128\n",
            "Coefficient de détermination (R2) : 0.9177770141446618\n"
          ]
        }
      ],
      "source": [
        "# Séparation des caractéristiques (X) et de la variable cible (y)\n",
        "X = df[['passenger_count','trip_distance','PULocationID','DOLocationID','mois','jour','annee','heure','minute','joursemaine','duree_minute']]  # Caractéristiques\n",
        "y = df['total_amount']  # Variable cible\n",
        "\n",
        "# Normalisation des données\n",
        "scaler = StandardScaler()\n",
        "X_scaled = scaler.fit_transform(X)\n",
        "\n",
        "# Séparation des données d'entraînement et de test\n",
        "X_train, X_test, y_train, y_test = train_test_split(X_scaled, y, test_size=0.2, random_state=42)\n",
        "\n",
        "# Création du modèle de réseau de neurones\n",
        "model = Sequential()\n",
        "model.add(Dense(32, activation='relu', input_dim=X_train.shape[1]))\n",
        "model.add(Dense(16, activation='relu'))\n",
        "model.add(Dense(8, activation='relu'))\n",
        "model.add(Dense(1, activation='linear'))\n",
        "\n",
        "# Compilation du modèle\n",
        "model.compile(loss='mean_squared_error', optimizer='adam')\n",
        "\n",
        "# Entraînement du modèle\n",
        "model.fit(X_train, y_train, epochs=70, batch_size=32, verbose=1)\n",
        "\n",
        "# Prédiction sur les données de test\n",
        "y_pred = model.predict(X_test)\n",
        "\n",
        "# Évaluation du modèle\n",
        "mse = mean_squared_error(y_test, y_pred)\n",
        "r2 = r2_score(y_test, y_pred)\n",
        "\n",
        "print(\"Erreur quadratique moyenne (MSE) :\", mse)\n",
        "print(\"Coefficient de détermination (R2) :\", r2)\n"
      ]
    },
    {
      "cell_type": "markdown",
      "metadata": {
        "id": "hAWTvuxlXqZC"
      },
      "source": [
        "## Support Vector Machine"
      ]
    },
    {
      "cell_type": "code",
      "execution_count": null,
      "metadata": {
        "id": "QudZktbVZ7f7"
      },
      "outputs": [],
      "source": [
        "# Sélectionnez vos fonctionnalités (variables indépendantes) et votre variable cible (variable dépendante)\n",
        "features = df[['passenger_count', 'trip_distance', 'PULocationID', 'DOLocationID']]\n",
        "target = df['total_amount']\n",
        "\n",
        "# Divisez les données en ensembles d'entraînement et de test\n",
        "X_train, X_test, y_train, y_test = train_test_split(features, target, test_size=0.1, random_state=42)"
      ]
    },
    {
      "cell_type": "code",
      "execution_count": null,
      "metadata": {
        "id": "9ZB4vBHNz_jY"
      },
      "outputs": [],
      "source": [
        "# Appliquez une mise à l'échelle sur les fonctionnalités\n",
        "scaler = StandardScaler()\n",
        "X_train_scaled = scaler.fit_transform(X_train)\n",
        "X_test_scaled = scaler.transform(X_test)\n",
        "\n",
        "# Créez et entraînez le modèle SVM\n",
        "svm_model = SVR(kernel='linear')"
      ]
    },
    {
      "cell_type": "code",
      "execution_count": null,
      "metadata": {
        "id": "Pu1B_bqSXR9f"
      },
      "outputs": [],
      "source": [
        "svm_model.fit(X_train_scaled, y_train)\n",
        "\n",
        "# Faites des prédictions sur l'ensemble de test\n",
        "y_pred = svm_model.predict(X_test_scaled)\n",
        "\n",
        "# Évaluez les performances du modèle\n",
        "mse = mean_squared_error(y_test, y_pred)\n",
        "r2 = r2_score(y_test, y_pred)\n"
      ]
    },
    {
      "cell_type": "code",
      "execution_count": null,
      "metadata": {
        "id": "Pu2eVwH8YVDV",
        "colab": {
          "base_uri": "https://localhost:8080/"
        },
        "outputId": "ee1997ab-672e-4a42-c8bc-67a6f24befb9"
      },
      "outputs": [
        {
          "output_type": "execute_result",
          "data": {
            "text/plain": [
              "passenger_count    0\n",
              "trip_distance      0\n",
              "PULocationID       0\n",
              "DOLocationID       0\n",
              "dtype: int64"
            ]
          },
          "metadata": {},
          "execution_count": 63
        }
      ],
      "source": [
        "X_train.isnull().sum()"
      ]
    }
  ],
  "metadata": {
    "colab": {
      "provenance": [],
      "toc_visible": true
    },
    "kernelspec": {
      "display_name": "Python 3",
      "name": "python3"
    },
    "language_info": {
      "name": "python"
    }
  },
  "nbformat": 4,
  "nbformat_minor": 0
}