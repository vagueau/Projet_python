{
  "nbformat": 4,
  "nbformat_minor": 0,
  "metadata": {
    "colab": {
      "provenance": [],
      "include_colab_link": true
    },
    "kernelspec": {
      "name": "python3",
      "display_name": "Python 3"
    },
    "language_info": {
      "name": "python"
    }
  },
  "cells": [
    {
      "cell_type": "markdown",
      "metadata": {
        "id": "view-in-github",
        "colab_type": "text"
      },
      "source": [
        "<a href=\"https://colab.research.google.com/github/vagueau/Projet_python/blob/main/projet.ipynb\" target=\"_parent\"><img src=\"https://colab.research.google.com/assets/colab-badge.svg\" alt=\"Open In Colab\"/></a>"
      ]
    },
    {
      "cell_type": "code",
      "source": [
        "!pip install pyarrow"
      ],
      "metadata": {
        "colab": {
          "base_uri": "https://localhost:8080/"
        },
        "id": "Tf4vsJfHTk_I",
        "outputId": "54b84a07-ef29-4915-ae47-317205ac661a"
      },
      "execution_count": 201,
      "outputs": [
        {
          "output_type": "stream",
          "name": "stdout",
          "text": [
            "Looking in indexes: https://pypi.org/simple, https://us-python.pkg.dev/colab-wheels/public/simple/\n",
            "Requirement already satisfied: pyarrow in /usr/local/lib/python3.10/dist-packages (9.0.0)\n",
            "Requirement already satisfied: numpy>=1.16.6 in /usr/local/lib/python3.10/dist-packages (from pyarrow) (1.22.4)\n"
          ]
        }
      ]
    },
    {
      "cell_type": "code",
      "source": [
        "from google.colab import drive\n",
        "drive.mount('/content/drive')"
      ],
      "metadata": {
        "colab": {
          "base_uri": "https://localhost:8080/"
        },
        "id": "t-B72rmyEZV9",
        "outputId": "e78c1c5b-34b0-4d1a-f44d-4d19b71f0529"
      },
      "execution_count": 202,
      "outputs": [
        {
          "output_type": "stream",
          "name": "stdout",
          "text": [
            "Drive already mounted at /content/drive; to attempt to forcibly remount, call drive.mount(\"/content/drive\", force_remount=True).\n"
          ]
        }
      ]
    },
    {
      "cell_type": "markdown",
      "source": [
        "IMPORTATION DES DONNEES"
      ],
      "metadata": {
        "id": "TgzEgIhDdeuP"
      }
    },
    {
      "cell_type": "code",
      "execution_count": 203,
      "metadata": {
        "id": "5nQ1E49GR8nD",
        "colab": {
          "base_uri": "https://localhost:8080/"
        },
        "outputId": "c94aed97-95d0-4383-856f-135a62118f01"
      },
      "outputs": [
        {
          "output_type": "stream",
          "name": "stdout",
          "text": [
            "         VendorID tpep_pickup_datetime tpep_dropoff_datetime  passenger_count  \\\n",
            "0               2  2023-03-01 00:06:43   2023-03-01 00:16:43              1.0   \n",
            "1               2  2023-03-01 00:08:25   2023-03-01 00:39:30              2.0   \n",
            "2               1  2023-03-01 00:15:04   2023-03-01 00:29:26              0.0   \n",
            "3               1  2023-03-01 00:49:37   2023-03-01 01:01:05              1.0   \n",
            "4               2  2023-03-01 00:08:04   2023-03-01 00:11:06              1.0   \n",
            "...           ...                  ...                   ...              ...   \n",
            "3403761         2  2023-03-31 23:24:25   2023-03-31 23:40:54              NaN   \n",
            "3403762         2  2023-03-31 23:24:50   2023-04-01 00:04:12              NaN   \n",
            "3403763         2  2023-03-31 23:26:31   2023-03-31 23:49:39              NaN   \n",
            "3403764         2  2023-03-31 23:07:51   2023-03-31 23:15:56              NaN   \n",
            "3403765         2  2023-03-31 23:26:12   2023-03-31 23:31:47              NaN   \n",
            "\n",
            "         trip_distance  RatecodeID store_and_fwd_flag  PULocationID  \\\n",
            "0                 0.00         1.0                  N           238   \n",
            "1                12.40         1.0                  N           138   \n",
            "2                 3.30         1.0                  N           140   \n",
            "3                 2.90         1.0                  N           140   \n",
            "4                 1.23         1.0                  N            79   \n",
            "...                ...         ...                ...           ...   \n",
            "3403761           3.16         NaN               None           163   \n",
            "3403762           6.89         NaN               None           125   \n",
            "3403763           4.01         NaN               None            50   \n",
            "3403764           1.31         NaN               None           113   \n",
            "3403765           0.88         NaN               None            41   \n",
            "\n",
            "         DOLocationID  payment_type  fare_amount  extra  mta_tax  tip_amount  \\\n",
            "0                  42             2         8.60    1.0      0.5        0.00   \n",
            "1                 231             1        52.70    6.0      0.5       12.54   \n",
            "2                 186             1        18.40    3.5      0.5        4.65   \n",
            "3                  43             1        15.60    3.5      0.5        4.10   \n",
            "4                 137             1         7.20    1.0      0.5        2.44   \n",
            "...               ...           ...          ...    ...      ...         ...   \n",
            "3403761            75             0        12.13    0.0      0.5        4.23   \n",
            "3403762           198             0        40.92    0.0      0.5        8.98   \n",
            "3403763           224             0        24.02    0.0      0.5        0.00   \n",
            "3403764           158             0         8.51    0.0      0.5        3.50   \n",
            "3403765           166             0        13.51    0.0      0.5        2.25   \n",
            "\n",
            "         tolls_amount  improvement_surcharge  total_amount  \\\n",
            "0                 0.0                    1.0         11.10   \n",
            "1                 0.0                    1.0         76.49   \n",
            "2                 0.0                    1.0         28.05   \n",
            "3                 0.0                    1.0         24.70   \n",
            "4                 0.0                    1.0         14.64   \n",
            "...               ...                    ...           ...   \n",
            "3403761           0.0                    1.0         20.36   \n",
            "3403762           0.0                    1.0         53.90   \n",
            "3403763           0.0                    1.0         28.02   \n",
            "3403764           0.0                    1.0         16.01   \n",
            "3403765           0.0                    1.0         17.26   \n",
            "\n",
            "         congestion_surcharge  Airport_fee  \n",
            "0                         0.0         0.00  \n",
            "1                         2.5         1.25  \n",
            "2                         2.5         0.00  \n",
            "3                         2.5         0.00  \n",
            "4                         2.5         0.00  \n",
            "...                       ...          ...  \n",
            "3403761                   NaN          NaN  \n",
            "3403762                   NaN          NaN  \n",
            "3403763                   NaN          NaN  \n",
            "3403764                   NaN          NaN  \n",
            "3403765                   NaN          NaN  \n",
            "\n",
            "[3403766 rows x 19 columns]\n"
          ]
        }
      ],
      "source": [
        "#from google.colab import drive\n",
        "#drive.mount('/content/drive')\n",
        "\n",
        "import pyarrow.parquet as pq\n",
        "\n",
        "# Chemin du fichier Parquet\n",
        "#chemin_fichier = \"/content/yellow_tripdata_2023-03.parquet\"\n",
        "chemin_fichier = \"yellow_tripdata_2023-03.parquet\"\n",
        "\n",
        "# Lecture du fichier Parquet\n",
        "table = pq.read_table(chemin_fichier)\n",
        "\n",
        "# Conversion de la table en DataFrame pandas\n",
        "dataframe = table.to_pandas()\n",
        "\n",
        "#dataframe.to_csv(\"format_csv.csv\", index = False)\n",
        "# Affichage des données\n",
        "print(dataframe)\n",
        "\n"
      ]
    },
    {
      "cell_type": "code",
      "source": [
        "import pandas as pd # bibliothèque de manipulation de données tabulaires\n",
        "import numpy as np #  bibliothèque de manipulation des tableaux de données multidimensionnels\n",
        "import matplotlib.pyplot as plt # bibliothèque de visualisation de données\n",
        "import seaborn as sns #  bibliothèque de visualisation de données : graphiques statistiques"
      ],
      "metadata": {
        "id": "3vgTEOJm7ARS"
      },
      "execution_count": 204,
      "outputs": []
    },
    {
      "cell_type": "code",
      "source": [
        "dataframe.head()\n"
      ],
      "metadata": {
        "colab": {
          "base_uri": "https://localhost:8080/",
          "height": 270
        },
        "id": "gOoKjRI_V-br",
        "outputId": "6cbf245e-6e4e-4b5d-9a4a-8c08292b2fbb"
      },
      "execution_count": 205,
      "outputs": [
        {
          "output_type": "execute_result",
          "data": {
            "text/plain": [
              "   VendorID tpep_pickup_datetime tpep_dropoff_datetime  passenger_count  \\\n",
              "0         2  2023-03-01 00:06:43   2023-03-01 00:16:43              1.0   \n",
              "1         2  2023-03-01 00:08:25   2023-03-01 00:39:30              2.0   \n",
              "2         1  2023-03-01 00:15:04   2023-03-01 00:29:26              0.0   \n",
              "3         1  2023-03-01 00:49:37   2023-03-01 01:01:05              1.0   \n",
              "4         2  2023-03-01 00:08:04   2023-03-01 00:11:06              1.0   \n",
              "\n",
              "   trip_distance  RatecodeID store_and_fwd_flag  PULocationID  DOLocationID  \\\n",
              "0           0.00         1.0                  N           238            42   \n",
              "1          12.40         1.0                  N           138           231   \n",
              "2           3.30         1.0                  N           140           186   \n",
              "3           2.90         1.0                  N           140            43   \n",
              "4           1.23         1.0                  N            79           137   \n",
              "\n",
              "   payment_type  fare_amount  extra  mta_tax  tip_amount  tolls_amount  \\\n",
              "0             2          8.6    1.0      0.5        0.00           0.0   \n",
              "1             1         52.7    6.0      0.5       12.54           0.0   \n",
              "2             1         18.4    3.5      0.5        4.65           0.0   \n",
              "3             1         15.6    3.5      0.5        4.10           0.0   \n",
              "4             1          7.2    1.0      0.5        2.44           0.0   \n",
              "\n",
              "   improvement_surcharge  total_amount  congestion_surcharge  Airport_fee  \n",
              "0                    1.0         11.10                   0.0         0.00  \n",
              "1                    1.0         76.49                   2.5         1.25  \n",
              "2                    1.0         28.05                   2.5         0.00  \n",
              "3                    1.0         24.70                   2.5         0.00  \n",
              "4                    1.0         14.64                   2.5         0.00  "
            ],
            "text/html": [
              "\n",
              "  <div id=\"df-ba558c98-0771-4719-a43a-529634a80415\">\n",
              "    <div class=\"colab-df-container\">\n",
              "      <div>\n",
              "<style scoped>\n",
              "    .dataframe tbody tr th:only-of-type {\n",
              "        vertical-align: middle;\n",
              "    }\n",
              "\n",
              "    .dataframe tbody tr th {\n",
              "        vertical-align: top;\n",
              "    }\n",
              "\n",
              "    .dataframe thead th {\n",
              "        text-align: right;\n",
              "    }\n",
              "</style>\n",
              "<table border=\"1\" class=\"dataframe\">\n",
              "  <thead>\n",
              "    <tr style=\"text-align: right;\">\n",
              "      <th></th>\n",
              "      <th>VendorID</th>\n",
              "      <th>tpep_pickup_datetime</th>\n",
              "      <th>tpep_dropoff_datetime</th>\n",
              "      <th>passenger_count</th>\n",
              "      <th>trip_distance</th>\n",
              "      <th>RatecodeID</th>\n",
              "      <th>store_and_fwd_flag</th>\n",
              "      <th>PULocationID</th>\n",
              "      <th>DOLocationID</th>\n",
              "      <th>payment_type</th>\n",
              "      <th>fare_amount</th>\n",
              "      <th>extra</th>\n",
              "      <th>mta_tax</th>\n",
              "      <th>tip_amount</th>\n",
              "      <th>tolls_amount</th>\n",
              "      <th>improvement_surcharge</th>\n",
              "      <th>total_amount</th>\n",
              "      <th>congestion_surcharge</th>\n",
              "      <th>Airport_fee</th>\n",
              "    </tr>\n",
              "  </thead>\n",
              "  <tbody>\n",
              "    <tr>\n",
              "      <th>0</th>\n",
              "      <td>2</td>\n",
              "      <td>2023-03-01 00:06:43</td>\n",
              "      <td>2023-03-01 00:16:43</td>\n",
              "      <td>1.0</td>\n",
              "      <td>0.00</td>\n",
              "      <td>1.0</td>\n",
              "      <td>N</td>\n",
              "      <td>238</td>\n",
              "      <td>42</td>\n",
              "      <td>2</td>\n",
              "      <td>8.6</td>\n",
              "      <td>1.0</td>\n",
              "      <td>0.5</td>\n",
              "      <td>0.00</td>\n",
              "      <td>0.0</td>\n",
              "      <td>1.0</td>\n",
              "      <td>11.10</td>\n",
              "      <td>0.0</td>\n",
              "      <td>0.00</td>\n",
              "    </tr>\n",
              "    <tr>\n",
              "      <th>1</th>\n",
              "      <td>2</td>\n",
              "      <td>2023-03-01 00:08:25</td>\n",
              "      <td>2023-03-01 00:39:30</td>\n",
              "      <td>2.0</td>\n",
              "      <td>12.40</td>\n",
              "      <td>1.0</td>\n",
              "      <td>N</td>\n",
              "      <td>138</td>\n",
              "      <td>231</td>\n",
              "      <td>1</td>\n",
              "      <td>52.7</td>\n",
              "      <td>6.0</td>\n",
              "      <td>0.5</td>\n",
              "      <td>12.54</td>\n",
              "      <td>0.0</td>\n",
              "      <td>1.0</td>\n",
              "      <td>76.49</td>\n",
              "      <td>2.5</td>\n",
              "      <td>1.25</td>\n",
              "    </tr>\n",
              "    <tr>\n",
              "      <th>2</th>\n",
              "      <td>1</td>\n",
              "      <td>2023-03-01 00:15:04</td>\n",
              "      <td>2023-03-01 00:29:26</td>\n",
              "      <td>0.0</td>\n",
              "      <td>3.30</td>\n",
              "      <td>1.0</td>\n",
              "      <td>N</td>\n",
              "      <td>140</td>\n",
              "      <td>186</td>\n",
              "      <td>1</td>\n",
              "      <td>18.4</td>\n",
              "      <td>3.5</td>\n",
              "      <td>0.5</td>\n",
              "      <td>4.65</td>\n",
              "      <td>0.0</td>\n",
              "      <td>1.0</td>\n",
              "      <td>28.05</td>\n",
              "      <td>2.5</td>\n",
              "      <td>0.00</td>\n",
              "    </tr>\n",
              "    <tr>\n",
              "      <th>3</th>\n",
              "      <td>1</td>\n",
              "      <td>2023-03-01 00:49:37</td>\n",
              "      <td>2023-03-01 01:01:05</td>\n",
              "      <td>1.0</td>\n",
              "      <td>2.90</td>\n",
              "      <td>1.0</td>\n",
              "      <td>N</td>\n",
              "      <td>140</td>\n",
              "      <td>43</td>\n",
              "      <td>1</td>\n",
              "      <td>15.6</td>\n",
              "      <td>3.5</td>\n",
              "      <td>0.5</td>\n",
              "      <td>4.10</td>\n",
              "      <td>0.0</td>\n",
              "      <td>1.0</td>\n",
              "      <td>24.70</td>\n",
              "      <td>2.5</td>\n",
              "      <td>0.00</td>\n",
              "    </tr>\n",
              "    <tr>\n",
              "      <th>4</th>\n",
              "      <td>2</td>\n",
              "      <td>2023-03-01 00:08:04</td>\n",
              "      <td>2023-03-01 00:11:06</td>\n",
              "      <td>1.0</td>\n",
              "      <td>1.23</td>\n",
              "      <td>1.0</td>\n",
              "      <td>N</td>\n",
              "      <td>79</td>\n",
              "      <td>137</td>\n",
              "      <td>1</td>\n",
              "      <td>7.2</td>\n",
              "      <td>1.0</td>\n",
              "      <td>0.5</td>\n",
              "      <td>2.44</td>\n",
              "      <td>0.0</td>\n",
              "      <td>1.0</td>\n",
              "      <td>14.64</td>\n",
              "      <td>2.5</td>\n",
              "      <td>0.00</td>\n",
              "    </tr>\n",
              "  </tbody>\n",
              "</table>\n",
              "</div>\n",
              "      <button class=\"colab-df-convert\" onclick=\"convertToInteractive('df-ba558c98-0771-4719-a43a-529634a80415')\"\n",
              "              title=\"Convert this dataframe to an interactive table.\"\n",
              "              style=\"display:none;\">\n",
              "        \n",
              "  <svg xmlns=\"http://www.w3.org/2000/svg\" height=\"24px\"viewBox=\"0 0 24 24\"\n",
              "       width=\"24px\">\n",
              "    <path d=\"M0 0h24v24H0V0z\" fill=\"none\"/>\n",
              "    <path d=\"M18.56 5.44l.94 2.06.94-2.06 2.06-.94-2.06-.94-.94-2.06-.94 2.06-2.06.94zm-11 1L8.5 8.5l.94-2.06 2.06-.94-2.06-.94L8.5 2.5l-.94 2.06-2.06.94zm10 10l.94 2.06.94-2.06 2.06-.94-2.06-.94-.94-2.06-.94 2.06-2.06.94z\"/><path d=\"M17.41 7.96l-1.37-1.37c-.4-.4-.92-.59-1.43-.59-.52 0-1.04.2-1.43.59L10.3 9.45l-7.72 7.72c-.78.78-.78 2.05 0 2.83L4 21.41c.39.39.9.59 1.41.59.51 0 1.02-.2 1.41-.59l7.78-7.78 2.81-2.81c.8-.78.8-2.07 0-2.86zM5.41 20L4 18.59l7.72-7.72 1.47 1.35L5.41 20z\"/>\n",
              "  </svg>\n",
              "      </button>\n",
              "      \n",
              "  <style>\n",
              "    .colab-df-container {\n",
              "      display:flex;\n",
              "      flex-wrap:wrap;\n",
              "      gap: 12px;\n",
              "    }\n",
              "\n",
              "    .colab-df-convert {\n",
              "      background-color: #E8F0FE;\n",
              "      border: none;\n",
              "      border-radius: 50%;\n",
              "      cursor: pointer;\n",
              "      display: none;\n",
              "      fill: #1967D2;\n",
              "      height: 32px;\n",
              "      padding: 0 0 0 0;\n",
              "      width: 32px;\n",
              "    }\n",
              "\n",
              "    .colab-df-convert:hover {\n",
              "      background-color: #E2EBFA;\n",
              "      box-shadow: 0px 1px 2px rgba(60, 64, 67, 0.3), 0px 1px 3px 1px rgba(60, 64, 67, 0.15);\n",
              "      fill: #174EA6;\n",
              "    }\n",
              "\n",
              "    [theme=dark] .colab-df-convert {\n",
              "      background-color: #3B4455;\n",
              "      fill: #D2E3FC;\n",
              "    }\n",
              "\n",
              "    [theme=dark] .colab-df-convert:hover {\n",
              "      background-color: #434B5C;\n",
              "      box-shadow: 0px 1px 3px 1px rgba(0, 0, 0, 0.15);\n",
              "      filter: drop-shadow(0px 1px 2px rgba(0, 0, 0, 0.3));\n",
              "      fill: #FFFFFF;\n",
              "    }\n",
              "  </style>\n",
              "\n",
              "      <script>\n",
              "        const buttonEl =\n",
              "          document.querySelector('#df-ba558c98-0771-4719-a43a-529634a80415 button.colab-df-convert');\n",
              "        buttonEl.style.display =\n",
              "          google.colab.kernel.accessAllowed ? 'block' : 'none';\n",
              "\n",
              "        async function convertToInteractive(key) {\n",
              "          const element = document.querySelector('#df-ba558c98-0771-4719-a43a-529634a80415');\n",
              "          const dataTable =\n",
              "            await google.colab.kernel.invokeFunction('convertToInteractive',\n",
              "                                                     [key], {});\n",
              "          if (!dataTable) return;\n",
              "\n",
              "          const docLinkHtml = 'Like what you see? Visit the ' +\n",
              "            '<a target=\"_blank\" href=https://colab.research.google.com/notebooks/data_table.ipynb>data table notebook</a>'\n",
              "            + ' to learn more about interactive tables.';\n",
              "          element.innerHTML = '';\n",
              "          dataTable['output_type'] = 'display_data';\n",
              "          await google.colab.output.renderOutput(dataTable, element);\n",
              "          const docLink = document.createElement('div');\n",
              "          docLink.innerHTML = docLinkHtml;\n",
              "          element.appendChild(docLink);\n",
              "        }\n",
              "      </script>\n",
              "    </div>\n",
              "  </div>\n",
              "  "
            ]
          },
          "metadata": {},
          "execution_count": 205
        }
      ]
    },
    {
      "cell_type": "code",
      "source": [
        "dataframe.shape"
      ],
      "metadata": {
        "colab": {
          "base_uri": "https://localhost:8080/"
        },
        "id": "epkLEuCvH3QA",
        "outputId": "544d86e2-9511-4a1a-8da2-8a609560aad9"
      },
      "execution_count": 206,
      "outputs": [
        {
          "output_type": "execute_result",
          "data": {
            "text/plain": [
              "(3403766, 19)"
            ]
          },
          "metadata": {},
          "execution_count": 206
        }
      ]
    },
    {
      "cell_type": "markdown",
      "source": [
        "NETTOYAGE DES DONNEES\n",
        "- suppression variables calculées dans le tarif"
      ],
      "metadata": {
        "id": "iJczcqoBd98L"
      }
    },
    {
      "cell_type": "code",
      "source": [
        "dataframe.isnull().sum()"
      ],
      "metadata": {
        "colab": {
          "base_uri": "https://localhost:8080/"
        },
        "id": "mxNW9FiBeSJd",
        "outputId": "7253b280-bcd4-4b22-ea7a-0fb52d8df132"
      },
      "execution_count": 207,
      "outputs": [
        {
          "output_type": "execute_result",
          "data": {
            "text/plain": [
              "VendorID                     0\n",
              "tpep_pickup_datetime         0\n",
              "tpep_dropoff_datetime        0\n",
              "passenger_count          87619\n",
              "trip_distance                0\n",
              "RatecodeID               87619\n",
              "store_and_fwd_flag       87619\n",
              "PULocationID                 0\n",
              "DOLocationID                 0\n",
              "payment_type                 0\n",
              "fare_amount                  0\n",
              "extra                        0\n",
              "mta_tax                      0\n",
              "tip_amount                   0\n",
              "tolls_amount                 0\n",
              "improvement_surcharge        0\n",
              "total_amount                 0\n",
              "congestion_surcharge     87619\n",
              "Airport_fee              87619\n",
              "dtype: int64"
            ]
          },
          "metadata": {},
          "execution_count": 207
        }
      ]
    },
    {
      "cell_type": "markdown",
      "source": [
        "variable à prédire : total_amount\n",
        "pour la prédire : ne pas prendre en compte les autres variables monétaires\n",
        "suppression de :     \n",
        "- fare_amount\n",
        "- extra\n",
        "- mta_tax\n",
        "- tip_amount\n",
        "- tolls_amount\n",
        "- improvement_surcharge\n",
        "- congestion_surcharge\n",
        "- airport_fee"
      ],
      "metadata": {
        "id": "1GY034sDjJID"
      }
    },
    {
      "cell_type": "code",
      "source": [
        "df=dataframe.drop(['fare_amount', 'extra','mta_tax','tip_amount','tolls_amount','improvement_surcharge','congestion_surcharge','Airport_fee','RatecodeID'], axis=1)"
      ],
      "metadata": {
        "id": "z1PEiAyYjon2"
      },
      "execution_count": 208,
      "outputs": []
    },
    {
      "cell_type": "code",
      "source": [
        "df=df.drop(['VendorID', 'store_and_fwd_flag'], axis=1)"
      ],
      "metadata": {
        "id": "-EhHkEGGk5m_"
      },
      "execution_count": 209,
      "outputs": []
    },
    {
      "cell_type": "code",
      "source": [
        "df.isnull().sum()"
      ],
      "metadata": {
        "colab": {
          "base_uri": "https://localhost:8080/"
        },
        "id": "3zpRtEhcefne",
        "outputId": "041763a7-7b95-4da6-e143-c81e647b55c8"
      },
      "execution_count": 210,
      "outputs": [
        {
          "output_type": "execute_result",
          "data": {
            "text/plain": [
              "tpep_pickup_datetime         0\n",
              "tpep_dropoff_datetime        0\n",
              "passenger_count          87619\n",
              "trip_distance                0\n",
              "PULocationID                 0\n",
              "DOLocationID                 0\n",
              "payment_type                 0\n",
              "total_amount                 0\n",
              "dtype: int64"
            ]
          },
          "metadata": {},
          "execution_count": 210
        }
      ]
    },
    {
      "cell_type": "markdown",
      "source": [
        "suppression des lignes vides pour maximiser la modélisation"
      ],
      "metadata": {
        "id": "_MYkwY5keotW"
      }
    },
    {
      "cell_type": "code",
      "source": [
        "moy=int(df['passenger_count'].mean())"
      ],
      "metadata": {
        "id": "94IHNal_UfuO"
      },
      "execution_count": 211,
      "outputs": []
    },
    {
      "cell_type": "code",
      "source": [
        "df['passenger_count'] = df['passenger_count'].replace(np.nan, moy) #remplacement par la moyenne du nbre de passager "
      ],
      "metadata": {
        "id": "-qBRZIrmUyyC"
      },
      "execution_count": 212,
      "outputs": []
    },
    {
      "cell_type": "code",
      "source": [
        "#df=df.dropna(subset=['passenger_count'],axis=0) #suppression des lignes"
      ],
      "metadata": {
        "id": "0qOXHcFnkmQT"
      },
      "execution_count": 213,
      "outputs": []
    },
    {
      "cell_type": "code",
      "source": [
        "df.isnull().sum()"
      ],
      "metadata": {
        "colab": {
          "base_uri": "https://localhost:8080/"
        },
        "id": "oLKs75CgkTYp",
        "outputId": "ea8d2269-5fcb-44b0-e756-3e71b2563a56"
      },
      "execution_count": 214,
      "outputs": [
        {
          "output_type": "execute_result",
          "data": {
            "text/plain": [
              "tpep_pickup_datetime     0\n",
              "tpep_dropoff_datetime    0\n",
              "passenger_count          0\n",
              "trip_distance            0\n",
              "PULocationID             0\n",
              "DOLocationID             0\n",
              "payment_type             0\n",
              "total_amount             0\n",
              "dtype: int64"
            ]
          },
          "metadata": {},
          "execution_count": 214
        }
      ]
    },
    {
      "cell_type": "markdown",
      "source": [
        "CREATION DE VARIABLES\n",
        "Détails des dates  :    \n",
        "- mois\n",
        "- jour\n",
        "- année\n",
        "- heures\n",
        "- minutes\n",
        "- jour de la semaine\n",
        "- durée du trajet"
      ],
      "metadata": {
        "id": "a3AGgmJcdkIv"
      }
    },
    {
      "cell_type": "code",
      "source": [
        "df['mois'] = df.tpep_pickup_datetime.dt.month\n",
        "df['jour'] = df.tpep_pickup_datetime.dt.day\n",
        "df['annee'] = df.tpep_pickup_datetime.dt.year\n",
        "df['heure'] = df.tpep_pickup_datetime.dt.hour\n",
        "df['minute'] = df.tpep_pickup_datetime.dt.minute\n",
        "df['joursemaine'] = df.tpep_pickup_datetime.dt.weekday\n",
        "\n",
        "df['durée']=(df['tpep_dropoff_datetime']-df['tpep_pickup_datetime'])\n",
        "total_seconds = (df['tpep_dropoff_datetime'] - df['tpep_pickup_datetime']).dt.total_seconds()\n",
        "minutes = total_seconds // 60\n",
        "seconds = total_seconds % 60\n",
        "df['durée2'] = minutes + seconds / 60\n",
        "\n",
        "# Arrondir à 2 décimales si nécessaire\n",
        "df['durée2'] = df['durée2'].apply(lambda x: round(x, 2))"
      ],
      "metadata": {
        "id": "9pkgBeX0Lirp"
      },
      "execution_count": 215,
      "outputs": []
    },
    {
      "cell_type": "code",
      "source": [
        "df=df.drop(['tpep_pickup_datetime','tpep_dropoff_datetime'], axis=1) #décomposation ok donc plus besoin des variables complètes"
      ],
      "metadata": {
        "id": "kXiYf12LYu_F"
      },
      "execution_count": 243,
      "outputs": []
    },
    {
      "cell_type": "code",
      "source": [
        "df.tail(10)"
      ],
      "metadata": {
        "colab": {
          "base_uri": "https://localhost:8080/",
          "height": 600
        },
        "id": "5Ki9l1MKLy6q",
        "outputId": "e362d8b3-3beb-4923-86a9-426c985cdbb5"
      },
      "execution_count": 244,
      "outputs": [
        {
          "output_type": "execute_result",
          "data": {
            "text/plain": [
              "         passenger_count  trip_distance  PULocationID  DOLocationID  \\\n",
              "3403756              1.0           5.17           113           151   \n",
              "3403757              1.0           1.57            45            79   \n",
              "3403758              1.0           5.52           230           223   \n",
              "3403759              1.0           2.48            74           141   \n",
              "3403760              1.0           4.56           231            80   \n",
              "3403761              1.0           3.16           163            75   \n",
              "3403762              1.0           6.89           125           198   \n",
              "3403763              1.0           4.01            50           224   \n",
              "3403764              1.0           1.31           113           158   \n",
              "3403765              1.0           0.88            41           166   \n",
              "\n",
              "         payment_type  total_amount  mois  jour  annee  heure  minute  \\\n",
              "3403756             0         41.25     3    31   2023     23      43   \n",
              "3403757             0         15.41     3    31   2023     23      21   \n",
              "3403758             0         36.94     3    31   2023     23      44   \n",
              "3403759             0         15.27     3    31   2023     23      13   \n",
              "3403760             0         27.58     3    31   2023     23      11   \n",
              "3403761             0         20.36     3    31   2023     23      24   \n",
              "3403762             0         53.90     3    31   2023     23      24   \n",
              "3403763             0         28.02     3    31   2023     23      26   \n",
              "3403764             0         16.01     3    31   2023     23       7   \n",
              "3403765             0         17.26     3    31   2023     23      26   \n",
              "\n",
              "         joursemaine           durée  durée2  \n",
              "3403756            4 0 days 00:25:49   25.82  \n",
              "3403757            4 0 days 00:10:16   10.27  \n",
              "3403758            4 0 days 00:33:00   33.00  \n",
              "3403759            4 0 days 00:12:00   12.00  \n",
              "3403760            4 0 days 00:20:17   20.28  \n",
              "3403761            4 0 days 00:16:29   16.48  \n",
              "3403762            4 0 days 00:39:22   39.37  \n",
              "3403763            4 0 days 00:23:08   23.13  \n",
              "3403764            4 0 days 00:08:05    8.08  \n",
              "3403765            4 0 days 00:05:35    5.58  "
            ],
            "text/html": [
              "\n",
              "  <div id=\"df-8156e6b0-338c-465d-8b70-69735c8a48f2\">\n",
              "    <div class=\"colab-df-container\">\n",
              "      <div>\n",
              "<style scoped>\n",
              "    .dataframe tbody tr th:only-of-type {\n",
              "        vertical-align: middle;\n",
              "    }\n",
              "\n",
              "    .dataframe tbody tr th {\n",
              "        vertical-align: top;\n",
              "    }\n",
              "\n",
              "    .dataframe thead th {\n",
              "        text-align: right;\n",
              "    }\n",
              "</style>\n",
              "<table border=\"1\" class=\"dataframe\">\n",
              "  <thead>\n",
              "    <tr style=\"text-align: right;\">\n",
              "      <th></th>\n",
              "      <th>passenger_count</th>\n",
              "      <th>trip_distance</th>\n",
              "      <th>PULocationID</th>\n",
              "      <th>DOLocationID</th>\n",
              "      <th>payment_type</th>\n",
              "      <th>total_amount</th>\n",
              "      <th>mois</th>\n",
              "      <th>jour</th>\n",
              "      <th>annee</th>\n",
              "      <th>heure</th>\n",
              "      <th>minute</th>\n",
              "      <th>joursemaine</th>\n",
              "      <th>durée</th>\n",
              "      <th>durée2</th>\n",
              "    </tr>\n",
              "  </thead>\n",
              "  <tbody>\n",
              "    <tr>\n",
              "      <th>3403756</th>\n",
              "      <td>1.0</td>\n",
              "      <td>5.17</td>\n",
              "      <td>113</td>\n",
              "      <td>151</td>\n",
              "      <td>0</td>\n",
              "      <td>41.25</td>\n",
              "      <td>3</td>\n",
              "      <td>31</td>\n",
              "      <td>2023</td>\n",
              "      <td>23</td>\n",
              "      <td>43</td>\n",
              "      <td>4</td>\n",
              "      <td>0 days 00:25:49</td>\n",
              "      <td>25.82</td>\n",
              "    </tr>\n",
              "    <tr>\n",
              "      <th>3403757</th>\n",
              "      <td>1.0</td>\n",
              "      <td>1.57</td>\n",
              "      <td>45</td>\n",
              "      <td>79</td>\n",
              "      <td>0</td>\n",
              "      <td>15.41</td>\n",
              "      <td>3</td>\n",
              "      <td>31</td>\n",
              "      <td>2023</td>\n",
              "      <td>23</td>\n",
              "      <td>21</td>\n",
              "      <td>4</td>\n",
              "      <td>0 days 00:10:16</td>\n",
              "      <td>10.27</td>\n",
              "    </tr>\n",
              "    <tr>\n",
              "      <th>3403758</th>\n",
              "      <td>1.0</td>\n",
              "      <td>5.52</td>\n",
              "      <td>230</td>\n",
              "      <td>223</td>\n",
              "      <td>0</td>\n",
              "      <td>36.94</td>\n",
              "      <td>3</td>\n",
              "      <td>31</td>\n",
              "      <td>2023</td>\n",
              "      <td>23</td>\n",
              "      <td>44</td>\n",
              "      <td>4</td>\n",
              "      <td>0 days 00:33:00</td>\n",
              "      <td>33.00</td>\n",
              "    </tr>\n",
              "    <tr>\n",
              "      <th>3403759</th>\n",
              "      <td>1.0</td>\n",
              "      <td>2.48</td>\n",
              "      <td>74</td>\n",
              "      <td>141</td>\n",
              "      <td>0</td>\n",
              "      <td>15.27</td>\n",
              "      <td>3</td>\n",
              "      <td>31</td>\n",
              "      <td>2023</td>\n",
              "      <td>23</td>\n",
              "      <td>13</td>\n",
              "      <td>4</td>\n",
              "      <td>0 days 00:12:00</td>\n",
              "      <td>12.00</td>\n",
              "    </tr>\n",
              "    <tr>\n",
              "      <th>3403760</th>\n",
              "      <td>1.0</td>\n",
              "      <td>4.56</td>\n",
              "      <td>231</td>\n",
              "      <td>80</td>\n",
              "      <td>0</td>\n",
              "      <td>27.58</td>\n",
              "      <td>3</td>\n",
              "      <td>31</td>\n",
              "      <td>2023</td>\n",
              "      <td>23</td>\n",
              "      <td>11</td>\n",
              "      <td>4</td>\n",
              "      <td>0 days 00:20:17</td>\n",
              "      <td>20.28</td>\n",
              "    </tr>\n",
              "    <tr>\n",
              "      <th>3403761</th>\n",
              "      <td>1.0</td>\n",
              "      <td>3.16</td>\n",
              "      <td>163</td>\n",
              "      <td>75</td>\n",
              "      <td>0</td>\n",
              "      <td>20.36</td>\n",
              "      <td>3</td>\n",
              "      <td>31</td>\n",
              "      <td>2023</td>\n",
              "      <td>23</td>\n",
              "      <td>24</td>\n",
              "      <td>4</td>\n",
              "      <td>0 days 00:16:29</td>\n",
              "      <td>16.48</td>\n",
              "    </tr>\n",
              "    <tr>\n",
              "      <th>3403762</th>\n",
              "      <td>1.0</td>\n",
              "      <td>6.89</td>\n",
              "      <td>125</td>\n",
              "      <td>198</td>\n",
              "      <td>0</td>\n",
              "      <td>53.90</td>\n",
              "      <td>3</td>\n",
              "      <td>31</td>\n",
              "      <td>2023</td>\n",
              "      <td>23</td>\n",
              "      <td>24</td>\n",
              "      <td>4</td>\n",
              "      <td>0 days 00:39:22</td>\n",
              "      <td>39.37</td>\n",
              "    </tr>\n",
              "    <tr>\n",
              "      <th>3403763</th>\n",
              "      <td>1.0</td>\n",
              "      <td>4.01</td>\n",
              "      <td>50</td>\n",
              "      <td>224</td>\n",
              "      <td>0</td>\n",
              "      <td>28.02</td>\n",
              "      <td>3</td>\n",
              "      <td>31</td>\n",
              "      <td>2023</td>\n",
              "      <td>23</td>\n",
              "      <td>26</td>\n",
              "      <td>4</td>\n",
              "      <td>0 days 00:23:08</td>\n",
              "      <td>23.13</td>\n",
              "    </tr>\n",
              "    <tr>\n",
              "      <th>3403764</th>\n",
              "      <td>1.0</td>\n",
              "      <td>1.31</td>\n",
              "      <td>113</td>\n",
              "      <td>158</td>\n",
              "      <td>0</td>\n",
              "      <td>16.01</td>\n",
              "      <td>3</td>\n",
              "      <td>31</td>\n",
              "      <td>2023</td>\n",
              "      <td>23</td>\n",
              "      <td>7</td>\n",
              "      <td>4</td>\n",
              "      <td>0 days 00:08:05</td>\n",
              "      <td>8.08</td>\n",
              "    </tr>\n",
              "    <tr>\n",
              "      <th>3403765</th>\n",
              "      <td>1.0</td>\n",
              "      <td>0.88</td>\n",
              "      <td>41</td>\n",
              "      <td>166</td>\n",
              "      <td>0</td>\n",
              "      <td>17.26</td>\n",
              "      <td>3</td>\n",
              "      <td>31</td>\n",
              "      <td>2023</td>\n",
              "      <td>23</td>\n",
              "      <td>26</td>\n",
              "      <td>4</td>\n",
              "      <td>0 days 00:05:35</td>\n",
              "      <td>5.58</td>\n",
              "    </tr>\n",
              "  </tbody>\n",
              "</table>\n",
              "</div>\n",
              "      <button class=\"colab-df-convert\" onclick=\"convertToInteractive('df-8156e6b0-338c-465d-8b70-69735c8a48f2')\"\n",
              "              title=\"Convert this dataframe to an interactive table.\"\n",
              "              style=\"display:none;\">\n",
              "        \n",
              "  <svg xmlns=\"http://www.w3.org/2000/svg\" height=\"24px\"viewBox=\"0 0 24 24\"\n",
              "       width=\"24px\">\n",
              "    <path d=\"M0 0h24v24H0V0z\" fill=\"none\"/>\n",
              "    <path d=\"M18.56 5.44l.94 2.06.94-2.06 2.06-.94-2.06-.94-.94-2.06-.94 2.06-2.06.94zm-11 1L8.5 8.5l.94-2.06 2.06-.94-2.06-.94L8.5 2.5l-.94 2.06-2.06.94zm10 10l.94 2.06.94-2.06 2.06-.94-2.06-.94-.94-2.06-.94 2.06-2.06.94z\"/><path d=\"M17.41 7.96l-1.37-1.37c-.4-.4-.92-.59-1.43-.59-.52 0-1.04.2-1.43.59L10.3 9.45l-7.72 7.72c-.78.78-.78 2.05 0 2.83L4 21.41c.39.39.9.59 1.41.59.51 0 1.02-.2 1.41-.59l7.78-7.78 2.81-2.81c.8-.78.8-2.07 0-2.86zM5.41 20L4 18.59l7.72-7.72 1.47 1.35L5.41 20z\"/>\n",
              "  </svg>\n",
              "      </button>\n",
              "      \n",
              "  <style>\n",
              "    .colab-df-container {\n",
              "      display:flex;\n",
              "      flex-wrap:wrap;\n",
              "      gap: 12px;\n",
              "    }\n",
              "\n",
              "    .colab-df-convert {\n",
              "      background-color: #E8F0FE;\n",
              "      border: none;\n",
              "      border-radius: 50%;\n",
              "      cursor: pointer;\n",
              "      display: none;\n",
              "      fill: #1967D2;\n",
              "      height: 32px;\n",
              "      padding: 0 0 0 0;\n",
              "      width: 32px;\n",
              "    }\n",
              "\n",
              "    .colab-df-convert:hover {\n",
              "      background-color: #E2EBFA;\n",
              "      box-shadow: 0px 1px 2px rgba(60, 64, 67, 0.3), 0px 1px 3px 1px rgba(60, 64, 67, 0.15);\n",
              "      fill: #174EA6;\n",
              "    }\n",
              "\n",
              "    [theme=dark] .colab-df-convert {\n",
              "      background-color: #3B4455;\n",
              "      fill: #D2E3FC;\n",
              "    }\n",
              "\n",
              "    [theme=dark] .colab-df-convert:hover {\n",
              "      background-color: #434B5C;\n",
              "      box-shadow: 0px 1px 3px 1px rgba(0, 0, 0, 0.15);\n",
              "      filter: drop-shadow(0px 1px 2px rgba(0, 0, 0, 0.3));\n",
              "      fill: #FFFFFF;\n",
              "    }\n",
              "  </style>\n",
              "\n",
              "      <script>\n",
              "        const buttonEl =\n",
              "          document.querySelector('#df-8156e6b0-338c-465d-8b70-69735c8a48f2 button.colab-df-convert');\n",
              "        buttonEl.style.display =\n",
              "          google.colab.kernel.accessAllowed ? 'block' : 'none';\n",
              "\n",
              "        async function convertToInteractive(key) {\n",
              "          const element = document.querySelector('#df-8156e6b0-338c-465d-8b70-69735c8a48f2');\n",
              "          const dataTable =\n",
              "            await google.colab.kernel.invokeFunction('convertToInteractive',\n",
              "                                                     [key], {});\n",
              "          if (!dataTable) return;\n",
              "\n",
              "          const docLinkHtml = 'Like what you see? Visit the ' +\n",
              "            '<a target=\"_blank\" href=https://colab.research.google.com/notebooks/data_table.ipynb>data table notebook</a>'\n",
              "            + ' to learn more about interactive tables.';\n",
              "          element.innerHTML = '';\n",
              "          dataTable['output_type'] = 'display_data';\n",
              "          await google.colab.output.renderOutput(dataTable, element);\n",
              "          const docLink = document.createElement('div');\n",
              "          docLink.innerHTML = docLinkHtml;\n",
              "          element.appendChild(docLink);\n",
              "        }\n",
              "      </script>\n",
              "    </div>\n",
              "  </div>\n",
              "  "
            ]
          },
          "metadata": {},
          "execution_count": 244
        }
      ]
    },
    {
      "cell_type": "code",
      "source": [
        "df.describe()"
      ],
      "metadata": {
        "colab": {
          "base_uri": "https://localhost:8080/",
          "height": 399
        },
        "id": "7kOuoKxkesuN",
        "outputId": "9c4ba3e2-87d8-462b-a943-64fcd8a6c018"
      },
      "execution_count": 217,
      "outputs": [
        {
          "output_type": "execute_result",
          "data": {
            "text/plain": [
              "       passenger_count  trip_distance  PULocationID  DOLocationID  \\\n",
              "count     3.403766e+06   3.403766e+06  3.403766e+06  3.403766e+06   \n",
              "mean      1.342371e+00   3.903871e+00  1.654540e+02  1.641003e+02   \n",
              "std       8.764800e-01   1.916866e+02  6.373958e+01  6.967282e+01   \n",
              "min       0.000000e+00   0.000000e+00  1.000000e+00  1.000000e+00   \n",
              "25%       1.000000e+00   1.050000e+00  1.320000e+02  1.140000e+02   \n",
              "50%       1.000000e+00   1.790000e+00  1.620000e+02  1.620000e+02   \n",
              "75%       1.000000e+00   3.380000e+00  2.330000e+02  2.340000e+02   \n",
              "max       9.000000e+00   2.169870e+05  2.650000e+02  2.650000e+02   \n",
              "\n",
              "       payment_type  total_amount          mois          jour         annee  \\\n",
              "count  3.403766e+06  3.403766e+06  3.403766e+06  3.403766e+06  3.403766e+06   \n",
              "mean   1.187310e+00  2.780343e+01  3.000007e+00  1.588435e+01  2.023000e+03   \n",
              "std    5.334025e-01  2.286614e+01  1.316577e-02  8.984603e+00  3.455810e-02   \n",
              "min    0.000000e+00 -9.829500e+02  1.000000e+00  1.000000e+00  2.001000e+03   \n",
              "25%    1.000000e+00  1.570000e+01  3.000000e+00  8.000000e+00  2.023000e+03   \n",
              "50%    1.000000e+00  2.060000e+01  3.000000e+00  1.600000e+01  2.023000e+03   \n",
              "75%    1.000000e+00  2.976000e+01  3.000000e+00  2.400000e+01  2.023000e+03   \n",
              "max    5.000000e+00  2.100000e+03  1.200000e+01  3.100000e+01  2.023000e+03   \n",
              "\n",
              "              heure        minute   joursemaine                      durée  \\\n",
              "count  3.403766e+06  3.403766e+06  3.403766e+06                    3403766   \n",
              "mean   1.434281e+01  2.954385e+01  3.026332e+00  0 days 00:16:52.909035462   \n",
              "std    5.760345e+00  1.734014e+01  1.847898e+00  0 days 00:43:47.674722006   \n",
              "min    0.000000e+00  0.000000e+00  0.000000e+00          -1 days +16:03:45   \n",
              "25%    1.100000e+01  1.400000e+01  2.000000e+00            0 days 00:07:24   \n",
              "50%    1.500000e+01  3.000000e+01  3.000000e+00            0 days 00:12:09   \n",
              "75%    1.900000e+01  4.500000e+01  4.000000e+00            0 days 00:19:39   \n",
              "max    2.300000e+01  5.900000e+01  6.000000e+00            3 days 21:57:43   \n",
              "\n",
              "             durée2  \n",
              "count  3.403766e+06  \n",
              "mean   1.688182e+01  \n",
              "std    4.379458e+01  \n",
              "min   -4.762500e+02  \n",
              "25%    7.400000e+00  \n",
              "50%    1.215000e+01  \n",
              "75%    1.965000e+01  \n",
              "max    5.637720e+03  "
            ],
            "text/html": [
              "\n",
              "  <div id=\"df-fbc88647-edf1-40db-a3ed-aa56399c72f8\">\n",
              "    <div class=\"colab-df-container\">\n",
              "      <div>\n",
              "<style scoped>\n",
              "    .dataframe tbody tr th:only-of-type {\n",
              "        vertical-align: middle;\n",
              "    }\n",
              "\n",
              "    .dataframe tbody tr th {\n",
              "        vertical-align: top;\n",
              "    }\n",
              "\n",
              "    .dataframe thead th {\n",
              "        text-align: right;\n",
              "    }\n",
              "</style>\n",
              "<table border=\"1\" class=\"dataframe\">\n",
              "  <thead>\n",
              "    <tr style=\"text-align: right;\">\n",
              "      <th></th>\n",
              "      <th>passenger_count</th>\n",
              "      <th>trip_distance</th>\n",
              "      <th>PULocationID</th>\n",
              "      <th>DOLocationID</th>\n",
              "      <th>payment_type</th>\n",
              "      <th>total_amount</th>\n",
              "      <th>mois</th>\n",
              "      <th>jour</th>\n",
              "      <th>annee</th>\n",
              "      <th>heure</th>\n",
              "      <th>minute</th>\n",
              "      <th>joursemaine</th>\n",
              "      <th>durée</th>\n",
              "      <th>durée2</th>\n",
              "    </tr>\n",
              "  </thead>\n",
              "  <tbody>\n",
              "    <tr>\n",
              "      <th>count</th>\n",
              "      <td>3.403766e+06</td>\n",
              "      <td>3.403766e+06</td>\n",
              "      <td>3.403766e+06</td>\n",
              "      <td>3.403766e+06</td>\n",
              "      <td>3.403766e+06</td>\n",
              "      <td>3.403766e+06</td>\n",
              "      <td>3.403766e+06</td>\n",
              "      <td>3.403766e+06</td>\n",
              "      <td>3.403766e+06</td>\n",
              "      <td>3.403766e+06</td>\n",
              "      <td>3.403766e+06</td>\n",
              "      <td>3.403766e+06</td>\n",
              "      <td>3403766</td>\n",
              "      <td>3.403766e+06</td>\n",
              "    </tr>\n",
              "    <tr>\n",
              "      <th>mean</th>\n",
              "      <td>1.342371e+00</td>\n",
              "      <td>3.903871e+00</td>\n",
              "      <td>1.654540e+02</td>\n",
              "      <td>1.641003e+02</td>\n",
              "      <td>1.187310e+00</td>\n",
              "      <td>2.780343e+01</td>\n",
              "      <td>3.000007e+00</td>\n",
              "      <td>1.588435e+01</td>\n",
              "      <td>2.023000e+03</td>\n",
              "      <td>1.434281e+01</td>\n",
              "      <td>2.954385e+01</td>\n",
              "      <td>3.026332e+00</td>\n",
              "      <td>0 days 00:16:52.909035462</td>\n",
              "      <td>1.688182e+01</td>\n",
              "    </tr>\n",
              "    <tr>\n",
              "      <th>std</th>\n",
              "      <td>8.764800e-01</td>\n",
              "      <td>1.916866e+02</td>\n",
              "      <td>6.373958e+01</td>\n",
              "      <td>6.967282e+01</td>\n",
              "      <td>5.334025e-01</td>\n",
              "      <td>2.286614e+01</td>\n",
              "      <td>1.316577e-02</td>\n",
              "      <td>8.984603e+00</td>\n",
              "      <td>3.455810e-02</td>\n",
              "      <td>5.760345e+00</td>\n",
              "      <td>1.734014e+01</td>\n",
              "      <td>1.847898e+00</td>\n",
              "      <td>0 days 00:43:47.674722006</td>\n",
              "      <td>4.379458e+01</td>\n",
              "    </tr>\n",
              "    <tr>\n",
              "      <th>min</th>\n",
              "      <td>0.000000e+00</td>\n",
              "      <td>0.000000e+00</td>\n",
              "      <td>1.000000e+00</td>\n",
              "      <td>1.000000e+00</td>\n",
              "      <td>0.000000e+00</td>\n",
              "      <td>-9.829500e+02</td>\n",
              "      <td>1.000000e+00</td>\n",
              "      <td>1.000000e+00</td>\n",
              "      <td>2.001000e+03</td>\n",
              "      <td>0.000000e+00</td>\n",
              "      <td>0.000000e+00</td>\n",
              "      <td>0.000000e+00</td>\n",
              "      <td>-1 days +16:03:45</td>\n",
              "      <td>-4.762500e+02</td>\n",
              "    </tr>\n",
              "    <tr>\n",
              "      <th>25%</th>\n",
              "      <td>1.000000e+00</td>\n",
              "      <td>1.050000e+00</td>\n",
              "      <td>1.320000e+02</td>\n",
              "      <td>1.140000e+02</td>\n",
              "      <td>1.000000e+00</td>\n",
              "      <td>1.570000e+01</td>\n",
              "      <td>3.000000e+00</td>\n",
              "      <td>8.000000e+00</td>\n",
              "      <td>2.023000e+03</td>\n",
              "      <td>1.100000e+01</td>\n",
              "      <td>1.400000e+01</td>\n",
              "      <td>2.000000e+00</td>\n",
              "      <td>0 days 00:07:24</td>\n",
              "      <td>7.400000e+00</td>\n",
              "    </tr>\n",
              "    <tr>\n",
              "      <th>50%</th>\n",
              "      <td>1.000000e+00</td>\n",
              "      <td>1.790000e+00</td>\n",
              "      <td>1.620000e+02</td>\n",
              "      <td>1.620000e+02</td>\n",
              "      <td>1.000000e+00</td>\n",
              "      <td>2.060000e+01</td>\n",
              "      <td>3.000000e+00</td>\n",
              "      <td>1.600000e+01</td>\n",
              "      <td>2.023000e+03</td>\n",
              "      <td>1.500000e+01</td>\n",
              "      <td>3.000000e+01</td>\n",
              "      <td>3.000000e+00</td>\n",
              "      <td>0 days 00:12:09</td>\n",
              "      <td>1.215000e+01</td>\n",
              "    </tr>\n",
              "    <tr>\n",
              "      <th>75%</th>\n",
              "      <td>1.000000e+00</td>\n",
              "      <td>3.380000e+00</td>\n",
              "      <td>2.330000e+02</td>\n",
              "      <td>2.340000e+02</td>\n",
              "      <td>1.000000e+00</td>\n",
              "      <td>2.976000e+01</td>\n",
              "      <td>3.000000e+00</td>\n",
              "      <td>2.400000e+01</td>\n",
              "      <td>2.023000e+03</td>\n",
              "      <td>1.900000e+01</td>\n",
              "      <td>4.500000e+01</td>\n",
              "      <td>4.000000e+00</td>\n",
              "      <td>0 days 00:19:39</td>\n",
              "      <td>1.965000e+01</td>\n",
              "    </tr>\n",
              "    <tr>\n",
              "      <th>max</th>\n",
              "      <td>9.000000e+00</td>\n",
              "      <td>2.169870e+05</td>\n",
              "      <td>2.650000e+02</td>\n",
              "      <td>2.650000e+02</td>\n",
              "      <td>5.000000e+00</td>\n",
              "      <td>2.100000e+03</td>\n",
              "      <td>1.200000e+01</td>\n",
              "      <td>3.100000e+01</td>\n",
              "      <td>2.023000e+03</td>\n",
              "      <td>2.300000e+01</td>\n",
              "      <td>5.900000e+01</td>\n",
              "      <td>6.000000e+00</td>\n",
              "      <td>3 days 21:57:43</td>\n",
              "      <td>5.637720e+03</td>\n",
              "    </tr>\n",
              "  </tbody>\n",
              "</table>\n",
              "</div>\n",
              "      <button class=\"colab-df-convert\" onclick=\"convertToInteractive('df-fbc88647-edf1-40db-a3ed-aa56399c72f8')\"\n",
              "              title=\"Convert this dataframe to an interactive table.\"\n",
              "              style=\"display:none;\">\n",
              "        \n",
              "  <svg xmlns=\"http://www.w3.org/2000/svg\" height=\"24px\"viewBox=\"0 0 24 24\"\n",
              "       width=\"24px\">\n",
              "    <path d=\"M0 0h24v24H0V0z\" fill=\"none\"/>\n",
              "    <path d=\"M18.56 5.44l.94 2.06.94-2.06 2.06-.94-2.06-.94-.94-2.06-.94 2.06-2.06.94zm-11 1L8.5 8.5l.94-2.06 2.06-.94-2.06-.94L8.5 2.5l-.94 2.06-2.06.94zm10 10l.94 2.06.94-2.06 2.06-.94-2.06-.94-.94-2.06-.94 2.06-2.06.94z\"/><path d=\"M17.41 7.96l-1.37-1.37c-.4-.4-.92-.59-1.43-.59-.52 0-1.04.2-1.43.59L10.3 9.45l-7.72 7.72c-.78.78-.78 2.05 0 2.83L4 21.41c.39.39.9.59 1.41.59.51 0 1.02-.2 1.41-.59l7.78-7.78 2.81-2.81c.8-.78.8-2.07 0-2.86zM5.41 20L4 18.59l7.72-7.72 1.47 1.35L5.41 20z\"/>\n",
              "  </svg>\n",
              "      </button>\n",
              "      \n",
              "  <style>\n",
              "    .colab-df-container {\n",
              "      display:flex;\n",
              "      flex-wrap:wrap;\n",
              "      gap: 12px;\n",
              "    }\n",
              "\n",
              "    .colab-df-convert {\n",
              "      background-color: #E8F0FE;\n",
              "      border: none;\n",
              "      border-radius: 50%;\n",
              "      cursor: pointer;\n",
              "      display: none;\n",
              "      fill: #1967D2;\n",
              "      height: 32px;\n",
              "      padding: 0 0 0 0;\n",
              "      width: 32px;\n",
              "    }\n",
              "\n",
              "    .colab-df-convert:hover {\n",
              "      background-color: #E2EBFA;\n",
              "      box-shadow: 0px 1px 2px rgba(60, 64, 67, 0.3), 0px 1px 3px 1px rgba(60, 64, 67, 0.15);\n",
              "      fill: #174EA6;\n",
              "    }\n",
              "\n",
              "    [theme=dark] .colab-df-convert {\n",
              "      background-color: #3B4455;\n",
              "      fill: #D2E3FC;\n",
              "    }\n",
              "\n",
              "    [theme=dark] .colab-df-convert:hover {\n",
              "      background-color: #434B5C;\n",
              "      box-shadow: 0px 1px 3px 1px rgba(0, 0, 0, 0.15);\n",
              "      filter: drop-shadow(0px 1px 2px rgba(0, 0, 0, 0.3));\n",
              "      fill: #FFFFFF;\n",
              "    }\n",
              "  </style>\n",
              "\n",
              "      <script>\n",
              "        const buttonEl =\n",
              "          document.querySelector('#df-fbc88647-edf1-40db-a3ed-aa56399c72f8 button.colab-df-convert');\n",
              "        buttonEl.style.display =\n",
              "          google.colab.kernel.accessAllowed ? 'block' : 'none';\n",
              "\n",
              "        async function convertToInteractive(key) {\n",
              "          const element = document.querySelector('#df-fbc88647-edf1-40db-a3ed-aa56399c72f8');\n",
              "          const dataTable =\n",
              "            await google.colab.kernel.invokeFunction('convertToInteractive',\n",
              "                                                     [key], {});\n",
              "          if (!dataTable) return;\n",
              "\n",
              "          const docLinkHtml = 'Like what you see? Visit the ' +\n",
              "            '<a target=\"_blank\" href=https://colab.research.google.com/notebooks/data_table.ipynb>data table notebook</a>'\n",
              "            + ' to learn more about interactive tables.';\n",
              "          element.innerHTML = '';\n",
              "          dataTable['output_type'] = 'display_data';\n",
              "          await google.colab.output.renderOutput(dataTable, element);\n",
              "          const docLink = document.createElement('div');\n",
              "          docLink.innerHTML = docLinkHtml;\n",
              "          element.appendChild(docLink);\n",
              "        }\n",
              "      </script>\n",
              "    </div>\n",
              "  </div>\n",
              "  "
            ]
          },
          "metadata": {},
          "execution_count": 217
        }
      ]
    },
    {
      "cell_type": "markdown",
      "source": [
        "RECHERCHE VALEURS ABERRANTES"
      ],
      "metadata": {
        "id": "ToJ81LfBiYLo"
      }
    },
    {
      "cell_type": "code",
      "source": [
        "from datetime import timedelta"
      ],
      "metadata": {
        "id": "FXaI5J-Hl6IB"
      },
      "execution_count": 218,
      "outputs": []
    },
    {
      "cell_type": "markdown",
      "source": [
        "variable 'durée'"
      ],
      "metadata": {
        "id": "HdRUEVyzQ93N"
      }
    },
    {
      "cell_type": "code",
      "source": [
        "df['durée'].max()"
      ],
      "metadata": {
        "colab": {
          "base_uri": "https://localhost:8080/"
        },
        "id": "Ra9u1t4AiwFS",
        "outputId": "595360aa-256f-4bd6-b6ef-5c2791f9bdf3"
      },
      "execution_count": 219,
      "outputs": [
        {
          "output_type": "execute_result",
          "data": {
            "text/plain": [
              "Timedelta('3 days 21:57:43')"
            ]
          },
          "metadata": {},
          "execution_count": 219
        }
      ]
    },
    {
      "cell_type": "code",
      "source": [
        "oneday=timedelta(days=1)"
      ],
      "metadata": {
        "id": "sFJ8DGkiTh8p"
      },
      "execution_count": 220,
      "outputs": []
    },
    {
      "cell_type": "code",
      "source": [
        "(df['durée']>oneday).value_counts()"
      ],
      "metadata": {
        "colab": {
          "base_uri": "https://localhost:8080/"
        },
        "id": "3Mx6m4SjTOiD",
        "outputId": "ac039319-52f7-4c73-d9c6-e5d96ed92c18"
      },
      "execution_count": 221,
      "outputs": [
        {
          "output_type": "execute_result",
          "data": {
            "text/plain": [
              "False    3403745\n",
              "True          21\n",
              "Name: durée, dtype: int64"
            ]
          },
          "metadata": {},
          "execution_count": 221
        }
      ]
    },
    {
      "cell_type": "code",
      "source": [
        "df[df['durée']>oneday].value_counts()"
      ],
      "metadata": {
        "colab": {
          "base_uri": "https://localhost:8080/"
        },
        "id": "vc2roEwAkAMA",
        "outputId": "d1c197c4-c6fa-48a1-c8bb-a57633ee4898"
      },
      "execution_count": 222,
      "outputs": [
        {
          "output_type": "execute_result",
          "data": {
            "text/plain": [
              "tpep_pickup_datetime  tpep_dropoff_datetime  passenger_count  trip_distance  PULocationID  DOLocationID  payment_type  total_amount  mois  jour  annee  heure  minute  joursemaine  durée            durée2 \n",
              "2023-03-03 12:53:19   2023-03-06 11:41:21    1.0              40.02          138           193           2             277.45        3     3     2023   12     53      4            2 days 22:48:02  4248.03    1\n",
              "2023-03-19 17:59:13   2023-03-21 12:37:03    1.0              3.13           161           79            2             22.40         3     19    2023   17     59      6            1 days 18:37:50  2557.83    1\n",
              "2023-03-26 15:18:05   2023-03-28 09:08:24    1.0              0.00           141           141           2             7.00          3     26    2023   15     18      6            1 days 17:50:19  2510.32    1\n",
              "2023-03-24 23:09:55   2023-03-27 11:00:45    2.0              1.31           68            170           2             20.30         3     24    2023   23     9       4            2 days 11:50:50  3590.83    1\n",
              "                      2023-03-27 10:41:19    2.0              2.50           114           114           2             21.30         3     24    2023   23     9       4            2 days 11:31:24  3571.40    1\n",
              "2023-03-24 19:30:30   2023-03-28 11:34:03    1.0              0.00           162           265           2             18.70         3     24    2023   19     30      4            3 days 16:03:33  5283.55    1\n",
              "2023-03-24 12:43:51   2023-03-27 08:37:46    1.0              0.00           207           7             2             4.50          3     24    2023   12     43      4            2 days 19:53:55  4073.92    1\n",
              "2023-03-24 08:22:33   2023-03-27 13:08:12    1.0              0.00           207           132           2             4.50          3     24    2023   8      22      4            3 days 04:45:39  4605.65    1\n",
              "2023-03-21 11:00:36   2023-03-22 16:36:38    1.0              0.00           207           260           2             4.50          3     21    2023   11     0       1            1 days 05:36:02  1776.03    1\n",
              "2023-03-20 18:07:45   2023-03-21 20:56:51    1.0              2.64           151           193           2             16.80         3     20    2023   18     7       0            1 days 02:49:06  1609.10    1\n",
              "2023-03-16 20:20:52   2023-03-18 08:47:41    1.0              0.47           43            43            1             10.92         3     16    2023   20     20      3            1 days 12:26:49  2186.82    1\n",
              "2023-03-03 18:01:42   2023-03-06 11:35:15    2.0              0.00           226           226           2             21.00         3     3     2023   18     1       4            2 days 17:33:33  3933.55    1\n",
              "2023-03-16 20:20:52   2023-03-18 08:44:44    1.0              0.68           161           161           2             13.60         3     16    2023   20     20      3            1 days 12:23:52  2183.87    1\n",
              "2023-03-16 12:09:30   2023-03-17 15:31:14    1.0              0.01           7             193           2             4.50          3     16    2023   12     9       3            1 days 03:21:44  1641.73    1\n",
              "2023-03-14 17:10:16   2023-03-16 08:59:15    1.0              2.09           48            42            2             26.30         3     14    2023   17     10      1            1 days 15:48:59  2388.98    1\n",
              "2023-03-13 21:23:58   2023-03-17 10:49:11    1.0              0.00           232           226           2             8.00          3     13    2023   21     23      0            3 days 13:25:13  5125.22    1\n",
              "2023-03-09 13:31:29   2023-03-13 11:29:12    1.0              0.00           76            76            1             15.60         3     9     2023   13     31      3            3 days 21:57:43  5637.72    1\n",
              "2023-03-07 15:35:53   2023-03-09 06:40:45    1.0              8.11           262           65            1             48.00         3     7     2023   15     35      1            1 days 15:04:52  2344.87    1\n",
              "                      2023-03-09 06:27:11    1.0              4.28           132           132           2             26.05         3     7     2023   15     35      1            1 days 14:51:18  2331.30    1\n",
              "2023-03-03 18:01:42   2023-03-06 12:34:25    1.0              16.20          132           125           1             94.80         3     3     2023   18     1       4            2 days 18:32:43  3992.72    1\n",
              "2023-03-26 15:18:05   2023-03-28 09:10:06    1.0              0.00           193           193           2             7.00          3     26    2023   15     18      6            1 days 17:52:01  2512.02    1\n",
              "dtype: int64"
            ]
          },
          "metadata": {},
          "execution_count": 222
        }
      ]
    },
    {
      "cell_type": "code",
      "source": [
        "#df=df.drop(df[df['durée']>oneday], axis=0)\n",
        "df.drop(df[(df['durée']>oneday)].index, inplace=True)"
      ],
      "metadata": {
        "id": "aW5o6Ra-iao7"
      },
      "execution_count": 223,
      "outputs": []
    },
    {
      "cell_type": "code",
      "source": [
        "df['durée'].max()"
      ],
      "metadata": {
        "colab": {
          "base_uri": "https://localhost:8080/"
        },
        "id": "zLcWzZWYl4l6",
        "outputId": "7d03c039-0fdb-46ff-f55d-2fec8292bb19"
      },
      "execution_count": 224,
      "outputs": [
        {
          "output_type": "execute_result",
          "data": {
            "text/plain": [
              "Timedelta('0 days 23:59:48')"
            ]
          },
          "metadata": {},
          "execution_count": 224
        }
      ]
    },
    {
      "cell_type": "code",
      "source": [
        "df=df.drop(['durée'], axis=1)"
      ],
      "metadata": {
        "id": "7lMBPv9hZMrf"
      },
      "execution_count": 248,
      "outputs": []
    },
    {
      "cell_type": "code",
      "source": [
        "df.shape"
      ],
      "metadata": {
        "colab": {
          "base_uri": "https://localhost:8080/"
        },
        "id": "_FWVKoaRHrCe",
        "outputId": "95a48627-06b6-4c39-dfb1-248ae8e1cfbf"
      },
      "execution_count": 225,
      "outputs": [
        {
          "output_type": "execute_result",
          "data": {
            "text/plain": [
              "(3403745, 16)"
            ]
          },
          "metadata": {},
          "execution_count": 225
        }
      ]
    },
    {
      "cell_type": "markdown",
      "source": [
        "variable 'trip_distance'"
      ],
      "metadata": {
        "id": "QA-yd57eRBXV"
      }
    },
    {
      "cell_type": "code",
      "source": [
        "df['trip_distance'].mean()"
      ],
      "metadata": {
        "colab": {
          "base_uri": "https://localhost:8080/"
        },
        "id": "WH5fq86WRExM",
        "outputId": "665f38bb-2317-4aa9-b288-42316c655a71"
      },
      "execution_count": 226,
      "outputs": [
        {
          "output_type": "execute_result",
          "data": {
            "text/plain": [
              "3.903870701242307"
            ]
          },
          "metadata": {},
          "execution_count": 226
        }
      ]
    },
    {
      "cell_type": "code",
      "source": [
        "df['trip_distance'].max()"
      ],
      "metadata": {
        "colab": {
          "base_uri": "https://localhost:8080/"
        },
        "id": "aRA4mU6jRLOM",
        "outputId": "959ad0ae-f188-4e65-e874-c5da2014bb64"
      },
      "execution_count": 227,
      "outputs": [
        {
          "output_type": "execute_result",
          "data": {
            "text/plain": [
              "216986.96"
            ]
          },
          "metadata": {},
          "execution_count": 227
        }
      ]
    },
    {
      "cell_type": "code",
      "source": [
        "df[df['trip_distance']>1000].value_counts()"
      ],
      "metadata": {
        "colab": {
          "base_uri": "https://localhost:8080/"
        },
        "id": "csN8kRvBRPiS",
        "outputId": "55785df7-76d8-499c-cac9-2000f57c2a47"
      },
      "execution_count": 228,
      "outputs": [
        {
          "output_type": "execute_result",
          "data": {
            "text/plain": [
              "tpep_pickup_datetime  tpep_dropoff_datetime  passenger_count  trip_distance  PULocationID  DOLocationID  payment_type  total_amount  mois  jour  annee  heure  minute  joursemaine  durée            durée2\n",
              "2023-03-01 04:42:00   2023-03-01 04:59:00    1.0              9385.19        151           234           0             25.61         3     1     2023   4      42      2            0 days 00:17:00  17.00     1\n",
              "2023-03-18 20:32:00   2023-03-18 20:52:00    1.0              16987.14       87            164           0             30.94         3     18    2023   20     32      5            0 days 00:20:00  20.00     1\n",
              "2023-03-23 07:32:00   2023-03-23 07:58:00    1.0              12858.71       24            137           0             34.80         3     23    2023   7      32      3            0 days 00:26:00  26.00     1\n",
              "2023-03-22 05:05:00   2023-03-22 05:19:00    1.0              6378.99        236           138           0             53.09         3     22    2023   5      5       2            0 days 00:14:00  14.00     1\n",
              "2023-03-21 19:38:54   2023-03-21 20:11:14    1.0              9683.28        132           217           1             73.55         3     21    2023   19     38      1            0 days 00:32:20  32.33     1\n",
              "                                                                                                                                                                                                              ..\n",
              "2023-03-08 17:33:44   2023-03-08 18:01:40    1.0              2335.96        161           255           1             46.63         3     8     2023   17     33      2            0 days 00:27:56  27.93     1\n",
              "2023-03-08 16:08:00   2023-03-08 16:18:00    1.0              1287.95        238           166           0             18.80         3     8     2023   16     8       2            0 days 00:10:00  10.00     1\n",
              "2023-03-08 15:49:52   2023-03-08 16:00:20    1.0              9675.23        138           260           1             24.65         3     8     2023   15     49      2            0 days 00:10:28  10.47     1\n",
              "2023-03-08 10:57:00   2023-03-08 11:13:00    1.0              9431.06        162           88            0             39.07         3     8     2023   10     57      2            0 days 00:16:00  16.00     1\n",
              "2023-03-31 16:50:59   2023-03-31 16:53:11    2.0              9673.06        236           236           3             10.90         3     31    2023   16     50      4            0 days 00:02:12  2.20      1\n",
              "Length: 95, dtype: int64"
            ]
          },
          "metadata": {},
          "execution_count": 228
        }
      ]
    },
    {
      "cell_type": "code",
      "source": [
        "(df['trip_distance']>1000).value_counts()"
      ],
      "metadata": {
        "colab": {
          "base_uri": "https://localhost:8080/"
        },
        "id": "-Zcp8PegRtBN",
        "outputId": "e0aaf7e6-5f86-4fed-ae30-2653166bb854"
      },
      "execution_count": 229,
      "outputs": [
        {
          "output_type": "execute_result",
          "data": {
            "text/plain": [
              "False    3403650\n",
              "True          95\n",
              "Name: trip_distance, dtype: int64"
            ]
          },
          "metadata": {},
          "execution_count": 229
        }
      ]
    },
    {
      "cell_type": "code",
      "source": [
        "df.drop(df[(df['trip_distance']>1000)].index, inplace=True)"
      ],
      "metadata": {
        "id": "s78hXtLER97W"
      },
      "execution_count": 230,
      "outputs": []
    },
    {
      "cell_type": "code",
      "source": [
        "df.shape"
      ],
      "metadata": {
        "colab": {
          "base_uri": "https://localhost:8080/"
        },
        "id": "OWbGVH9zWWAw",
        "outputId": "e179879e-519c-466e-af41-bbfac7e20ddc"
      },
      "execution_count": 238,
      "outputs": [
        {
          "output_type": "execute_result",
          "data": {
            "text/plain": [
              "(3403650, 16)"
            ]
          },
          "metadata": {},
          "execution_count": 238
        }
      ]
    },
    {
      "cell_type": "markdown",
      "source": [
        "DESCRIPTION STATISTIQUE DES DONNEES"
      ],
      "metadata": {
        "id": "2iLGr0AHeueg"
      }
    },
    {
      "cell_type": "code",
      "source": [
        "df.dtypes"
      ],
      "metadata": {
        "id": "82ljS9WNeaya",
        "colab": {
          "base_uri": "https://localhost:8080/"
        },
        "outputId": "995f57a7-1e7f-4df4-8cbc-1025a6a8806e"
      },
      "execution_count": 245,
      "outputs": [
        {
          "output_type": "execute_result",
          "data": {
            "text/plain": [
              "passenger_count            float64\n",
              "trip_distance              float64\n",
              "PULocationID                 int32\n",
              "DOLocationID                 int32\n",
              "payment_type                 int64\n",
              "total_amount               float64\n",
              "mois                         int64\n",
              "jour                         int64\n",
              "annee                        int64\n",
              "heure                        int64\n",
              "minute                       int64\n",
              "joursemaine                  int64\n",
              "durée              timedelta64[ns]\n",
              "durée2                     float64\n",
              "dtype: object"
            ]
          },
          "metadata": {},
          "execution_count": 245
        }
      ]
    },
    {
      "cell_type": "code",
      "source": [
        "df['passenger_count'].value_counts()"
      ],
      "metadata": {
        "colab": {
          "base_uri": "https://localhost:8080/"
        },
        "id": "2EiKyqG4fOgF",
        "outputId": "a91e826e-8464-443c-afec-5d9e64c11117"
      },
      "execution_count": 232,
      "outputs": [
        {
          "output_type": "execute_result",
          "data": {
            "text/plain": [
              "1.0    2613657\n",
              "2.0     479136\n",
              "3.0     117805\n",
              "4.0      59013\n",
              "0.0      58365\n",
              "5.0      46482\n",
              "6.0      29171\n",
              "8.0         11\n",
              "7.0          7\n",
              "9.0          3\n",
              "Name: passenger_count, dtype: int64"
            ]
          },
          "metadata": {},
          "execution_count": 232
        }
      ]
    },
    {
      "cell_type": "code",
      "source": [
        "df['passenger_count'].value_counts().plot.bar()"
      ],
      "metadata": {
        "colab": {
          "base_uri": "https://localhost:8080/",
          "height": 470
        },
        "id": "LUBw168ZcXTK",
        "outputId": "c8811614-01d5-4b0c-ead0-c6b6d1c145ae"
      },
      "execution_count": 233,
      "outputs": [
        {
          "output_type": "execute_result",
          "data": {
            "text/plain": [
              "<Axes: >"
            ]
          },
          "metadata": {},
          "execution_count": 233
        },
        {
          "output_type": "display_data",
          "data": {
            "text/plain": [
              "<Figure size 640x480 with 1 Axes>"
            ],
            "image/png": "[encoded data removed]"
          },
          "metadata": {}
        }
      ]
    },
    {
      "cell_type": "code",
      "source": [
        "sns.countplot(x='joursemaine', data=df)\n",
        "plt.show()"
      ],
      "metadata": {
        "colab": {
          "base_uri": "https://localhost:8080/",
          "height": 449
        },
        "id": "kMVLwcYf6BHX",
        "outputId": "e01563c1-d1ae-4791-9253-1f13b50aaa3c"
      },
      "execution_count": 234,
      "outputs": [
        {
          "output_type": "display_data",
          "data": {
            "text/plain": [
              "<Figure size 640x480 with 1 Axes>"
            ],
            "image/png": "[encoded data removed]"
          },
          "metadata": {}
        }
      ]
    },
    {
      "cell_type": "code",
      "source": [
        "df['total_amount'].mean()"
      ],
      "metadata": {
        "colab": {
          "base_uri": "https://localhost:8080/"
        },
        "id": "bqLxaXd2hAog",
        "outputId": "38854d5c-99b4-4ae4-9d6d-d9ff552a17f5"
      },
      "execution_count": 235,
      "outputs": [
        {
          "output_type": "execute_result",
          "data": {
            "text/plain": [
              "27.803345584886824"
            ]
          },
          "metadata": {},
          "execution_count": 235
        }
      ]
    },
    {
      "cell_type": "code",
      "source": [
        "df.head()\n",
        "df.info()"
      ],
      "metadata": {
        "colab": {
          "base_uri": "https://localhost:8080/"
        },
        "id": "b1U-OkSglaYi",
        "outputId": "7d1ee590-c9cf-4b6e-af7f-7e73b2fcd5f1"
      },
      "execution_count": 236,
      "outputs": [
        {
          "output_type": "stream",
          "name": "stdout",
          "text": [
            "<class 'pandas.core.frame.DataFrame'>\n",
            "Int64Index: 3403650 entries, 0 to 3403765\n",
            "Data columns (total 16 columns):\n",
            " #   Column                 Dtype          \n",
            "---  ------                 -----          \n",
            " 0   tpep_pickup_datetime   datetime64[ns] \n",
            " 1   tpep_dropoff_datetime  datetime64[ns] \n",
            " 2   passenger_count        float64        \n",
            " 3   trip_distance          float64        \n",
            " 4   PULocationID           int32          \n",
            " 5   DOLocationID           int32          \n",
            " 6   payment_type           int64          \n",
            " 7   total_amount           float64        \n",
            " 8   mois                   int64          \n",
            " 9   jour                   int64          \n",
            " 10  annee                  int64          \n",
            " 11  heure                  int64          \n",
            " 12  minute                 int64          \n",
            " 13  joursemaine            int64          \n",
            " 14  durée                  timedelta64[ns]\n",
            " 15  durée2                 float64        \n",
            "dtypes: datetime64[ns](2), float64(4), int32(2), int64(7), timedelta64[ns](1)\n",
            "memory usage: 415.5 MB\n"
          ]
        }
      ]
    },
    {
      "cell_type": "markdown",
      "source": [
        "Jeux de données : entrainement et test"
      ],
      "metadata": {
        "id": "I_QGewArW1w6"
      }
    },
    {
      "cell_type": "code",
      "source": [
        "from sklearn.model_selection import train_test_split"
      ],
      "metadata": {
        "id": "KvQiJ7aBX9sf"
      },
      "execution_count": null,
      "outputs": []
    },
    {
      "cell_type": "code",
      "source": [
        "x=df.drop('total_amount', axis=1)\n",
        "x"
      ],
      "metadata": {
        "colab": {
          "base_uri": "https://localhost:8080/",
          "height": 423
        },
        "id": "Llw6f571XB1R",
        "outputId": "02bbf0ea-e815-4a1b-c02d-6564b1753b23"
      },
      "execution_count": 250,
      "outputs": [
        {
          "output_type": "execute_result",
          "data": {
            "text/plain": [
              "         passenger_count  trip_distance  PULocationID  DOLocationID  \\\n",
              "0                    1.0           0.00           238            42   \n",
              "1                    2.0          12.40           138           231   \n",
              "2                    0.0           3.30           140           186   \n",
              "3                    1.0           2.90           140            43   \n",
              "4                    1.0           1.23            79           137   \n",
              "...                  ...            ...           ...           ...   \n",
              "3403761              1.0           3.16           163            75   \n",
              "3403762              1.0           6.89           125           198   \n",
              "3403763              1.0           4.01            50           224   \n",
              "3403764              1.0           1.31           113           158   \n",
              "3403765              1.0           0.88            41           166   \n",
              "\n",
              "         payment_type  mois  jour  annee  heure  minute  joursemaine  durée2  \n",
              "0                   2     3     1   2023      0       6            2   10.00  \n",
              "1                   1     3     1   2023      0       8            2   31.08  \n",
              "2                   1     3     1   2023      0      15            2   14.37  \n",
              "3                   1     3     1   2023      0      49            2   11.47  \n",
              "4                   1     3     1   2023      0       8            2    3.03  \n",
              "...               ...   ...   ...    ...    ...     ...          ...     ...  \n",
              "3403761             0     3    31   2023     23      24            4   16.48  \n",
              "3403762             0     3    31   2023     23      24            4   39.37  \n",
              "3403763             0     3    31   2023     23      26            4   23.13  \n",
              "3403764             0     3    31   2023     23       7            4    8.08  \n",
              "3403765             0     3    31   2023     23      26            4    5.58  \n",
              "\n",
              "[3403650 rows x 12 columns]"
            ],
            "text/html": [
              "\n",
              "  <div id=\"df-dcbaa836-b1cd-4146-96db-fd58a6379e41\">\n",
              "    <div class=\"colab-df-container\">\n",
              "      <div>\n",
              "<style scoped>\n",
              "    .dataframe tbody tr th:only-of-type {\n",
              "        vertical-align: middle;\n",
              "    }\n",
              "\n",
              "    .dataframe tbody tr th {\n",
              "        vertical-align: top;\n",
              "    }\n",
              "\n",
              "    .dataframe thead th {\n",
              "        text-align: right;\n",
              "    }\n",
              "</style>\n",
              "<table border=\"1\" class=\"dataframe\">\n",
              "  <thead>\n",
              "    <tr style=\"text-align: right;\">\n",
              "      <th></th>\n",
              "      <th>passenger_count</th>\n",
              "      <th>trip_distance</th>\n",
              "      <th>PULocationID</th>\n",
              "      <th>DOLocationID</th>\n",
              "      <th>payment_type</th>\n",
              "      <th>mois</th>\n",
              "      <th>jour</th>\n",
              "      <th>annee</th>\n",
              "      <th>heure</th>\n",
              "      <th>minute</th>\n",
              "      <th>joursemaine</th>\n",
              "      <th>durée2</th>\n",
              "    </tr>\n",
              "  </thead>\n",
              "  <tbody>\n",
              "    <tr>\n",
              "      <th>0</th>\n",
              "      <td>1.0</td>\n",
              "      <td>0.00</td>\n",
              "      <td>238</td>\n",
              "      <td>42</td>\n",
              "      <td>2</td>\n",
              "      <td>3</td>\n",
              "      <td>1</td>\n",
              "      <td>2023</td>\n",
              "      <td>0</td>\n",
              "      <td>6</td>\n",
              "      <td>2</td>\n",
              "      <td>10.00</td>\n",
              "    </tr>\n",
              "    <tr>\n",
              "      <th>1</th>\n",
              "      <td>2.0</td>\n",
              "      <td>12.40</td>\n",
              "      <td>138</td>\n",
              "      <td>231</td>\n",
              "      <td>1</td>\n",
              "      <td>3</td>\n",
              "      <td>1</td>\n",
              "      <td>2023</td>\n",
              "      <td>0</td>\n",
              "      <td>8</td>\n",
              "      <td>2</td>\n",
              "      <td>31.08</td>\n",
              "    </tr>\n",
              "    <tr>\n",
              "      <th>2</th>\n",
              "      <td>0.0</td>\n",
              "      <td>3.30</td>\n",
              "      <td>140</td>\n",
              "      <td>186</td>\n",
              "      <td>1</td>\n",
              "      <td>3</td>\n",
              "      <td>1</td>\n",
              "      <td>2023</td>\n",
              "      <td>0</td>\n",
              "      <td>15</td>\n",
              "      <td>2</td>\n",
              "      <td>14.37</td>\n",
              "    </tr>\n",
              "    <tr>\n",
              "      <th>3</th>\n",
              "      <td>1.0</td>\n",
              "      <td>2.90</td>\n",
              "      <td>140</td>\n",
              "      <td>43</td>\n",
              "      <td>1</td>\n",
              "      <td>3</td>\n",
              "      <td>1</td>\n",
              "      <td>2023</td>\n",
              "      <td>0</td>\n",
              "      <td>49</td>\n",
              "      <td>2</td>\n",
              "      <td>11.47</td>\n",
              "    </tr>\n",
              "    <tr>\n",
              "      <th>4</th>\n",
              "      <td>1.0</td>\n",
              "      <td>1.23</td>\n",
              "      <td>79</td>\n",
              "      <td>137</td>\n",
              "      <td>1</td>\n",
              "      <td>3</td>\n",
              "      <td>1</td>\n",
              "      <td>2023</td>\n",
              "      <td>0</td>\n",
              "      <td>8</td>\n",
              "      <td>2</td>\n",
              "      <td>3.03</td>\n",
              "    </tr>\n",
              "    <tr>\n",
              "      <th>...</th>\n",
              "      <td>...</td>\n",
              "      <td>...</td>\n",
              "      <td>...</td>\n",
              "      <td>...</td>\n",
              "      <td>...</td>\n",
              "      <td>...</td>\n",
              "      <td>...</td>\n",
              "      <td>...</td>\n",
              "      <td>...</td>\n",
              "      <td>...</td>\n",
              "      <td>...</td>\n",
              "      <td>...</td>\n",
              "    </tr>\n",
              "    <tr>\n",
              "      <th>3403761</th>\n",
              "      <td>1.0</td>\n",
              "      <td>3.16</td>\n",
              "      <td>163</td>\n",
              "      <td>75</td>\n",
              "      <td>0</td>\n",
              "      <td>3</td>\n",
              "      <td>31</td>\n",
              "      <td>2023</td>\n",
              "      <td>23</td>\n",
              "      <td>24</td>\n",
              "      <td>4</td>\n",
              "      <td>16.48</td>\n",
              "    </tr>\n",
              "    <tr>\n",
              "      <th>3403762</th>\n",
              "      <td>1.0</td>\n",
              "      <td>6.89</td>\n",
              "      <td>125</td>\n",
              "      <td>198</td>\n",
              "      <td>0</td>\n",
              "      <td>3</td>\n",
              "      <td>31</td>\n",
              "      <td>2023</td>\n",
              "      <td>23</td>\n",
              "      <td>24</td>\n",
              "      <td>4</td>\n",
              "      <td>39.37</td>\n",
              "    </tr>\n",
              "    <tr>\n",
              "      <th>3403763</th>\n",
              "      <td>1.0</td>\n",
              "      <td>4.01</td>\n",
              "      <td>50</td>\n",
              "      <td>224</td>\n",
              "      <td>0</td>\n",
              "      <td>3</td>\n",
              "      <td>31</td>\n",
              "      <td>2023</td>\n",
              "      <td>23</td>\n",
              "      <td>26</td>\n",
              "      <td>4</td>\n",
              "      <td>23.13</td>\n",
              "    </tr>\n",
              "    <tr>\n",
              "      <th>3403764</th>\n",
              "      <td>1.0</td>\n",
              "      <td>1.31</td>\n",
              "      <td>113</td>\n",
              "      <td>158</td>\n",
              "      <td>0</td>\n",
              "      <td>3</td>\n",
              "      <td>31</td>\n",
              "      <td>2023</td>\n",
              "      <td>23</td>\n",
              "      <td>7</td>\n",
              "      <td>4</td>\n",
              "      <td>8.08</td>\n",
              "    </tr>\n",
              "    <tr>\n",
              "      <th>3403765</th>\n",
              "      <td>1.0</td>\n",
              "      <td>0.88</td>\n",
              "      <td>41</td>\n",
              "      <td>166</td>\n",
              "      <td>0</td>\n",
              "      <td>3</td>\n",
              "      <td>31</td>\n",
              "      <td>2023</td>\n",
              "      <td>23</td>\n",
              "      <td>26</td>\n",
              "      <td>4</td>\n",
              "      <td>5.58</td>\n",
              "    </tr>\n",
              "  </tbody>\n",
              "</table>\n",
              "<p>3403650 rows × 12 columns</p>\n",
              "</div>\n",
              "      <button class=\"colab-df-convert\" onclick=\"convertToInteractive('df-dcbaa836-b1cd-4146-96db-fd58a6379e41')\"\n",
              "              title=\"Convert this dataframe to an interactive table.\"\n",
              "              style=\"display:none;\">\n",
              "        \n",
              "  <svg xmlns=\"http://www.w3.org/2000/svg\" height=\"24px\"viewBox=\"0 0 24 24\"\n",
              "       width=\"24px\">\n",
              "    <path d=\"M0 0h24v24H0V0z\" fill=\"none\"/>\n",
              "    <path d=\"M18.56 5.44l.94 2.06.94-2.06 2.06-.94-2.06-.94-.94-2.06-.94 2.06-2.06.94zm-11 1L8.5 8.5l.94-2.06 2.06-.94-2.06-.94L8.5 2.5l-.94 2.06-2.06.94zm10 10l.94 2.06.94-2.06 2.06-.94-2.06-.94-.94-2.06-.94 2.06-2.06.94z\"/><path d=\"M17.41 7.96l-1.37-1.37c-.4-.4-.92-.59-1.43-.59-.52 0-1.04.2-1.43.59L10.3 9.45l-7.72 7.72c-.78.78-.78 2.05 0 2.83L4 21.41c.39.39.9.59 1.41.59.51 0 1.02-.2 1.41-.59l7.78-7.78 2.81-2.81c.8-.78.8-2.07 0-2.86zM5.41 20L4 18.59l7.72-7.72 1.47 1.35L5.41 20z\"/>\n",
              "  </svg>\n",
              "      </button>\n",
              "      \n",
              "  <style>\n",
              "    .colab-df-container {\n",
              "      display:flex;\n",
              "      flex-wrap:wrap;\n",
              "      gap: 12px;\n",
              "    }\n",
              "\n",
              "    .colab-df-convert {\n",
              "      background-color: #E8F0FE;\n",
              "      border: none;\n",
              "      border-radius: 50%;\n",
              "      cursor: pointer;\n",
              "      display: none;\n",
              "      fill: #1967D2;\n",
              "      height: 32px;\n",
              "      padding: 0 0 0 0;\n",
              "      width: 32px;\n",
              "    }\n",
              "\n",
              "    .colab-df-convert:hover {\n",
              "      background-color: #E2EBFA;\n",
              "      box-shadow: 0px 1px 2px rgba(60, 64, 67, 0.3), 0px 1px 3px 1px rgba(60, 64, 67, 0.15);\n",
              "      fill: #174EA6;\n",
              "    }\n",
              "\n",
              "    [theme=dark] .colab-df-convert {\n",
              "      background-color: #3B4455;\n",
              "      fill: #D2E3FC;\n",
              "    }\n",
              "\n",
              "    [theme=dark] .colab-df-convert:hover {\n",
              "      background-color: #434B5C;\n",
              "      box-shadow: 0px 1px 3px 1px rgba(0, 0, 0, 0.15);\n",
              "      filter: drop-shadow(0px 1px 2px rgba(0, 0, 0, 0.3));\n",
              "      fill: #FFFFFF;\n",
              "    }\n",
              "  </style>\n",
              "\n",
              "      <script>\n",
              "        const buttonEl =\n",
              "          document.querySelector('#df-dcbaa836-b1cd-4146-96db-fd58a6379e41 button.colab-df-convert');\n",
              "        buttonEl.style.display =\n",
              "          google.colab.kernel.accessAllowed ? 'block' : 'none';\n",
              "\n",
              "        async function convertToInteractive(key) {\n",
              "          const element = document.querySelector('#df-dcbaa836-b1cd-4146-96db-fd58a6379e41');\n",
              "          const dataTable =\n",
              "            await google.colab.kernel.invokeFunction('convertToInteractive',\n",
              "                                                     [key], {});\n",
              "          if (!dataTable) return;\n",
              "\n",
              "          const docLinkHtml = 'Like what you see? Visit the ' +\n",
              "            '<a target=\"_blank\" href=https://colab.research.google.com/notebooks/data_table.ipynb>data table notebook</a>'\n",
              "            + ' to learn more about interactive tables.';\n",
              "          element.innerHTML = '';\n",
              "          dataTable['output_type'] = 'display_data';\n",
              "          await google.colab.output.renderOutput(dataTable, element);\n",
              "          const docLink = document.createElement('div');\n",
              "          docLink.innerHTML = docLinkHtml;\n",
              "          element.appendChild(docLink);\n",
              "        }\n",
              "      </script>\n",
              "    </div>\n",
              "  </div>\n",
              "  "
            ]
          },
          "metadata": {},
          "execution_count": 250
        }
      ]
    },
    {
      "cell_type": "code",
      "source": [
        "y=df['total_amount']\n",
        "y"
      ],
      "metadata": {
        "colab": {
          "base_uri": "https://localhost:8080/"
        },
        "id": "ipJGRJ-HXURP",
        "outputId": "edd71658-512f-489c-b447-7f1cd056217f"
      },
      "execution_count": 251,
      "outputs": [
        {
          "output_type": "execute_result",
          "data": {
            "text/plain": [
              "0          11.10\n",
              "1          76.49\n",
              "2          28.05\n",
              "3          24.70\n",
              "4          14.64\n",
              "           ...  \n",
              "3403761    20.36\n",
              "3403762    53.90\n",
              "3403763    28.02\n",
              "3403764    16.01\n",
              "3403765    17.26\n",
              "Name: total_amount, Length: 3403650, dtype: float64"
            ]
          },
          "metadata": {},
          "execution_count": 251
        }
      ]
    },
    {
      "cell_type": "code",
      "source": [
        "x_train, x_test, y_train, y_test = train_test_split(x,y,test_size=0.2)"
      ],
      "metadata": {
        "id": "EzCypv73X50p"
      },
      "execution_count": null,
      "outputs": []
    },
    {
      "cell_type": "markdown",
      "source": [
        "**MODELISATION**"
      ],
      "metadata": {
        "id": "cNoaXOTfWulh"
      }
    },
    {
      "cell_type": "markdown",
      "source": [
        "Régression linéaire "
      ],
      "metadata": {
        "id": "WYIxeEaBXh3F"
      }
    },
    {
      "cell_type": "code",
      "source": [
        "from sklearn.linear_model import LinearRegression\n",
        "myreg = LinearRegression()\n",
        "\n",
        "myreg = myreg.fit(x,y)"
      ],
      "metadata": {
        "id": "dgAldL92YV0K"
      },
      "execution_count": 252,
      "outputs": []
    },
    {
      "cell_type": "code",
      "source": [
        "plt.scatter(x,y,c=\"orange\") ; plt.plot(x,myreg.predict(x),\"-r\",color=\"#D42D85\", linewidth=10) ; plt.xlabel(\"Poids\") ; plt.ylabel(\"IMC\") ; plt.show()"
      ],
      "metadata": {
        "colab": {
          "base_uri": "https://localhost:8080/",
          "height": 764
        },
        "id": "ppQcWOe6YdvV",
        "outputId": "afac43ad-1ef0-4352-8615-3cd0f782f182"
      },
      "execution_count": 253,
      "outputs": [
        {
          "output_type": "error",
          "ename": "ValueError",
          "evalue": "ignored",
          "traceback": [
            "\u001b[0;31m---------------------------------------------------------------------------\u001b[0m",
            "\u001b[0;31mValueError\u001b[0m                                Traceback (most recent call last)",
            "\u001b[0;32m<ipython-input-253-b6ea74b953c4>\u001b[0m in \u001b[0;36m<cell line: 1>\u001b[0;34m()\u001b[0m\n\u001b[0;32m----> 1\u001b[0;31m \u001b[0mplt\u001b[0m\u001b[0;34m.\u001b[0m\u001b[0mscatter\u001b[0m\u001b[0;34m(\u001b[0m\u001b[0mx\u001b[0m\u001b[0;34m,\u001b[0m\u001b[0my\u001b[0m\u001b[0;34m,\u001b[0m\u001b[0mc\u001b[0m\u001b[0;34m=\u001b[0m\u001b[0;34m\"orange\"\u001b[0m\u001b[0;34m)\u001b[0m \u001b[0;34m;\u001b[0m \u001b[0mplt\u001b[0m\u001b[0;34m.\u001b[0m\u001b[0mplot\u001b[0m\u001b[0;34m(\u001b[0m\u001b[0mx\u001b[0m\u001b[0;34m,\u001b[0m\u001b[0mmyreg\u001b[0m\u001b[0;34m.\u001b[0m\u001b[0mpredict\u001b[0m\u001b[0;34m(\u001b[0m\u001b[0mx\u001b[0m\u001b[0;34m)\u001b[0m\u001b[0;34m,\u001b[0m\u001b[0;34m\"-r\"\u001b[0m\u001b[0;34m,\u001b[0m\u001b[0mcolor\u001b[0m\u001b[0;34m=\u001b[0m\u001b[0;34m\"#D42D85\"\u001b[0m\u001b[0;34m,\u001b[0m \u001b[0mlinewidth\u001b[0m\u001b[0;34m=\u001b[0m\u001b[0;36m10\u001b[0m\u001b[0;34m)\u001b[0m \u001b[0;34m;\u001b[0m \u001b[0mplt\u001b[0m\u001b[0;34m.\u001b[0m\u001b[0mxlabel\u001b[0m\u001b[0;34m(\u001b[0m\u001b[0;34m\"Poids\"\u001b[0m\u001b[0;34m)\u001b[0m \u001b[0;34m;\u001b[0m \u001b[0mplt\u001b[0m\u001b[0;34m.\u001b[0m\u001b[0mylabel\u001b[0m\u001b[0;34m(\u001b[0m\u001b[0;34m\"IMC\"\u001b[0m\u001b[0;34m)\u001b[0m \u001b[0;34m;\u001b[0m \u001b[0mplt\u001b[0m\u001b[0;34m.\u001b[0m\u001b[0mshow\u001b[0m\u001b[0;34m(\u001b[0m\u001b[0;34m)\u001b[0m\u001b[0;34m\u001b[0m\u001b[0;34m\u001b[0m\u001b[0m\n\u001b[0m",
            "\u001b[0;32m/usr/local/lib/python3.10/dist-packages/matplotlib/pyplot.py\u001b[0m in \u001b[0;36mscatter\u001b[0;34m(x, y, s, c, marker, cmap, norm, vmin, vmax, alpha, linewidths, edgecolors, plotnonfinite, data, **kwargs)\u001b[0m\n\u001b[1;32m   2860\u001b[0m         \u001b[0mvmin\u001b[0m\u001b[0;34m=\u001b[0m\u001b[0;32mNone\u001b[0m\u001b[0;34m,\u001b[0m \u001b[0mvmax\u001b[0m\u001b[0;34m=\u001b[0m\u001b[0;32mNone\u001b[0m\u001b[0;34m,\u001b[0m \u001b[0malpha\u001b[0m\u001b[0;34m=\u001b[0m\u001b[0;32mNone\u001b[0m\u001b[0;34m,\u001b[0m \u001b[0mlinewidths\u001b[0m\u001b[0;34m=\u001b[0m\u001b[0;32mNone\u001b[0m\u001b[0;34m,\u001b[0m \u001b[0;34m*\u001b[0m\u001b[0;34m,\u001b[0m\u001b[0;34m\u001b[0m\u001b[0;34m\u001b[0m\u001b[0m\n\u001b[1;32m   2861\u001b[0m         edgecolors=None, plotnonfinite=False, data=None, **kwargs):\n\u001b[0;32m-> 2862\u001b[0;31m     __ret = gca().scatter(\n\u001b[0m\u001b[1;32m   2863\u001b[0m         \u001b[0mx\u001b[0m\u001b[0;34m,\u001b[0m \u001b[0my\u001b[0m\u001b[0;34m,\u001b[0m \u001b[0ms\u001b[0m\u001b[0;34m=\u001b[0m\u001b[0ms\u001b[0m\u001b[0;34m,\u001b[0m \u001b[0mc\u001b[0m\u001b[0;34m=\u001b[0m\u001b[0mc\u001b[0m\u001b[0;34m,\u001b[0m \u001b[0mmarker\u001b[0m\u001b[0;34m=\u001b[0m\u001b[0mmarker\u001b[0m\u001b[0;34m,\u001b[0m \u001b[0mcmap\u001b[0m\u001b[0;34m=\u001b[0m\u001b[0mcmap\u001b[0m\u001b[0;34m,\u001b[0m \u001b[0mnorm\u001b[0m\u001b[0;34m=\u001b[0m\u001b[0mnorm\u001b[0m\u001b[0;34m,\u001b[0m\u001b[0;34m\u001b[0m\u001b[0;34m\u001b[0m\u001b[0m\n\u001b[1;32m   2864\u001b[0m         \u001b[0mvmin\u001b[0m\u001b[0;34m=\u001b[0m\u001b[0mvmin\u001b[0m\u001b[0;34m,\u001b[0m \u001b[0mvmax\u001b[0m\u001b[0;34m=\u001b[0m\u001b[0mvmax\u001b[0m\u001b[0;34m,\u001b[0m \u001b[0malpha\u001b[0m\u001b[0;34m=\u001b[0m\u001b[0malpha\u001b[0m\u001b[0;34m,\u001b[0m \u001b[0mlinewidths\u001b[0m\u001b[0;34m=\u001b[0m\u001b[0mlinewidths\u001b[0m\u001b[0;34m,\u001b[0m\u001b[0;34m\u001b[0m\u001b[0;34m\u001b[0m\u001b[0m\n",
            "\u001b[0;32m/usr/local/lib/python3.10/dist-packages/matplotlib/__init__.py\u001b[0m in \u001b[0;36minner\u001b[0;34m(ax, data, *args, **kwargs)\u001b[0m\n\u001b[1;32m   1440\u001b[0m     \u001b[0;32mdef\u001b[0m \u001b[0minner\u001b[0m\u001b[0;34m(\u001b[0m\u001b[0max\u001b[0m\u001b[0;34m,\u001b[0m \u001b[0;34m*\u001b[0m\u001b[0margs\u001b[0m\u001b[0;34m,\u001b[0m \u001b[0mdata\u001b[0m\u001b[0;34m=\u001b[0m\u001b[0;32mNone\u001b[0m\u001b[0;34m,\u001b[0m \u001b[0;34m**\u001b[0m\u001b[0mkwargs\u001b[0m\u001b[0;34m)\u001b[0m\u001b[0;34m:\u001b[0m\u001b[0;34m\u001b[0m\u001b[0;34m\u001b[0m\u001b[0m\n\u001b[1;32m   1441\u001b[0m         \u001b[0;32mif\u001b[0m \u001b[0mdata\u001b[0m \u001b[0;32mis\u001b[0m \u001b[0;32mNone\u001b[0m\u001b[0;34m:\u001b[0m\u001b[0;34m\u001b[0m\u001b[0;34m\u001b[0m\u001b[0m\n\u001b[0;32m-> 1442\u001b[0;31m             \u001b[0;32mreturn\u001b[0m \u001b[0mfunc\u001b[0m\u001b[0;34m(\u001b[0m\u001b[0max\u001b[0m\u001b[0;34m,\u001b[0m \u001b[0;34m*\u001b[0m\u001b[0mmap\u001b[0m\u001b[0;34m(\u001b[0m\u001b[0msanitize_sequence\u001b[0m\u001b[0;34m,\u001b[0m \u001b[0margs\u001b[0m\u001b[0;34m)\u001b[0m\u001b[0;34m,\u001b[0m \u001b[0;34m**\u001b[0m\u001b[0mkwargs\u001b[0m\u001b[0;34m)\u001b[0m\u001b[0;34m\u001b[0m\u001b[0;34m\u001b[0m\u001b[0m\n\u001b[0m\u001b[1;32m   1443\u001b[0m \u001b[0;34m\u001b[0m\u001b[0m\n\u001b[1;32m   1444\u001b[0m         \u001b[0mbound\u001b[0m \u001b[0;34m=\u001b[0m \u001b[0mnew_sig\u001b[0m\u001b[0;34m.\u001b[0m\u001b[0mbind\u001b[0m\u001b[0;34m(\u001b[0m\u001b[0max\u001b[0m\u001b[0;34m,\u001b[0m \u001b[0;34m*\u001b[0m\u001b[0margs\u001b[0m\u001b[0;34m,\u001b[0m \u001b[0;34m**\u001b[0m\u001b[0mkwargs\u001b[0m\u001b[0;34m)\u001b[0m\u001b[0;34m\u001b[0m\u001b[0;34m\u001b[0m\u001b[0m\n",
            "\u001b[0;32m/usr/local/lib/python3.10/dist-packages/matplotlib/axes/_axes.py\u001b[0m in \u001b[0;36mscatter\u001b[0;34m(self, x, y, s, c, marker, cmap, norm, vmin, vmax, alpha, linewidths, edgecolors, plotnonfinite, **kwargs)\u001b[0m\n\u001b[1;32m   4582\u001b[0m         \u001b[0my\u001b[0m \u001b[0;34m=\u001b[0m \u001b[0mnp\u001b[0m\u001b[0;34m.\u001b[0m\u001b[0mma\u001b[0m\u001b[0;34m.\u001b[0m\u001b[0mravel\u001b[0m\u001b[0;34m(\u001b[0m\u001b[0my\u001b[0m\u001b[0;34m)\u001b[0m\u001b[0;34m\u001b[0m\u001b[0;34m\u001b[0m\u001b[0m\n\u001b[1;32m   4583\u001b[0m         \u001b[0;32mif\u001b[0m \u001b[0mx\u001b[0m\u001b[0;34m.\u001b[0m\u001b[0msize\u001b[0m \u001b[0;34m!=\u001b[0m \u001b[0my\u001b[0m\u001b[0;34m.\u001b[0m\u001b[0msize\u001b[0m\u001b[0;34m:\u001b[0m\u001b[0;34m\u001b[0m\u001b[0;34m\u001b[0m\u001b[0m\n\u001b[0;32m-> 4584\u001b[0;31m             \u001b[0;32mraise\u001b[0m \u001b[0mValueError\u001b[0m\u001b[0;34m(\u001b[0m\u001b[0;34m\"x and y must be the same size\"\u001b[0m\u001b[0;34m)\u001b[0m\u001b[0;34m\u001b[0m\u001b[0;34m\u001b[0m\u001b[0m\n\u001b[0m\u001b[1;32m   4585\u001b[0m \u001b[0;34m\u001b[0m\u001b[0m\n\u001b[1;32m   4586\u001b[0m         \u001b[0;32mif\u001b[0m \u001b[0ms\u001b[0m \u001b[0;32mis\u001b[0m \u001b[0;32mNone\u001b[0m\u001b[0;34m:\u001b[0m\u001b[0;34m\u001b[0m\u001b[0;34m\u001b[0m\u001b[0m\n",
            "\u001b[0;31mValueError\u001b[0m: x and y must be the same size"
          ]
        },
        {
          "output_type": "display_data",
          "data": {
            "text/plain": [
              "<Figure size 640x480 with 1 Axes>"
            ],
            "image/png": "[encoded data removed]"
          },
          "metadata": {}
        }
      ]
    },
    {
      "cell_type": "markdown",
      "source": [
        "Réseaux de neurones"
      ],
      "metadata": {
        "id": "KQ2CN-iZXkcJ"
      }
    },
    {
      "cell_type": "markdown",
      "source": [
        "Support Vector Machine"
      ],
      "metadata": {
        "id": "hAWTvuxlXqZC"
      }
    }
  ]
}