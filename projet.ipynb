{
  "cells": [
    {
      "cell_type": "markdown",
      "metadata": {
        "id": "view-in-github",
        "colab_type": "text"
      },
      "source": [
        "<a href=\"https://colab.research.google.com/github/vagueau/Projet_python/blob/main/projet.ipynb\" target=\"_parent\"><img src=\"https://colab.research.google.com/assets/colab-badge.svg\" alt=\"Open In Colab\"/></a>"
      ]
    },
    {
      "cell_type": "markdown",
      "metadata": {
        "id": "o2fPtfqFp-65"
      },
      "source": [
        "# importation des données"
      ]
    },
    {
      "cell_type": "code",
      "execution_count": null,
      "metadata": {
        "colab": {
          "base_uri": "https://localhost:8080/"
        },
        "id": "Tf4vsJfHTk_I",
        "outputId": "0c13724f-ef61-4646-f14f-de46328ba9b9"
      },
      "outputs": [
        {
          "name": "stdout",
          "output_type": "stream",
          "text": [
            "Requirement already satisfied: pyarrow in c:\\users\\aldio\\anaconda3\\lib\\site-packages (12.0.0)\n",
            "Requirement already satisfied: numpy>=1.16.6 in c:\\users\\aldio\\anaconda3\\lib\\site-packages (from pyarrow) (1.20.3)\n",
            "Requirement already satisfied: xgboost in c:\\users\\aldio\\anaconda3\\lib\\site-packages (1.7.5)\n",
            "Requirement already satisfied: scipy in c:\\users\\aldio\\anaconda3\\lib\\site-packages (from xgboost) (1.7.1)\n",
            "Requirement already satisfied: numpy in c:\\users\\aldio\\anaconda3\\lib\\site-packages (from xgboost) (1.20.3)\n",
            "Requirement already satisfied: pandas in c:\\users\\aldio\\anaconda3\\lib\\site-packages (1.3.4)\n",
            "Requirement already satisfied: pytz>=2017.3 in c:\\users\\aldio\\anaconda3\\lib\\site-packages (from pandas) (2021.3)\n",
            "Requirement already satisfied: numpy>=1.17.3 in c:\\users\\aldio\\anaconda3\\lib\\site-packages (from pandas) (1.20.3)\n",
            "Requirement already satisfied: python-dateutil>=2.7.3 in c:\\users\\aldio\\anaconda3\\lib\\site-packages (from pandas) (2.8.2)\n",
            "Requirement already satisfied: six>=1.5 in c:\\users\\aldio\\anaconda3\\lib\\site-packages (from python-dateutil>=2.7.3->pandas) (1.16.0)\n"
          ]
        }
      ],
      "source": [
        "!pip install pyarrow\n",
        "!pip install xgboost\n",
        "!pip install pandas"
      ]
    },
    {
      "cell_type": "code",
      "execution_count": null,
      "metadata": {
        "id": "DNKxUPnUwy7k"
      },
      "outputs": [],
      "source": [
        "import pyarrow.parquet as pq\n",
        "import pandas as pd # bibliothèque de manipulation de données tabulaires\n",
        "import numpy as np #  bibliothèque de manipulation des tableaux de données multidimensionnels\n",
        "import matplotlib.pyplot as plt # bibliothèque de visualisation de données\n",
        "import seaborn as sns #  bibliothèque de visualisation de données : graphiques statistiques\n",
        "from datetime import timedelta\n",
        "from sklearn.model_selection import train_test_split\n",
        "from sklearn import metrics\n",
        "from sklearn.linear_model import Lasso\n",
        "from sklearn.linear_model import LinearRegression\n",
        "from matplotlib.pyplot import *\n",
        "%matplotlib inline\n",
        "from sklearn.svm import SVR\n",
        "from sklearn.preprocessing import StandardScaler\n",
        "from sklearn.metrics import mean_squared_error, r2_score\n",
        "from tensorflow.keras.models import Sequential\n",
        "from tensorflow.keras.layers import Dense\n",
        "from sklearn.neighbors import KNeighborsRegressor\n",
        "import xgboost as xgb"
      ]
    },
    {
      "cell_type": "markdown",
      "metadata": {
        "id": "TgzEgIhDdeuP"
      },
      "source": [
        "IMPORTATION DES DONNEES"
      ]
    },
    {
      "cell_type": "code",
      "execution_count": null,
      "metadata": {
        "id": "5nQ1E49GR8nD"
      },
      "outputs": [],
      "source": [
        "# Lecture du fichier Parquet\n",
        "table = pq.read_table(\"yellow_tripdata_2023-03.parquet\")\n",
        "table1 = pq.read_table(\"yellow_tripdata_2023-01.parquet\")\n",
        "# Conversion de la table en DataFrame pandas\n",
        "dataframe = table.to_pandas()\n",
        "dataframe1 = table1.to_pandas()\n",
        "# Importer le fichier CSV dans un DataFrame\n",
        "df_janvier = pd.read_excel(\"nyc_janvier.xlsx\")\n",
        "df_mars = pd.read_excel(\"nyc_mars.xlsx\")"
      ]
    },
    {
      "cell_type": "code",
      "execution_count": null,
      "metadata": {
        "colab": {
          "base_uri": "https://localhost:8080/",
          "height": 270
        },
        "id": "gOoKjRI_V-br",
        "outputId": "1ff1f13b-7542-49f7-a071-010c5d9ff7fe"
      },
      "outputs": [
        {
          "data": {
            "text/html": [
              "<div>\n",
              "<style scoped>\n",
              "    .dataframe tbody tr th:only-of-type {\n",
              "        vertical-align: middle;\n",
              "    }\n",
              "\n",
              "    .dataframe tbody tr th {\n",
              "        vertical-align: top;\n",
              "    }\n",
              "\n",
              "    .dataframe thead th {\n",
              "        text-align: right;\n",
              "    }\n",
              "</style>\n",
              "<table border=\"1\" class=\"dataframe\">\n",
              "  <thead>\n",
              "    <tr style=\"text-align: right;\">\n",
              "      <th></th>\n",
              "      <th>VendorID</th>\n",
              "      <th>tpep_pickup_datetime</th>\n",
              "      <th>tpep_dropoff_datetime</th>\n",
              "      <th>passenger_count</th>\n",
              "      <th>trip_distance</th>\n",
              "      <th>RatecodeID</th>\n",
              "      <th>store_and_fwd_flag</th>\n",
              "      <th>PULocationID</th>\n",
              "      <th>DOLocationID</th>\n",
              "      <th>payment_type</th>\n",
              "      <th>fare_amount</th>\n",
              "      <th>extra</th>\n",
              "      <th>mta_tax</th>\n",
              "      <th>tip_amount</th>\n",
              "      <th>tolls_amount</th>\n",
              "      <th>improvement_surcharge</th>\n",
              "      <th>total_amount</th>\n",
              "      <th>congestion_surcharge</th>\n",
              "      <th>Airport_fee</th>\n",
              "    </tr>\n",
              "  </thead>\n",
              "  <tbody>\n",
              "    <tr>\n",
              "      <th>0</th>\n",
              "      <td>2</td>\n",
              "      <td>2023-03-01 00:06:43</td>\n",
              "      <td>2023-03-01 00:16:43</td>\n",
              "      <td>1.0</td>\n",
              "      <td>0.00</td>\n",
              "      <td>1.0</td>\n",
              "      <td>N</td>\n",
              "      <td>238</td>\n",
              "      <td>42</td>\n",
              "      <td>2</td>\n",
              "      <td>8.6</td>\n",
              "      <td>1.0</td>\n",
              "      <td>0.5</td>\n",
              "      <td>0.00</td>\n",
              "      <td>0.0</td>\n",
              "      <td>1.0</td>\n",
              "      <td>11.10</td>\n",
              "      <td>0.0</td>\n",
              "      <td>0.00</td>\n",
              "    </tr>\n",
              "    <tr>\n",
              "      <th>1</th>\n",
              "      <td>2</td>\n",
              "      <td>2023-03-01 00:08:25</td>\n",
              "      <td>2023-03-01 00:39:30</td>\n",
              "      <td>2.0</td>\n",
              "      <td>12.40</td>\n",
              "      <td>1.0</td>\n",
              "      <td>N</td>\n",
              "      <td>138</td>\n",
              "      <td>231</td>\n",
              "      <td>1</td>\n",
              "      <td>52.7</td>\n",
              "      <td>6.0</td>\n",
              "      <td>0.5</td>\n",
              "      <td>12.54</td>\n",
              "      <td>0.0</td>\n",
              "      <td>1.0</td>\n",
              "      <td>76.49</td>\n",
              "      <td>2.5</td>\n",
              "      <td>1.25</td>\n",
              "    </tr>\n",
              "    <tr>\n",
              "      <th>2</th>\n",
              "      <td>1</td>\n",
              "      <td>2023-03-01 00:15:04</td>\n",
              "      <td>2023-03-01 00:29:26</td>\n",
              "      <td>0.0</td>\n",
              "      <td>3.30</td>\n",
              "      <td>1.0</td>\n",
              "      <td>N</td>\n",
              "      <td>140</td>\n",
              "      <td>186</td>\n",
              "      <td>1</td>\n",
              "      <td>18.4</td>\n",
              "      <td>3.5</td>\n",
              "      <td>0.5</td>\n",
              "      <td>4.65</td>\n",
              "      <td>0.0</td>\n",
              "      <td>1.0</td>\n",
              "      <td>28.05</td>\n",
              "      <td>2.5</td>\n",
              "      <td>0.00</td>\n",
              "    </tr>\n",
              "    <tr>\n",
              "      <th>3</th>\n",
              "      <td>1</td>\n",
              "      <td>2023-03-01 00:49:37</td>\n",
              "      <td>2023-03-01 01:01:05</td>\n",
              "      <td>1.0</td>\n",
              "      <td>2.90</td>\n",
              "      <td>1.0</td>\n",
              "      <td>N</td>\n",
              "      <td>140</td>\n",
              "      <td>43</td>\n",
              "      <td>1</td>\n",
              "      <td>15.6</td>\n",
              "      <td>3.5</td>\n",
              "      <td>0.5</td>\n",
              "      <td>4.10</td>\n",
              "      <td>0.0</td>\n",
              "      <td>1.0</td>\n",
              "      <td>24.70</td>\n",
              "      <td>2.5</td>\n",
              "      <td>0.00</td>\n",
              "    </tr>\n",
              "    <tr>\n",
              "      <th>4</th>\n",
              "      <td>2</td>\n",
              "      <td>2023-03-01 00:08:04</td>\n",
              "      <td>2023-03-01 00:11:06</td>\n",
              "      <td>1.0</td>\n",
              "      <td>1.23</td>\n",
              "      <td>1.0</td>\n",
              "      <td>N</td>\n",
              "      <td>79</td>\n",
              "      <td>137</td>\n",
              "      <td>1</td>\n",
              "      <td>7.2</td>\n",
              "      <td>1.0</td>\n",
              "      <td>0.5</td>\n",
              "      <td>2.44</td>\n",
              "      <td>0.0</td>\n",
              "      <td>1.0</td>\n",
              "      <td>14.64</td>\n",
              "      <td>2.5</td>\n",
              "      <td>0.00</td>\n",
              "    </tr>\n",
              "  </tbody>\n",
              "</table>\n",
              "</div>"
            ],
            "text/plain": [
              "   VendorID tpep_pickup_datetime tpep_dropoff_datetime  passenger_count  \\\n",
              "0         2  2023-03-01 00:06:43   2023-03-01 00:16:43              1.0   \n",
              "1         2  2023-03-01 00:08:25   2023-03-01 00:39:30              2.0   \n",
              "2         1  2023-03-01 00:15:04   2023-03-01 00:29:26              0.0   \n",
              "3         1  2023-03-01 00:49:37   2023-03-01 01:01:05              1.0   \n",
              "4         2  2023-03-01 00:08:04   2023-03-01 00:11:06              1.0   \n",
              "\n",
              "   trip_distance  RatecodeID store_and_fwd_flag  PULocationID  DOLocationID  \\\n",
              "0           0.00         1.0                  N           238            42   \n",
              "1          12.40         1.0                  N           138           231   \n",
              "2           3.30         1.0                  N           140           186   \n",
              "3           2.90         1.0                  N           140            43   \n",
              "4           1.23         1.0                  N            79           137   \n",
              "\n",
              "   payment_type  fare_amount  extra  mta_tax  tip_amount  tolls_amount  \\\n",
              "0             2          8.6    1.0      0.5        0.00           0.0   \n",
              "1             1         52.7    6.0      0.5       12.54           0.0   \n",
              "2             1         18.4    3.5      0.5        4.65           0.0   \n",
              "3             1         15.6    3.5      0.5        4.10           0.0   \n",
              "4             1          7.2    1.0      0.5        2.44           0.0   \n",
              "\n",
              "   improvement_surcharge  total_amount  congestion_surcharge  Airport_fee  \n",
              "0                    1.0         11.10                   0.0         0.00  \n",
              "1                    1.0         76.49                   2.5         1.25  \n",
              "2                    1.0         28.05                   2.5         0.00  \n",
              "3                    1.0         24.70                   2.5         0.00  \n",
              "4                    1.0         14.64                   2.5         0.00  "
            ]
          },
          "execution_count": 4,
          "metadata": {},
          "output_type": "execute_result"
        }
      ],
      "source": [
        "dataframe.head()"
      ]
    },
    {
      "cell_type": "code",
      "execution_count": null,
      "metadata": {
        "colab": {
          "base_uri": "https://localhost:8080/"
        },
        "id": "epkLEuCvH3QA",
        "outputId": "487ffe30-a4b2-4949-bf37-b234d641d7cd"
      },
      "outputs": [
        {
          "data": {
            "text/plain": [
              "(3403766, 19)"
            ]
          },
          "execution_count": 5,
          "metadata": {},
          "output_type": "execute_result"
        }
      ],
      "source": [
        "dataframe.shape"
      ]
    },
    {
      "cell_type": "markdown",
      "metadata": {
        "id": "DExpmcx6qGux"
      },
      "source": [
        "# nettoyage des données"
      ]
    },
    {
      "cell_type": "markdown",
      "metadata": {
        "id": "iJczcqoBd98L"
      },
      "source": [
        "NETTOYAGE DES DONNEES\n",
        "- suppression variables calculées dans le tarif"
      ]
    },
    {
      "cell_type": "code",
      "execution_count": null,
      "metadata": {
        "colab": {
          "base_uri": "https://localhost:8080/"
        },
        "id": "mxNW9FiBeSJd",
        "outputId": "74a60543-2957-4a16-9c4a-b66384f34916"
      },
      "outputs": [
        {
          "data": {
            "text/plain": [
              "VendorID                     0\n",
              "tpep_pickup_datetime         0\n",
              "tpep_dropoff_datetime        0\n",
              "passenger_count          71743\n",
              "trip_distance                0\n",
              "RatecodeID               71743\n",
              "store_and_fwd_flag       71743\n",
              "PULocationID                 0\n",
              "DOLocationID                 0\n",
              "payment_type                 0\n",
              "fare_amount                  0\n",
              "extra                        0\n",
              "mta_tax                      0\n",
              "tip_amount                   0\n",
              "tolls_amount                 0\n",
              "improvement_surcharge        0\n",
              "total_amount                 0\n",
              "congestion_surcharge     71743\n",
              "airport_fee              71743\n",
              "dtype: int64"
            ]
          },
          "execution_count": 6,
          "metadata": {},
          "output_type": "execute_result"
        }
      ],
      "source": [
        "dataframe1.isnull().sum()"
      ]
    },
    {
      "cell_type": "markdown",
      "metadata": {
        "id": "1GY034sDjJID"
      },
      "source": [
        "variable à prédire : total_amount\n",
        "pour la prédire : ne pas prendre en compte les autres variables monétaires\n",
        "suppression de :\n",
        "- fare_amount\n",
        "- extra\n",
        "- mta_tax\n",
        "- tip_amount\n",
        "- tolls_amount\n",
        "- improvement_surcharge\n",
        "- congestion_surcharge\n",
        "- airport_fee"
      ]
    },
    {
      "cell_type": "code",
      "execution_count": null,
      "metadata": {
        "colab": {
          "base_uri": "https://localhost:8080/"
        },
        "id": "Ci9GqTfL5d1H",
        "outputId": "f25476af-c79b-4547-cf70-3e032118ce4b"
      },
      "outputs": [
        {
          "data": {
            "text/plain": [
              "datetime       0\n",
              "tempmax        0\n",
              "tempmin        0\n",
              "temp           0\n",
              "humidity       0\n",
              "precip         0\n",
              "windgust       0\n",
              "windspeed      0\n",
              "cloudcover     0\n",
              "visibility     0\n",
              "solarenergy    0\n",
              "dtype: int64"
            ]
          },
          "execution_count": 7,
          "metadata": {},
          "output_type": "execute_result"
        }
      ],
      "source": [
        "df_janvier.isnull().sum()"
      ]
    },
    {
      "cell_type": "code",
      "execution_count": null,
      "metadata": {
        "id": "z1PEiAyYjon2"
      },
      "outputs": [],
      "source": [
        "df=dataframe.drop(['fare_amount', 'extra','mta_tax','tip_amount','tolls_amount','improvement_surcharge','congestion_surcharge','Airport_fee','RatecodeID'], axis=1)"
      ]
    },
    {
      "cell_type": "code",
      "execution_count": null,
      "metadata": {
        "id": "IUfVFxqq5d1J"
      },
      "outputs": [],
      "source": [
        "df1=dataframe1.drop(['fare_amount', 'extra','mta_tax','tip_amount','tolls_amount','improvement_surcharge','congestion_surcharge','airport_fee','RatecodeID'], axis=1)"
      ]
    },
    {
      "cell_type": "code",
      "execution_count": null,
      "metadata": {
        "colab": {
          "base_uri": "https://localhost:8080/"
        },
        "id": "LpPIaZNi5d1K",
        "outputId": "8d167a61-0c84-41bb-d6c7-88bb9d58ec4a"
      },
      "outputs": [
        {
          "data": {
            "text/plain": [
              "VendorID                     0\n",
              "tpep_pickup_datetime         0\n",
              "tpep_dropoff_datetime        0\n",
              "passenger_count          87619\n",
              "trip_distance                0\n",
              "store_and_fwd_flag       87619\n",
              "PULocationID                 0\n",
              "DOLocationID                 0\n",
              "payment_type                 0\n",
              "total_amount                 0\n",
              "dtype: int64"
            ]
          },
          "execution_count": 10,
          "metadata": {},
          "output_type": "execute_result"
        }
      ],
      "source": [
        "df.isnull().sum()"
      ]
    },
    {
      "cell_type": "code",
      "execution_count": null,
      "metadata": {
        "id": "-EhHkEGGk5m_"
      },
      "outputs": [],
      "source": [
        "df=df.drop(['VendorID', 'store_and_fwd_flag'], axis=1)"
      ]
    },
    {
      "cell_type": "code",
      "execution_count": null,
      "metadata": {
        "colab": {
          "base_uri": "https://localhost:8080/"
        },
        "id": "3zpRtEhcefne",
        "outputId": "a2c15ea1-d6fc-4534-c465-4bcaa5541a22"
      },
      "outputs": [
        {
          "data": {
            "text/plain": [
              "tpep_pickup_datetime         0\n",
              "tpep_dropoff_datetime        0\n",
              "passenger_count          87619\n",
              "trip_distance                0\n",
              "PULocationID                 0\n",
              "DOLocationID                 0\n",
              "payment_type                 0\n",
              "total_amount                 0\n",
              "dtype: int64"
            ]
          },
          "execution_count": 12,
          "metadata": {},
          "output_type": "execute_result"
        }
      ],
      "source": [
        "df.isnull().sum()"
      ]
    },
    {
      "cell_type": "code",
      "execution_count": null,
      "metadata": {
        "id": "7C0wmbqn5d1L"
      },
      "outputs": [],
      "source": [
        "df1=df1.drop(['VendorID', 'store_and_fwd_flag'], axis=1)"
      ]
    },
    {
      "cell_type": "markdown",
      "metadata": {
        "id": "_MYkwY5keotW"
      },
      "source": [
        "suppression des lignes vides pour maximiser la modélisation"
      ]
    },
    {
      "cell_type": "markdown",
      "metadata": {
        "id": "_S1NXI4L5mNP"
      },
      "source": [
        "### variable 'passenger_count'"
      ]
    },
    {
      "cell_type": "code",
      "execution_count": null,
      "metadata": {
        "id": "q_Ptjwyg5kTA"
      },
      "outputs": [],
      "source": [
        "df.drop(df[(df['passenger_count']<=0)].index, inplace=True)\n",
        "df.drop(df[(df['passenger_count']>=5)].index, inplace=True)\n",
        "df1.drop(df1[(df1['passenger_count']<=0)].index, inplace=True)\n",
        "df1.drop(df1[(df1['passenger_count']>=5)].index, inplace=True)"
      ]
    },
    {
      "cell_type": "code",
      "execution_count": null,
      "metadata": {
        "id": "h2wRFPSpA8LJ"
      },
      "outputs": [],
      "source": []
    },
    {
      "cell_type": "code",
      "execution_count": null,
      "metadata": {
        "id": "94IHNal_UfuO"
      },
      "outputs": [],
      "source": [
        "moy=int(df['passenger_count'].mean())\n",
        "moy1=int(df1['passenger_count'].mean())"
      ]
    },
    {
      "cell_type": "code",
      "execution_count": null,
      "metadata": {
        "id": "-qBRZIrmUyyC"
      },
      "outputs": [],
      "source": [
        "df['passenger_count'] = df['passenger_count'].replace(np.nan, moy) #remplacement par la moyenne du nbre de passager\n",
        "df1['passenger_count'] = df1['passenger_count'].replace(np.nan, moy1) #remplacement par la moyenne du nbre de passager"
      ]
    },
    {
      "cell_type": "code",
      "execution_count": null,
      "metadata": {
        "colab": {
          "base_uri": "https://localhost:8080/"
        },
        "id": "oLKs75CgkTYp",
        "outputId": "d09b6a2e-e611-4a66-af58-ba1c821e106b"
      },
      "outputs": [
        {
          "data": {
            "text/plain": [
              "tpep_pickup_datetime     0\n",
              "tpep_dropoff_datetime    0\n",
              "passenger_count          0\n",
              "trip_distance            0\n",
              "PULocationID             0\n",
              "DOLocationID             0\n",
              "payment_type             0\n",
              "total_amount             0\n",
              "dtype: int64"
            ]
          },
          "execution_count": 17,
          "metadata": {},
          "output_type": "execute_result"
        }
      ],
      "source": [
        "df.isnull().sum()\n",
        "df1.isnull().sum()"
      ]
    },
    {
      "cell_type": "markdown",
      "metadata": {
        "id": "a3AGgmJcdkIv"
      },
      "source": [
        "CREATION DE VARIABLES\n",
        "Détails des dates  :\n",
        "- mois\n",
        "- jour\n",
        "- année\n",
        "- heures\n",
        "- minutes\n",
        "- jour de la semaine\n",
        "- durée du trajet"
      ]
    },
    {
      "cell_type": "code",
      "execution_count": null,
      "metadata": {
        "id": "9pkgBeX0Lirp"
      },
      "outputs": [],
      "source": [
        "df['mois'] = df.tpep_pickup_datetime.dt.month\n",
        "df['jour'] = df.tpep_pickup_datetime.dt.day\n",
        "df['annee'] = df.tpep_pickup_datetime.dt.year\n",
        "df['heure'] = df.tpep_pickup_datetime.dt.hour\n",
        "df['minute'] = df.tpep_pickup_datetime.dt.minute\n",
        "df['joursemaine'] = df.tpep_pickup_datetime.dt.weekday\n",
        "\n",
        "df['durée'] = df['tpep_dropoff_datetime'] - df['tpep_pickup_datetime']\n",
        "df['duree_minute'] = df.durée.dt.total_seconds()/60"
      ]
    },
    {
      "cell_type": "code",
      "execution_count": null,
      "metadata": {
        "id": "EIH0yKdl5d1N"
      },
      "outputs": [],
      "source": [
        "df1['mois'] = df1.tpep_pickup_datetime.dt.month\n",
        "df1['jour'] = df1.tpep_pickup_datetime.dt.day\n",
        "df1['annee'] = df1.tpep_pickup_datetime.dt.year\n",
        "df1['heure'] = df1.tpep_pickup_datetime.dt.hour\n",
        "df1['minute'] = df1.tpep_pickup_datetime.dt.minute\n",
        "df1['joursemaine'] = df1.tpep_pickup_datetime.dt.weekday\n",
        "\n",
        "df1['durée'] = df1['tpep_dropoff_datetime'] - df1['tpep_pickup_datetime']\n",
        "df1['duree_minute'] = df1.durée.dt.total_seconds()/60"
      ]
    },
    {
      "cell_type": "code",
      "execution_count": null,
      "metadata": {
        "id": "kXiYf12LYu_F"
      },
      "outputs": [],
      "source": [
        "df=df.drop(['tpep_dropoff_datetime'], axis=1) #décomposation ok donc plus besoin des variables complètes\n",
        "df1=df1.drop(['tpep_dropoff_datetime'], axis=1) #décomposation ok donc plus besoin des variables complètes"
      ]
    },
    {
      "cell_type": "code",
      "execution_count": null,
      "metadata": {
        "colab": {
          "base_uri": "https://localhost:8080/",
          "height": 600
        },
        "id": "5Ki9l1MKLy6q",
        "outputId": "38d1b492-a699-4e58-8519-f892d7edc251"
      },
      "outputs": [
        {
          "data": {
            "text/html": [
              "<div>\n",
              "<style scoped>\n",
              "    .dataframe tbody tr th:only-of-type {\n",
              "        vertical-align: middle;\n",
              "    }\n",
              "\n",
              "    .dataframe tbody tr th {\n",
              "        vertical-align: top;\n",
              "    }\n",
              "\n",
              "    .dataframe thead th {\n",
              "        text-align: right;\n",
              "    }\n",
              "</style>\n",
              "<table border=\"1\" class=\"dataframe\">\n",
              "  <thead>\n",
              "    <tr style=\"text-align: right;\">\n",
              "      <th></th>\n",
              "      <th>tpep_pickup_datetime</th>\n",
              "      <th>passenger_count</th>\n",
              "      <th>trip_distance</th>\n",
              "      <th>PULocationID</th>\n",
              "      <th>DOLocationID</th>\n",
              "      <th>payment_type</th>\n",
              "      <th>total_amount</th>\n",
              "      <th>mois</th>\n",
              "      <th>jour</th>\n",
              "      <th>annee</th>\n",
              "      <th>heure</th>\n",
              "      <th>minute</th>\n",
              "      <th>joursemaine</th>\n",
              "      <th>durée</th>\n",
              "      <th>duree_minute</th>\n",
              "    </tr>\n",
              "  </thead>\n",
              "  <tbody>\n",
              "    <tr>\n",
              "      <th>3403756</th>\n",
              "      <td>2023-03-31 23:43:56</td>\n",
              "      <td>1.0</td>\n",
              "      <td>5.17</td>\n",
              "      <td>113</td>\n",
              "      <td>151</td>\n",
              "      <td>0</td>\n",
              "      <td>41.25</td>\n",
              "      <td>3</td>\n",
              "      <td>31</td>\n",
              "      <td>2023</td>\n",
              "      <td>23</td>\n",
              "      <td>43</td>\n",
              "      <td>4</td>\n",
              "      <td>0 days 00:25:49</td>\n",
              "      <td>25.816667</td>\n",
              "    </tr>\n",
              "    <tr>\n",
              "      <th>3403757</th>\n",
              "      <td>2023-03-31 23:21:09</td>\n",
              "      <td>1.0</td>\n",
              "      <td>1.57</td>\n",
              "      <td>45</td>\n",
              "      <td>79</td>\n",
              "      <td>0</td>\n",
              "      <td>15.41</td>\n",
              "      <td>3</td>\n",
              "      <td>31</td>\n",
              "      <td>2023</td>\n",
              "      <td>23</td>\n",
              "      <td>21</td>\n",
              "      <td>4</td>\n",
              "      <td>0 days 00:10:16</td>\n",
              "      <td>10.266667</td>\n",
              "    </tr>\n",
              "    <tr>\n",
              "      <th>3403758</th>\n",
              "      <td>2023-03-31 23:44:00</td>\n",
              "      <td>1.0</td>\n",
              "      <td>5.52</td>\n",
              "      <td>230</td>\n",
              "      <td>223</td>\n",
              "      <td>0</td>\n",
              "      <td>36.94</td>\n",
              "      <td>3</td>\n",
              "      <td>31</td>\n",
              "      <td>2023</td>\n",
              "      <td>23</td>\n",
              "      <td>44</td>\n",
              "      <td>4</td>\n",
              "      <td>0 days 00:33:00</td>\n",
              "      <td>33.000000</td>\n",
              "    </tr>\n",
              "    <tr>\n",
              "      <th>3403759</th>\n",
              "      <td>2023-03-31 23:13:00</td>\n",
              "      <td>1.0</td>\n",
              "      <td>2.48</td>\n",
              "      <td>74</td>\n",
              "      <td>141</td>\n",
              "      <td>0</td>\n",
              "      <td>15.27</td>\n",
              "      <td>3</td>\n",
              "      <td>31</td>\n",
              "      <td>2023</td>\n",
              "      <td>23</td>\n",
              "      <td>13</td>\n",
              "      <td>4</td>\n",
              "      <td>0 days 00:12:00</td>\n",
              "      <td>12.000000</td>\n",
              "    </tr>\n",
              "    <tr>\n",
              "      <th>3403760</th>\n",
              "      <td>2023-03-31 23:11:21</td>\n",
              "      <td>1.0</td>\n",
              "      <td>4.56</td>\n",
              "      <td>231</td>\n",
              "      <td>80</td>\n",
              "      <td>0</td>\n",
              "      <td>27.58</td>\n",
              "      <td>3</td>\n",
              "      <td>31</td>\n",
              "      <td>2023</td>\n",
              "      <td>23</td>\n",
              "      <td>11</td>\n",
              "      <td>4</td>\n",
              "      <td>0 days 00:20:17</td>\n",
              "      <td>20.283333</td>\n",
              "    </tr>\n",
              "    <tr>\n",
              "      <th>3403761</th>\n",
              "      <td>2023-03-31 23:24:25</td>\n",
              "      <td>1.0</td>\n",
              "      <td>3.16</td>\n",
              "      <td>163</td>\n",
              "      <td>75</td>\n",
              "      <td>0</td>\n",
              "      <td>20.36</td>\n",
              "      <td>3</td>\n",
              "      <td>31</td>\n",
              "      <td>2023</td>\n",
              "      <td>23</td>\n",
              "      <td>24</td>\n",
              "      <td>4</td>\n",
              "      <td>0 days 00:16:29</td>\n",
              "      <td>16.483333</td>\n",
              "    </tr>\n",
              "    <tr>\n",
              "      <th>3403762</th>\n",
              "      <td>2023-03-31 23:24:50</td>\n",
              "      <td>1.0</td>\n",
              "      <td>6.89</td>\n",
              "      <td>125</td>\n",
              "      <td>198</td>\n",
              "      <td>0</td>\n",
              "      <td>53.90</td>\n",
              "      <td>3</td>\n",
              "      <td>31</td>\n",
              "      <td>2023</td>\n",
              "      <td>23</td>\n",
              "      <td>24</td>\n",
              "      <td>4</td>\n",
              "      <td>0 days 00:39:22</td>\n",
              "      <td>39.366667</td>\n",
              "    </tr>\n",
              "    <tr>\n",
              "      <th>3403763</th>\n",
              "      <td>2023-03-31 23:26:31</td>\n",
              "      <td>1.0</td>\n",
              "      <td>4.01</td>\n",
              "      <td>50</td>\n",
              "      <td>224</td>\n",
              "      <td>0</td>\n",
              "      <td>28.02</td>\n",
              "      <td>3</td>\n",
              "      <td>31</td>\n",
              "      <td>2023</td>\n",
              "      <td>23</td>\n",
              "      <td>26</td>\n",
              "      <td>4</td>\n",
              "      <td>0 days 00:23:08</td>\n",
              "      <td>23.133333</td>\n",
              "    </tr>\n",
              "    <tr>\n",
              "      <th>3403764</th>\n",
              "      <td>2023-03-31 23:07:51</td>\n",
              "      <td>1.0</td>\n",
              "      <td>1.31</td>\n",
              "      <td>113</td>\n",
              "      <td>158</td>\n",
              "      <td>0</td>\n",
              "      <td>16.01</td>\n",
              "      <td>3</td>\n",
              "      <td>31</td>\n",
              "      <td>2023</td>\n",
              "      <td>23</td>\n",
              "      <td>7</td>\n",
              "      <td>4</td>\n",
              "      <td>0 days 00:08:05</td>\n",
              "      <td>8.083333</td>\n",
              "    </tr>\n",
              "    <tr>\n",
              "      <th>3403765</th>\n",
              "      <td>2023-03-31 23:26:12</td>\n",
              "      <td>1.0</td>\n",
              "      <td>0.88</td>\n",
              "      <td>41</td>\n",
              "      <td>166</td>\n",
              "      <td>0</td>\n",
              "      <td>17.26</td>\n",
              "      <td>3</td>\n",
              "      <td>31</td>\n",
              "      <td>2023</td>\n",
              "      <td>23</td>\n",
              "      <td>26</td>\n",
              "      <td>4</td>\n",
              "      <td>0 days 00:05:35</td>\n",
              "      <td>5.583333</td>\n",
              "    </tr>\n",
              "  </tbody>\n",
              "</table>\n",
              "</div>"
            ],
            "text/plain": [
              "        tpep_pickup_datetime  passenger_count  trip_distance  PULocationID  \\\n",
              "3403756  2023-03-31 23:43:56              1.0           5.17           113   \n",
              "3403757  2023-03-31 23:21:09              1.0           1.57            45   \n",
              "3403758  2023-03-31 23:44:00              1.0           5.52           230   \n",
              "3403759  2023-03-31 23:13:00              1.0           2.48            74   \n",
              "3403760  2023-03-31 23:11:21              1.0           4.56           231   \n",
              "3403761  2023-03-31 23:24:25              1.0           3.16           163   \n",
              "3403762  2023-03-31 23:24:50              1.0           6.89           125   \n",
              "3403763  2023-03-31 23:26:31              1.0           4.01            50   \n",
              "3403764  2023-03-31 23:07:51              1.0           1.31           113   \n",
              "3403765  2023-03-31 23:26:12              1.0           0.88            41   \n",
              "\n",
              "         DOLocationID  payment_type  total_amount  mois  jour  annee  heure  \\\n",
              "3403756           151             0         41.25     3    31   2023     23   \n",
              "3403757            79             0         15.41     3    31   2023     23   \n",
              "3403758           223             0         36.94     3    31   2023     23   \n",
              "3403759           141             0         15.27     3    31   2023     23   \n",
              "3403760            80             0         27.58     3    31   2023     23   \n",
              "3403761            75             0         20.36     3    31   2023     23   \n",
              "3403762           198             0         53.90     3    31   2023     23   \n",
              "3403763           224             0         28.02     3    31   2023     23   \n",
              "3403764           158             0         16.01     3    31   2023     23   \n",
              "3403765           166             0         17.26     3    31   2023     23   \n",
              "\n",
              "         minute  joursemaine           durée  duree_minute  \n",
              "3403756      43            4 0 days 00:25:49     25.816667  \n",
              "3403757      21            4 0 days 00:10:16     10.266667  \n",
              "3403758      44            4 0 days 00:33:00     33.000000  \n",
              "3403759      13            4 0 days 00:12:00     12.000000  \n",
              "3403760      11            4 0 days 00:20:17     20.283333  \n",
              "3403761      24            4 0 days 00:16:29     16.483333  \n",
              "3403762      24            4 0 days 00:39:22     39.366667  \n",
              "3403763      26            4 0 days 00:23:08     23.133333  \n",
              "3403764       7            4 0 days 00:08:05      8.083333  \n",
              "3403765      26            4 0 days 00:05:35      5.583333  "
            ]
          },
          "execution_count": 21,
          "metadata": {},
          "output_type": "execute_result"
        }
      ],
      "source": [
        "df.tail(10)"
      ]
    },
    {
      "cell_type": "code",
      "execution_count": null,
      "metadata": {
        "colab": {
          "base_uri": "https://localhost:8080/",
          "height": 399
        },
        "id": "7kOuoKxkesuN",
        "outputId": "d2eae0bb-f23a-4357-8538-4d420f2c48a6"
      },
      "outputs": [
        {
          "data": {
            "text/html": [
              "<div>\n",
              "<style scoped>\n",
              "    .dataframe tbody tr th:only-of-type {\n",
              "        vertical-align: middle;\n",
              "    }\n",
              "\n",
              "    .dataframe tbody tr th {\n",
              "        vertical-align: top;\n",
              "    }\n",
              "\n",
              "    .dataframe thead th {\n",
              "        text-align: right;\n",
              "    }\n",
              "</style>\n",
              "<table border=\"1\" class=\"dataframe\">\n",
              "  <thead>\n",
              "    <tr style=\"text-align: right;\">\n",
              "      <th></th>\n",
              "      <th>passenger_count</th>\n",
              "      <th>trip_distance</th>\n",
              "      <th>PULocationID</th>\n",
              "      <th>DOLocationID</th>\n",
              "      <th>payment_type</th>\n",
              "      <th>total_amount</th>\n",
              "      <th>mois</th>\n",
              "      <th>jour</th>\n",
              "      <th>annee</th>\n",
              "      <th>heure</th>\n",
              "      <th>minute</th>\n",
              "      <th>joursemaine</th>\n",
              "      <th>durée</th>\n",
              "      <th>duree_minute</th>\n",
              "    </tr>\n",
              "  </thead>\n",
              "  <tbody>\n",
              "    <tr>\n",
              "      <th>count</th>\n",
              "      <td>3.269727e+06</td>\n",
              "      <td>3.269727e+06</td>\n",
              "      <td>3.269727e+06</td>\n",
              "      <td>3.269727e+06</td>\n",
              "      <td>3.269727e+06</td>\n",
              "      <td>3.269727e+06</td>\n",
              "      <td>3.269727e+06</td>\n",
              "      <td>3.269727e+06</td>\n",
              "      <td>3.269727e+06</td>\n",
              "      <td>3.269727e+06</td>\n",
              "      <td>3.269727e+06</td>\n",
              "      <td>3.269727e+06</td>\n",
              "      <td>3269727</td>\n",
              "      <td>3.269727e+06</td>\n",
              "    </tr>\n",
              "    <tr>\n",
              "      <th>mean</th>\n",
              "      <td>1.272742e+00</td>\n",
              "      <td>3.937369e+00</td>\n",
              "      <td>1.654315e+02</td>\n",
              "      <td>1.640698e+02</td>\n",
              "      <td>1.186205e+00</td>\n",
              "      <td>2.786113e+01</td>\n",
              "      <td>3.000007e+00</td>\n",
              "      <td>1.588524e+01</td>\n",
              "      <td>2.023000e+03</td>\n",
              "      <td>1.435129e+01</td>\n",
              "      <td>2.954645e+01</td>\n",
              "      <td>3.025147e+00</td>\n",
              "      <td>0 days 00:16:50.470539589</td>\n",
              "      <td>1.684118e+01</td>\n",
              "    </tr>\n",
              "    <tr>\n",
              "      <th>std</th>\n",
              "      <td>6.153873e-01</td>\n",
              "      <td>1.955743e+02</td>\n",
              "      <td>6.370965e+01</td>\n",
              "      <td>6.968213e+01</td>\n",
              "      <td>5.360956e-01</td>\n",
              "      <td>2.293531e+01</td>\n",
              "      <td>1.336444e-02</td>\n",
              "      <td>8.983038e+00</td>\n",
              "      <td>3.525932e-02</td>\n",
              "      <td>5.764609e+00</td>\n",
              "      <td>1.734021e+01</td>\n",
              "      <td>1.847520e+00</td>\n",
              "      <td>0 days 00:42:36.249004864</td>\n",
              "      <td>4.260415e+01</td>\n",
              "    </tr>\n",
              "    <tr>\n",
              "      <th>min</th>\n",
              "      <td>1.000000e+00</td>\n",
              "      <td>0.000000e+00</td>\n",
              "      <td>1.000000e+00</td>\n",
              "      <td>1.000000e+00</td>\n",
              "      <td>0.000000e+00</td>\n",
              "      <td>-9.829500e+02</td>\n",
              "      <td>1.000000e+00</td>\n",
              "      <td>1.000000e+00</td>\n",
              "      <td>2.001000e+03</td>\n",
              "      <td>0.000000e+00</td>\n",
              "      <td>0.000000e+00</td>\n",
              "      <td>0.000000e+00</td>\n",
              "      <td>-1 days +16:03:45</td>\n",
              "      <td>-4.762500e+02</td>\n",
              "    </tr>\n",
              "    <tr>\n",
              "      <th>25%</th>\n",
              "      <td>1.000000e+00</td>\n",
              "      <td>1.060000e+00</td>\n",
              "      <td>1.320000e+02</td>\n",
              "      <td>1.140000e+02</td>\n",
              "      <td>1.000000e+00</td>\n",
              "      <td>1.570000e+01</td>\n",
              "      <td>3.000000e+00</td>\n",
              "      <td>8.000000e+00</td>\n",
              "      <td>2.023000e+03</td>\n",
              "      <td>1.100000e+01</td>\n",
              "      <td>1.400000e+01</td>\n",
              "      <td>2.000000e+00</td>\n",
              "      <td>0 days 00:07:25</td>\n",
              "      <td>7.416667e+00</td>\n",
              "    </tr>\n",
              "    <tr>\n",
              "      <th>50%</th>\n",
              "      <td>1.000000e+00</td>\n",
              "      <td>1.800000e+00</td>\n",
              "      <td>1.620000e+02</td>\n",
              "      <td>1.620000e+02</td>\n",
              "      <td>1.000000e+00</td>\n",
              "      <td>2.062000e+01</td>\n",
              "      <td>3.000000e+00</td>\n",
              "      <td>1.600000e+01</td>\n",
              "      <td>2.023000e+03</td>\n",
              "      <td>1.500000e+01</td>\n",
              "      <td>3.000000e+01</td>\n",
              "      <td>3.000000e+00</td>\n",
              "      <td>0 days 00:12:11</td>\n",
              "      <td>1.218333e+01</td>\n",
              "    </tr>\n",
              "    <tr>\n",
              "      <th>75%</th>\n",
              "      <td>1.000000e+00</td>\n",
              "      <td>3.400000e+00</td>\n",
              "      <td>2.330000e+02</td>\n",
              "      <td>2.340000e+02</td>\n",
              "      <td>1.000000e+00</td>\n",
              "      <td>2.976000e+01</td>\n",
              "      <td>3.000000e+00</td>\n",
              "      <td>2.400000e+01</td>\n",
              "      <td>2.023000e+03</td>\n",
              "      <td>1.900000e+01</td>\n",
              "      <td>4.500000e+01</td>\n",
              "      <td>4.000000e+00</td>\n",
              "      <td>0 days 00:19:41</td>\n",
              "      <td>1.968333e+01</td>\n",
              "    </tr>\n",
              "    <tr>\n",
              "      <th>max</th>\n",
              "      <td>4.000000e+00</td>\n",
              "      <td>2.169870e+05</td>\n",
              "      <td>2.650000e+02</td>\n",
              "      <td>2.650000e+02</td>\n",
              "      <td>5.000000e+00</td>\n",
              "      <td>1.000000e+03</td>\n",
              "      <td>1.200000e+01</td>\n",
              "      <td>3.100000e+01</td>\n",
              "      <td>2.023000e+03</td>\n",
              "      <td>2.300000e+01</td>\n",
              "      <td>5.900000e+01</td>\n",
              "      <td>6.000000e+00</td>\n",
              "      <td>3 days 21:57:43</td>\n",
              "      <td>5.637717e+03</td>\n",
              "    </tr>\n",
              "  </tbody>\n",
              "</table>\n",
              "</div>"
            ],
            "text/plain": [
              "       passenger_count  trip_distance  PULocationID  DOLocationID  \\\n",
              "count     3.269727e+06   3.269727e+06  3.269727e+06  3.269727e+06   \n",
              "mean      1.272742e+00   3.937369e+00  1.654315e+02  1.640698e+02   \n",
              "std       6.153873e-01   1.955743e+02  6.370965e+01  6.968213e+01   \n",
              "min       1.000000e+00   0.000000e+00  1.000000e+00  1.000000e+00   \n",
              "25%       1.000000e+00   1.060000e+00  1.320000e+02  1.140000e+02   \n",
              "50%       1.000000e+00   1.800000e+00  1.620000e+02  1.620000e+02   \n",
              "75%       1.000000e+00   3.400000e+00  2.330000e+02  2.340000e+02   \n",
              "max       4.000000e+00   2.169870e+05  2.650000e+02  2.650000e+02   \n",
              "\n",
              "       payment_type  total_amount          mois          jour         annee  \\\n",
              "count  3.269727e+06  3.269727e+06  3.269727e+06  3.269727e+06  3.269727e+06   \n",
              "mean   1.186205e+00  2.786113e+01  3.000007e+00  1.588524e+01  2.023000e+03   \n",
              "std    5.360956e-01  2.293531e+01  1.336444e-02  8.983038e+00  3.525932e-02   \n",
              "min    0.000000e+00 -9.829500e+02  1.000000e+00  1.000000e+00  2.001000e+03   \n",
              "25%    1.000000e+00  1.570000e+01  3.000000e+00  8.000000e+00  2.023000e+03   \n",
              "50%    1.000000e+00  2.062000e+01  3.000000e+00  1.600000e+01  2.023000e+03   \n",
              "75%    1.000000e+00  2.976000e+01  3.000000e+00  2.400000e+01  2.023000e+03   \n",
              "max    5.000000e+00  1.000000e+03  1.200000e+01  3.100000e+01  2.023000e+03   \n",
              "\n",
              "              heure        minute   joursemaine                      durée  \\\n",
              "count  3.269727e+06  3.269727e+06  3.269727e+06                    3269727   \n",
              "mean   1.435129e+01  2.954645e+01  3.025147e+00  0 days 00:16:50.470539589   \n",
              "std    5.764609e+00  1.734021e+01  1.847520e+00  0 days 00:42:36.249004864   \n",
              "min    0.000000e+00  0.000000e+00  0.000000e+00          -1 days +16:03:45   \n",
              "25%    1.100000e+01  1.400000e+01  2.000000e+00            0 days 00:07:25   \n",
              "50%    1.500000e+01  3.000000e+01  3.000000e+00            0 days 00:12:11   \n",
              "75%    1.900000e+01  4.500000e+01  4.000000e+00            0 days 00:19:41   \n",
              "max    2.300000e+01  5.900000e+01  6.000000e+00            3 days 21:57:43   \n",
              "\n",
              "       duree_minute  \n",
              "count  3.269727e+06  \n",
              "mean   1.684118e+01  \n",
              "std    4.260415e+01  \n",
              "min   -4.762500e+02  \n",
              "25%    7.416667e+00  \n",
              "50%    1.218333e+01  \n",
              "75%    1.968333e+01  \n",
              "max    5.637717e+03  "
            ]
          },
          "execution_count": 22,
          "metadata": {},
          "output_type": "execute_result"
        }
      ],
      "source": [
        "df.describe()"
      ]
    },
    {
      "cell_type": "markdown",
      "metadata": {
        "id": "ToJ81LfBiYLo"
      },
      "source": [
        "## valeurs aberrantes"
      ]
    },
    {
      "cell_type": "markdown",
      "metadata": {
        "id": "HdRUEVyzQ93N"
      },
      "source": [
        "### variable 'durée'"
      ]
    },
    {
      "cell_type": "code",
      "execution_count": null,
      "metadata": {
        "id": "KQ4eAxGpA8LO",
        "outputId": "c6bd6b99-4061-43ce-ef43-1eb7e83c9db9"
      },
      "outputs": [
        {
          "data": {
            "text/plain": [
              "Timedelta('3 days 21:57:43')"
            ]
          },
          "execution_count": 23,
          "metadata": {},
          "output_type": "execute_result"
        }
      ],
      "source": [
        "df['durée'].max()"
      ]
    },
    {
      "cell_type": "code",
      "execution_count": null,
      "metadata": {
        "colab": {
          "base_uri": "https://localhost:8080/",
          "height": 1000
        },
        "id": "Ra9u1t4AiwFS",
        "outputId": "9e5449ab-e603-4f66-f4f4-4805c9ff5359"
      },
      "outputs": [
        {
          "data": {
            "text/html": [
              "<div>\n",
              "<style scoped>\n",
              "    .dataframe tbody tr th:only-of-type {\n",
              "        vertical-align: middle;\n",
              "    }\n",
              "\n",
              "    .dataframe tbody tr th {\n",
              "        vertical-align: top;\n",
              "    }\n",
              "\n",
              "    .dataframe thead th {\n",
              "        text-align: right;\n",
              "    }\n",
              "</style>\n",
              "<table border=\"1\" class=\"dataframe\">\n",
              "  <thead>\n",
              "    <tr style=\"text-align: right;\">\n",
              "      <th></th>\n",
              "      <th>tpep_pickup_datetime</th>\n",
              "      <th>passenger_count</th>\n",
              "      <th>trip_distance</th>\n",
              "      <th>PULocationID</th>\n",
              "      <th>DOLocationID</th>\n",
              "      <th>payment_type</th>\n",
              "      <th>total_amount</th>\n",
              "      <th>mois</th>\n",
              "      <th>jour</th>\n",
              "      <th>annee</th>\n",
              "      <th>heure</th>\n",
              "      <th>minute</th>\n",
              "      <th>joursemaine</th>\n",
              "      <th>durée</th>\n",
              "      <th>duree_minute</th>\n",
              "    </tr>\n",
              "  </thead>\n",
              "  <tbody>\n",
              "    <tr>\n",
              "      <th>383</th>\n",
              "      <td>2023-01-01 00:36:07</td>\n",
              "      <td>1.0</td>\n",
              "      <td>1.20</td>\n",
              "      <td>234</td>\n",
              "      <td>234</td>\n",
              "      <td>1</td>\n",
              "      <td>16.40</td>\n",
              "      <td>1</td>\n",
              "      <td>1</td>\n",
              "      <td>2023</td>\n",
              "      <td>0</td>\n",
              "      <td>36</td>\n",
              "      <td>6</td>\n",
              "      <td>0 days 23:41:06</td>\n",
              "      <td>1421.100000</td>\n",
              "    </tr>\n",
              "    <tr>\n",
              "      <th>533</th>\n",
              "      <td>2023-01-01 00:21:42</td>\n",
              "      <td>2.0</td>\n",
              "      <td>3.05</td>\n",
              "      <td>48</td>\n",
              "      <td>140</td>\n",
              "      <td>1</td>\n",
              "      <td>28.52</td>\n",
              "      <td>1</td>\n",
              "      <td>1</td>\n",
              "      <td>2023</td>\n",
              "      <td>0</td>\n",
              "      <td>21</td>\n",
              "      <td>6</td>\n",
              "      <td>0 days 22:56:46</td>\n",
              "      <td>1376.766667</td>\n",
              "    </tr>\n",
              "    <tr>\n",
              "      <th>546</th>\n",
              "      <td>2023-01-01 00:11:01</td>\n",
              "      <td>1.0</td>\n",
              "      <td>1.68</td>\n",
              "      <td>138</td>\n",
              "      <td>129</td>\n",
              "      <td>1</td>\n",
              "      <td>23.34</td>\n",
              "      <td>1</td>\n",
              "      <td>1</td>\n",
              "      <td>2023</td>\n",
              "      <td>0</td>\n",
              "      <td>11</td>\n",
              "      <td>6</td>\n",
              "      <td>0 days 23:26:56</td>\n",
              "      <td>1406.933333</td>\n",
              "    </tr>\n",
              "    <tr>\n",
              "      <th>1244</th>\n",
              "      <td>2023-01-01 00:55:12</td>\n",
              "      <td>1.0</td>\n",
              "      <td>3.43</td>\n",
              "      <td>170</td>\n",
              "      <td>239</td>\n",
              "      <td>2</td>\n",
              "      <td>26.20</td>\n",
              "      <td>1</td>\n",
              "      <td>1</td>\n",
              "      <td>2023</td>\n",
              "      <td>0</td>\n",
              "      <td>55</td>\n",
              "      <td>6</td>\n",
              "      <td>0 days 23:57:00</td>\n",
              "      <td>1437.000000</td>\n",
              "    </tr>\n",
              "    <tr>\n",
              "      <th>2510</th>\n",
              "      <td>2023-01-01 00:20:17</td>\n",
              "      <td>1.0</td>\n",
              "      <td>2.58</td>\n",
              "      <td>246</td>\n",
              "      <td>231</td>\n",
              "      <td>2</td>\n",
              "      <td>19.90</td>\n",
              "      <td>1</td>\n",
              "      <td>1</td>\n",
              "      <td>2023</td>\n",
              "      <td>0</td>\n",
              "      <td>20</td>\n",
              "      <td>6</td>\n",
              "      <td>0 days 23:35:40</td>\n",
              "      <td>1415.666667</td>\n",
              "    </tr>\n",
              "    <tr>\n",
              "      <th>...</th>\n",
              "      <td>...</td>\n",
              "      <td>...</td>\n",
              "      <td>...</td>\n",
              "      <td>...</td>\n",
              "      <td>...</td>\n",
              "      <td>...</td>\n",
              "      <td>...</td>\n",
              "      <td>...</td>\n",
              "      <td>...</td>\n",
              "      <td>...</td>\n",
              "      <td>...</td>\n",
              "      <td>...</td>\n",
              "      <td>...</td>\n",
              "      <td>...</td>\n",
              "      <td>...</td>\n",
              "    </tr>\n",
              "    <tr>\n",
              "      <th>2991021</th>\n",
              "      <td>2023-01-31 22:52:53</td>\n",
              "      <td>2.0</td>\n",
              "      <td>1.11</td>\n",
              "      <td>48</td>\n",
              "      <td>161</td>\n",
              "      <td>1</td>\n",
              "      <td>16.32</td>\n",
              "      <td>1</td>\n",
              "      <td>31</td>\n",
              "      <td>2023</td>\n",
              "      <td>22</td>\n",
              "      <td>52</td>\n",
              "      <td>1</td>\n",
              "      <td>0 days 23:58:50</td>\n",
              "      <td>1438.833333</td>\n",
              "    </tr>\n",
              "    <tr>\n",
              "      <th>2993830</th>\n",
              "      <td>2023-01-31 18:21:09</td>\n",
              "      <td>2.0</td>\n",
              "      <td>5.23</td>\n",
              "      <td>230</td>\n",
              "      <td>260</td>\n",
              "      <td>1</td>\n",
              "      <td>37.32</td>\n",
              "      <td>1</td>\n",
              "      <td>31</td>\n",
              "      <td>2023</td>\n",
              "      <td>18</td>\n",
              "      <td>21</td>\n",
              "      <td>1</td>\n",
              "      <td>0 days 23:21:39</td>\n",
              "      <td>1401.650000</td>\n",
              "    </tr>\n",
              "    <tr>\n",
              "      <th>2994073</th>\n",
              "      <td>2023-01-31 23:28:32</td>\n",
              "      <td>1.0</td>\n",
              "      <td>2.78</td>\n",
              "      <td>162</td>\n",
              "      <td>114</td>\n",
              "      <td>1</td>\n",
              "      <td>22.08</td>\n",
              "      <td>1</td>\n",
              "      <td>31</td>\n",
              "      <td>2023</td>\n",
              "      <td>23</td>\n",
              "      <td>28</td>\n",
              "      <td>1</td>\n",
              "      <td>0 days 23:50:09</td>\n",
              "      <td>1430.150000</td>\n",
              "    </tr>\n",
              "    <tr>\n",
              "      <th>2994500</th>\n",
              "      <td>2023-01-31 23:17:12</td>\n",
              "      <td>1.0</td>\n",
              "      <td>0.59</td>\n",
              "      <td>170</td>\n",
              "      <td>161</td>\n",
              "      <td>2</td>\n",
              "      <td>10.10</td>\n",
              "      <td>1</td>\n",
              "      <td>31</td>\n",
              "      <td>2023</td>\n",
              "      <td>23</td>\n",
              "      <td>17</td>\n",
              "      <td>1</td>\n",
              "      <td>0 days 23:47:25</td>\n",
              "      <td>1427.416667</td>\n",
              "    </tr>\n",
              "    <tr>\n",
              "      <th>3020900</th>\n",
              "      <td>2023-01-12 18:05:05</td>\n",
              "      <td>1.0</td>\n",
              "      <td>2.03</td>\n",
              "      <td>170</td>\n",
              "      <td>170</td>\n",
              "      <td>0</td>\n",
              "      <td>56.40</td>\n",
              "      <td>1</td>\n",
              "      <td>12</td>\n",
              "      <td>2023</td>\n",
              "      <td>18</td>\n",
              "      <td>5</td>\n",
              "      <td>3</td>\n",
              "      <td>0 days 13:05:42</td>\n",
              "      <td>785.700000</td>\n",
              "    </tr>\n",
              "  </tbody>\n",
              "</table>\n",
              "<p>2586 rows × 15 columns</p>\n",
              "</div>"
            ],
            "text/plain": [
              "        tpep_pickup_datetime  passenger_count  trip_distance  PULocationID  \\\n",
              "383      2023-01-01 00:36:07              1.0           1.20           234   \n",
              "533      2023-01-01 00:21:42              2.0           3.05            48   \n",
              "546      2023-01-01 00:11:01              1.0           1.68           138   \n",
              "1244     2023-01-01 00:55:12              1.0           3.43           170   \n",
              "2510     2023-01-01 00:20:17              1.0           2.58           246   \n",
              "...                      ...              ...            ...           ...   \n",
              "2991021  2023-01-31 22:52:53              2.0           1.11            48   \n",
              "2993830  2023-01-31 18:21:09              2.0           5.23           230   \n",
              "2994073  2023-01-31 23:28:32              1.0           2.78           162   \n",
              "2994500  2023-01-31 23:17:12              1.0           0.59           170   \n",
              "3020900  2023-01-12 18:05:05              1.0           2.03           170   \n",
              "\n",
              "         DOLocationID  payment_type  total_amount  mois  jour  annee  heure  \\\n",
              "383               234             1         16.40     1     1   2023      0   \n",
              "533               140             1         28.52     1     1   2023      0   \n",
              "546               129             1         23.34     1     1   2023      0   \n",
              "1244              239             2         26.20     1     1   2023      0   \n",
              "2510              231             2         19.90     1     1   2023      0   \n",
              "...               ...           ...           ...   ...   ...    ...    ...   \n",
              "2991021           161             1         16.32     1    31   2023     22   \n",
              "2993830           260             1         37.32     1    31   2023     18   \n",
              "2994073           114             1         22.08     1    31   2023     23   \n",
              "2994500           161             2         10.10     1    31   2023     23   \n",
              "3020900           170             0         56.40     1    12   2023     18   \n",
              "\n",
              "         minute  joursemaine           durée  duree_minute  \n",
              "383          36            6 0 days 23:41:06   1421.100000  \n",
              "533          21            6 0 days 22:56:46   1376.766667  \n",
              "546          11            6 0 days 23:26:56   1406.933333  \n",
              "1244         55            6 0 days 23:57:00   1437.000000  \n",
              "2510         20            6 0 days 23:35:40   1415.666667  \n",
              "...         ...          ...             ...           ...  \n",
              "2991021      52            1 0 days 23:58:50   1438.833333  \n",
              "2993830      21            1 0 days 23:21:39   1401.650000  \n",
              "2994073      28            1 0 days 23:50:09   1430.150000  \n",
              "2994500      17            1 0 days 23:47:25   1427.416667  \n",
              "3020900       5            3 0 days 13:05:42    785.700000  \n",
              "\n",
              "[2586 rows x 15 columns]"
            ]
          },
          "execution_count": 24,
          "metadata": {},
          "output_type": "execute_result"
        }
      ],
      "source": [
        "df['durée'].max()\n",
        "oneday=timedelta(days=0.25)\n",
        "(df['durée']>oneday).value_counts()\n",
        "df[df['durée']>oneday]\n",
        "df1['durée'].max()\n",
        "(df1['durée']>oneday).value_counts()\n",
        "df1[df1['durée']>oneday]"
      ]
    },
    {
      "cell_type": "code",
      "execution_count": null,
      "metadata": {
        "id": "8HukPftvA8LO",
        "outputId": "5db91202-bdb3-4263-d19c-c1fe5519df98"
      },
      "outputs": [
        {
          "data": {
            "text/plain": [
              "datetime.timedelta(days=1)"
            ]
          },
          "execution_count": 25,
          "metadata": {},
          "output_type": "execute_result"
        }
      ],
      "source": [
        "oneday=timedelta(days=1)\n",
        "oneday"
      ]
    },
    {
      "cell_type": "code",
      "execution_count": null,
      "metadata": {
        "id": "aW5o6Ra-iao7"
      },
      "outputs": [],
      "source": [
        "df.drop(df[(df['durée']>oneday)].index, inplace=True)\n",
        "df1.drop(df1[(df1['durée']>oneday)].index, inplace=True)"
      ]
    },
    {
      "cell_type": "code",
      "execution_count": null,
      "metadata": {
        "colab": {
          "base_uri": "https://localhost:8080/"
        },
        "id": "zLcWzZWYl4l6",
        "outputId": "8ee11147-88b8-4c55-b9bf-20e66f3ae285"
      },
      "outputs": [
        {
          "data": {
            "text/plain": [
              "Timedelta('0 days 23:59:43')"
            ]
          },
          "execution_count": 27,
          "metadata": {},
          "output_type": "execute_result"
        }
      ],
      "source": [
        "df['durée'].max()"
      ]
    },
    {
      "cell_type": "code",
      "execution_count": null,
      "metadata": {
        "id": "7lMBPv9hZMrf"
      },
      "outputs": [],
      "source": [
        "df=df.drop(['durée'], axis=1)\n",
        "df1=df1.drop(['durée'], axis=1)"
      ]
    },
    {
      "cell_type": "code",
      "execution_count": null,
      "metadata": {
        "colab": {
          "base_uri": "https://localhost:8080/",
          "height": 270
        },
        "id": "_FWVKoaRHrCe",
        "outputId": "7dcba1e2-1174-4e88-b359-8d7f6a7b26bf"
      },
      "outputs": [
        {
          "data": {
            "text/html": [
              "<div>\n",
              "<style scoped>\n",
              "    .dataframe tbody tr th:only-of-type {\n",
              "        vertical-align: middle;\n",
              "    }\n",
              "\n",
              "    .dataframe tbody tr th {\n",
              "        vertical-align: top;\n",
              "    }\n",
              "\n",
              "    .dataframe thead th {\n",
              "        text-align: right;\n",
              "    }\n",
              "</style>\n",
              "<table border=\"1\" class=\"dataframe\">\n",
              "  <thead>\n",
              "    <tr style=\"text-align: right;\">\n",
              "      <th></th>\n",
              "      <th>tpep_pickup_datetime</th>\n",
              "      <th>passenger_count</th>\n",
              "      <th>trip_distance</th>\n",
              "      <th>PULocationID</th>\n",
              "      <th>DOLocationID</th>\n",
              "      <th>payment_type</th>\n",
              "      <th>total_amount</th>\n",
              "      <th>mois</th>\n",
              "      <th>jour</th>\n",
              "      <th>annee</th>\n",
              "      <th>heure</th>\n",
              "      <th>minute</th>\n",
              "      <th>joursemaine</th>\n",
              "      <th>duree_minute</th>\n",
              "    </tr>\n",
              "  </thead>\n",
              "  <tbody>\n",
              "    <tr>\n",
              "      <th>0</th>\n",
              "      <td>2023-03-01 00:06:43</td>\n",
              "      <td>1.0</td>\n",
              "      <td>0.00</td>\n",
              "      <td>238</td>\n",
              "      <td>42</td>\n",
              "      <td>2</td>\n",
              "      <td>11.10</td>\n",
              "      <td>3</td>\n",
              "      <td>1</td>\n",
              "      <td>2023</td>\n",
              "      <td>0</td>\n",
              "      <td>6</td>\n",
              "      <td>2</td>\n",
              "      <td>10.000000</td>\n",
              "    </tr>\n",
              "    <tr>\n",
              "      <th>1</th>\n",
              "      <td>2023-03-01 00:08:25</td>\n",
              "      <td>2.0</td>\n",
              "      <td>12.40</td>\n",
              "      <td>138</td>\n",
              "      <td>231</td>\n",
              "      <td>1</td>\n",
              "      <td>76.49</td>\n",
              "      <td>3</td>\n",
              "      <td>1</td>\n",
              "      <td>2023</td>\n",
              "      <td>0</td>\n",
              "      <td>8</td>\n",
              "      <td>2</td>\n",
              "      <td>31.083333</td>\n",
              "    </tr>\n",
              "    <tr>\n",
              "      <th>3</th>\n",
              "      <td>2023-03-01 00:49:37</td>\n",
              "      <td>1.0</td>\n",
              "      <td>2.90</td>\n",
              "      <td>140</td>\n",
              "      <td>43</td>\n",
              "      <td>1</td>\n",
              "      <td>24.70</td>\n",
              "      <td>3</td>\n",
              "      <td>1</td>\n",
              "      <td>2023</td>\n",
              "      <td>0</td>\n",
              "      <td>49</td>\n",
              "      <td>2</td>\n",
              "      <td>11.466667</td>\n",
              "    </tr>\n",
              "    <tr>\n",
              "      <th>4</th>\n",
              "      <td>2023-03-01 00:08:04</td>\n",
              "      <td>1.0</td>\n",
              "      <td>1.23</td>\n",
              "      <td>79</td>\n",
              "      <td>137</td>\n",
              "      <td>1</td>\n",
              "      <td>14.64</td>\n",
              "      <td>3</td>\n",
              "      <td>1</td>\n",
              "      <td>2023</td>\n",
              "      <td>0</td>\n",
              "      <td>8</td>\n",
              "      <td>2</td>\n",
              "      <td>3.033333</td>\n",
              "    </tr>\n",
              "    <tr>\n",
              "      <th>5</th>\n",
              "      <td>2023-03-01 00:09:09</td>\n",
              "      <td>1.0</td>\n",
              "      <td>1.20</td>\n",
              "      <td>162</td>\n",
              "      <td>137</td>\n",
              "      <td>1</td>\n",
              "      <td>18.00</td>\n",
              "      <td>3</td>\n",
              "      <td>1</td>\n",
              "      <td>2023</td>\n",
              "      <td>0</td>\n",
              "      <td>9</td>\n",
              "      <td>2</td>\n",
              "      <td>8.416667</td>\n",
              "    </tr>\n",
              "  </tbody>\n",
              "</table>\n",
              "</div>"
            ],
            "text/plain": [
              "  tpep_pickup_datetime  passenger_count  trip_distance  PULocationID  \\\n",
              "0  2023-03-01 00:06:43              1.0           0.00           238   \n",
              "1  2023-03-01 00:08:25              2.0          12.40           138   \n",
              "3  2023-03-01 00:49:37              1.0           2.90           140   \n",
              "4  2023-03-01 00:08:04              1.0           1.23            79   \n",
              "5  2023-03-01 00:09:09              1.0           1.20           162   \n",
              "\n",
              "   DOLocationID  payment_type  total_amount  mois  jour  annee  heure  minute  \\\n",
              "0            42             2         11.10     3     1   2023      0       6   \n",
              "1           231             1         76.49     3     1   2023      0       8   \n",
              "3            43             1         24.70     3     1   2023      0      49   \n",
              "4           137             1         14.64     3     1   2023      0       8   \n",
              "5           137             1         18.00     3     1   2023      0       9   \n",
              "\n",
              "   joursemaine  duree_minute  \n",
              "0            2     10.000000  \n",
              "1            2     31.083333  \n",
              "3            2     11.466667  \n",
              "4            2      3.033333  \n",
              "5            2      8.416667  "
            ]
          },
          "execution_count": 29,
          "metadata": {},
          "output_type": "execute_result"
        }
      ],
      "source": [
        "df.shape\n",
        "df.head()"
      ]
    },
    {
      "cell_type": "markdown",
      "metadata": {
        "id": "EMv88bQDpnhs"
      },
      "source": [
        "### variable 'total_amount'"
      ]
    },
    {
      "cell_type": "code",
      "execution_count": null,
      "metadata": {
        "colab": {
          "base_uri": "https://localhost:8080/"
        },
        "id": "X-3ir3xLqLuu",
        "outputId": "3206d829-8b10-4a9b-bf9d-c412737cc129"
      },
      "outputs": [
        {
          "data": {
            "text/plain": [
              "(3269706, 14)"
            ]
          },
          "execution_count": 30,
          "metadata": {},
          "output_type": "execute_result"
        }
      ],
      "source": [
        "df.shape"
      ]
    },
    {
      "cell_type": "code",
      "execution_count": null,
      "metadata": {
        "colab": {
          "base_uri": "https://localhost:8080/",
          "height": 472
        },
        "id": "39dtdox7twtQ",
        "outputId": "f88fedef-300c-4a6e-a39f-815ccaa78358"
      },
      "outputs": [
        {
          "data": {
            "image/png": "[encoded data removed]",
            "text/plain": [
              "<Figure size 432x288 with 1 Axes>"
            ]
          },
          "metadata": {
            "needs_background": "light"
          },
          "output_type": "display_data"
        }
      ],
      "source": [
        "plt.scatter(df['trip_distance'],df['total_amount'])\n",
        "plt.xlabel('Distance du trajet')\n",
        "plt.ylabel('Montant total payé')\n",
        "plt.title('Relation entre la distance du trajet et le montant total payé')\n",
        "plt.show()"
      ]
    },
    {
      "cell_type": "code",
      "execution_count": null,
      "metadata": {
        "id": "X-L2oz3_uXrV"
      },
      "outputs": [],
      "source": [
        "df=df[df['total_amount']<500]\n",
        "df1=df1[df1['total_amount']<500]"
      ]
    },
    {
      "cell_type": "code",
      "execution_count": null,
      "metadata": {
        "id": "EPEqI259DNwN"
      },
      "outputs": [],
      "source": [
        "df=df[df['total_amount']>1]\n",
        "df1=df1[df1['total_amount']>1]"
      ]
    },
    {
      "cell_type": "code",
      "execution_count": null,
      "metadata": {
        "colab": {
          "base_uri": "https://localhost:8080/"
        },
        "id": "xBfjBI-eqPFW",
        "outputId": "cb556180-63c4-42a9-f77b-5333f2c76037"
      },
      "outputs": [
        {
          "data": {
            "text/plain": [
              "(3239402, 14)"
            ]
          },
          "execution_count": 34,
          "metadata": {},
          "output_type": "execute_result"
        }
      ],
      "source": [
        "df.shape"
      ]
    },
    {
      "cell_type": "code",
      "execution_count": null,
      "metadata": {
        "colab": {
          "base_uri": "https://localhost:8080/",
          "height": 472
        },
        "id": "MVhfaFRtALpO",
        "outputId": "e8ec5acc-f85f-4b08-d7e3-4fca8f24429c"
      },
      "outputs": [
        {
          "data": {
            "image/png": "[encoded data removed]",
            "text/plain": [
              "<Figure size 432x288 with 1 Axes>"
            ]
          },
          "metadata": {
            "needs_background": "light"
          },
          "output_type": "display_data"
        }
      ],
      "source": [
        "plt.scatter(df['trip_distance'],df['total_amount'])\n",
        "plt.xlabel('Distance du trajet')\n",
        "plt.ylabel('Montant total payé')\n",
        "plt.title('Relation entre la distance du trajet et le montant total payé')\n",
        "plt.show()"
      ]
    },
    {
      "cell_type": "markdown",
      "metadata": {
        "id": "QA-yd57eRBXV"
      },
      "source": [
        "### variable 'trip_distance'"
      ]
    },
    {
      "cell_type": "code",
      "execution_count": null,
      "metadata": {
        "colab": {
          "base_uri": "https://localhost:8080/"
        },
        "id": "WH5fq86WRExM",
        "outputId": "21be26cd-5754-4230-f5d8-726927e050e3"
      },
      "outputs": [
        {
          "data": {
            "text/plain": [
              "3.941718817238111"
            ]
          },
          "execution_count": 36,
          "metadata": {},
          "output_type": "execute_result"
        }
      ],
      "source": [
        "df['trip_distance'].mean()"
      ]
    },
    {
      "cell_type": "code",
      "execution_count": null,
      "metadata": {
        "colab": {
          "base_uri": "https://localhost:8080/"
        },
        "id": "aRA4mU6jRLOM",
        "outputId": "58ab5c79-6636-4cac-be4b-d1f0cbd39e9c"
      },
      "outputs": [
        {
          "data": {
            "text/plain": [
              "216986.96"
            ]
          },
          "execution_count": 37,
          "metadata": {},
          "output_type": "execute_result"
        }
      ],
      "source": [
        "df['trip_distance'].max()"
      ]
    },
    {
      "cell_type": "code",
      "execution_count": null,
      "metadata": {
        "colab": {
          "base_uri": "https://localhost:8080/"
        },
        "id": "csN8kRvBRPiS",
        "outputId": "e695a24e-a2a0-47c4-beab-526fa22487ac"
      },
      "outputs": [
        {
          "data": {
            "text/plain": [
              "tpep_pickup_datetime  passenger_count  trip_distance  PULocationID  DOLocationID  payment_type  total_amount  mois  jour  annee  heure  minute  joursemaine  duree_minute\n",
              "2023-01-01 16:23:00   1.0              2548.87        186           164           0             20.66         1     1     2023   16     23      6            14.0            1\n",
              "2023-01-22 12:22:00   1.0              8096.42        170           79            0             22.64         1     22    2023   12     22      6            10.0            1\n",
              "2023-01-24 08:30:00   1.0              4685.23        43            161           0             28.63         1     24    2023   8      30      1            19.0            1\n",
              "2023-01-24 06:27:00   1.0              3253.99        230           90            0             27.05         1     24    2023   6      27      1            51.0            1\n",
              "2023-01-23 17:14:00   1.0              258928.15      238           239           0             21.18         1     23    2023   17     14      0            6.0             1\n",
              "                                                                                                                                                                            ..\n",
              "2023-01-14 19:37:00   1.0              4202.47        262           148           0             36.16         1     14    2023   19     37      5            19.0            1\n",
              "2023-01-15 08:33:00   1.0              187872.33      229           142           0             21.62         1     15    2023   8      33      6            10.0            1\n",
              "2023-01-17 07:24:00   1.0              4840.65        263           162           0             21.92         1     17    2023   7      24      1            9.0             1\n",
              "2023-01-17 07:48:00   1.0              7907.26        33            140           0             44.41         1     17    2023   7      48      1            26.0            1\n",
              "2023-01-31 21:24:00   1.0              52042.30       236           75            0             20.24         1     31    2023   21     24      1            4.0             1\n",
              "Length: 68, dtype: int64"
            ]
          },
          "execution_count": 38,
          "metadata": {},
          "output_type": "execute_result"
        }
      ],
      "source": [
        "df[df['trip_distance']>250].value_counts()\n",
        "df1[df1['trip_distance']>250].value_counts()"
      ]
    },
    {
      "cell_type": "code",
      "execution_count": null,
      "metadata": {
        "colab": {
          "base_uri": "https://localhost:8080/"
        },
        "id": "-Zcp8PegRtBN",
        "outputId": "b647a5fa-e848-41ab-a1c4-57605fddaa18"
      },
      "outputs": [
        {
          "data": {
            "text/plain": [
              "False    2918962\n",
              "True          68\n",
              "Name: trip_distance, dtype: int64"
            ]
          },
          "execution_count": 39,
          "metadata": {},
          "output_type": "execute_result"
        }
      ],
      "source": [
        "(df['trip_distance']>250).value_counts()\n",
        "(df1['trip_distance']>250).value_counts()"
      ]
    },
    {
      "cell_type": "code",
      "execution_count": null,
      "metadata": {
        "colab": {
          "base_uri": "https://localhost:8080/"
        },
        "id": "7m1I_LYt1rMt",
        "outputId": "74122b9c-2cf3-4cd0-82c4-e56110d7290d"
      },
      "outputs": [
        {
          "data": {
            "text/plain": [
              "False    2878076\n",
              "True       40954\n",
              "Name: trip_distance, dtype: int64"
            ]
          },
          "execution_count": 40,
          "metadata": {},
          "output_type": "execute_result"
        }
      ],
      "source": [
        "(df['trip_distance']<=0).value_counts()\n",
        "(df1['trip_distance']<=0).value_counts()"
      ]
    },
    {
      "cell_type": "code",
      "execution_count": null,
      "metadata": {
        "id": "s78hXtLER97W"
      },
      "outputs": [],
      "source": [
        "df.drop(df[(df['trip_distance']>250)].index, inplace=True)\n",
        "df1.drop(df1[(df1['trip_distance']>250)].index, inplace=True)"
      ]
    },
    {
      "cell_type": "code",
      "execution_count": null,
      "metadata": {
        "id": "WnTLeXjp1-yH"
      },
      "outputs": [],
      "source": [
        "df.drop(df[(df['trip_distance']<=0)].index, inplace=True)\n",
        "df1.drop(df1[(df1['trip_distance']<=0)].index, inplace=True)"
      ]
    },
    {
      "cell_type": "code",
      "execution_count": null,
      "metadata": {
        "colab": {
          "base_uri": "https://localhost:8080/"
        },
        "id": "OWbGVH9zWWAw",
        "outputId": "34801b37-9cad-4c41-d504-073242cae043"
      },
      "outputs": [
        {
          "data": {
            "text/plain": [
              "(3196487, 14)"
            ]
          },
          "execution_count": 43,
          "metadata": {},
          "output_type": "execute_result"
        }
      ],
      "source": [
        "df.shape"
      ]
    },
    {
      "cell_type": "code",
      "execution_count": null,
      "metadata": {
        "colab": {
          "base_uri": "https://localhost:8080/",
          "height": 472
        },
        "id": "HIeqVTAKqZEJ",
        "outputId": "e3d9c7e6-ae1e-407e-bad2-c46b6b9e30ba"
      },
      "outputs": [
        {
          "data": {
            "image/png": "[encoded data removed]",
            "text/plain": [
              "<Figure size 432x288 with 1 Axes>"
            ]
          },
          "metadata": {
            "needs_background": "light"
          },
          "output_type": "display_data"
        }
      ],
      "source": [
        "plt.scatter(df['trip_distance'],df['total_amount'])\n",
        "plt.xlabel('Distance du trajet')\n",
        "plt.ylabel('Montant total payé')\n",
        "plt.title('Relation entre la distance du trajet et le montant total payé')\n",
        "plt.show()"
      ]
    },
    {
      "cell_type": "markdown",
      "metadata": {
        "id": "igmYnSf_qQB1"
      },
      "source": [
        "# statistiques descriptives"
      ]
    },
    {
      "cell_type": "code",
      "execution_count": null,
      "metadata": {
        "colab": {
          "base_uri": "https://localhost:8080/",
          "height": 364
        },
        "id": "vGfl7JgO0AA7",
        "outputId": "1945b986-90be-495f-9046-34b9cae205cc"
      },
      "outputs": [
        {
          "data": {
            "text/html": [
              "<div>\n",
              "<style scoped>\n",
              "    .dataframe tbody tr th:only-of-type {\n",
              "        vertical-align: middle;\n",
              "    }\n",
              "\n",
              "    .dataframe tbody tr th {\n",
              "        vertical-align: top;\n",
              "    }\n",
              "\n",
              "    .dataframe thead th {\n",
              "        text-align: right;\n",
              "    }\n",
              "</style>\n",
              "<table border=\"1\" class=\"dataframe\">\n",
              "  <thead>\n",
              "    <tr style=\"text-align: right;\">\n",
              "      <th></th>\n",
              "      <th>passenger_count</th>\n",
              "      <th>trip_distance</th>\n",
              "      <th>PULocationID</th>\n",
              "      <th>DOLocationID</th>\n",
              "      <th>payment_type</th>\n",
              "      <th>total_amount</th>\n",
              "      <th>mois</th>\n",
              "      <th>jour</th>\n",
              "      <th>annee</th>\n",
              "      <th>heure</th>\n",
              "      <th>minute</th>\n",
              "      <th>joursemaine</th>\n",
              "      <th>duree_minute</th>\n",
              "    </tr>\n",
              "  </thead>\n",
              "  <tbody>\n",
              "    <tr>\n",
              "      <th>count</th>\n",
              "      <td>3.196487e+06</td>\n",
              "      <td>3.196487e+06</td>\n",
              "      <td>3.196487e+06</td>\n",
              "      <td>3.196487e+06</td>\n",
              "      <td>3.196487e+06</td>\n",
              "      <td>3.196487e+06</td>\n",
              "      <td>3.196487e+06</td>\n",
              "      <td>3.196487e+06</td>\n",
              "      <td>3.196487e+06</td>\n",
              "      <td>3.196487e+06</td>\n",
              "      <td>3.196487e+06</td>\n",
              "      <td>3.196487e+06</td>\n",
              "      <td>3.196487e+06</td>\n",
              "    </tr>\n",
              "    <tr>\n",
              "      <th>mean</th>\n",
              "      <td>1.273287e+00</td>\n",
              "      <td>3.479879e+00</td>\n",
              "      <td>1.655478e+02</td>\n",
              "      <td>1.641354e+02</td>\n",
              "      <td>1.163591e+00</td>\n",
              "      <td>2.826839e+01</td>\n",
              "      <td>3.000031e+00</td>\n",
              "      <td>1.588877e+01</td>\n",
              "      <td>2.023000e+03</td>\n",
              "      <td>1.436715e+01</td>\n",
              "      <td>2.954770e+01</td>\n",
              "      <td>3.024749e+00</td>\n",
              "      <td>1.692821e+01</td>\n",
              "    </tr>\n",
              "    <tr>\n",
              "      <th>std</th>\n",
              "      <td>6.149707e-01</td>\n",
              "      <td>4.486173e+00</td>\n",
              "      <td>6.360044e+01</td>\n",
              "      <td>6.963476e+01</td>\n",
              "      <td>4.790651e-01</td>\n",
              "      <td>2.197683e+01</td>\n",
              "      <td>1.258165e-02</td>\n",
              "      <td>8.984308e+00</td>\n",
              "      <td>3.566097e-02</td>\n",
              "      <td>5.752694e+00</td>\n",
              "      <td>1.733960e+01</td>\n",
              "      <td>1.846959e+00</td>\n",
              "      <td>4.185039e+01</td>\n",
              "    </tr>\n",
              "    <tr>\n",
              "      <th>min</th>\n",
              "      <td>1.000000e+00</td>\n",
              "      <td>1.000000e-02</td>\n",
              "      <td>1.000000e+00</td>\n",
              "      <td>1.000000e+00</td>\n",
              "      <td>0.000000e+00</td>\n",
              "      <td>1.010000e+00</td>\n",
              "      <td>1.000000e+00</td>\n",
              "      <td>1.000000e+00</td>\n",
              "      <td>2.001000e+03</td>\n",
              "      <td>0.000000e+00</td>\n",
              "      <td>0.000000e+00</td>\n",
              "      <td>0.000000e+00</td>\n",
              "      <td>-4.762500e+02</td>\n",
              "    </tr>\n",
              "    <tr>\n",
              "      <th>25%</th>\n",
              "      <td>1.000000e+00</td>\n",
              "      <td>1.100000e+00</td>\n",
              "      <td>1.320000e+02</td>\n",
              "      <td>1.140000e+02</td>\n",
              "      <td>1.000000e+00</td>\n",
              "      <td>1.596000e+01</td>\n",
              "      <td>3.000000e+00</td>\n",
              "      <td>8.000000e+00</td>\n",
              "      <td>2.023000e+03</td>\n",
              "      <td>1.100000e+01</td>\n",
              "      <td>1.400000e+01</td>\n",
              "      <td>2.000000e+00</td>\n",
              "      <td>7.533333e+00</td>\n",
              "    </tr>\n",
              "    <tr>\n",
              "      <th>50%</th>\n",
              "      <td>1.000000e+00</td>\n",
              "      <td>1.800000e+00</td>\n",
              "      <td>1.620000e+02</td>\n",
              "      <td>1.620000e+02</td>\n",
              "      <td>1.000000e+00</td>\n",
              "      <td>2.070000e+01</td>\n",
              "      <td>3.000000e+00</td>\n",
              "      <td>1.600000e+01</td>\n",
              "      <td>2.023000e+03</td>\n",
              "      <td>1.500000e+01</td>\n",
              "      <td>3.000000e+01</td>\n",
              "      <td>3.000000e+00</td>\n",
              "      <td>1.226667e+01</td>\n",
              "    </tr>\n",
              "    <tr>\n",
              "      <th>75%</th>\n",
              "      <td>1.000000e+00</td>\n",
              "      <td>3.430000e+00</td>\n",
              "      <td>2.330000e+02</td>\n",
              "      <td>2.340000e+02</td>\n",
              "      <td>1.000000e+00</td>\n",
              "      <td>2.985000e+01</td>\n",
              "      <td>3.000000e+00</td>\n",
              "      <td>2.400000e+01</td>\n",
              "      <td>2.023000e+03</td>\n",
              "      <td>1.900000e+01</td>\n",
              "      <td>4.500000e+01</td>\n",
              "      <td>4.000000e+00</td>\n",
              "      <td>1.975000e+01</td>\n",
              "    </tr>\n",
              "    <tr>\n",
              "      <th>max</th>\n",
              "      <td>4.000000e+00</td>\n",
              "      <td>1.173300e+02</td>\n",
              "      <td>2.650000e+02</td>\n",
              "      <td>2.650000e+02</td>\n",
              "      <td>4.000000e+00</td>\n",
              "      <td>4.975500e+02</td>\n",
              "      <td>1.200000e+01</td>\n",
              "      <td>3.100000e+01</td>\n",
              "      <td>2.023000e+03</td>\n",
              "      <td>2.300000e+01</td>\n",
              "      <td>5.900000e+01</td>\n",
              "      <td>6.000000e+00</td>\n",
              "      <td>1.439717e+03</td>\n",
              "    </tr>\n",
              "  </tbody>\n",
              "</table>\n",
              "</div>"
            ],
            "text/plain": [
              "       passenger_count  trip_distance  PULocationID  DOLocationID  \\\n",
              "count     3.196487e+06   3.196487e+06  3.196487e+06  3.196487e+06   \n",
              "mean      1.273287e+00   3.479879e+00  1.655478e+02  1.641354e+02   \n",
              "std       6.149707e-01   4.486173e+00  6.360044e+01  6.963476e+01   \n",
              "min       1.000000e+00   1.000000e-02  1.000000e+00  1.000000e+00   \n",
              "25%       1.000000e+00   1.100000e+00  1.320000e+02  1.140000e+02   \n",
              "50%       1.000000e+00   1.800000e+00  1.620000e+02  1.620000e+02   \n",
              "75%       1.000000e+00   3.430000e+00  2.330000e+02  2.340000e+02   \n",
              "max       4.000000e+00   1.173300e+02  2.650000e+02  2.650000e+02   \n",
              "\n",
              "       payment_type  total_amount          mois          jour         annee  \\\n",
              "count  3.196487e+06  3.196487e+06  3.196487e+06  3.196487e+06  3.196487e+06   \n",
              "mean   1.163591e+00  2.826839e+01  3.000031e+00  1.588877e+01  2.023000e+03   \n",
              "std    4.790651e-01  2.197683e+01  1.258165e-02  8.984308e+00  3.566097e-02   \n",
              "min    0.000000e+00  1.010000e+00  1.000000e+00  1.000000e+00  2.001000e+03   \n",
              "25%    1.000000e+00  1.596000e+01  3.000000e+00  8.000000e+00  2.023000e+03   \n",
              "50%    1.000000e+00  2.070000e+01  3.000000e+00  1.600000e+01  2.023000e+03   \n",
              "75%    1.000000e+00  2.985000e+01  3.000000e+00  2.400000e+01  2.023000e+03   \n",
              "max    4.000000e+00  4.975500e+02  1.200000e+01  3.100000e+01  2.023000e+03   \n",
              "\n",
              "              heure        minute   joursemaine  duree_minute  \n",
              "count  3.196487e+06  3.196487e+06  3.196487e+06  3.196487e+06  \n",
              "mean   1.436715e+01  2.954770e+01  3.024749e+00  1.692821e+01  \n",
              "std    5.752694e+00  1.733960e+01  1.846959e+00  4.185039e+01  \n",
              "min    0.000000e+00  0.000000e+00  0.000000e+00 -4.762500e+02  \n",
              "25%    1.100000e+01  1.400000e+01  2.000000e+00  7.533333e+00  \n",
              "50%    1.500000e+01  3.000000e+01  3.000000e+00  1.226667e+01  \n",
              "75%    1.900000e+01  4.500000e+01  4.000000e+00  1.975000e+01  \n",
              "max    2.300000e+01  5.900000e+01  6.000000e+00  1.439717e+03  "
            ]
          },
          "execution_count": 45,
          "metadata": {},
          "output_type": "execute_result"
        }
      ],
      "source": [
        "df.describe()"
      ]
    },
    {
      "cell_type": "code",
      "execution_count": null,
      "metadata": {
        "colab": {
          "base_uri": "https://localhost:8080/"
        },
        "id": "82ljS9WNeaya",
        "outputId": "c9697c56-c4dc-4d17-8342-efb952aa37ec"
      },
      "outputs": [
        {
          "data": {
            "text/plain": [
              "tpep_pickup_datetime    datetime64[ns]\n",
              "passenger_count                float64\n",
              "trip_distance                  float64\n",
              "PULocationID                     int32\n",
              "DOLocationID                     int32\n",
              "payment_type                     int64\n",
              "total_amount                   float64\n",
              "mois                             int64\n",
              "jour                             int64\n",
              "annee                            int64\n",
              "heure                            int64\n",
              "minute                           int64\n",
              "joursemaine                      int64\n",
              "duree_minute                   float64\n",
              "dtype: object"
            ]
          },
          "execution_count": 46,
          "metadata": {},
          "output_type": "execute_result"
        }
      ],
      "source": [
        "df.dtypes"
      ]
    },
    {
      "cell_type": "code",
      "execution_count": null,
      "metadata": {
        "colab": {
          "base_uri": "https://localhost:8080/"
        },
        "id": "2EiKyqG4fOgF",
        "outputId": "8111a5e2-5f80-4d64-e0b5-8ae985eb4645"
      },
      "outputs": [
        {
          "data": {
            "text/plain": [
              "1.0    2552846\n",
              "2.0     470834\n",
              "3.0     115698\n",
              "4.0      57109\n",
              "Name: passenger_count, dtype: int64"
            ]
          },
          "execution_count": 47,
          "metadata": {},
          "output_type": "execute_result"
        }
      ],
      "source": [
        "df['passenger_count'].value_counts()"
      ]
    },
    {
      "cell_type": "code",
      "execution_count": null,
      "metadata": {
        "colab": {
          "base_uri": "https://localhost:8080/",
          "height": 470
        },
        "id": "LUBw168ZcXTK",
        "outputId": "be58d58c-caa7-4ab8-fd91-67e4611d6459"
      },
      "outputs": [
        {
          "data": {
            "text/plain": [
              "<AxesSubplot:>"
            ]
          },
          "execution_count": 48,
          "metadata": {},
          "output_type": "execute_result"
        },
        {
          "data": {
            "image/png": "[encoded data removed]",
            "text/plain": [
              "<Figure size 432x288 with 1 Axes>"
            ]
          },
          "metadata": {
            "needs_background": "light"
          },
          "output_type": "display_data"
        }
      ],
      "source": [
        "df['passenger_count'].value_counts().plot.bar()"
      ]
    },
    {
      "cell_type": "code",
      "execution_count": null,
      "metadata": {
        "colab": {
          "base_uri": "https://localhost:8080/",
          "height": 472
        },
        "id": "9FkfGCWz3DRk",
        "outputId": "a6f54b87-1cba-49aa-c944-79d7bb7f581a"
      },
      "outputs": [
        {
          "data": {
            "image/png": "[encoded data removed]",
            "text/plain": [
              "<Figure size 432x288 with 1 Axes>"
            ]
          },
          "metadata": {
            "needs_background": "light"
          },
          "output_type": "display_data"
        }
      ],
      "source": [
        "sns.countplot(x='joursemaine', data=df)\n",
        "plt.xlabel('Jour de la semaine')\n",
        "plt.ylabel('Nombre de trajets')\n",
        "plt.title('Nombre de trajets par jour de la semaine')\n",
        "plt.xticks(rotation=0)\n",
        "plt.show()"
      ]
    },
    {
      "cell_type": "code",
      "execution_count": null,
      "metadata": {
        "colab": {
          "base_uri": "https://localhost:8080/",
          "height": 449
        },
        "id": "NUu5aScM2WHc",
        "outputId": "2a38dcb5-ed7b-458c-cf39-4041e506c990"
      },
      "outputs": [
        {
          "data": {
            "image/png": "[encoded data removed]",
            "text/plain": [
              "<Figure size 432x288 with 1 Axes>"
            ]
          },
          "metadata": {
            "needs_background": "light"
          },
          "output_type": "display_data"
        }
      ],
      "source": [
        "sns.countplot(x='heure', data=df)\n",
        "plt.show()"
      ]
    },
    {
      "cell_type": "code",
      "execution_count": null,
      "metadata": {
        "colab": {
          "base_uri": "https://localhost:8080/",
          "height": 995
        },
        "id": "euZQK7d45d1d",
        "outputId": "8c882f34-e99c-492d-98af-3a656e92f3e6"
      },
      "outputs": [
        {
          "data": {
            "image/png": "[encoded data removed]",
            "text/plain": [
              "<Figure size 864x720 with 2 Axes>"
            ]
          },
          "metadata": {
            "needs_background": "light"
          },
          "output_type": "display_data"
        }
      ],
      "source": [
        "corr_df = df.corr(method='pearson')\n",
        "\n",
        "plt.figure(figsize=(12, 10))\n",
        "sns.heatmap(corr_df, annot=True)\n",
        "plt.show()"
      ]
    },
    {
      "cell_type": "code",
      "execution_count": null,
      "metadata": {
        "colab": {
          "base_uri": "https://localhost:8080/",
          "height": 571
        },
        "id": "kMVLwcYf6BHX",
        "outputId": "1c3cec3a-d9e1-42b8-f3f2-bc6a87852af1"
      },
      "outputs": [
        {
          "data": {
            "image/png": "[encoded data removed]",
            "text/plain": [
              "<Figure size 432x288 with 1 Axes>"
            ]
          },
          "metadata": {
            "needs_background": "light"
          },
          "output_type": "display_data"
        }
      ],
      "source": [
        "sns.countplot(x='joursemaine',hue='heure', data=df)\n",
        "#plt.legend().remove()\n",
        "plt.legend(bbox_to_anchor=(1.05,1),loc='upper left',title='Heures')\n",
        "plt.show()"
      ]
    },
    {
      "cell_type": "code",
      "execution_count": null,
      "metadata": {
        "colab": {
          "base_uri": "https://localhost:8080/"
        },
        "id": "bqLxaXd2hAog",
        "outputId": "b90ca3c8-f41d-4377-d279-7704ce0e0e2d"
      },
      "outputs": [
        {
          "data": {
            "text/plain": [
              "28.268391749990403"
            ]
          },
          "execution_count": 53,
          "metadata": {},
          "output_type": "execute_result"
        }
      ],
      "source": [
        "df['total_amount'].mean()"
      ]
    },
    {
      "cell_type": "code",
      "execution_count": null,
      "metadata": {
        "colab": {
          "base_uri": "https://localhost:8080/",
          "height": 472
        },
        "id": "9XZOVPrQ9vid",
        "outputId": "780b8af2-74ae-48a1-ad28-500d5bdea44a"
      },
      "outputs": [
        {
          "data": {
            "image/png": "[encoded data removed]",
            "text/plain": [
              "<Figure size 432x288 with 1 Axes>"
            ]
          },
          "metadata": {
            "needs_background": "light"
          },
          "output_type": "display_data"
        }
      ],
      "source": [
        "sns.kdeplot(df['trip_distance'])\n",
        "plt.xlabel('Distance du trajet')\n",
        "plt.ylabel('Densité')\n",
        "plt.title('Densité des distances de trajet')\n",
        "plt.show()"
      ]
    },
    {
      "cell_type": "code",
      "execution_count": null,
      "metadata": {
        "colab": {
          "base_uri": "https://localhost:8080/"
        },
        "id": "b1U-OkSglaYi",
        "outputId": "b72a8bab-64a3-4385-9d82-28a2ac2e13fb"
      },
      "outputs": [
        {
          "name": "stdout",
          "output_type": "stream",
          "text": [
            "<class 'pandas.core.frame.DataFrame'>\n",
            "Int64Index: 3196487 entries, 1 to 3403765\n",
            "Data columns (total 14 columns):\n",
            " #   Column                Dtype         \n",
            "---  ------                -----         \n",
            " 0   tpep_pickup_datetime  datetime64[ns]\n",
            " 1   passenger_count       float64       \n",
            " 2   trip_distance         float64       \n",
            " 3   PULocationID          int32         \n",
            " 4   DOLocationID          int32         \n",
            " 5   payment_type          int64         \n",
            " 6   total_amount          float64       \n",
            " 7   mois                  int64         \n",
            " 8   jour                  int64         \n",
            " 9   annee                 int64         \n",
            " 10  heure                 int64         \n",
            " 11  minute                int64         \n",
            " 12  joursemaine           int64         \n",
            " 13  duree_minute          float64       \n",
            "dtypes: datetime64[ns](1), float64(4), int32(2), int64(7)\n",
            "memory usage: 341.4 MB\n"
          ]
        }
      ],
      "source": [
        "df.head()\n",
        "df.info()"
      ]
    },
    {
      "cell_type": "markdown",
      "metadata": {
        "id": "kpzXRDnQqZlq"
      },
      "source": [
        "# création des 2 jeux de données : entraînement et test"
      ]
    },
    {
      "cell_type": "code",
      "execution_count": null,
      "metadata": {
        "id": "Llw6f571XB1R"
      },
      "outputs": [],
      "source": [
        "x=df.drop('total_amount', axis=1)"
      ]
    },
    {
      "cell_type": "markdown",
      "metadata": {
        "id": "AXnS5pND3o70"
      },
      "source": [
        "# fusion des deux dataframes\n"
      ]
    },
    {
      "cell_type": "code",
      "execution_count": null,
      "metadata": {
        "id": "4e_60Dmk5d1g",
        "outputId": "a2017d87-bb0f-4963-f81b-8278cbb9bf15"
      },
      "outputs": [
        {
          "data": {
            "text/html": [
              "<div>\n",
              "<style scoped>\n",
              "    .dataframe tbody tr th:only-of-type {\n",
              "        vertical-align: middle;\n",
              "    }\n",
              "\n",
              "    .dataframe tbody tr th {\n",
              "        vertical-align: top;\n",
              "    }\n",
              "\n",
              "    .dataframe thead th {\n",
              "        text-align: right;\n",
              "    }\n",
              "</style>\n",
              "<table border=\"1\" class=\"dataframe\">\n",
              "  <thead>\n",
              "    <tr style=\"text-align: right;\">\n",
              "      <th></th>\n",
              "      <th>datetime</th>\n",
              "      <th>tempmax</th>\n",
              "      <th>tempmin</th>\n",
              "      <th>temp</th>\n",
              "      <th>humidity</th>\n",
              "      <th>precip</th>\n",
              "      <th>windgust</th>\n",
              "      <th>windspeed</th>\n",
              "      <th>cloudcover</th>\n",
              "      <th>visibility</th>\n",
              "      <th>solarenergy</th>\n",
              "    </tr>\n",
              "  </thead>\n",
              "  <tbody>\n",
              "    <tr>\n",
              "      <th>0</th>\n",
              "      <td>2023-01-01</td>\n",
              "      <td>54.0</td>\n",
              "      <td>50.0</td>\n",
              "      <td>52.0</td>\n",
              "      <td>64.9</td>\n",
              "      <td>0.014</td>\n",
              "      <td>21.9</td>\n",
              "      <td>12.4</td>\n",
              "      <td>33.8</td>\n",
              "      <td>9.6</td>\n",
              "      <td>18.2</td>\n",
              "    </tr>\n",
              "    <tr>\n",
              "      <th>1</th>\n",
              "      <td>2023-01-02</td>\n",
              "      <td>56.0</td>\n",
              "      <td>47.0</td>\n",
              "      <td>52.3</td>\n",
              "      <td>62.3</td>\n",
              "      <td>0.018</td>\n",
              "      <td>10.3</td>\n",
              "      <td>7.5</td>\n",
              "      <td>55.7</td>\n",
              "      <td>9.6</td>\n",
              "      <td>13.8</td>\n",
              "    </tr>\n",
              "    <tr>\n",
              "      <th>2</th>\n",
              "      <td>2023-01-03</td>\n",
              "      <td>55.5</td>\n",
              "      <td>46.2</td>\n",
              "      <td>51.1</td>\n",
              "      <td>87.9</td>\n",
              "      <td>0.378</td>\n",
              "      <td>13.9</td>\n",
              "      <td>7.8</td>\n",
              "      <td>90.4</td>\n",
              "      <td>5.4</td>\n",
              "      <td>11.7</td>\n",
              "    </tr>\n",
              "    <tr>\n",
              "      <th>3</th>\n",
              "      <td>2023-01-04</td>\n",
              "      <td>65.7</td>\n",
              "      <td>48.6</td>\n",
              "      <td>57.9</td>\n",
              "      <td>79.7</td>\n",
              "      <td>0.018</td>\n",
              "      <td>15.0</td>\n",
              "      <td>9.5</td>\n",
              "      <td>67.6</td>\n",
              "      <td>8.2</td>\n",
              "      <td>14.7</td>\n",
              "    </tr>\n",
              "    <tr>\n",
              "      <th>4</th>\n",
              "      <td>2023-01-05</td>\n",
              "      <td>49.0</td>\n",
              "      <td>44.7</td>\n",
              "      <td>47.3</td>\n",
              "      <td>90.7</td>\n",
              "      <td>0.018</td>\n",
              "      <td>9.2</td>\n",
              "      <td>9.5</td>\n",
              "      <td>100.0</td>\n",
              "      <td>5.9</td>\n",
              "      <td>12.2</td>\n",
              "    </tr>\n",
              "    <tr>\n",
              "      <th>5</th>\n",
              "      <td>2023-01-06</td>\n",
              "      <td>47.9</td>\n",
              "      <td>40.1</td>\n",
              "      <td>44.3</td>\n",
              "      <td>78.5</td>\n",
              "      <td>0.266</td>\n",
              "      <td>23.0</td>\n",
              "      <td>11.8</td>\n",
              "      <td>93.0</td>\n",
              "      <td>7.7</td>\n",
              "      <td>12.0</td>\n",
              "    </tr>\n",
              "    <tr>\n",
              "      <th>6</th>\n",
              "      <td>2023-01-07</td>\n",
              "      <td>44.1</td>\n",
              "      <td>37.4</td>\n",
              "      <td>40.7</td>\n",
              "      <td>60.9</td>\n",
              "      <td>0.000</td>\n",
              "      <td>23.0</td>\n",
              "      <td>10.1</td>\n",
              "      <td>43.2</td>\n",
              "      <td>9.9</td>\n",
              "      <td>14.0</td>\n",
              "    </tr>\n",
              "    <tr>\n",
              "      <th>7</th>\n",
              "      <td>2023-01-08</td>\n",
              "      <td>40.7</td>\n",
              "      <td>33.2</td>\n",
              "      <td>37.4</td>\n",
              "      <td>53.0</td>\n",
              "      <td>0.000</td>\n",
              "      <td>17.2</td>\n",
              "      <td>15.0</td>\n",
              "      <td>18.7</td>\n",
              "      <td>9.9</td>\n",
              "      <td>17.5</td>\n",
              "    </tr>\n",
              "    <tr>\n",
              "      <th>8</th>\n",
              "      <td>2023-01-09</td>\n",
              "      <td>44.1</td>\n",
              "      <td>37.4</td>\n",
              "      <td>39.9</td>\n",
              "      <td>61.5</td>\n",
              "      <td>0.005</td>\n",
              "      <td>20.8</td>\n",
              "      <td>11.5</td>\n",
              "      <td>49.1</td>\n",
              "      <td>9.5</td>\n",
              "      <td>17.4</td>\n",
              "    </tr>\n",
              "    <tr>\n",
              "      <th>9</th>\n",
              "      <td>2023-01-10</td>\n",
              "      <td>41.0</td>\n",
              "      <td>38.3</td>\n",
              "      <td>39.7</td>\n",
              "      <td>54.7</td>\n",
              "      <td>0.000</td>\n",
              "      <td>19.5</td>\n",
              "      <td>8.4</td>\n",
              "      <td>87.8</td>\n",
              "      <td>9.8</td>\n",
              "      <td>11.8</td>\n",
              "    </tr>\n",
              "    <tr>\n",
              "      <th>10</th>\n",
              "      <td>2023-01-11</td>\n",
              "      <td>39.2</td>\n",
              "      <td>35.1</td>\n",
              "      <td>37.4</td>\n",
              "      <td>54.7</td>\n",
              "      <td>0.000</td>\n",
              "      <td>18.3</td>\n",
              "      <td>11.2</td>\n",
              "      <td>83.7</td>\n",
              "      <td>9.9</td>\n",
              "      <td>13.8</td>\n",
              "    </tr>\n",
              "    <tr>\n",
              "      <th>11</th>\n",
              "      <td>2023-01-12</td>\n",
              "      <td>54.0</td>\n",
              "      <td>36.8</td>\n",
              "      <td>44.6</td>\n",
              "      <td>81.6</td>\n",
              "      <td>0.192</td>\n",
              "      <td>34.4</td>\n",
              "      <td>13.4</td>\n",
              "      <td>100.0</td>\n",
              "      <td>8.5</td>\n",
              "      <td>11.9</td>\n",
              "    </tr>\n",
              "    <tr>\n",
              "      <th>12</th>\n",
              "      <td>2023-01-13</td>\n",
              "      <td>55.8</td>\n",
              "      <td>38.9</td>\n",
              "      <td>48.9</td>\n",
              "      <td>75.8</td>\n",
              "      <td>0.162</td>\n",
              "      <td>36.9</td>\n",
              "      <td>14.6</td>\n",
              "      <td>88.3</td>\n",
              "      <td>9.2</td>\n",
              "      <td>12.4</td>\n",
              "    </tr>\n",
              "    <tr>\n",
              "      <th>13</th>\n",
              "      <td>2023-01-14</td>\n",
              "      <td>38.0</td>\n",
              "      <td>32.0</td>\n",
              "      <td>34.1</td>\n",
              "      <td>62.9</td>\n",
              "      <td>0.000</td>\n",
              "      <td>41.4</td>\n",
              "      <td>18.3</td>\n",
              "      <td>99.8</td>\n",
              "      <td>9.2</td>\n",
              "      <td>14.1</td>\n",
              "    </tr>\n",
              "    <tr>\n",
              "      <th>14</th>\n",
              "      <td>2023-01-15</td>\n",
              "      <td>40.7</td>\n",
              "      <td>29.9</td>\n",
              "      <td>34.2</td>\n",
              "      <td>50.9</td>\n",
              "      <td>0.000</td>\n",
              "      <td>42.5</td>\n",
              "      <td>21.9</td>\n",
              "      <td>42.4</td>\n",
              "      <td>9.9</td>\n",
              "      <td>19.2</td>\n",
              "    </tr>\n",
              "    <tr>\n",
              "      <th>15</th>\n",
              "      <td>2023-01-16</td>\n",
              "      <td>47.7</td>\n",
              "      <td>29.5</td>\n",
              "      <td>36.6</td>\n",
              "      <td>35.2</td>\n",
              "      <td>0.000</td>\n",
              "      <td>29.8</td>\n",
              "      <td>17.2</td>\n",
              "      <td>30.9</td>\n",
              "      <td>9.9</td>\n",
              "      <td>19.6</td>\n",
              "    </tr>\n",
              "    <tr>\n",
              "      <th>16</th>\n",
              "      <td>2023-01-17</td>\n",
              "      <td>47.0</td>\n",
              "      <td>36.0</td>\n",
              "      <td>42.1</td>\n",
              "      <td>33.3</td>\n",
              "      <td>0.000</td>\n",
              "      <td>16.1</td>\n",
              "      <td>9.3</td>\n",
              "      <td>64.4</td>\n",
              "      <td>9.9</td>\n",
              "      <td>14.0</td>\n",
              "    </tr>\n",
              "    <tr>\n",
              "      <th>17</th>\n",
              "      <td>2023-01-18</td>\n",
              "      <td>51.8</td>\n",
              "      <td>43.8</td>\n",
              "      <td>47.8</td>\n",
              "      <td>58.5</td>\n",
              "      <td>0.048</td>\n",
              "      <td>30.0</td>\n",
              "      <td>19.0</td>\n",
              "      <td>58.8</td>\n",
              "      <td>9.8</td>\n",
              "      <td>16.3</td>\n",
              "    </tr>\n",
              "    <tr>\n",
              "      <th>18</th>\n",
              "      <td>2023-01-19</td>\n",
              "      <td>45.0</td>\n",
              "      <td>39.8</td>\n",
              "      <td>41.8</td>\n",
              "      <td>78.5</td>\n",
              "      <td>0.811</td>\n",
              "      <td>20.8</td>\n",
              "      <td>9.3</td>\n",
              "      <td>74.3</td>\n",
              "      <td>6.6</td>\n",
              "      <td>10.6</td>\n",
              "    </tr>\n",
              "    <tr>\n",
              "      <th>19</th>\n",
              "      <td>2023-01-20</td>\n",
              "      <td>48.6</td>\n",
              "      <td>40.1</td>\n",
              "      <td>44.2</td>\n",
              "      <td>69.1</td>\n",
              "      <td>0.003</td>\n",
              "      <td>28.9</td>\n",
              "      <td>16.5</td>\n",
              "      <td>88.2</td>\n",
              "      <td>9.7</td>\n",
              "      <td>14.9</td>\n",
              "    </tr>\n",
              "    <tr>\n",
              "      <th>20</th>\n",
              "      <td>2023-01-21</td>\n",
              "      <td>42.8</td>\n",
              "      <td>37.1</td>\n",
              "      <td>38.9</td>\n",
              "      <td>56.0</td>\n",
              "      <td>0.000</td>\n",
              "      <td>21.9</td>\n",
              "      <td>15.7</td>\n",
              "      <td>97.8</td>\n",
              "      <td>9.9</td>\n",
              "      <td>13.6</td>\n",
              "    </tr>\n",
              "    <tr>\n",
              "      <th>21</th>\n",
              "      <td>2023-01-22</td>\n",
              "      <td>41.9</td>\n",
              "      <td>36.3</td>\n",
              "      <td>38.6</td>\n",
              "      <td>63.3</td>\n",
              "      <td>0.361</td>\n",
              "      <td>13.9</td>\n",
              "      <td>10.1</td>\n",
              "      <td>91.4</td>\n",
              "      <td>8.5</td>\n",
              "      <td>13.5</td>\n",
              "    </tr>\n",
              "    <tr>\n",
              "      <th>22</th>\n",
              "      <td>2023-01-23</td>\n",
              "      <td>38.9</td>\n",
              "      <td>36.0</td>\n",
              "      <td>37.6</td>\n",
              "      <td>81.8</td>\n",
              "      <td>0.560</td>\n",
              "      <td>34.9</td>\n",
              "      <td>23.0</td>\n",
              "      <td>99.4</td>\n",
              "      <td>6.7</td>\n",
              "      <td>10.8</td>\n",
              "    </tr>\n",
              "    <tr>\n",
              "      <th>23</th>\n",
              "      <td>2023-01-24</td>\n",
              "      <td>45.3</td>\n",
              "      <td>35.3</td>\n",
              "      <td>39.6</td>\n",
              "      <td>50.9</td>\n",
              "      <td>0.000</td>\n",
              "      <td>31.7</td>\n",
              "      <td>14.2</td>\n",
              "      <td>69.5</td>\n",
              "      <td>9.9</td>\n",
              "      <td>20.2</td>\n",
              "    </tr>\n",
              "    <tr>\n",
              "      <th>24</th>\n",
              "      <td>2023-01-25</td>\n",
              "      <td>53.7</td>\n",
              "      <td>36.0</td>\n",
              "      <td>40.4</td>\n",
              "      <td>67.9</td>\n",
              "      <td>0.816</td>\n",
              "      <td>36.8</td>\n",
              "      <td>16.1</td>\n",
              "      <td>62.7</td>\n",
              "      <td>7.9</td>\n",
              "      <td>11.8</td>\n",
              "    </tr>\n",
              "    <tr>\n",
              "      <th>25</th>\n",
              "      <td>2023-01-26</td>\n",
              "      <td>55.5</td>\n",
              "      <td>41.0</td>\n",
              "      <td>46.2</td>\n",
              "      <td>62.7</td>\n",
              "      <td>0.465</td>\n",
              "      <td>35.9</td>\n",
              "      <td>20.8</td>\n",
              "      <td>90.6</td>\n",
              "      <td>9.2</td>\n",
              "      <td>12.5</td>\n",
              "    </tr>\n",
              "    <tr>\n",
              "      <th>26</th>\n",
              "      <td>2023-01-27</td>\n",
              "      <td>41.5</td>\n",
              "      <td>36.3</td>\n",
              "      <td>39.0</td>\n",
              "      <td>52.4</td>\n",
              "      <td>0.000</td>\n",
              "      <td>21.9</td>\n",
              "      <td>13.0</td>\n",
              "      <td>40.2</td>\n",
              "      <td>9.9</td>\n",
              "      <td>15.6</td>\n",
              "    </tr>\n",
              "    <tr>\n",
              "      <th>27</th>\n",
              "      <td>2023-01-28</td>\n",
              "      <td>52.0</td>\n",
              "      <td>37.1</td>\n",
              "      <td>44.2</td>\n",
              "      <td>44.3</td>\n",
              "      <td>0.028</td>\n",
              "      <td>59.7</td>\n",
              "      <td>12.8</td>\n",
              "      <td>27.5</td>\n",
              "      <td>9.9</td>\n",
              "      <td>18.2</td>\n",
              "    </tr>\n",
              "    <tr>\n",
              "      <th>28</th>\n",
              "      <td>2023-01-29</td>\n",
              "      <td>52.1</td>\n",
              "      <td>43.0</td>\n",
              "      <td>46.9</td>\n",
              "      <td>54.2</td>\n",
              "      <td>0.000</td>\n",
              "      <td>20.3</td>\n",
              "      <td>10.1</td>\n",
              "      <td>36.7</td>\n",
              "      <td>9.9</td>\n",
              "      <td>13.1</td>\n",
              "    </tr>\n",
              "    <tr>\n",
              "      <th>29</th>\n",
              "      <td>2023-01-30</td>\n",
              "      <td>55.1</td>\n",
              "      <td>41.2</td>\n",
              "      <td>46.9</td>\n",
              "      <td>65.4</td>\n",
              "      <td>0.000</td>\n",
              "      <td>19.7</td>\n",
              "      <td>9.1</td>\n",
              "      <td>23.1</td>\n",
              "      <td>9.9</td>\n",
              "      <td>18.6</td>\n",
              "    </tr>\n",
              "    <tr>\n",
              "      <th>30</th>\n",
              "      <td>2023-01-31</td>\n",
              "      <td>47.2</td>\n",
              "      <td>33.9</td>\n",
              "      <td>39.1</td>\n",
              "      <td>63.1</td>\n",
              "      <td>0.013</td>\n",
              "      <td>49.4</td>\n",
              "      <td>12.6</td>\n",
              "      <td>99.4</td>\n",
              "      <td>9.9</td>\n",
              "      <td>12.5</td>\n",
              "    </tr>\n",
              "  </tbody>\n",
              "</table>\n",
              "</div>"
            ],
            "text/plain": [
              "     datetime  tempmax  tempmin  temp  humidity  precip  windgust  windspeed  \\\n",
              "0  2023-01-01     54.0     50.0  52.0      64.9   0.014      21.9       12.4   \n",
              "1  2023-01-02     56.0     47.0  52.3      62.3   0.018      10.3        7.5   \n",
              "2  2023-01-03     55.5     46.2  51.1      87.9   0.378      13.9        7.8   \n",
              "3  2023-01-04     65.7     48.6  57.9      79.7   0.018      15.0        9.5   \n",
              "4  2023-01-05     49.0     44.7  47.3      90.7   0.018       9.2        9.5   \n",
              "5  2023-01-06     47.9     40.1  44.3      78.5   0.266      23.0       11.8   \n",
              "6  2023-01-07     44.1     37.4  40.7      60.9   0.000      23.0       10.1   \n",
              "7  2023-01-08     40.7     33.2  37.4      53.0   0.000      17.2       15.0   \n",
              "8  2023-01-09     44.1     37.4  39.9      61.5   0.005      20.8       11.5   \n",
              "9  2023-01-10     41.0     38.3  39.7      54.7   0.000      19.5        8.4   \n",
              "10 2023-01-11     39.2     35.1  37.4      54.7   0.000      18.3       11.2   \n",
              "11 2023-01-12     54.0     36.8  44.6      81.6   0.192      34.4       13.4   \n",
              "12 2023-01-13     55.8     38.9  48.9      75.8   0.162      36.9       14.6   \n",
              "13 2023-01-14     38.0     32.0  34.1      62.9   0.000      41.4       18.3   \n",
              "14 2023-01-15     40.7     29.9  34.2      50.9   0.000      42.5       21.9   \n",
              "15 2023-01-16     47.7     29.5  36.6      35.2   0.000      29.8       17.2   \n",
              "16 2023-01-17     47.0     36.0  42.1      33.3   0.000      16.1        9.3   \n",
              "17 2023-01-18     51.8     43.8  47.8      58.5   0.048      30.0       19.0   \n",
              "18 2023-01-19     45.0     39.8  41.8      78.5   0.811      20.8        9.3   \n",
              "19 2023-01-20     48.6     40.1  44.2      69.1   0.003      28.9       16.5   \n",
              "20 2023-01-21     42.8     37.1  38.9      56.0   0.000      21.9       15.7   \n",
              "21 2023-01-22     41.9     36.3  38.6      63.3   0.361      13.9       10.1   \n",
              "22 2023-01-23     38.9     36.0  37.6      81.8   0.560      34.9       23.0   \n",
              "23 2023-01-24     45.3     35.3  39.6      50.9   0.000      31.7       14.2   \n",
              "24 2023-01-25     53.7     36.0  40.4      67.9   0.816      36.8       16.1   \n",
              "25 2023-01-26     55.5     41.0  46.2      62.7   0.465      35.9       20.8   \n",
              "26 2023-01-27     41.5     36.3  39.0      52.4   0.000      21.9       13.0   \n",
              "27 2023-01-28     52.0     37.1  44.2      44.3   0.028      59.7       12.8   \n",
              "28 2023-01-29     52.1     43.0  46.9      54.2   0.000      20.3       10.1   \n",
              "29 2023-01-30     55.1     41.2  46.9      65.4   0.000      19.7        9.1   \n",
              "30 2023-01-31     47.2     33.9  39.1      63.1   0.013      49.4       12.6   \n",
              "\n",
              "    cloudcover  visibility  solarenergy  \n",
              "0         33.8         9.6         18.2  \n",
              "1         55.7         9.6         13.8  \n",
              "2         90.4         5.4         11.7  \n",
              "3         67.6         8.2         14.7  \n",
              "4        100.0         5.9         12.2  \n",
              "5         93.0         7.7         12.0  \n",
              "6         43.2         9.9         14.0  \n",
              "7         18.7         9.9         17.5  \n",
              "8         49.1         9.5         17.4  \n",
              "9         87.8         9.8         11.8  \n",
              "10        83.7         9.9         13.8  \n",
              "11       100.0         8.5         11.9  \n",
              "12        88.3         9.2         12.4  \n",
              "13        99.8         9.2         14.1  \n",
              "14        42.4         9.9         19.2  \n",
              "15        30.9         9.9         19.6  \n",
              "16        64.4         9.9         14.0  \n",
              "17        58.8         9.8         16.3  \n",
              "18        74.3         6.6         10.6  \n",
              "19        88.2         9.7         14.9  \n",
              "20        97.8         9.9         13.6  \n",
              "21        91.4         8.5         13.5  \n",
              "22        99.4         6.7         10.8  \n",
              "23        69.5         9.9         20.2  \n",
              "24        62.7         7.9         11.8  \n",
              "25        90.6         9.2         12.5  \n",
              "26        40.2         9.9         15.6  \n",
              "27        27.5         9.9         18.2  \n",
              "28        36.7         9.9         13.1  \n",
              "29        23.1         9.9         18.6  \n",
              "30        99.4         9.9         12.5  "
            ]
          },
          "execution_count": 57,
          "metadata": {},
          "output_type": "execute_result"
        }
      ],
      "source": [
        "df_janvier"
      ]
    },
    {
      "cell_type": "code",
      "execution_count": null,
      "metadata": {
        "id": "ED7N7Zzp5d1g",
        "outputId": "27f01cd8-7134-4c7e-fd58-71094da6123d"
      },
      "outputs": [
        {
          "data": {
            "text/html": [
              "<div>\n",
              "<style scoped>\n",
              "    .dataframe tbody tr th:only-of-type {\n",
              "        vertical-align: middle;\n",
              "    }\n",
              "\n",
              "    .dataframe tbody tr th {\n",
              "        vertical-align: top;\n",
              "    }\n",
              "\n",
              "    .dataframe thead th {\n",
              "        text-align: right;\n",
              "    }\n",
              "</style>\n",
              "<table border=\"1\" class=\"dataframe\">\n",
              "  <thead>\n",
              "    <tr style=\"text-align: right;\">\n",
              "      <th></th>\n",
              "      <th>datetime</th>\n",
              "      <th>tempmax</th>\n",
              "      <th>tempmin</th>\n",
              "      <th>temp</th>\n",
              "      <th>humidity</th>\n",
              "      <th>precip</th>\n",
              "      <th>windgust</th>\n",
              "      <th>windspeed</th>\n",
              "      <th>cloudcover</th>\n",
              "      <th>visibility</th>\n",
              "      <th>solarenergy</th>\n",
              "    </tr>\n",
              "  </thead>\n",
              "  <tbody>\n",
              "    <tr>\n",
              "      <th>0</th>\n",
              "      <td>2023-03-01</td>\n",
              "      <td>43.8</td>\n",
              "      <td>35.8</td>\n",
              "      <td>40.4</td>\n",
              "      <td>70.8</td>\n",
              "      <td>0.009</td>\n",
              "      <td>17.4</td>\n",
              "      <td>11.5</td>\n",
              "      <td>51.3</td>\n",
              "      <td>9.5</td>\n",
              "      <td>11.7</td>\n",
              "    </tr>\n",
              "    <tr>\n",
              "      <th>1</th>\n",
              "      <td>2023-03-02</td>\n",
              "      <td>53.1</td>\n",
              "      <td>39.8</td>\n",
              "      <td>44.9</td>\n",
              "      <td>75.8</td>\n",
              "      <td>0.000</td>\n",
              "      <td>34.3</td>\n",
              "      <td>12.4</td>\n",
              "      <td>60.5</td>\n",
              "      <td>6.7</td>\n",
              "      <td>6.2</td>\n",
              "    </tr>\n",
              "    <tr>\n",
              "      <th>2</th>\n",
              "      <td>2023-03-03</td>\n",
              "      <td>45.6</td>\n",
              "      <td>38.0</td>\n",
              "      <td>41.3</td>\n",
              "      <td>60.3</td>\n",
              "      <td>0.060</td>\n",
              "      <td>35.6</td>\n",
              "      <td>20.3</td>\n",
              "      <td>38.8</td>\n",
              "      <td>9.8</td>\n",
              "      <td>8.8</td>\n",
              "    </tr>\n",
              "    <tr>\n",
              "      <th>3</th>\n",
              "      <td>2023-03-04</td>\n",
              "      <td>46.9</td>\n",
              "      <td>39.8</td>\n",
              "      <td>42.8</td>\n",
              "      <td>81.2</td>\n",
              "      <td>0.454</td>\n",
              "      <td>41.2</td>\n",
              "      <td>28.3</td>\n",
              "      <td>99.8</td>\n",
              "      <td>8.7</td>\n",
              "      <td>7.2</td>\n",
              "    </tr>\n",
              "    <tr>\n",
              "      <th>4</th>\n",
              "      <td>2023-03-05</td>\n",
              "      <td>53.9</td>\n",
              "      <td>38.9</td>\n",
              "      <td>45.3</td>\n",
              "      <td>53.2</td>\n",
              "      <td>0.000</td>\n",
              "      <td>34.4</td>\n",
              "      <td>10.3</td>\n",
              "      <td>46.6</td>\n",
              "      <td>9.9</td>\n",
              "      <td>12.5</td>\n",
              "    </tr>\n",
              "    <tr>\n",
              "      <th>5</th>\n",
              "      <td>2023-03-06</td>\n",
              "      <td>53.8</td>\n",
              "      <td>39.8</td>\n",
              "      <td>46.6</td>\n",
              "      <td>41.1</td>\n",
              "      <td>0.000</td>\n",
              "      <td>45.4</td>\n",
              "      <td>11.2</td>\n",
              "      <td>19.4</td>\n",
              "      <td>9.9</td>\n",
              "      <td>15.0</td>\n",
              "    </tr>\n",
              "    <tr>\n",
              "      <th>6</th>\n",
              "      <td>2023-03-07</td>\n",
              "      <td>48.7</td>\n",
              "      <td>34.0</td>\n",
              "      <td>40.6</td>\n",
              "      <td>51.2</td>\n",
              "      <td>0.059</td>\n",
              "      <td>39.4</td>\n",
              "      <td>14.9</td>\n",
              "      <td>66.7</td>\n",
              "      <td>9.6</td>\n",
              "      <td>18.0</td>\n",
              "    </tr>\n",
              "    <tr>\n",
              "      <th>7</th>\n",
              "      <td>2023-03-08</td>\n",
              "      <td>48.7</td>\n",
              "      <td>32.0</td>\n",
              "      <td>39.8</td>\n",
              "      <td>51.3</td>\n",
              "      <td>0.000</td>\n",
              "      <td>37.8</td>\n",
              "      <td>9.6</td>\n",
              "      <td>17.4</td>\n",
              "      <td>9.9</td>\n",
              "      <td>17.5</td>\n",
              "    </tr>\n",
              "    <tr>\n",
              "      <th>8</th>\n",
              "      <td>2023-03-09</td>\n",
              "      <td>53.8</td>\n",
              "      <td>34.3</td>\n",
              "      <td>42.6</td>\n",
              "      <td>53.2</td>\n",
              "      <td>0.018</td>\n",
              "      <td>36.8</td>\n",
              "      <td>12.5</td>\n",
              "      <td>14.3</td>\n",
              "      <td>9.9</td>\n",
              "      <td>19.4</td>\n",
              "    </tr>\n",
              "    <tr>\n",
              "      <th>9</th>\n",
              "      <td>2023-03-10</td>\n",
              "      <td>44.9</td>\n",
              "      <td>37.9</td>\n",
              "      <td>41.4</td>\n",
              "      <td>67.7</td>\n",
              "      <td>0.018</td>\n",
              "      <td>41.4</td>\n",
              "      <td>11.0</td>\n",
              "      <td>62.4</td>\n",
              "      <td>9.8</td>\n",
              "      <td>6.4</td>\n",
              "    </tr>\n",
              "    <tr>\n",
              "      <th>10</th>\n",
              "      <td>2023-03-11</td>\n",
              "      <td>44.8</td>\n",
              "      <td>37.0</td>\n",
              "      <td>40.8</td>\n",
              "      <td>80.3</td>\n",
              "      <td>0.027</td>\n",
              "      <td>27.5</td>\n",
              "      <td>11.6</td>\n",
              "      <td>97.0</td>\n",
              "      <td>9.7</td>\n",
              "      <td>6.2</td>\n",
              "    </tr>\n",
              "    <tr>\n",
              "      <th>11</th>\n",
              "      <td>2023-03-12</td>\n",
              "      <td>47.0</td>\n",
              "      <td>35.0</td>\n",
              "      <td>40.6</td>\n",
              "      <td>60.5</td>\n",
              "      <td>0.000</td>\n",
              "      <td>31.1</td>\n",
              "      <td>8.9</td>\n",
              "      <td>12.9</td>\n",
              "      <td>9.9</td>\n",
              "      <td>12.7</td>\n",
              "    </tr>\n",
              "    <tr>\n",
              "      <th>12</th>\n",
              "      <td>2023-03-13</td>\n",
              "      <td>44.3</td>\n",
              "      <td>38.9</td>\n",
              "      <td>41.3</td>\n",
              "      <td>85.2</td>\n",
              "      <td>0.432</td>\n",
              "      <td>26.4</td>\n",
              "      <td>15.1</td>\n",
              "      <td>100.0</td>\n",
              "      <td>5.6</td>\n",
              "      <td>2.8</td>\n",
              "    </tr>\n",
              "    <tr>\n",
              "      <th>13</th>\n",
              "      <td>2023-03-14</td>\n",
              "      <td>39.0</td>\n",
              "      <td>33.7</td>\n",
              "      <td>35.8</td>\n",
              "      <td>78.3</td>\n",
              "      <td>0.349</td>\n",
              "      <td>33.1</td>\n",
              "      <td>19.5</td>\n",
              "      <td>97.8</td>\n",
              "      <td>6.3</td>\n",
              "      <td>5.1</td>\n",
              "    </tr>\n",
              "    <tr>\n",
              "      <th>14</th>\n",
              "      <td>2023-03-15</td>\n",
              "      <td>44.3</td>\n",
              "      <td>34.3</td>\n",
              "      <td>38.4</td>\n",
              "      <td>47.8</td>\n",
              "      <td>0.000</td>\n",
              "      <td>39.9</td>\n",
              "      <td>22.4</td>\n",
              "      <td>27.3</td>\n",
              "      <td>9.9</td>\n",
              "      <td>19.6</td>\n",
              "    </tr>\n",
              "    <tr>\n",
              "      <th>15</th>\n",
              "      <td>2023-03-16</td>\n",
              "      <td>58.1</td>\n",
              "      <td>35.3</td>\n",
              "      <td>45.4</td>\n",
              "      <td>28.3</td>\n",
              "      <td>0.000</td>\n",
              "      <td>28.9</td>\n",
              "      <td>13.3</td>\n",
              "      <td>12.2</td>\n",
              "      <td>9.9</td>\n",
              "      <td>15.7</td>\n",
              "    </tr>\n",
              "    <tr>\n",
              "      <th>16</th>\n",
              "      <td>2023-03-17</td>\n",
              "      <td>58.7</td>\n",
              "      <td>47.1</td>\n",
              "      <td>52.8</td>\n",
              "      <td>39.2</td>\n",
              "      <td>0.000</td>\n",
              "      <td>20.8</td>\n",
              "      <td>13.5</td>\n",
              "      <td>53.1</td>\n",
              "      <td>9.9</td>\n",
              "      <td>11.9</td>\n",
              "    </tr>\n",
              "    <tr>\n",
              "      <th>17</th>\n",
              "      <td>2023-03-18</td>\n",
              "      <td>56.9</td>\n",
              "      <td>43.1</td>\n",
              "      <td>49.1</td>\n",
              "      <td>44.3</td>\n",
              "      <td>0.002</td>\n",
              "      <td>50.1</td>\n",
              "      <td>19.1</td>\n",
              "      <td>38.0</td>\n",
              "      <td>9.9</td>\n",
              "      <td>19.6</td>\n",
              "    </tr>\n",
              "    <tr>\n",
              "      <th>18</th>\n",
              "      <td>2023-03-19</td>\n",
              "      <td>43.1</td>\n",
              "      <td>30.8</td>\n",
              "      <td>37.2</td>\n",
              "      <td>37.5</td>\n",
              "      <td>0.000</td>\n",
              "      <td>31.7</td>\n",
              "      <td>15.3</td>\n",
              "      <td>21.2</td>\n",
              "      <td>9.9</td>\n",
              "      <td>20.6</td>\n",
              "    </tr>\n",
              "    <tr>\n",
              "      <th>19</th>\n",
              "      <td>2023-03-20</td>\n",
              "      <td>50.0</td>\n",
              "      <td>32.0</td>\n",
              "      <td>41.0</td>\n",
              "      <td>42.8</td>\n",
              "      <td>0.000</td>\n",
              "      <td>34.8</td>\n",
              "      <td>10.9</td>\n",
              "      <td>0.1</td>\n",
              "      <td>9.9</td>\n",
              "      <td>20.9</td>\n",
              "    </tr>\n",
              "    <tr>\n",
              "      <th>20</th>\n",
              "      <td>2023-03-21</td>\n",
              "      <td>62.0</td>\n",
              "      <td>38.2</td>\n",
              "      <td>49.9</td>\n",
              "      <td>35.0</td>\n",
              "      <td>0.000</td>\n",
              "      <td>35.7</td>\n",
              "      <td>13.8</td>\n",
              "      <td>0.6</td>\n",
              "      <td>9.9</td>\n",
              "      <td>21.0</td>\n",
              "    </tr>\n",
              "    <tr>\n",
              "      <th>21</th>\n",
              "      <td>2023-03-22</td>\n",
              "      <td>60.2</td>\n",
              "      <td>45.2</td>\n",
              "      <td>50.8</td>\n",
              "      <td>50.0</td>\n",
              "      <td>0.000</td>\n",
              "      <td>34.4</td>\n",
              "      <td>8.8</td>\n",
              "      <td>27.3</td>\n",
              "      <td>9.9</td>\n",
              "      <td>16.6</td>\n",
              "    </tr>\n",
              "    <tr>\n",
              "      <th>22</th>\n",
              "      <td>2023-03-23</td>\n",
              "      <td>57.1</td>\n",
              "      <td>47.1</td>\n",
              "      <td>52.2</td>\n",
              "      <td>83.2</td>\n",
              "      <td>0.005</td>\n",
              "      <td>53.9</td>\n",
              "      <td>11.1</td>\n",
              "      <td>65.5</td>\n",
              "      <td>9.2</td>\n",
              "      <td>5.5</td>\n",
              "    </tr>\n",
              "    <tr>\n",
              "      <th>23</th>\n",
              "      <td>2023-03-24</td>\n",
              "      <td>57.0</td>\n",
              "      <td>44.1</td>\n",
              "      <td>49.5</td>\n",
              "      <td>51.7</td>\n",
              "      <td>0.000</td>\n",
              "      <td>43.6</td>\n",
              "      <td>9.1</td>\n",
              "      <td>36.4</td>\n",
              "      <td>9.9</td>\n",
              "      <td>10.7</td>\n",
              "    </tr>\n",
              "    <tr>\n",
              "      <th>24</th>\n",
              "      <td>2023-03-25</td>\n",
              "      <td>47.1</td>\n",
              "      <td>43.0</td>\n",
              "      <td>44.1</td>\n",
              "      <td>76.0</td>\n",
              "      <td>0.010</td>\n",
              "      <td>31.8</td>\n",
              "      <td>21.2</td>\n",
              "      <td>78.7</td>\n",
              "      <td>8.5</td>\n",
              "      <td>1.7</td>\n",
              "    </tr>\n",
              "    <tr>\n",
              "      <th>25</th>\n",
              "      <td>2023-03-26</td>\n",
              "      <td>62.9</td>\n",
              "      <td>44.0</td>\n",
              "      <td>52.5</td>\n",
              "      <td>52.7</td>\n",
              "      <td>0.000</td>\n",
              "      <td>28.4</td>\n",
              "      <td>14.7</td>\n",
              "      <td>25.7</td>\n",
              "      <td>8.4</td>\n",
              "      <td>22.3</td>\n",
              "    </tr>\n",
              "    <tr>\n",
              "      <th>26</th>\n",
              "      <td>2023-03-27</td>\n",
              "      <td>57.8</td>\n",
              "      <td>44.9</td>\n",
              "      <td>50.6</td>\n",
              "      <td>48.8</td>\n",
              "      <td>0.017</td>\n",
              "      <td>19.5</td>\n",
              "      <td>14.6</td>\n",
              "      <td>41.2</td>\n",
              "      <td>9.9</td>\n",
              "      <td>13.4</td>\n",
              "    </tr>\n",
              "    <tr>\n",
              "      <th>27</th>\n",
              "      <td>2023-03-28</td>\n",
              "      <td>52.0</td>\n",
              "      <td>43.9</td>\n",
              "      <td>47.2</td>\n",
              "      <td>61.3</td>\n",
              "      <td>0.000</td>\n",
              "      <td>44.2</td>\n",
              "      <td>10.1</td>\n",
              "      <td>85.0</td>\n",
              "      <td>9.9</td>\n",
              "      <td>12.0</td>\n",
              "    </tr>\n",
              "    <tr>\n",
              "      <th>28</th>\n",
              "      <td>2023-03-29</td>\n",
              "      <td>55.1</td>\n",
              "      <td>42.0</td>\n",
              "      <td>46.7</td>\n",
              "      <td>44.0</td>\n",
              "      <td>0.000</td>\n",
              "      <td>36.4</td>\n",
              "      <td>10.4</td>\n",
              "      <td>1.9</td>\n",
              "      <td>9.9</td>\n",
              "      <td>22.0</td>\n",
              "    </tr>\n",
              "    <tr>\n",
              "      <th>29</th>\n",
              "      <td>2023-03-30</td>\n",
              "      <td>48.6</td>\n",
              "      <td>33.0</td>\n",
              "      <td>41.1</td>\n",
              "      <td>40.5</td>\n",
              "      <td>0.001</td>\n",
              "      <td>50.6</td>\n",
              "      <td>10.4</td>\n",
              "      <td>14.4</td>\n",
              "      <td>9.9</td>\n",
              "      <td>23.1</td>\n",
              "    </tr>\n",
              "    <tr>\n",
              "      <th>30</th>\n",
              "      <td>2023-03-31</td>\n",
              "      <td>55.0</td>\n",
              "      <td>38.9</td>\n",
              "      <td>45.9</td>\n",
              "      <td>56.6</td>\n",
              "      <td>0.000</td>\n",
              "      <td>35.6</td>\n",
              "      <td>12.5</td>\n",
              "      <td>62.5</td>\n",
              "      <td>9.9</td>\n",
              "      <td>11.7</td>\n",
              "    </tr>\n",
              "  </tbody>\n",
              "</table>\n",
              "</div>"
            ],
            "text/plain": [
              "     datetime  tempmax  tempmin  temp  humidity  precip  windgust  windspeed  \\\n",
              "0  2023-03-01     43.8     35.8  40.4      70.8   0.009      17.4       11.5   \n",
              "1  2023-03-02     53.1     39.8  44.9      75.8   0.000      34.3       12.4   \n",
              "2  2023-03-03     45.6     38.0  41.3      60.3   0.060      35.6       20.3   \n",
              "3  2023-03-04     46.9     39.8  42.8      81.2   0.454      41.2       28.3   \n",
              "4  2023-03-05     53.9     38.9  45.3      53.2   0.000      34.4       10.3   \n",
              "5  2023-03-06     53.8     39.8  46.6      41.1   0.000      45.4       11.2   \n",
              "6  2023-03-07     48.7     34.0  40.6      51.2   0.059      39.4       14.9   \n",
              "7  2023-03-08     48.7     32.0  39.8      51.3   0.000      37.8        9.6   \n",
              "8  2023-03-09     53.8     34.3  42.6      53.2   0.018      36.8       12.5   \n",
              "9  2023-03-10     44.9     37.9  41.4      67.7   0.018      41.4       11.0   \n",
              "10 2023-03-11     44.8     37.0  40.8      80.3   0.027      27.5       11.6   \n",
              "11 2023-03-12     47.0     35.0  40.6      60.5   0.000      31.1        8.9   \n",
              "12 2023-03-13     44.3     38.9  41.3      85.2   0.432      26.4       15.1   \n",
              "13 2023-03-14     39.0     33.7  35.8      78.3   0.349      33.1       19.5   \n",
              "14 2023-03-15     44.3     34.3  38.4      47.8   0.000      39.9       22.4   \n",
              "15 2023-03-16     58.1     35.3  45.4      28.3   0.000      28.9       13.3   \n",
              "16 2023-03-17     58.7     47.1  52.8      39.2   0.000      20.8       13.5   \n",
              "17 2023-03-18     56.9     43.1  49.1      44.3   0.002      50.1       19.1   \n",
              "18 2023-03-19     43.1     30.8  37.2      37.5   0.000      31.7       15.3   \n",
              "19 2023-03-20     50.0     32.0  41.0      42.8   0.000      34.8       10.9   \n",
              "20 2023-03-21     62.0     38.2  49.9      35.0   0.000      35.7       13.8   \n",
              "21 2023-03-22     60.2     45.2  50.8      50.0   0.000      34.4        8.8   \n",
              "22 2023-03-23     57.1     47.1  52.2      83.2   0.005      53.9       11.1   \n",
              "23 2023-03-24     57.0     44.1  49.5      51.7   0.000      43.6        9.1   \n",
              "24 2023-03-25     47.1     43.0  44.1      76.0   0.010      31.8       21.2   \n",
              "25 2023-03-26     62.9     44.0  52.5      52.7   0.000      28.4       14.7   \n",
              "26 2023-03-27     57.8     44.9  50.6      48.8   0.017      19.5       14.6   \n",
              "27 2023-03-28     52.0     43.9  47.2      61.3   0.000      44.2       10.1   \n",
              "28 2023-03-29     55.1     42.0  46.7      44.0   0.000      36.4       10.4   \n",
              "29 2023-03-30     48.6     33.0  41.1      40.5   0.001      50.6       10.4   \n",
              "30 2023-03-31     55.0     38.9  45.9      56.6   0.000      35.6       12.5   \n",
              "\n",
              "    cloudcover  visibility  solarenergy  \n",
              "0         51.3         9.5         11.7  \n",
              "1         60.5         6.7          6.2  \n",
              "2         38.8         9.8          8.8  \n",
              "3         99.8         8.7          7.2  \n",
              "4         46.6         9.9         12.5  \n",
              "5         19.4         9.9         15.0  \n",
              "6         66.7         9.6         18.0  \n",
              "7         17.4         9.9         17.5  \n",
              "8         14.3         9.9         19.4  \n",
              "9         62.4         9.8          6.4  \n",
              "10        97.0         9.7          6.2  \n",
              "11        12.9         9.9         12.7  \n",
              "12       100.0         5.6          2.8  \n",
              "13        97.8         6.3          5.1  \n",
              "14        27.3         9.9         19.6  \n",
              "15        12.2         9.9         15.7  \n",
              "16        53.1         9.9         11.9  \n",
              "17        38.0         9.9         19.6  \n",
              "18        21.2         9.9         20.6  \n",
              "19         0.1         9.9         20.9  \n",
              "20         0.6         9.9         21.0  \n",
              "21        27.3         9.9         16.6  \n",
              "22        65.5         9.2          5.5  \n",
              "23        36.4         9.9         10.7  \n",
              "24        78.7         8.5          1.7  \n",
              "25        25.7         8.4         22.3  \n",
              "26        41.2         9.9         13.4  \n",
              "27        85.0         9.9         12.0  \n",
              "28         1.9         9.9         22.0  \n",
              "29        14.4         9.9         23.1  \n",
              "30        62.5         9.9         11.7  "
            ]
          },
          "execution_count": 58,
          "metadata": {},
          "output_type": "execute_result"
        }
      ],
      "source": [
        "df_mars"
      ]
    },
    {
      "cell_type": "code",
      "execution_count": null,
      "metadata": {
        "id": "yvm12Tc73_4I",
        "outputId": "6a20379e-92d9-4aa1-993b-8686eb8a211f"
      },
      "outputs": [
        {
          "data": {
            "text/plain": [
              "key_0                   0\n",
              "tpep_pickup_datetime    0\n",
              "passenger_count         0\n",
              "trip_distance           0\n",
              "PULocationID            0\n",
              "DOLocationID            0\n",
              "payment_type            0\n",
              "total_amount            0\n",
              "mois                    0\n",
              "jour                    0\n",
              "annee                   0\n",
              "heure                   0\n",
              "minute                  0\n",
              "joursemaine             0\n",
              "duree_minute            0\n",
              "datetime                0\n",
              "tempmax                 0\n",
              "tempmin                 0\n",
              "temp                    0\n",
              "humidity                0\n",
              "precip                  0\n",
              "windgust                0\n",
              "windspeed               0\n",
              "cloudcover              0\n",
              "visibility              0\n",
              "solarenergy             0\n",
              "dtype: int64"
            ]
          },
          "execution_count": 59,
          "metadata": {},
          "output_type": "execute_result"
        }
      ],
      "source": [
        "df1['tpep_pickup_datetime'] = pd.to_datetime(df1['tpep_pickup_datetime'])\n",
        "\n",
        "# Charger les données météorologiques dans un DataFrame (supposons que la colonne de date s'appelle 'DATE')\n",
        "df_janvier['datetime'] = pd.to_datetime(df_janvier['datetime'], format=\"%d/%m/%Y\")\n",
        "\n",
        "# Fusionner les DataFrames en utilisant les colonnes de date comme clé\n",
        "donnéesjanvier = pd.merge(df1, df_janvier, left_on=df1['tpep_pickup_datetime'].dt.date, right_on=df_janvier['datetime'].dt.date, how='inner')\n",
        "\n",
        "# Supprimer les colonnes de date dupliquées\n",
        "#df_merged.drop(['tpep_pickup_datetime', 'DATE'], axis=1, inplace=True)\n",
        "\n",
        "# Afficher le DataFrame fusionné\n",
        "donnéesjanvier.isnull().sum()"
      ]
    },
    {
      "cell_type": "code",
      "execution_count": null,
      "metadata": {
        "id": "SnSf_VrO5d1h",
        "outputId": "60545d5d-e63f-4d50-c2bc-8029a47c0165"
      },
      "outputs": [
        {
          "data": {
            "text/plain": [
              "key_0                   0\n",
              "tpep_pickup_datetime    0\n",
              "passenger_count         0\n",
              "trip_distance           0\n",
              "PULocationID            0\n",
              "DOLocationID            0\n",
              "payment_type            0\n",
              "total_amount            0\n",
              "mois                    0\n",
              "jour                    0\n",
              "annee                   0\n",
              "heure                   0\n",
              "minute                  0\n",
              "joursemaine             0\n",
              "duree_minute            0\n",
              "datetime                0\n",
              "tempmax                 0\n",
              "tempmin                 0\n",
              "temp                    0\n",
              "humidity                0\n",
              "precip                  0\n",
              "windgust                0\n",
              "windspeed               0\n",
              "cloudcover              0\n",
              "visibility              0\n",
              "solarenergy             0\n",
              "dtype: int64"
            ]
          },
          "execution_count": 60,
          "metadata": {},
          "output_type": "execute_result"
        }
      ],
      "source": [
        "df['tpep_pickup_datetime'] = pd.to_datetime(df['tpep_pickup_datetime'])\n",
        "# Charger les données météorologiques dans un DataFrame (supposons que la colonne de date s'appelle 'DATE')\n",
        "df_mars['datetime'] = pd.to_datetime(df_mars['datetime'], format=\"%d/%m/%Y\")\n",
        "# Fusionner les DataFrames en utilisant les colonnes de date comme clé\n",
        "donnéesmars = pd.merge(df, df_mars, left_on=df['tpep_pickup_datetime'].dt.date, right_on=df_mars['datetime'].dt.date, how='inner')\n",
        "# Afficher le DataFrame fusionné\n",
        "donnéesmars.isnull().sum()"
      ]
    },
    {
      "cell_type": "code",
      "execution_count": null,
      "metadata": {
        "id": "jdInG6o64GqY"
      },
      "outputs": [],
      "source": [
        "donnéesjanvier.drop(['tpep_pickup_datetime', 'key_0'], axis=1, inplace=True)\n",
        "donnéesmars.drop(['tpep_pickup_datetime', 'key_0'], axis=1, inplace=True)"
      ]
    },
    {
      "cell_type": "code",
      "execution_count": null,
      "metadata": {
        "id": "5uTfFw855d1i",
        "outputId": "42a203bf-314d-43c3-cbdd-17f91b7a79ce"
      },
      "outputs": [
        {
          "data": {
            "text/plain": [
              "passenger_count    0\n",
              "trip_distance      0\n",
              "PULocationID       0\n",
              "DOLocationID       0\n",
              "payment_type       0\n",
              "total_amount       0\n",
              "mois               0\n",
              "jour               0\n",
              "annee              0\n",
              "heure              0\n",
              "minute             0\n",
              "joursemaine        0\n",
              "duree_minute       0\n",
              "datetime           0\n",
              "tempmax            0\n",
              "tempmin            0\n",
              "temp               0\n",
              "humidity           0\n",
              "precip             0\n",
              "windgust           0\n",
              "windspeed          0\n",
              "cloudcover         0\n",
              "visibility         0\n",
              "solarenergy        0\n",
              "dtype: int64"
            ]
          },
          "execution_count": 62,
          "metadata": {},
          "output_type": "execute_result"
        }
      ],
      "source": [
        "donnéesjanvier.isnull().sum()"
      ]
    },
    {
      "cell_type": "code",
      "execution_count": null,
      "metadata": {
        "id": "eXCKogNL5d1i",
        "outputId": "88ed7a29-7637-4656-8abb-fff8a01554fb"
      },
      "outputs": [
        {
          "data": {
            "text/plain": [
              "'donnéesmars = donnéesmars.sample(n=2000000, random_state=42,replace=True)\\ndonnéesjanvier = donnéesjanvier.sample(n=2000000, random_state=42,replace=True)'"
            ]
          },
          "execution_count": 63,
          "metadata": {},
          "output_type": "execute_result"
        }
      ],
      "source": [
        "\"\"\"donnéesmars = donnéesmars.sample(n=2000000, random_state=42,replace=True)\n",
        "donnéesjanvier = donnéesjanvier.sample(n=2000000, random_state=42,replace=True)\"\"\""
      ]
    },
    {
      "cell_type": "code",
      "execution_count": null,
      "metadata": {
        "id": "ipJGRJ-HXURP"
      },
      "outputs": [],
      "source": [
        "X_janvier=donnéesjanvier[['passenger_count','trip_distance','PULocationID','DOLocationID','mois','jour','annee','heure','minute','joursemaine','duree_minute','tempmax','tempmin','temp','humidity','precip','windgust','windspeed','visibility','solarenergy']]  # Caractéristiques\n",
        "Y_janvier=donnéesjanvier['total_amount']\n",
        "X_mars=donnéesmars[['passenger_count','trip_distance','PULocationID','DOLocationID','mois','jour','annee','heure','minute','joursemaine','duree_minute','tempmax','tempmin','temp','humidity','precip','windgust','windspeed','visibility','solarenergy']]  # Caractéristiques\n",
        "Y_mars=donnéesmars['total_amount']"
      ]
    },
    {
      "cell_type": "markdown",
      "metadata": {
        "id": "RcklxvSSqg8s"
      },
      "source": [
        "# modélisation"
      ]
    },
    {
      "cell_type": "markdown",
      "metadata": {
        "id": "WYIxeEaBXh3F"
      },
      "source": [
        "## Régression linéaire"
      ]
    },
    {
      "cell_type": "code",
      "execution_count": null,
      "metadata": {
        "colab": {
          "base_uri": "https://localhost:8080/"
        },
        "id": "8vlFD3Ga-Qo_",
        "outputId": "4fade425-46ea-4415-888f-af8df3e49e56"
      },
      "outputs": [
        {
          "data": {
            "text/plain": [
              "passenger_count    0\n",
              "trip_distance      0\n",
              "PULocationID       0\n",
              "DOLocationID       0\n",
              "payment_type       0\n",
              "total_amount       0\n",
              "mois               0\n",
              "jour               0\n",
              "annee              0\n",
              "heure              0\n",
              "minute             0\n",
              "joursemaine        0\n",
              "duree_minute       0\n",
              "datetime           0\n",
              "tempmax            0\n",
              "tempmin            0\n",
              "temp               0\n",
              "humidity           0\n",
              "precip             0\n",
              "windgust           0\n",
              "windspeed          0\n",
              "cloudcover         0\n",
              "visibility         0\n",
              "solarenergy        0\n",
              "dtype: int64"
            ]
          },
          "execution_count": 65,
          "metadata": {},
          "output_type": "execute_result"
        }
      ],
      "source": [
        "donnéesmars.isnull().sum()"
      ]
    },
    {
      "cell_type": "markdown",
      "metadata": {
        "id": "iWVQ3vDHbYK8"
      },
      "source": [
        "## KNN"
      ]
    },
    {
      "cell_type": "code",
      "execution_count": null,
      "metadata": {
        "colab": {
          "base_uri": "https://localhost:8080/",
          "height": 380
        },
        "id": "NrL7XgrVTHO0",
        "outputId": "3ab3273b-b06d-4666-a5c9-d59d0e0f8b30"
      },
      "outputs": [
        {
          "name": "stdout",
          "output_type": "stream",
          "text": [
            "Erreur quadratique moyenne (MSE) : 40.096088896161135\n",
            "Coefficient de détermination (R2) : 0.9171485617552978\n"
          ]
        }
      ],
      "source": [
        "# Séparation des caractéristiques (X) et de la variable cible (y)\n",
        "X = df[['passenger_count','trip_distance','PULocationID','DOLocationID','mois','jour','annee','heure','minute','joursemaine','duree_minute']]  # Caractéristiques\n",
        "Y = df['total_amount']  # Variable cible\n",
        "\n",
        "# Séparation des données d'entraînement et de test\n",
        "X_train, X_test, y_train, y_test = train_test_split(X, Y, test_size=0.2, random_state=42)\n",
        "# Création du modèle KNN\n",
        "knn = KNeighborsRegressor(n_neighbors=11)  # Spécifiez le nombre de voisins (K) à utiliser\n",
        "# Entraînement du modèle\n",
        "knn.fit(X_train, y_train)\n",
        "# Prédiction sur les données de test\n",
        "y_pred = knn.predict(X_test)\n",
        "\n",
        "# Évaluation du modèle\n",
        "mse = mean_squared_error(y_test, y_pred)\n",
        "r2 = r2_score(y_test, y_pred)\n",
        "\n",
        "print(\"Erreur quadratique moyenne (MSE) :\", mse)\n",
        "print(\"Coefficient de détermination (R2) :\", r2)\n"
      ]
    },
    {
      "cell_type": "markdown",
      "metadata": {
        "id": "KB1GuBBt5d1k"
      },
      "source": [
        "## Avec méteo"
      ]
    },
    {
      "cell_type": "code",
      "execution_count": null,
      "metadata": {
        "id": "Xuv2fCX_5d1k"
      },
      "outputs": [],
      "source": [
        "# Séparation des données d'entraînement et de test\n",
        "X_train, X_test, y_train, y_test = train_test_split(X_mars, Y_mars, test_size=0.2, random_state=42)"
      ]
    },
    {
      "cell_type": "code",
      "execution_count": null,
      "metadata": {
        "id": "7DlDtsAh5d1k"
      },
      "outputs": [],
      "source": [
        "# Création du modèle KNN\n",
        "knn = KNeighborsRegressor(n_neighbors=11)"
      ]
    },
    {
      "cell_type": "code",
      "execution_count": null,
      "metadata": {
        "id": "-KuNx2kX5d1k",
        "outputId": "3245687e-91b9-404a-e6f1-1398320cfbed"
      },
      "outputs": [
        {
          "data": {
            "text/plain": [
              "KNeighborsRegressor(n_neighbors=11)"
            ]
          },
          "execution_count": 69,
          "metadata": {},
          "output_type": "execute_result"
        }
      ],
      "source": [
        "# Entraînement du modèle\n",
        "knn.fit(X_train, y_train)"
      ]
    },
    {
      "cell_type": "code",
      "execution_count": null,
      "metadata": {
        "id": "8WU9UpDo5d1k"
      },
      "outputs": [],
      "source": [
        "# Prédiction sur les données de test\n",
        "y_pred = knn.predict(X_test)"
      ]
    },
    {
      "cell_type": "code",
      "execution_count": null,
      "metadata": {
        "id": "6C2n7OrU5d1l",
        "outputId": "b197a07a-a271-4f35-e812-b7db641e580d"
      },
      "outputs": [
        {
          "name": "stdout",
          "output_type": "stream",
          "text": [
            "Erreur quadratique moyenne (MSE) : 51.24072147455912\n",
            "Coefficient de détermination (R2) : 0.8938201753654954\n"
          ]
        }
      ],
      "source": [
        "# Évaluation du modèle\n",
        "mse = mean_squared_error(y_test, y_pred)\n",
        "r2 = r2_score(y_test, y_pred)\n",
        "\n",
        "print(\"Erreur quadratique moyenne (MSE) :\", mse)\n",
        "print(\"Coefficient de détermination (R2) :\", r2)"
      ]
    },
    {
      "cell_type": "markdown",
      "metadata": {
        "id": "KQ2CN-iZXkcJ"
      },
      "source": [
        "## Réseaux de neurones"
      ]
    },
    {
      "cell_type": "code",
      "execution_count": null,
      "metadata": {
        "colab": {
          "base_uri": "https://localhost:8080/"
        },
        "id": "aIn_gZupT4Uv",
        "outputId": "48c1da5a-4589-42ca-98dc-5927ed9a3a7b"
      },
      "outputs": [
        {
          "data": {
            "text/plain": [
              "'# Séparation des caractéristiques (X) et de la variable cible (y)\\nX = df[[\\'passenger_count\\',\\'trip_distance\\',\\'PULocationID\\',\\'DOLocationID\\',\\'mois\\',\\'jour\\',\\'annee\\',\\'heure\\',\\'minute\\',\\'joursemaine\\',\\'duree_minute\\']]  # Caractéristiques\\ny = df[\\'total_amount\\']  # Variable cible\\n# Normalisation des données\\nscaler = StandardScaler()\\nX_scaled = scaler.fit_transform(X)\\n# Séparation des données d\\'entraînement et de test\\nX_train, X_test, y_train, y_test = train_test_split(X_scaled, y, test_size=0.2, random_state=42)\\n# Création du modèle de réseau de neurones\\nmodel = Sequential()\\nmodel.add(Dense(32, activation=\\'relu\\', input_dim=X_train.shape[1]))\\nmodel.add(Dense(16, activation=\\'relu\\'))\\nmodel.add(Dense(8, activation=\\'relu\\'))\\nmodel.add(Dense(1, activation=\\'linear\\'))\\n# Compilation du modèle\\nmodel.compile(loss=\\'mean_squared_error\\', optimizer=\\'adam\\')\\n# Entraînement du modèle\\nmodel.fit(X_train, y_train, epochs=70, batch_size=32, verbose=1)\\n# Prédiction sur les données de test\\ny_pred = model.predict(X_test)\\n# Évaluation du modèle\\nmse = mean_squared_error(y_test, y_pred)\\nr2 = r2_score(y_test, y_pred)\\nprint(\"Erreur quadratique moyenne (MSE) :\", mse)\\nprint(\"Coefficient de détermination (R2) :\", r2)'"
            ]
          },
          "execution_count": 72,
          "metadata": {},
          "output_type": "execute_result"
        }
      ],
      "source": [
        "\"\"\"# Séparation des caractéristiques (X) et de la variable cible (y)\n",
        "X = df[['passenger_count','trip_distance','PULocationID','DOLocationID','mois','jour','annee','heure','minute','joursemaine','duree_minute']]  # Caractéristiques\n",
        "y = df['total_amount']  # Variable cible\n",
        "# Normalisation des données\n",
        "scaler = StandardScaler()\n",
        "X_scaled = scaler.fit_transform(X)\n",
        "# Séparation des données d'entraînement et de test\n",
        "X_train, X_test, y_train, y_test = train_test_split(X_scaled, y, test_size=0.2, random_state=42)\n",
        "# Création du modèle de réseau de neurones\n",
        "model = Sequential()\n",
        "model.add(Dense(32, activation='relu', input_dim=X_train.shape[1]))\n",
        "model.add(Dense(16, activation='relu'))\n",
        "model.add(Dense(8, activation='relu'))\n",
        "model.add(Dense(1, activation='linear'))\n",
        "# Compilation du modèle\n",
        "model.compile(loss='mean_squared_error', optimizer='adam')\n",
        "# Entraînement du modèle\n",
        "model.fit(X_train, y_train, epochs=70, batch_size=32, verbose=1)\n",
        "# Prédiction sur les données de test\n",
        "y_pred = model.predict(X_test)\n",
        "# Évaluation du modèle\n",
        "mse = mean_squared_error(y_test, y_pred)\n",
        "r2 = r2_score(y_test, y_pred)\n",
        "print(\"Erreur quadratique moyenne (MSE) :\", mse)\n",
        "print(\"Coefficient de détermination (R2) :\", r2)\"\"\""
      ]
    },
    {
      "cell_type": "markdown",
      "metadata": {
        "id": "c6FMbEKp5d1l"
      },
      "source": [
        "## Avec meteo"
      ]
    },
    {
      "cell_type": "code",
      "execution_count": null,
      "metadata": {
        "id": "X-1nFixs5d1l",
        "outputId": "471855aa-141f-46f8-91e4-06c8e7572b06"
      },
      "outputs": [
        {
          "data": {
            "text/plain": [
              "'# Normalisation des données\\nscaler = StandardScaler()\\nX_scaled = scaler.fit_transform(X_merged)\\n\\n# Séparation des données d\\'entraînement et de test\\nX_train, X_test, y_train, y_test = train_test_split(X_scaled, Y_merged, test_size=0.2, random_state=42)\\n\\n# Création du modèle de réseau de neurones\\nmodel = Sequential()\\nmodel.add(Dense(32, activation=\\'relu\\', input_dim=X_train.shape[1]))\\nmodel.add(Dense(16, activation=\\'relu\\'))\\nmodel.add(Dense(8, activation=\\'relu\\'))\\nmodel.add(Dense(1, activation=\\'linear\\'))\\n\\n# Compilation du modèle\\nmodel.compile(loss=\\'mean_squared_error\\', optimizer=\\'adam\\')\\n\\n# Entraînement du modèle\\nmodel.fit(X_train, y_train, epochs=70, batch_size=32, verbose=1)\\n\\n# Prédiction sur les données de test\\ny_pred = model.predict(X_test)\\n# Évaluation du modèle\\nmse = mean_squared_error(y_test, y_pred)\\nr2 = r2_score(y_test, y_pred)\\nprint(\"Erreur quadratique moyenne (MSE) :\", mse)\\nprint(\"Coefficient de détermination (R2) :\", r2)'"
            ]
          },
          "execution_count": 73,
          "metadata": {},
          "output_type": "execute_result"
        }
      ],
      "source": [
        "\"\"\"# Normalisation des données\n",
        "scaler = StandardScaler()\n",
        "X_scaled = scaler.fit_transform(X_merged)\n",
        "\n",
        "# Séparation des données d'entraînement et de test\n",
        "X_train, X_test, y_train, y_test = train_test_split(X_scaled, Y_merged, test_size=0.2, random_state=42)\n",
        "\n",
        "# Création du modèle de réseau de neurones\n",
        "model = Sequential()\n",
        "model.add(Dense(32, activation='relu', input_dim=X_train.shape[1]))\n",
        "model.add(Dense(16, activation='relu'))\n",
        "model.add(Dense(8, activation='relu'))\n",
        "model.add(Dense(1, activation='linear'))\n",
        "\n",
        "# Compilation du modèle\n",
        "model.compile(loss='mean_squared_error', optimizer='adam')\n",
        "\n",
        "# Entraînement du modèle\n",
        "model.fit(X_train, y_train, epochs=70, batch_size=32, verbose=1)\n",
        "\n",
        "# Prédiction sur les données de test\n",
        "y_pred = model.predict(X_test)\n",
        "# Évaluation du modèle\n",
        "mse = mean_squared_error(y_test, y_pred)\n",
        "r2 = r2_score(y_test, y_pred)\n",
        "print(\"Erreur quadratique moyenne (MSE) :\", mse)\n",
        "print(\"Coefficient de détermination (R2) :\", r2)\"\"\""
      ]
    },
    {
      "cell_type": "markdown",
      "metadata": {
        "id": "hAWTvuxlXqZC"
      },
      "source": [
        "## XGboost\n"
      ]
    },
    {
      "cell_type": "code",
      "execution_count": null,
      "metadata": {
        "id": "QudZktbVZ7f7"
      },
      "outputs": [],
      "source": [
        "# Sélectionnez vos fonctionnalités (variables indépendantes) et votre variable cible (variable dépendante)\n",
        "X = df[['passenger_count','trip_distance','PULocationID','DOLocationID','mois','jour','annee','heure','minute','joursemaine','duree_minute']]\n",
        "Y = df['total_amount']\n",
        "# Divisez les données en ensembles d'entraînement et de test\n",
        "X_train, X_test, y_train, y_test = train_test_split(X, Y, test_size=0.2, random_state=42)"
      ]
    },
    {
      "cell_type": "code",
      "execution_count": null,
      "metadata": {
        "id": "9ZB4vBHNz_jY"
      },
      "outputs": [],
      "source": [
        "# Créez le modèle XGBoost\n",
        "xgb_model = xgb.XGBRegressor()\n",
        "# Entraînez le modèle\n",
        "xgb_model.fit(X_train, y_train)\n",
        "# Faites des prédictions sur l'ensemble de test\n",
        "y_pred = xgb_model.predict(X_test)\n",
        "# Évaluez les performances du modèle\n",
        "mse = mean_squared_error(y_test, y_pred)\n",
        "r2 = r2_score(y_test, y_pred)"
      ]
    },
    {
      "cell_type": "code",
      "execution_count": null,
      "metadata": {
        "id": "Pu1B_bqSXR9f",
        "outputId": "b57b187c-5e36-46b0-c55d-2d2763c3ede4"
      },
      "outputs": [
        {
          "name": "stdout",
          "output_type": "stream",
          "text": [
            "Erreur quadratique moyenne (MSE) : 25.54566580745246\n",
            "Coefficient de détermination (R2) : 0.9472144238669477\n"
          ]
        }
      ],
      "source": [
        "print(\"Erreur quadratique moyenne (MSE) :\", mse)\n",
        "print(\"Coefficient de détermination (R2) :\", r2)"
      ]
    },
    {
      "cell_type": "markdown",
      "metadata": {
        "id": "Ri1G1izy5d1n"
      },
      "source": [
        "## Avec méteo"
      ]
    },
    {
      "cell_type": "code",
      "execution_count": null,
      "metadata": {
        "id": "eyplsy2h5d1n",
        "outputId": "8bcb357f-d2e7-4081-d9e7-0ed21ec03675"
      },
      "outputs": [
        {
          "name": "stdout",
          "output_type": "stream",
          "text": [
            "Erreur quadratique moyenne (MSE) : 24.985887141226133\n",
            "Coefficient de détermination (R2) : 0.948224829029581\n"
          ]
        }
      ],
      "source": [
        "# Divisez les données en ensembles d'entraînement et de test\n",
        "X_train, X_test, y_train, y_test = train_test_split(X_mars, Y_mars, test_size=0.2, random_state=42)\n",
        "# Créez le modèle XGBoost\n",
        "xgb_model = xgb.XGBRegressor()\n",
        "\n",
        "# Entraînez le modèle\n",
        "xgb_model.fit(X_train, y_train)\n",
        "\n",
        "# Faites des prédictions sur l'ensemble de test\n",
        "y_pred = xgb_model.predict(X_test)\n",
        "\n",
        "# Évaluez les performances du modèle\n",
        "mse = mean_squared_error(y_test, y_pred)\n",
        "r2 = r2_score(y_test, y_pred)\n",
        "print(\"Erreur quadratique moyenne (MSE) :\", mse)\n",
        "print(\"Coefficient de détermination (R2) :\", r2)"
      ]
    },
    {
      "cell_type": "code",
      "execution_count": null,
      "metadata": {
        "id": "HHaDBo0Z5d1n"
      },
      "outputs": [],
      "source": [
        "xgb_model.save_model('xgboost_model.bin')"
      ]
    },
    {
      "cell_type": "code",
      "execution_count": null,
      "metadata": {
        "id": "ocxIKXo05d1n",
        "outputId": "6cbb02de-3d91-49f9-de69-02740c70a5cb"
      },
      "outputs": [
        {
          "name": "stdout",
          "output_type": "stream",
          "text": [
            "Coefficient de détermination (R2) :  0.9431571584125991\n"
          ]
        }
      ],
      "source": [
        "# Charger le modèle entraîné (assurez-vous d'avoir déjà entraîné le modèle et sauvegardé les poids)\n",
        "model = xgb.XGBRegressor()\n",
        "model.load_model('xgboost_model.bin')  # Remplacez 'xgboost_model.bin' par le nom de votre fichier de modèle\n",
        "\n",
        "# Faire des prédictions sur les données de test\n",
        "predictions = model.predict(X_janvier)\n",
        "# Calculer le coefficient de détermination (R2)\n",
        "r2 = r2_score(Y_janvier, predictions)\n",
        "# Afficher le coefficient de détermination (R2)\n",
        "print(\"Coefficient de détermination (R2) : \", r2)"
      ]
    },
    {
      "cell_type": "code",
      "execution_count": null,
      "metadata": {
        "id": "ttsB6_9h5d1o",
        "outputId": "6dca621c-b6c5-4588-872e-a06b23c856df"
      },
      "outputs": [
        {
          "data": {
            "text/html": [
              "<div>\n",
              "<style scoped>\n",
              "    .dataframe tbody tr th:only-of-type {\n",
              "        vertical-align: middle;\n",
              "    }\n",
              "\n",
              "    .dataframe tbody tr th {\n",
              "        vertical-align: top;\n",
              "    }\n",
              "\n",
              "    .dataframe thead th {\n",
              "        text-align: right;\n",
              "    }\n",
              "</style>\n",
              "<table border=\"1\" class=\"dataframe\">\n",
              "  <thead>\n",
              "    <tr style=\"text-align: right;\">\n",
              "      <th></th>\n",
              "      <th>passenger_count</th>\n",
              "      <th>trip_distance</th>\n",
              "      <th>PULocationID</th>\n",
              "      <th>DOLocationID</th>\n",
              "      <th>payment_type</th>\n",
              "      <th>total_amount</th>\n",
              "      <th>mois</th>\n",
              "      <th>jour</th>\n",
              "      <th>annee</th>\n",
              "      <th>heure</th>\n",
              "      <th>...</th>\n",
              "      <th>tempmax</th>\n",
              "      <th>tempmin</th>\n",
              "      <th>temp</th>\n",
              "      <th>humidity</th>\n",
              "      <th>precip</th>\n",
              "      <th>windgust</th>\n",
              "      <th>windspeed</th>\n",
              "      <th>cloudcover</th>\n",
              "      <th>visibility</th>\n",
              "      <th>solarenergy</th>\n",
              "    </tr>\n",
              "  </thead>\n",
              "  <tbody>\n",
              "    <tr>\n",
              "      <th>0</th>\n",
              "      <td>2.0</td>\n",
              "      <td>12.40</td>\n",
              "      <td>138</td>\n",
              "      <td>231</td>\n",
              "      <td>1</td>\n",
              "      <td>76.49</td>\n",
              "      <td>3</td>\n",
              "      <td>1</td>\n",
              "      <td>2023</td>\n",
              "      <td>0</td>\n",
              "      <td>...</td>\n",
              "      <td>43.8</td>\n",
              "      <td>35.8</td>\n",
              "      <td>40.4</td>\n",
              "      <td>70.8</td>\n",
              "      <td>0.009</td>\n",
              "      <td>17.4</td>\n",
              "      <td>11.5</td>\n",
              "      <td>51.3</td>\n",
              "      <td>9.5</td>\n",
              "      <td>11.7</td>\n",
              "    </tr>\n",
              "    <tr>\n",
              "      <th>1</th>\n",
              "      <td>1.0</td>\n",
              "      <td>2.90</td>\n",
              "      <td>140</td>\n",
              "      <td>43</td>\n",
              "      <td>1</td>\n",
              "      <td>24.70</td>\n",
              "      <td>3</td>\n",
              "      <td>1</td>\n",
              "      <td>2023</td>\n",
              "      <td>0</td>\n",
              "      <td>...</td>\n",
              "      <td>43.8</td>\n",
              "      <td>35.8</td>\n",
              "      <td>40.4</td>\n",
              "      <td>70.8</td>\n",
              "      <td>0.009</td>\n",
              "      <td>17.4</td>\n",
              "      <td>11.5</td>\n",
              "      <td>51.3</td>\n",
              "      <td>9.5</td>\n",
              "      <td>11.7</td>\n",
              "    </tr>\n",
              "    <tr>\n",
              "      <th>2</th>\n",
              "      <td>1.0</td>\n",
              "      <td>1.23</td>\n",
              "      <td>79</td>\n",
              "      <td>137</td>\n",
              "      <td>1</td>\n",
              "      <td>14.64</td>\n",
              "      <td>3</td>\n",
              "      <td>1</td>\n",
              "      <td>2023</td>\n",
              "      <td>0</td>\n",
              "      <td>...</td>\n",
              "      <td>43.8</td>\n",
              "      <td>35.8</td>\n",
              "      <td>40.4</td>\n",
              "      <td>70.8</td>\n",
              "      <td>0.009</td>\n",
              "      <td>17.4</td>\n",
              "      <td>11.5</td>\n",
              "      <td>51.3</td>\n",
              "      <td>9.5</td>\n",
              "      <td>11.7</td>\n",
              "    </tr>\n",
              "    <tr>\n",
              "      <th>3</th>\n",
              "      <td>1.0</td>\n",
              "      <td>1.20</td>\n",
              "      <td>162</td>\n",
              "      <td>137</td>\n",
              "      <td>1</td>\n",
              "      <td>18.00</td>\n",
              "      <td>3</td>\n",
              "      <td>1</td>\n",
              "      <td>2023</td>\n",
              "      <td>0</td>\n",
              "      <td>...</td>\n",
              "      <td>43.8</td>\n",
              "      <td>35.8</td>\n",
              "      <td>40.4</td>\n",
              "      <td>70.8</td>\n",
              "      <td>0.009</td>\n",
              "      <td>17.4</td>\n",
              "      <td>11.5</td>\n",
              "      <td>51.3</td>\n",
              "      <td>9.5</td>\n",
              "      <td>11.7</td>\n",
              "    </tr>\n",
              "    <tr>\n",
              "      <th>4</th>\n",
              "      <td>1.0</td>\n",
              "      <td>1.80</td>\n",
              "      <td>170</td>\n",
              "      <td>48</td>\n",
              "      <td>1</td>\n",
              "      <td>20.50</td>\n",
              "      <td>3</td>\n",
              "      <td>1</td>\n",
              "      <td>2023</td>\n",
              "      <td>0</td>\n",
              "      <td>...</td>\n",
              "      <td>43.8</td>\n",
              "      <td>35.8</td>\n",
              "      <td>40.4</td>\n",
              "      <td>70.8</td>\n",
              "      <td>0.009</td>\n",
              "      <td>17.4</td>\n",
              "      <td>11.5</td>\n",
              "      <td>51.3</td>\n",
              "      <td>9.5</td>\n",
              "      <td>11.7</td>\n",
              "    </tr>\n",
              "    <tr>\n",
              "      <th>...</th>\n",
              "      <td>...</td>\n",
              "      <td>...</td>\n",
              "      <td>...</td>\n",
              "      <td>...</td>\n",
              "      <td>...</td>\n",
              "      <td>...</td>\n",
              "      <td>...</td>\n",
              "      <td>...</td>\n",
              "      <td>...</td>\n",
              "      <td>...</td>\n",
              "      <td>...</td>\n",
              "      <td>...</td>\n",
              "      <td>...</td>\n",
              "      <td>...</td>\n",
              "      <td>...</td>\n",
              "      <td>...</td>\n",
              "      <td>...</td>\n",
              "      <td>...</td>\n",
              "      <td>...</td>\n",
              "      <td>...</td>\n",
              "      <td>...</td>\n",
              "    </tr>\n",
              "    <tr>\n",
              "      <th>3196377</th>\n",
              "      <td>1.0</td>\n",
              "      <td>3.16</td>\n",
              "      <td>163</td>\n",
              "      <td>75</td>\n",
              "      <td>0</td>\n",
              "      <td>20.36</td>\n",
              "      <td>3</td>\n",
              "      <td>31</td>\n",
              "      <td>2023</td>\n",
              "      <td>23</td>\n",
              "      <td>...</td>\n",
              "      <td>55.0</td>\n",
              "      <td>38.9</td>\n",
              "      <td>45.9</td>\n",
              "      <td>56.6</td>\n",
              "      <td>0.000</td>\n",
              "      <td>35.6</td>\n",
              "      <td>12.5</td>\n",
              "      <td>62.5</td>\n",
              "      <td>9.9</td>\n",
              "      <td>11.7</td>\n",
              "    </tr>\n",
              "    <tr>\n",
              "      <th>3196378</th>\n",
              "      <td>1.0</td>\n",
              "      <td>6.89</td>\n",
              "      <td>125</td>\n",
              "      <td>198</td>\n",
              "      <td>0</td>\n",
              "      <td>53.90</td>\n",
              "      <td>3</td>\n",
              "      <td>31</td>\n",
              "      <td>2023</td>\n",
              "      <td>23</td>\n",
              "      <td>...</td>\n",
              "      <td>55.0</td>\n",
              "      <td>38.9</td>\n",
              "      <td>45.9</td>\n",
              "      <td>56.6</td>\n",
              "      <td>0.000</td>\n",
              "      <td>35.6</td>\n",
              "      <td>12.5</td>\n",
              "      <td>62.5</td>\n",
              "      <td>9.9</td>\n",
              "      <td>11.7</td>\n",
              "    </tr>\n",
              "    <tr>\n",
              "      <th>3196379</th>\n",
              "      <td>1.0</td>\n",
              "      <td>4.01</td>\n",
              "      <td>50</td>\n",
              "      <td>224</td>\n",
              "      <td>0</td>\n",
              "      <td>28.02</td>\n",
              "      <td>3</td>\n",
              "      <td>31</td>\n",
              "      <td>2023</td>\n",
              "      <td>23</td>\n",
              "      <td>...</td>\n",
              "      <td>55.0</td>\n",
              "      <td>38.9</td>\n",
              "      <td>45.9</td>\n",
              "      <td>56.6</td>\n",
              "      <td>0.000</td>\n",
              "      <td>35.6</td>\n",
              "      <td>12.5</td>\n",
              "      <td>62.5</td>\n",
              "      <td>9.9</td>\n",
              "      <td>11.7</td>\n",
              "    </tr>\n",
              "    <tr>\n",
              "      <th>3196380</th>\n",
              "      <td>1.0</td>\n",
              "      <td>1.31</td>\n",
              "      <td>113</td>\n",
              "      <td>158</td>\n",
              "      <td>0</td>\n",
              "      <td>16.01</td>\n",
              "      <td>3</td>\n",
              "      <td>31</td>\n",
              "      <td>2023</td>\n",
              "      <td>23</td>\n",
              "      <td>...</td>\n",
              "      <td>55.0</td>\n",
              "      <td>38.9</td>\n",
              "      <td>45.9</td>\n",
              "      <td>56.6</td>\n",
              "      <td>0.000</td>\n",
              "      <td>35.6</td>\n",
              "      <td>12.5</td>\n",
              "      <td>62.5</td>\n",
              "      <td>9.9</td>\n",
              "      <td>11.7</td>\n",
              "    </tr>\n",
              "    <tr>\n",
              "      <th>3196381</th>\n",
              "      <td>1.0</td>\n",
              "      <td>0.88</td>\n",
              "      <td>41</td>\n",
              "      <td>166</td>\n",
              "      <td>0</td>\n",
              "      <td>17.26</td>\n",
              "      <td>3</td>\n",
              "      <td>31</td>\n",
              "      <td>2023</td>\n",
              "      <td>23</td>\n",
              "      <td>...</td>\n",
              "      <td>55.0</td>\n",
              "      <td>38.9</td>\n",
              "      <td>45.9</td>\n",
              "      <td>56.6</td>\n",
              "      <td>0.000</td>\n",
              "      <td>35.6</td>\n",
              "      <td>12.5</td>\n",
              "      <td>62.5</td>\n",
              "      <td>9.9</td>\n",
              "      <td>11.7</td>\n",
              "    </tr>\n",
              "  </tbody>\n",
              "</table>\n",
              "<p>3196382 rows × 24 columns</p>\n",
              "</div>"
            ],
            "text/plain": [
              "         passenger_count  trip_distance  PULocationID  DOLocationID  \\\n",
              "0                    2.0          12.40           138           231   \n",
              "1                    1.0           2.90           140            43   \n",
              "2                    1.0           1.23            79           137   \n",
              "3                    1.0           1.20           162           137   \n",
              "4                    1.0           1.80           170            48   \n",
              "...                  ...            ...           ...           ...   \n",
              "3196377              1.0           3.16           163            75   \n",
              "3196378              1.0           6.89           125           198   \n",
              "3196379              1.0           4.01            50           224   \n",
              "3196380              1.0           1.31           113           158   \n",
              "3196381              1.0           0.88            41           166   \n",
              "\n",
              "         payment_type  total_amount  mois  jour  annee  heure  ...  tempmax  \\\n",
              "0                   1         76.49     3     1   2023      0  ...     43.8   \n",
              "1                   1         24.70     3     1   2023      0  ...     43.8   \n",
              "2                   1         14.64     3     1   2023      0  ...     43.8   \n",
              "3                   1         18.00     3     1   2023      0  ...     43.8   \n",
              "4                   1         20.50     3     1   2023      0  ...     43.8   \n",
              "...               ...           ...   ...   ...    ...    ...  ...      ...   \n",
              "3196377             0         20.36     3    31   2023     23  ...     55.0   \n",
              "3196378             0         53.90     3    31   2023     23  ...     55.0   \n",
              "3196379             0         28.02     3    31   2023     23  ...     55.0   \n",
              "3196380             0         16.01     3    31   2023     23  ...     55.0   \n",
              "3196381             0         17.26     3    31   2023     23  ...     55.0   \n",
              "\n",
              "         tempmin  temp humidity  precip  windgust  windspeed  cloudcover  \\\n",
              "0           35.8  40.4     70.8   0.009      17.4       11.5        51.3   \n",
              "1           35.8  40.4     70.8   0.009      17.4       11.5        51.3   \n",
              "2           35.8  40.4     70.8   0.009      17.4       11.5        51.3   \n",
              "3           35.8  40.4     70.8   0.009      17.4       11.5        51.3   \n",
              "4           35.8  40.4     70.8   0.009      17.4       11.5        51.3   \n",
              "...          ...   ...      ...     ...       ...        ...         ...   \n",
              "3196377     38.9  45.9     56.6   0.000      35.6       12.5        62.5   \n",
              "3196378     38.9  45.9     56.6   0.000      35.6       12.5        62.5   \n",
              "3196379     38.9  45.9     56.6   0.000      35.6       12.5        62.5   \n",
              "3196380     38.9  45.9     56.6   0.000      35.6       12.5        62.5   \n",
              "3196381     38.9  45.9     56.6   0.000      35.6       12.5        62.5   \n",
              "\n",
              "         visibility  solarenergy  \n",
              "0               9.5         11.7  \n",
              "1               9.5         11.7  \n",
              "2               9.5         11.7  \n",
              "3               9.5         11.7  \n",
              "4               9.5         11.7  \n",
              "...             ...          ...  \n",
              "3196377         9.9         11.7  \n",
              "3196378         9.9         11.7  \n",
              "3196379         9.9         11.7  \n",
              "3196380         9.9         11.7  \n",
              "3196381         9.9         11.7  \n",
              "\n",
              "[3196382 rows x 24 columns]"
            ]
          },
          "execution_count": 80,
          "metadata": {},
          "output_type": "execute_result"
        }
      ],
      "source": [
        "donnéesmars"
      ]
    },
    {
      "cell_type": "code",
      "execution_count": null,
      "metadata": {
        "id": "wL9eU4835d1o"
      },
      "outputs": [],
      "source": [
        "def predict_price(model):\n",
        "    # Demander les informations nécessaires\n",
        "    passenger_count = int(input(\"Nombre de passagers : \"))\n",
        "    trip_distance = float(input(\"Distance du trajet en miles : \"))\n",
        "    PULocationID = int(input(\"ID de l'emplacement de prise en charge : \"))\n",
        "    DOLocationID = int(input(\"ID de l'emplacement de dépose : \"))\n",
        "    mois = int(input(\"Mois (1-12) : \"))\n",
        "    jour = int(input(\"Jour du mois : \"))\n",
        "    annee = int(input(\"Année (YYYY) : \"))\n",
        "    heure = int(input(\"Heure (0-23) : \"))\n",
        "    minute = int(input(\"Minute (0-59) : \"))\n",
        "    joursemaine = int(input(\"Jour de la semaine (1-7) : \"))\n",
        "    duree_minute = int(input(\"Durée du trajet en minutes : \"))\n",
        "    tempmax = float(input(\"Température maximale en degrés fahrenheit : \"))\n",
        "    tempmin = float(input(\"Température minimale en degrés fahrenheit : \"))\n",
        "    temp = float(input(\"Température moyenne en degrés fahrenheit : \"))\n",
        "    humidity = int(input(\"Humidité en pourcentage : \"))\n",
        "    precip = float(input(\"Précipitations en mm : \"))\n",
        "    windgust = float(input(\"Rafales de vent en km/h : \"))\n",
        "    windspeed = float(input(\"Vitesse du vent en km/h : \"))\n",
        "    visibility = float(input(\"Visibilité en  : \"))\n",
        "    solarenergy = float(input(\"Énergie solaire en kWh/m^2 : \"))\n",
        "\n",
        "    # Créer un DataFrame avec les données saisies\n",
        "    data = pd.DataFrame({'passenger_count': [passenger_count],'trip_distance': [trip_distance],'PULocationID': [PULocationID],\n",
        "        'DOLocationID': [DOLocationID],'mois': [mois],'jour': [jour],'annee': [annee],'heure': [heure],'minute': [minute],\n",
        "        'joursemaine': [joursemaine],'duree_minute': [duree_minute],'tempmax': [tempmax],'tempmin': [tempmin],'temp': [temp],'humidity': [humidity],\n",
        "        'precip': [precip],'windgust': [windgust],'windspeed': [windspeed],'visibility': [visibility],'solarenergy': [solarenergy]})\n",
        "    # Faire la prédiction\n",
        "    prediction = model.predict(data)\n",
        "    # Retourner la prédiction\n",
        "    return prediction\n",
        "\n",
        "# Utilisation de la fonction de prédiction\n",
        "result = predict_price(model)\n",
        "print(\"Le prix prédit est :\", result)"
      ]
    },
    {
      "cell_type": "code",
      "execution_count": null,
      "metadata": {
        "id": "YRvuPPvY5d1p"
      },
      "outputs": [],
      "source": []
    }
  ],
  "metadata": {
    "colab": {
      "provenance": [],
      "toc_visible": true,
      "include_colab_link": true
    },
    "kernelspec": {
      "display_name": "Python 3 (ipykernel)",
      "language": "python",
      "name": "python3"
    },
    "language_info": {
      "codemirror_mode": {
        "name": "ipython",
        "version": 3
      },
      "file_extension": ".py",
      "mimetype": "text/x-python",
      "name": "python",
      "nbconvert_exporter": "python",
      "pygments_lexer": "ipython3",
      "version": "3.9.7"
    }
  },
  "nbformat": 4,
  "nbformat_minor": 0
}